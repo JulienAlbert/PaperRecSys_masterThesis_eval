{
 "cells": [
  {
   "cell_type": "code",
   "execution_count": 6,
   "metadata": {},
   "outputs": [],
   "source": [
    "import json\n",
    "import random"
   ]
  },
  {
   "cell_type": "code",
   "execution_count": 7,
   "metadata": {},
   "outputs": [
    {
     "data": {
      "text/plain": [
       "15366"
      ]
     },
     "execution_count": 7,
     "metadata": {},
     "output_type": "execute_result"
    }
   ],
   "source": [
    "with open('./data/aan_full.json') as f:\n",
    "    papers = json.load(f)\n",
    "    \n",
    "len(papers)"
   ]
  },
  {
   "cell_type": "markdown",
   "metadata": {},
   "source": [
    "# First test set : 3000 single random papers"
   ]
  },
  {
   "cell_type": "code",
   "execution_count": 8,
   "metadata": {},
   "outputs": [],
   "source": [
    "random.seed(42)\n",
    "test_set = random.sample(papers, k=3000)\n",
    "\n",
    "with open('./data/aan_test_single.json', 'w') as f:\n",
    "    json.dump(test_set, f)"
   ]
  },
  {
   "cell_type": "markdown",
   "metadata": {},
   "source": [
    "# Second test set : 3000 groups of 3 random selected references from 3000 randomly selected papers"
   ]
  },
  {
   "cell_type": "code",
   "execution_count": 9,
   "metadata": {},
   "outputs": [],
   "source": [
    "random.seed(42)\n",
    "test_set = []\n",
    "papers_dict = dict([(paper['id'], paper) for paper in papers])\n",
    "\n",
    "papers_with_3_refs = [paper for paper in papers if len(paper['references']) >= 3]\n",
    "\n",
    "for paper in random.sample(papers_with_3_refs, k=3000):\n",
    "    test_set.append([papers_dict[ref_id] for ref_id in random.sample(paper['references'], k=3)])\n",
    "\n",
    "with open('./data/aan_test_tripletfromref.json', 'w') as f:\n",
    "    json.dump(test_set, f)"
   ]
  },
  {
   "cell_type": "markdown",
   "metadata": {},
   "source": [
    "# Third test set : 3000 groups of 3 randomly selected papers"
   ]
  },
  {
   "cell_type": "code",
   "execution_count": 10,
   "metadata": {},
   "outputs": [],
   "source": [
    "random.seed(42)\n",
    "test_set = [random.sample(papers, k=3) for _ in range(3000)]\n",
    "\n",
    "with open('./data/aan_test_triplet.json', 'w') as f:\n",
    "    json.dump(test_set, f)"
   ]
  }
 ],
 "metadata": {
  "kernelspec": {
   "display_name": "Python 3",
   "language": "python",
   "name": "python3"
  },
  "language_info": {
   "codemirror_mode": {
    "name": "ipython",
    "version": 3
   },
   "file_extension": ".py",
   "mimetype": "text/x-python",
   "name": "python",
   "nbconvert_exporter": "python",
   "pygments_lexer": "ipython3",
   "version": "3.7.6"
  }
 },
 "nbformat": 4,
 "nbformat_minor": 4
}
