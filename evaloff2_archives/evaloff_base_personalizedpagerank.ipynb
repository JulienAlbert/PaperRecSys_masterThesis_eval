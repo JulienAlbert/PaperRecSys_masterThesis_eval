{
 "cells": [
  {
   "cell_type": "code",
   "execution_count": 1,
   "metadata": {},
   "outputs": [],
   "source": [
    "%%capture\n",
    "import json\n",
    "import networkx as nx\n",
    "from tqdm.notebook import tqdm"
   ]
  },
  {
   "cell_type": "code",
   "execution_count": 2,
   "metadata": {},
   "outputs": [],
   "source": [
    "with open('./data/aan_full.json') as f:\n",
    "    full_set = json.load(f)\n",
    "    \n",
    "directed_citation_graph = nx.DiGraph()\n",
    "for paper in full_set:\n",
    "    for ref_id in paper['references']:\n",
    "        directed_citation_graph.add_edge(paper['id'], ref_id)\n",
    "        \n",
    "undirected_citation_graph = directed_citation_graph.to_undirected()"
   ]
  },
  {
   "cell_type": "code",
   "execution_count": 3,
   "metadata": {},
   "outputs": [
    {
     "data": {
      "text/plain": [
       "True"
      ]
     },
     "execution_count": 3,
     "metadata": {},
     "output_type": "execute_result"
    }
   ],
   "source": [
    "nx.is_connected(undirected_citation_graph)"
   ]
  },
  {
   "cell_type": "markdown",
   "metadata": {},
   "source": [
    "# aan_test_single.json"
   ]
  },
  {
   "cell_type": "code",
   "execution_count": 21,
   "metadata": {},
   "outputs": [],
   "source": [
    "with open('./data/aan_test_single.json') as f:\n",
    "    test_set = json.load(f)"
   ]
  },
  {
   "cell_type": "code",
   "execution_count": 22,
   "metadata": {},
   "outputs": [
    {
     "data": {
      "application/vnd.jupyter.widget-view+json": {
       "model_id": "a85c61558f0c414b8feb4580489d121e",
       "version_major": 2,
       "version_minor": 0
      },
      "text/plain": [
       "HBox(children=(FloatProgress(value=0.0, max=3000.0), HTML(value='')))"
      ]
     },
     "metadata": {},
     "output_type": "display_data"
    },
    {
     "name": "stdout",
     "output_type": "stream",
     "text": [
      "\n"
     ]
    }
   ],
   "source": [
    "results = []\n",
    "personalization_dict = dict([(paper['id'], 0) for paper in full_set])\n",
    "\n",
    "for input_paper in tqdm(test_set):\n",
    "    result = {}\n",
    "    result['input'] = [input_paper['id']]    \n",
    "    \n",
    "    personalization_dict[input_paper['id']] = 1\n",
    "    candidate_scores = list(nx.pagerank(directed_citation_graph, personalization=personalization_dict).items())\n",
    "    candidate_scores.sort(key=lambda x: x[1], reverse=True)\n",
    "    filtered_candidate_scores = [cs for cs in candidate_scores if cs[0] != input_paper['id']]\n",
    "    personalization_dict[input_paper['id']] = 0\n",
    "    \n",
    "    result['output'] = [cs[0] for cs in filtered_candidate_scores[:100]]\n",
    "    results.append(result)"
   ]
  },
  {
   "cell_type": "code",
   "execution_count": 23,
   "metadata": {},
   "outputs": [],
   "source": [
    "with open('./results/single_base_personalizedpagerank_directed.json', 'w') as f:\n",
    "    json.dump(results, f)"
   ]
  },
  {
   "cell_type": "code",
   "execution_count": 24,
   "metadata": {},
   "outputs": [
    {
     "data": {
      "application/vnd.jupyter.widget-view+json": {
       "model_id": "241eb59c1bed4d1e9558554f6be47ac6",
       "version_major": 2,
       "version_minor": 0
      },
      "text/plain": [
       "HBox(children=(FloatProgress(value=0.0, max=3000.0), HTML(value='')))"
      ]
     },
     "metadata": {},
     "output_type": "display_data"
    },
    {
     "name": "stdout",
     "output_type": "stream",
     "text": [
      "\n"
     ]
    }
   ],
   "source": [
    "results = []\n",
    "personalization_dict = dict([(paper['id'], 0) for paper in full_set])\n",
    "\n",
    "for input_paper in tqdm(test_set):\n",
    "    result = {}\n",
    "    result['input'] = [input_paper['id']]    \n",
    "    \n",
    "    personalization_dict[input_paper['id']] = 1\n",
    "    candidate_scores = list(nx.pagerank(undirected_citation_graph, personalization=personalization_dict).items())\n",
    "    candidate_scores.sort(key=lambda x: x[1], reverse=True)\n",
    "    filtered_candidate_scores = [cs for cs in candidate_scores if cs[0] != input_paper['id']]\n",
    "    personalization_dict[input_paper['id']] = 0\n",
    "    \n",
    "    result['output'] = [cs[0] for cs in filtered_candidate_scores[:100]]\n",
    "    results.append(result)"
   ]
  },
  {
   "cell_type": "code",
   "execution_count": 25,
   "metadata": {},
   "outputs": [],
   "source": [
    "with open('./results/single_base_personalizedpagerank_undirected.json', 'w') as f:\n",
    "    json.dump(results, f)"
   ]
  },
  {
   "cell_type": "markdown",
   "metadata": {},
   "source": [
    "# aan_test_triplet.json"
   ]
  },
  {
   "cell_type": "code",
   "execution_count": 3,
   "metadata": {},
   "outputs": [],
   "source": [
    "with open('./data/aan_test_triplet.json') as f:\n",
    "    test_set = json.load(f)"
   ]
  },
  {
   "cell_type": "code",
   "execution_count": 4,
   "metadata": {},
   "outputs": [
    {
     "data": {
      "application/vnd.jupyter.widget-view+json": {
       "model_id": "b4603e87864a4968bc8d78a7e146c4aa",
       "version_major": 2,
       "version_minor": 0
      },
      "text/plain": [
       "HBox(children=(FloatProgress(value=0.0, max=3000.0), HTML(value='')))"
      ]
     },
     "metadata": {},
     "output_type": "display_data"
    },
    {
     "name": "stdout",
     "output_type": "stream",
     "text": [
      "\n"
     ]
    }
   ],
   "source": [
    "results = []\n",
    "personalization_dict = dict([(paper['id'], 0) for paper in full_set])\n",
    "\n",
    "for input_papers in tqdm(test_set):\n",
    "    result = {}\n",
    "    result['input'] = [input_paper['id'] for input_paper in input_papers]\n",
    "    input_paper_ids_set = set(result['input'])\n",
    "    \n",
    "    for input_paper in input_papers:\n",
    "        personalization_dict[input_paper['id']] = 1\n",
    "    \n",
    "    candidate_scores = list(nx.pagerank(directed_citation_graph, personalization=personalization_dict).items())\n",
    "    candidate_scores.sort(key=lambda x: x[1], reverse=True)\n",
    "    filtered_candidate_scores = [cs for cs in candidate_scores if cs[0] not in input_paper_ids_set]\n",
    "    \n",
    "    for input_paper in input_papers:\n",
    "        personalization_dict[input_paper['id']] = 0\n",
    "    \n",
    "    result['output'] = [cs[0] for cs in filtered_candidate_scores[:100]]\n",
    "    results.append(result)"
   ]
  },
  {
   "cell_type": "code",
   "execution_count": 5,
   "metadata": {},
   "outputs": [],
   "source": [
    "with open('./results/triplet_base_personalizedpagerank_directed.json', 'w') as f:\n",
    "    json.dump(results, f)"
   ]
  },
  {
   "cell_type": "code",
   "execution_count": 6,
   "metadata": {},
   "outputs": [
    {
     "data": {
      "application/vnd.jupyter.widget-view+json": {
       "model_id": "5bb3f1fe673c41348872f680868da925",
       "version_major": 2,
       "version_minor": 0
      },
      "text/plain": [
       "HBox(children=(FloatProgress(value=0.0, max=3000.0), HTML(value='')))"
      ]
     },
     "metadata": {},
     "output_type": "display_data"
    },
    {
     "name": "stdout",
     "output_type": "stream",
     "text": [
      "\n"
     ]
    }
   ],
   "source": [
    "results = []\n",
    "personalization_dict = dict([(paper['id'], 0) for paper in full_set])\n",
    "\n",
    "for input_papers in tqdm(test_set):\n",
    "    result = {}\n",
    "    result['input'] = [input_paper['id'] for input_paper in input_papers]\n",
    "    input_paper_ids_set = set(result['input'])\n",
    "    \n",
    "    for input_paper in input_papers:\n",
    "        personalization_dict[input_paper['id']] = 1\n",
    "    \n",
    "    candidate_scores = list(nx.pagerank(undirected_citation_graph, personalization=personalization_dict).items())\n",
    "    candidate_scores.sort(key=lambda x: x[1], reverse=True)\n",
    "    filtered_candidate_scores = [cs for cs in candidate_scores if cs[0] not in input_paper_ids_set]\n",
    "    \n",
    "    for input_paper in input_papers:\n",
    "        personalization_dict[input_paper['id']] = 0\n",
    "    \n",
    "    result['output'] = [cs[0] for cs in filtered_candidate_scores[:100]]\n",
    "    results.append(result)"
   ]
  },
  {
   "cell_type": "code",
   "execution_count": 7,
   "metadata": {},
   "outputs": [],
   "source": [
    "with open('./results/triplet_base_personalizedpagerank_undirected.json', 'w') as f:\n",
    "    json.dump(results, f)"
   ]
  },
  {
   "cell_type": "markdown",
   "metadata": {},
   "source": [
    "# aan_test_tripletfromref.json"
   ]
  },
  {
   "cell_type": "code",
   "execution_count": 4,
   "metadata": {},
   "outputs": [],
   "source": [
    "with open('./data/aan_test_tripletfromref.json') as f:\n",
    "    test_set = json.load(f)"
   ]
  },
  {
   "cell_type": "code",
   "execution_count": 5,
   "metadata": {},
   "outputs": [
    {
     "data": {
      "application/vnd.jupyter.widget-view+json": {
       "model_id": "af0a2188519c4b21978302a30e7866ef",
       "version_major": 2,
       "version_minor": 0
      },
      "text/plain": [
       "HBox(children=(FloatProgress(value=0.0, max=3000.0), HTML(value='')))"
      ]
     },
     "metadata": {},
     "output_type": "display_data"
    },
    {
     "name": "stdout",
     "output_type": "stream",
     "text": [
      "\n"
     ]
    }
   ],
   "source": [
    "results = []\n",
    "personalization_dict = dict([(paper['id'], 0) for paper in full_set])\n",
    "\n",
    "for input_papers in tqdm(test_set):\n",
    "    result = {}\n",
    "    result['input'] = [input_paper['id'] for input_paper in input_papers]\n",
    "    input_paper_ids_set = set(result['input'])\n",
    "    \n",
    "    for input_paper in input_papers:\n",
    "        personalization_dict[input_paper['id']] = 1\n",
    "    \n",
    "    candidate_scores = list(nx.pagerank_scipy(directed_citation_graph, personalization=personalization_dict).items())\n",
    "    candidate_scores.sort(key=lambda x: x[1], reverse=True)\n",
    "    filtered_candidate_scores = [cs for cs in candidate_scores if cs[0] not in input_paper_ids_set]\n",
    "    \n",
    "    for input_paper in input_papers:\n",
    "        personalization_dict[input_paper['id']] = 0\n",
    "    \n",
    "    result['output'] = [cs[0] for cs in filtered_candidate_scores[:100]]\n",
    "    results.append(result)"
   ]
  },
  {
   "cell_type": "code",
   "execution_count": 6,
   "metadata": {},
   "outputs": [],
   "source": [
    "with open('./results/tripletfromref_base_personalizedpagerank_directed.json', 'w') as f:\n",
    "    json.dump(results, f)"
   ]
  },
  {
   "cell_type": "code",
   "execution_count": 7,
   "metadata": {},
   "outputs": [
    {
     "data": {
      "application/vnd.jupyter.widget-view+json": {
       "model_id": "8d785ff976ae44d99a3de89155db5bec",
       "version_major": 2,
       "version_minor": 0
      },
      "text/plain": [
       "HBox(children=(FloatProgress(value=0.0, max=3000.0), HTML(value='')))"
      ]
     },
     "metadata": {},
     "output_type": "display_data"
    },
    {
     "name": "stdout",
     "output_type": "stream",
     "text": [
      "\n"
     ]
    }
   ],
   "source": [
    "results = []\n",
    "personalization_dict = dict([(paper['id'], 0) for paper in full_set])\n",
    "\n",
    "for input_papers in tqdm(test_set):\n",
    "    result = {}\n",
    "    result['input'] = [input_paper['id'] for input_paper in input_papers]\n",
    "    input_paper_ids_set = set(result['input'])\n",
    "    \n",
    "    for input_paper in input_papers:\n",
    "        personalization_dict[input_paper['id']] = 1\n",
    "    \n",
    "    candidate_scores = list(nx.pagerank_scipy(undirected_citation_graph, personalization=personalization_dict).items())\n",
    "    candidate_scores.sort(key=lambda x: x[1], reverse=True)\n",
    "    filtered_candidate_scores = [cs for cs in candidate_scores if cs[0] not in input_paper_ids_set]\n",
    "    \n",
    "    for input_paper in input_papers:\n",
    "        personalization_dict[input_paper['id']] = 0\n",
    "    \n",
    "    result['output'] = [cs[0] for cs in filtered_candidate_scores[:100]]\n",
    "    results.append(result)"
   ]
  },
  {
   "cell_type": "code",
   "execution_count": 8,
   "metadata": {},
   "outputs": [],
   "source": [
    "with open('./results/tripletfromref_base_personalizedpagerank_undirected.json', 'w') as f:\n",
    "    json.dump(results, f)"
   ]
  }
 ],
 "metadata": {
  "kernelspec": {
   "display_name": "Python 3",
   "language": "python",
   "name": "python3"
  },
  "language_info": {
   "codemirror_mode": {
    "name": "ipython",
    "version": 3
   },
   "file_extension": ".py",
   "mimetype": "text/x-python",
   "name": "python",
   "nbconvert_exporter": "python",
   "pygments_lexer": "ipython3",
   "version": "3.7.6"
  }
 },
 "nbformat": 4,
 "nbformat_minor": 4
}
