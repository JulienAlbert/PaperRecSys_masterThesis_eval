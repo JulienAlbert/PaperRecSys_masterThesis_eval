{
 "cells": [
  {
   "cell_type": "markdown",
   "metadata": {},
   "source": [
    "# Method 21 : Academic paper recommender system using multilevel simultaneous citation networks (2018)\n",
    "\n",
    "Source : Son, J., & Kim, S. B. (2018). Academic paper recommender system using multilevel simultaneous citation networks. Decision Support Systems, 105, 24–33."
   ]
  },
  {
   "cell_type": "code",
   "execution_count": 12,
   "metadata": {},
   "outputs": [],
   "source": [
    "%%capture\n",
    "import json\n",
    "import networkx as nx\n",
    "from tqdm.notebook import tqdm\n",
    "import time\n",
    "from collections import defaultdict"
   ]
  },
  {
   "cell_type": "code",
   "execution_count": 13,
   "metadata": {},
   "outputs": [],
   "source": [
    "with open('./data/aan_full.json') as f:\n",
    "    full_set = json.load(f)\n",
    "    \n",
    "directed_citation_graph = nx.DiGraph()\n",
    "for paper in full_set:\n",
    "    for ref_id in paper['references']:\n",
    "        directed_citation_graph.add_edge(paper['id'], ref_id)\n",
    "        \n",
    "undirected_citation_graph = directed_citation_graph.to_undirected()"
   ]
  },
  {
   "cell_type": "code",
   "execution_count": 35,
   "metadata": {},
   "outputs": [],
   "source": [
    "# Generating multilevel citation networks\n",
    "def helper_generate_for_one_node(G, target_node, depth_level):\n",
    "    distances = defaultdict(lambda: depth_level+1)\n",
    "    candidate_nodes = {target_node}\n",
    "    last_backward_nodes = {target_node}\n",
    "    last_forward_nodes = {target_node}\n",
    "    for dist in range(1, depth_level+1):\n",
    "        current_backward_nodes = set()\n",
    "        for node in last_backward_nodes:\n",
    "            current_backward_nodes.update([pred for pred in G.predecessors(node)])\n",
    "        \n",
    "        current_forward_nodes = set()\n",
    "        for node in last_forward_nodes:\n",
    "            current_forward_nodes.update([succ for succ in G.successors(node)])\n",
    "        \n",
    "        candidate_nodes.update(current_backward_nodes)\n",
    "        candidate_nodes.update(current_forward_nodes)\n",
    "        last_backward_nodes = current_backward_nodes\n",
    "        last_forward_nodes = current_forward_nodes\n",
    "        \n",
    "        for node in current_backward_nodes.union(current_forward_nodes):\n",
    "            if node not in distances:\n",
    "                distances[node] = dist\n",
    "   \n",
    "    return candidate_nodes, distances\n",
    "\n",
    "def generate_multilevel_citation_networks(G, target_nodes, depth_level):\n",
    "    partial_distances = []\n",
    "    candidate_nodes = set()\n",
    "    for target_node in target_nodes:\n",
    "        candidates, distances = helper_generate_for_one_node(G, target_node, depth_level)\n",
    "        partial_distances.append(distances)\n",
    "        candidate_nodes.update(candidates)\n",
    "        \n",
    "    for node in candidate_nodes:\n",
    "        distances[node] = sum([d[node] for d in partial_distances]) / len(partial_distances)\n",
    "        \n",
    "    return G.subgraph(candidate_nodes), distances"
   ]
  },
  {
   "cell_type": "code",
   "execution_count": 25,
   "metadata": {},
   "outputs": [
    {
     "data": {
      "text/plain": [
       "{'id': 'E09-1020',\n",
       " 'author': ['Cromierès,Fabien', 'Kurohashi,Sadao'],\n",
       " 'title': 'An Alignment Algorithm Using Belief Propagation and a Structure-Based Distortion Model',\n",
       " 'venue': 'EACL',\n",
       " 'year': 2009,\n",
       " 'citations': ['D12-1105',\n",
       "  'N12-1004',\n",
       "  'P11-1042',\n",
       "  'P11-1043',\n",
       "  'P11-1151',\n",
       "  'P13-1003',\n",
       "  'P13-1106',\n",
       "  'P14-1139'],\n",
       " 'references': ['P01-1067', 'P03-1010', 'P03-1011', 'P06-3003', 'W03-0301'],\n",
       " 'abstract': 'In this paper, we first demonstrate the interest of the Loopy Belief Propagation algorithm to train and use a simple alignment model where the expected marginalvalues needed for an efficient EM-trainingare not easily computable. We then improve this model with a distortion modelbased on structure conservation.'}"
      ]
     },
     "execution_count": 25,
     "metadata": {},
     "output_type": "execute_result"
    }
   ],
   "source": [
    "full_set[100]"
   ]
  },
  {
   "cell_type": "code",
   "execution_count": 37,
   "metadata": {},
   "outputs": [
    {
     "data": {
      "text/plain": [
       "(<networkx.classes.digraph.DiGraph at 0x1dd7075c2c8>,\n",
       " defaultdict(<function __main__.helper_generate_for_one_node.<locals>.<lambda>()>,\n",
       "             {'W03-0301': 1.0,\n",
       "              'P11-1042': 1.0,\n",
       "              'P11-1043': 1.0,\n",
       "              'P01-1067': 1.0,\n",
       "              'P14-1139': 1.0,\n",
       "              'D12-1105': 1.0,\n",
       "              'P03-1010': 1.0,\n",
       "              'P06-3003': 1.0,\n",
       "              'P13-1106': 1.0,\n",
       "              'P11-1151': 1.0,\n",
       "              'N12-1004': 1.0,\n",
       "              'P03-1011': 1.0,\n",
       "              'P13-1003': 1.0,\n",
       "              'W04-1118': 2.0,\n",
       "              'P13-1012': 2.0,\n",
       "              'W03-0304': 2.0,\n",
       "              'N12-1052': 2.0,\n",
       "              'W12-3810': 2.0,\n",
       "              'D13-1205': 2.0,\n",
       "              'P14-1138': 2.0,\n",
       "              'W03-0309': 2.0,\n",
       "              'P13-1165': 2.0,\n",
       "              'A92-1021': 2.0,\n",
       "              'P05-1032': 2.0,\n",
       "              'W03-0305': 2.0,\n",
       "              'Q13-1001': 2.0,\n",
       "              'C02-1002': 2.0,\n",
       "              'C94-2175': 2.0,\n",
       "              'S12-1029': 2.0,\n",
       "              'N12-1072': 2.0,\n",
       "              'D14-1017': 2.0,\n",
       "              'P13-1045': 2.0,\n",
       "              'C14-1075': 2.0,\n",
       "              'W03-0306': 2.0,\n",
       "              'Q13-1024': 2.0,\n",
       "              'W03-0302': 2.0,\n",
       "              'P14-2032': 2.0,\n",
       "              'C00-2163': 2.0,\n",
       "              'A97-1050': 2.0,\n",
       "              'P12-1034': 2.0,\n",
       "              'P13-2142': 2.0,\n",
       "              'P14-1022': 2.0,\n",
       "              'A97-1004': 2.0,\n",
       "              'W03-0303': 2.0,\n",
       "              'P13-1017': 2.0,\n",
       "              'W03-0308': 2.0,\n",
       "              'P13-1066': 2.0,\n",
       "              'P01-1005': 2.0,\n",
       "              'P02-1038': 2.0,\n",
       "              'C88-1016': 2.0,\n",
       "              'D12-1138': 2.0,\n",
       "              'W13-3523': 2.0,\n",
       "              'W13-3514': 2.0,\n",
       "              'P91-1034': 2.0,\n",
       "              'D13-1141': 2.0,\n",
       "              'W02-1018': 2.0,\n",
       "              'P14-1117': 2.0,\n",
       "              'P97-1063': 2.0,\n",
       "              'P02-1039': 2.0,\n",
       "              'D13-1116': 2.0,\n",
       "              'D14-1197': 2.0,\n",
       "              'P12-1033': 2.0,\n",
       "              'E09-1020': 3.0}))"
      ]
     },
     "execution_count": 37,
     "metadata": {},
     "output_type": "execute_result"
    }
   ],
   "source": [
    "generate_multilevel_citation_networks(directed_citation_graph, ['E09-1020'], 2)"
   ]
  },
  {
   "cell_type": "code",
   "execution_count": 4,
   "metadata": {},
   "outputs": [],
   "source": [
    "# Selection of candidate papers\n",
    "def select_candidate_papers(G, target_nodes, limit, distances):\n",
    "    candidates = [node for node in G.nodes if node not in target_nodes]\n",
    "    candidates_scores = []    \n",
    "    \n",
    "    for candidate in candidates:\n",
    "        other_nodes = [node for node in G.nodes if node != candidate]\n",
    "        \n",
    "        # bibliographic coupling\n",
    "        bc_score = 0\n",
    "        candidate_successors = set(list(G.successors(candidate)))\n",
    "        for node in other_nodes:\n",
    "            node_successors = set(list(G.successors(node)))            \n",
    "            bc_score += len(candidate_successors.intersection(node_successors))\n",
    "    \n",
    "        # co-citation coupling\n",
    "        cc_score = 0\n",
    "        candidate_predecessors = set(list(G.predecessors(candidate)))\n",
    "        for node in other_nodes:\n",
    "            node_predecessors = set(list(G.predecessors(node)))\n",
    "            cc_score += len(candidate_predecessors.intersection(node_predecessors))\n",
    "        \n",
    "        # final score\n",
    "        score = (bc_score + cc_score) / distances[candidate]\n",
    "        candidates_scores.append((candidate, score))\n",
    "    \n",
    "    candidates_scores.sort(key=lambda t: t[1], reverse=True)\n",
    "    limit = min(limit, len(candidates_scores))\n",
    "    \n",
    "    return G.subgraph([t[0] for t in candidates_scores[:limit]])"
   ]
  },
  {
   "cell_type": "code",
   "execution_count": 42,
   "metadata": {},
   "outputs": [
    {
     "data": {
      "text/plain": [
       "NodeView(('P11-1043', 'P13-1003', 'P03-1011', 'P13-1106', 'P06-3003', 'P14-1139', 'N12-1004', 'P03-1010', 'P11-1151', 'P01-1067', 'D12-1105', 'P11-1042', 'W03-0301'))"
      ]
     },
     "execution_count": 42,
     "metadata": {},
     "output_type": "execute_result"
    }
   ],
   "source": [
    "sub_graph = generate_multilevel_citation_networks(directed_citation_graph, ['E09-1020'], 1)\n",
    "select_candidate_papers(sub_graph, ['E09-1020'], 500, 1).nodes"
   ]
  },
  {
   "cell_type": "code",
   "execution_count": 5,
   "metadata": {},
   "outputs": [],
   "source": [
    "# Determination of recommend papers\n",
    "def recommend_papers(G, target_nodes, limit):\n",
    "    candidates = [node for node in G.nodes if node not in target_nodes]\n",
    "    \n",
    "    degree_ranks = [node for node, score in sorted(nx.degree_centrality(G).items(), key=lambda i: i[1], reverse=True) if node not in target_nodes]\n",
    "    closeness_ranks = [node for node, score in sorted(nx.closeness_centrality(G).items(), key=lambda i: i[1], reverse=True) if node not in target_nodes]\n",
    "    betweenness_ranks = [node for node, score in sorted(nx.betweenness_centrality(G).items(), key=lambda i: i[1], reverse=True) if node not in target_nodes]\n",
    "    eigenvector_ranks = [node for node, score in sorted(nx.eigenvector_centrality_numpy(G).items(), key=lambda i: i[1], reverse=True) if node not in target_nodes]\n",
    "    \n",
    "    partial_ranks = dict([(candidate, []) for candidate in candidates])\n",
    "    for nodes in [degree_ranks, closeness_ranks, betweenness_ranks, eigenvector_ranks]:\n",
    "        for i, node in enumerate(nodes):\n",
    "            partial_ranks[node].append(i+1)\n",
    "        \n",
    "    candidates_ranks = []\n",
    "    for candidate, partial_rank in partial_ranks.items():\n",
    "        candidates_ranks.append((candidate, sum(partial_rank)/len(partial_rank)))\n",
    "        \n",
    "    candidates_ranks.sort(key=lambda t: t[1])\n",
    "    limit = min(limit, len(candidates_ranks))\n",
    "    \n",
    "    return [t[0] for t in candidates_ranks[:limit]]"
   ]
  },
  {
   "cell_type": "code",
   "execution_count": 67,
   "metadata": {},
   "outputs": [
    {
     "data": {
      "text/plain": [
       "['J93-2004',\n",
       " 'N12-1052',\n",
       " 'N13-1039',\n",
       " 'N03-1017',\n",
       " 'P97-1003',\n",
       " 'C96-2141',\n",
       " 'P11-1043',\n",
       " 'P01-1067',\n",
       " 'W96-0213',\n",
       " 'P02-1040']"
      ]
     },
     "execution_count": 67,
     "metadata": {},
     "output_type": "execute_result"
    }
   ],
   "source": [
    "sub_graph = generate_multilevel_citation_networks(directed_citation_graph, ['E09-1020'], 4)\n",
    "sub_graph = select_candidate_papers(sub_graph, ['E09-1020'], 500, 4)\n",
    "recommend_papers(sub_graph.to_undirected(), ['E09-1020'], 10)"
   ]
  },
  {
   "cell_type": "markdown",
   "metadata": {},
   "source": [
    "# aan_test_tripletfromref.json"
   ]
  },
  {
   "cell_type": "code",
   "execution_count": 6,
   "metadata": {},
   "outputs": [],
   "source": [
    "with open('./data/aan_test_tripletfromref.json') as f:\n",
    "    test_set = json.load(f)"
   ]
  },
  {
   "cell_type": "code",
   "execution_count": 38,
   "metadata": {},
   "outputs": [
    {
     "data": {
      "application/vnd.jupyter.widget-view+json": {
       "model_id": "2b9fb0c1df8c492bae791520a0a7022d",
       "version_major": 2,
       "version_minor": 0
      },
      "text/plain": [
       "HBox(children=(FloatProgress(value=0.0, max=10.0), HTML(value='')))"
      ]
     },
     "metadata": {},
     "output_type": "display_data"
    },
    {
     "name": "stdout",
     "output_type": "stream",
     "text": [
      "\n"
     ]
    },
    {
     "data": {
      "text/plain": [
       "2"
      ]
     },
     "execution_count": 38,
     "metadata": {},
     "output_type": "execute_result"
    }
   ],
   "source": [
    "results = []\n",
    "error_count = 0\n",
    "\n",
    "for input_papers in tqdm(test_set[:10]):\n",
    "    result = {}\n",
    "    result['input'] = [input_paper['id'] for input_paper in input_papers]\n",
    "    \n",
    "    try:\n",
    "        first_sub_graph, distances = generate_multilevel_citation_networks(directed_citation_graph, result['input'], 3)\n",
    "        second_sub_graph = select_candidate_papers(first_sub_graph, result['input'], 500, distances)\n",
    "        result['output'] = recommend_papers(second_sub_graph.to_undirected(), result['input'], 100)\n",
    "        results.append(result)\n",
    "    except:\n",
    "        error_count += 1\n",
    "        result['output'] = []\n",
    "    \n",
    "error_count"
   ]
  },
  {
   "cell_type": "code",
   "execution_count": 8,
   "metadata": {},
   "outputs": [],
   "source": [
    "with open('./results/tripletfromref_stateofart_method21.json', 'w') as f:\n",
    "    json.dump(results, f)"
   ]
  }
 ],
 "metadata": {
  "kernelspec": {
   "display_name": "Python 3",
   "language": "python",
   "name": "python3"
  },
  "language_info": {
   "codemirror_mode": {
    "name": "ipython",
    "version": 3
   },
   "file_extension": ".py",
   "mimetype": "text/x-python",
   "name": "python",
   "nbconvert_exporter": "python",
   "pygments_lexer": "ipython3",
   "version": "3.7.6"
  }
 },
 "nbformat": 4,
 "nbformat_minor": 4
}
