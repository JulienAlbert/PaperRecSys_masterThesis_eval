{
 "cells": [
  {
   "cell_type": "code",
   "execution_count": 1,
   "metadata": {},
   "outputs": [],
   "source": [
    "%%capture\n",
    "import json\n",
    "import os\n",
    "from sklearn.feature_extraction.text import TfidfVectorizer\n",
    "from sklearn.metrics.pairwise import cosine_similarity, cosine_distances\n",
    "import numpy as np\n",
    "import scipy as sp\n",
    "from tqdm.notebook import tqdm"
   ]
  },
  {
   "cell_type": "code",
   "execution_count": 2,
   "metadata": {},
   "outputs": [],
   "source": [
    "with open('./data/aan_full.json') as f:\n",
    "    full_set = json.load(f)\n",
    "    \n",
    "full_set_dict = dict([(ref['id'], ref) for ref in full_set])"
   ]
  },
  {
   "cell_type": "code",
   "execution_count": 3,
   "metadata": {},
   "outputs": [],
   "source": [
    "results = {}\n",
    "results_dir_path = './results/'\n",
    "result_files = [f for f in os.listdir(results_dir_path) if '.json' in f and 'results' not in f and ('method7_kea' in f or 'method20' in f)]\n",
    "\n",
    "for filename in result_files:\n",
    "    method_name = filename.split('.')[0]\n",
    "    if method_name in results:\n",
    "        with open(results_dir_path + filename) as file:\n",
    "            results[method_name]['recs'] = json.load(file)\n",
    "    else:\n",
    "        result = {}\n",
    "        result['method_name'] = method_name\n",
    "    \n",
    "        with open(results_dir_path + filename) as file:\n",
    "            result['recs'] = json.load(file)\n",
    "        \n",
    "        results[method_name] = result"
   ]
  },
  {
   "cell_type": "code",
   "execution_count": 5,
   "metadata": {},
   "outputs": [],
   "source": [
    "corpus = [ref['title'] + ' ' + ref['abstract'] for ref in full_set]\n",
    "vectorizer = TfidfVectorizer(stop_words='english').fit(corpus)"
   ]
  },
  {
   "cell_type": "code",
   "execution_count": 6,
   "metadata": {},
   "outputs": [
    {
     "data": {
      "application/vnd.jupyter.widget-view+json": {
       "model_id": "d4c1ce6fa82f426b9fec9c77e53fe774",
       "version_major": 2,
       "version_minor": 0
      },
      "text/plain": [
       "HBox(children=(FloatProgress(value=0.0, max=15366.0), HTML(value='')))"
      ]
     },
     "metadata": {},
     "output_type": "display_data"
    },
    {
     "name": "stdout",
     "output_type": "stream",
     "text": [
      "\n"
     ]
    }
   ],
   "source": [
    "for ref in tqdm(full_set):\n",
    "    document = [ref['title'] + ' ' + ref['abstract']]\n",
    "    ref['tfidf_vector'] = vectorizer.transform(document)"
   ]
  },
  {
   "cell_type": "markdown",
   "metadata": {},
   "source": [
    "# Accuracy"
   ]
  },
  {
   "cell_type": "markdown",
   "metadata": {},
   "source": [
    "### Content similarity with user profil"
   ]
  },
  {
   "cell_type": "code",
   "execution_count": 8,
   "metadata": {},
   "outputs": [
    {
     "data": {
      "application/vnd.jupyter.widget-view+json": {
       "model_id": "3875b632b7ee4de6b5e8507f5c4fdda7",
       "version_major": 2,
       "version_minor": 0
      },
      "text/plain": [
       "HBox(children=(FloatProgress(value=0.0, max=3.0), HTML(value='')))"
      ]
     },
     "metadata": {},
     "output_type": "display_data"
    },
    {
     "name": "stdout",
     "output_type": "stream",
     "text": [
      "\n"
     ]
    }
   ],
   "source": [
    "for result in tqdm(results.values()):\n",
    "    scores = []\n",
    "    \n",
    "    for rec in result['recs']:\n",
    "        if rec['output']:\n",
    "            input_document = []\n",
    "            for paper_id in rec['input']:\n",
    "                input_document.append(full_set_dict[paper_id]['title'] + ' ' + full_set_dict[paper_id]['abstract'])\n",
    "            input_document = ' '.join(input_document)\n",
    "            input_tfidf_array = vectorizer.transform([input_document])\n",
    "\n",
    "            output_tfidf_vectors = [full_set_dict[paper_id]['tfidf_vector'] for paper_id in rec['output']]\n",
    "            output_tfidf_array = sp.sparse.vstack(output_tfidf_vectors)\n",
    "\n",
    "            score = np.mean(cosine_similarity(input_tfidf_array,output_tfidf_array))        \n",
    "\n",
    "            scores.append(score)\n",
    "        else:\n",
    "            scores.append(0)\n",
    "        \n",
    "    result['accuracy_content_tfidf'] = scores"
   ]
  },
  {
   "cell_type": "markdown",
   "metadata": {},
   "source": [
    "### Graph similarity with user profil"
   ]
  },
  {
   "cell_type": "code",
   "execution_count": 9,
   "metadata": {},
   "outputs": [
    {
     "data": {
      "application/vnd.jupyter.widget-view+json": {
       "model_id": "6d7a57335d28446aae31c29abc2181ee",
       "version_major": 2,
       "version_minor": 0
      },
      "text/plain": [
       "HBox(children=(FloatProgress(value=0.0, max=3.0), HTML(value='')))"
      ]
     },
     "metadata": {},
     "output_type": "display_data"
    },
    {
     "name": "stdout",
     "output_type": "stream",
     "text": [
      "\n"
     ]
    }
   ],
   "source": [
    "for result in tqdm(results.values()):\n",
    "    scores = []\n",
    "    \n",
    "    for rec in result['recs']:\n",
    "        if rec['output']:\n",
    "            input_ref_set = set()\n",
    "            for paper_id in rec['input']:\n",
    "                input_ref_set.update(full_set_dict[paper_id]['references'])\n",
    "                input_ref_set.update(full_set_dict[paper_id]['citations'])\n",
    "\n",
    "            partial_scores = []\n",
    "            for paper_id in rec['output']:\n",
    "                ref_set = set()\n",
    "                ref_set.update(full_set_dict[paper_id]['references'])\n",
    "                ref_set.update(full_set_dict[paper_id]['citations'])\n",
    "\n",
    "                intersection = input_ref_set.intersection(ref_set)\n",
    "                union = input_ref_set.union(ref_set)\n",
    "\n",
    "                partial_scores.append(len(intersection)/len(union))\n",
    "\n",
    "            score = np.mean(partial_scores)\n",
    "            scores.append(score)\n",
    "        else:\n",
    "            scores.append(0)\n",
    "        \n",
    "    result['accuracy_graph_jaccard'] = scores"
   ]
  },
  {
   "cell_type": "markdown",
   "metadata": {},
   "source": [
    "# Coverage"
   ]
  },
  {
   "cell_type": "markdown",
   "metadata": {},
   "source": [
    "### Global items coverage"
   ]
  },
  {
   "cell_type": "code",
   "execution_count": 10,
   "metadata": {},
   "outputs": [
    {
     "data": {
      "application/vnd.jupyter.widget-view+json": {
       "model_id": "6bd11787fc6f4fd79505e30aac695138",
       "version_major": 2,
       "version_minor": 0
      },
      "text/plain": [
       "HBox(children=(FloatProgress(value=0.0, max=3.0), HTML(value='')))"
      ]
     },
     "metadata": {},
     "output_type": "display_data"
    },
    {
     "name": "stdout",
     "output_type": "stream",
     "text": [
      "\n"
     ]
    }
   ],
   "source": [
    "for result in tqdm(results.values()):\n",
    "    rec_ids_set = set()\n",
    "    for rec in result['recs']:\n",
    "        rec_ids_set.update(rec['output'])\n",
    "        \n",
    "    result['coverage_item_global'] = len(rec_ids_set) / len(full_set)"
   ]
  },
  {
   "cell_type": "markdown",
   "metadata": {},
   "source": [
    "### Global users coverage"
   ]
  },
  {
   "cell_type": "code",
   "execution_count": 11,
   "metadata": {},
   "outputs": [
    {
     "data": {
      "application/vnd.jupyter.widget-view+json": {
       "model_id": "409c8269dfe4436bae8f53c3fb00400f",
       "version_major": 2,
       "version_minor": 0
      },
      "text/plain": [
       "HBox(children=(FloatProgress(value=0.0, max=3.0), HTML(value='')))"
      ]
     },
     "metadata": {},
     "output_type": "display_data"
    },
    {
     "name": "stdout",
     "output_type": "stream",
     "text": [
      "\n"
     ]
    }
   ],
   "source": [
    "for result in tqdm(results.values()):\n",
    "    scores = {}\n",
    "    scores['n_complete'] = len([_ for rec in result['recs'] if len(rec['output']) == 100])\n",
    "    scores['n_empty'] = len([_ for rec in result['recs'] if not rec['output']])\n",
    "    scores['n_incomplete'] = len(result['recs']) - scores['n_complete'] - scores['n_empty']\n",
    "        \n",
    "    result['coverage_user_global'] = scores"
   ]
  },
  {
   "cell_type": "markdown",
   "metadata": {},
   "source": [
    "# Diversity"
   ]
  },
  {
   "cell_type": "markdown",
   "metadata": {},
   "source": [
    "### Infra list content dissimilarity"
   ]
  },
  {
   "cell_type": "code",
   "execution_count": 12,
   "metadata": {},
   "outputs": [
    {
     "data": {
      "application/vnd.jupyter.widget-view+json": {
       "model_id": "e65d49c62dda46c0ba9f12573d03df6f",
       "version_major": 2,
       "version_minor": 0
      },
      "text/plain": [
       "HBox(children=(FloatProgress(value=0.0, max=3.0), HTML(value='')))"
      ]
     },
     "metadata": {},
     "output_type": "display_data"
    },
    {
     "name": "stdout",
     "output_type": "stream",
     "text": [
      "\n"
     ]
    }
   ],
   "source": [
    "for result in tqdm(results.values()):\n",
    "    scores = []\n",
    "    \n",
    "    for rec in result['recs']:\n",
    "        if rec['output'] and len(rec['output']) > 1:\n",
    "            partial_scores = []\n",
    "\n",
    "            for current_paper_id in rec['output']:            \n",
    "                current_tfidf_array = full_set_dict[current_paper_id]['tfidf_vector']\n",
    "                other_tfidf_vectors = [full_set_dict[paper_id]['tfidf_vector'] for paper_id in rec['output'] if paper_id != current_paper_id]\n",
    "                other_tfidf_array = sp.sparse.vstack(other_tfidf_vectors)\n",
    "                partial_scores.append(np.mean(cosine_distances(current_tfidf_array,other_tfidf_array)))\n",
    "\n",
    "            score = np.mean(partial_scores)\n",
    "            scores.append(score)\n",
    "        else:\n",
    "            scores.append(0)\n",
    "        \n",
    "    result['diversity_content_tfidf'] = scores"
   ]
  },
  {
   "cell_type": "markdown",
   "metadata": {},
   "source": [
    "### Infra list graph dissimilarity"
   ]
  },
  {
   "cell_type": "code",
   "execution_count": 14,
   "metadata": {},
   "outputs": [
    {
     "data": {
      "application/vnd.jupyter.widget-view+json": {
       "model_id": "bbc398a509df4e968b594091b2a61ac7",
       "version_major": 2,
       "version_minor": 0
      },
      "text/plain": [
       "HBox(children=(FloatProgress(value=0.0, max=3.0), HTML(value='')))"
      ]
     },
     "metadata": {},
     "output_type": "display_data"
    },
    {
     "name": "stdout",
     "output_type": "stream",
     "text": [
      "\n"
     ]
    }
   ],
   "source": [
    "for result in tqdm(results.values()):\n",
    "    scores = []\n",
    "    \n",
    "    for rec in result['recs']:\n",
    "        if rec['output'] and len(rec['output']) > 1:\n",
    "            partial_scores = []\n",
    "\n",
    "            for current_paper_id in rec['output']:\n",
    "                current_ref_set = set()\n",
    "                current_ref_set.update(full_set_dict[current_paper_id]['references'])\n",
    "                current_ref_set.update(full_set_dict[current_paper_id]['citations'])\n",
    "\n",
    "                for other_paper_id in filter(lambda e: e != current_paper_id, rec['output']):\n",
    "                    other_ref_set = set()\n",
    "                    other_ref_set.update(full_set_dict[other_paper_id]['references'])\n",
    "                    other_ref_set.update(full_set_dict[other_paper_id]['citations'])\n",
    "\n",
    "                    intersection = input_ref_set.intersection(other_ref_set)\n",
    "                    union = input_ref_set.union(other_ref_set)\n",
    "\n",
    "                    partial_scores.append(1 - len(intersection)/len(union))\n",
    "\n",
    "            score = np.mean(partial_scores)\n",
    "            scores.append(score)\n",
    "        else:\n",
    "            scores.append(0)\n",
    "        \n",
    "    result['diversity_graph_jaccard'] = scores"
   ]
  },
  {
   "cell_type": "markdown",
   "metadata": {},
   "source": [
    "### Global diversity"
   ]
  },
  {
   "cell_type": "code",
   "execution_count": 15,
   "metadata": {},
   "outputs": [
    {
     "data": {
      "application/vnd.jupyter.widget-view+json": {
       "model_id": "e82b42889fa840d69fbaa01f771cda36",
       "version_major": 2,
       "version_minor": 0
      },
      "text/plain": [
       "HBox(children=(FloatProgress(value=0.0, max=3.0), HTML(value='')))"
      ]
     },
     "metadata": {},
     "output_type": "display_data"
    },
    {
     "name": "stdout",
     "output_type": "stream",
     "text": [
      "\n"
     ]
    }
   ],
   "source": [
    "for result in tqdm(results.values()):\n",
    "    freq_recs = dict([(paper['id'], 0) for paper in full_set])\n",
    "    \n",
    "    for rec in result['recs']:\n",
    "        for paper_id in rec['output']:\n",
    "            freq_recs[paper_id] += 1\n",
    "            \n",
    "    total_recs = sum(freq_recs.values())\n",
    "    \n",
    "    p_recs = [freq / total_recs for freq in freq_recs.values() if freq > 0]\n",
    "        \n",
    "    result['diversity_global'] = -1 * sum([p_rec * np.log2(p_rec) for p_rec in p_recs])"
   ]
  },
  {
   "cell_type": "markdown",
   "metadata": {},
   "source": [
    "# Novelty"
   ]
  },
  {
   "cell_type": "markdown",
   "metadata": {},
   "source": [
    "### Average publication year"
   ]
  },
  {
   "cell_type": "code",
   "execution_count": 16,
   "metadata": {},
   "outputs": [
    {
     "data": {
      "application/vnd.jupyter.widget-view+json": {
       "model_id": "94adc376adc444e680af285c364b0dcd",
       "version_major": 2,
       "version_minor": 0
      },
      "text/plain": [
       "HBox(children=(FloatProgress(value=0.0, max=3.0), HTML(value='')))"
      ]
     },
     "metadata": {},
     "output_type": "display_data"
    },
    {
     "name": "stdout",
     "output_type": "stream",
     "text": [
      "\n"
     ]
    }
   ],
   "source": [
    "for result in tqdm(results.values()):\n",
    "    scores = []\n",
    "    \n",
    "    for rec in result['recs']:\n",
    "        if rec['output']:\n",
    "            partial_scores = []\n",
    "            for paper_id in rec['output']:\n",
    "                partial_scores.append(full_set_dict[paper_id]['year'])\n",
    "\n",
    "            score = np.mean(partial_scores)\n",
    "            scores.append(score)\n",
    "        else:\n",
    "            scores.append(0)\n",
    "        \n",
    "    result['novelty_average_pub_year'] = scores"
   ]
  },
  {
   "cell_type": "markdown",
   "metadata": {},
   "source": [
    "### Inverse popularity (approx. by citations)"
   ]
  },
  {
   "cell_type": "code",
   "execution_count": 17,
   "metadata": {},
   "outputs": [
    {
     "data": {
      "application/vnd.jupyter.widget-view+json": {
       "model_id": "85a49d5af17047a4be262a0c991df491",
       "version_major": 2,
       "version_minor": 0
      },
      "text/plain": [
       "HBox(children=(FloatProgress(value=0.0, max=3.0), HTML(value='')))"
      ]
     },
     "metadata": {},
     "output_type": "display_data"
    },
    {
     "name": "stdout",
     "output_type": "stream",
     "text": [
      "\n"
     ]
    }
   ],
   "source": [
    "for result in tqdm(results.values()):\n",
    "    scores = []\n",
    "    \n",
    "    for rec in result['recs']:\n",
    "        if rec['output']:\n",
    "            score = []\n",
    "            for paper_id in rec['output']:\n",
    "                n_citations = len(full_set_dict[paper_id]['citations'])\n",
    "                score.append(np.log2((n_citations+1) / len(full_set)))\n",
    "            scores.append(np.mean(score) * -1)\n",
    "        else:\n",
    "            scores.append(0)\n",
    "        \n",
    "    result['novelty_inverse_popularity'] = scores"
   ]
  },
  {
   "cell_type": "markdown",
   "metadata": {},
   "source": [
    "# generate results file"
   ]
  },
  {
   "cell_type": "code",
   "execution_count": 18,
   "metadata": {},
   "outputs": [],
   "source": [
    "for result in results.values():\n",
    "    result.pop('recs')"
   ]
  },
  {
   "cell_type": "code",
   "execution_count": 19,
   "metadata": {},
   "outputs": [],
   "source": [
    "with open('./results/evaloff_results.json') as f:\n",
    "    old_results = json.load(f)\n",
    "\n",
    "for k, v in results.items():\n",
    "    old_results[k] = v"
   ]
  },
  {
   "cell_type": "code",
   "execution_count": 20,
   "metadata": {},
   "outputs": [],
   "source": [
    "with open(results_dir_path + 'evaloff_results.json', 'w') as f:\n",
    "    json.dump(old_results, f)"
   ]
  },
  {
   "cell_type": "markdown",
   "metadata": {},
   "source": [
    "# generate filtered results file"
   ]
  },
  {
   "cell_type": "code",
   "execution_count": 23,
   "metadata": {},
   "outputs": [],
   "source": [
    "invalid_recs_pos = set()\n",
    "result_files = [f for f in os.listdir(results_dir_path) if '.json' in f and 'results' not in f]\n",
    "\n",
    "for filename in result_files:\n",
    "    with open(results_dir_path + filename) as file:\n",
    "        for i, rec in enumerate(json.load(file)):\n",
    "            if not rec['output'] or len(rec['output']) < 50:\n",
    "                invalid_recs_pos.add(i)\n",
    "            \n",
    "valid_recs_pos = [i for i in range(3000) if i not in invalid_recs_pos]"
   ]
  },
  {
   "cell_type": "code",
   "execution_count": 26,
   "metadata": {},
   "outputs": [],
   "source": [
    "filtered_results = {}\n",
    "\n",
    "for method_name, old_result in old_results.items():\n",
    "    filtered_result = {}\n",
    "    filtered_result['method_name'] = method_name\n",
    "    filtered_result['coverage_item_global'] = old_result['coverage_item_global']\n",
    "    filtered_result['coverage_user_global'] = old_result['coverage_user_global']\n",
    "    filtered_result['diversity_global'] = old_result['diversity_global']\n",
    "    \n",
    "    filtered_result['accuracy_content_tfidf'] = [old_result['accuracy_content_tfidf'][i] for i in valid_recs_pos]\n",
    "    filtered_result['accuracy_graph_jaccard'] = [old_result['accuracy_graph_jaccard'][i] for i in valid_recs_pos]\n",
    "    filtered_result['novelty_average_pub_year'] = [old_result['novelty_average_pub_year'][i] for i in valid_recs_pos]\n",
    "    filtered_result['novelty_inverse_popularity'] = [old_result['novelty_inverse_popularity'][i] for i in valid_recs_pos]\n",
    "    filtered_result['diversity_graph_jaccard'] = [old_result['diversity_graph_jaccard'][i] for i in valid_recs_pos]\n",
    "    filtered_result['diversity_content_tfidf'] = [old_result['diversity_content_tfidf'][i] for i in valid_recs_pos]\n",
    "    \n",
    "    filtered_results[method_name] = filtered_result"
   ]
  },
  {
   "cell_type": "code",
   "execution_count": 28,
   "metadata": {},
   "outputs": [],
   "source": [
    "with open(results_dir_path + 'evaloff_filtered_results.json', 'w') as f:\n",
    "    json.dump(filtered_results, f)"
   ]
  }
 ],
 "metadata": {
  "kernelspec": {
   "display_name": "Python 3",
   "language": "python",
   "name": "python3"
  },
  "language_info": {
   "codemirror_mode": {
    "name": "ipython",
    "version": 3
   },
   "file_extension": ".py",
   "mimetype": "text/x-python",
   "name": "python",
   "nbconvert_exporter": "python",
   "pygments_lexer": "ipython3",
   "version": "3.7.6"
  }
 },
 "nbformat": 4,
 "nbformat_minor": 4
}
