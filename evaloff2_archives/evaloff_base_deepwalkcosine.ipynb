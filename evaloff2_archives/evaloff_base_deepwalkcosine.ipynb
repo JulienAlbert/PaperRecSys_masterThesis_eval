{
 "cells": [
  {
   "cell_type": "code",
   "execution_count": 36,
   "metadata": {},
   "outputs": [],
   "source": [
    "%%capture\n",
    "import json\n",
    "from sklearn.metrics.pairwise import cosine_similarity\n",
    "from tqdm.notebook import tqdm\n",
    "import numpy as np\n",
    "import networkx as nx\n",
    "import random\n",
    "from gensim.models import Word2Vec"
   ]
  },
  {
   "cell_type": "code",
   "execution_count": 37,
   "metadata": {},
   "outputs": [],
   "source": [
    "with open('./data/aan_full.json') as f:\n",
    "    full_set = json.load(f)\n",
    "    \n",
    "directed_citation_graph = nx.DiGraph()\n",
    "for paper in full_set:\n",
    "    for ref_id in paper['references']:\n",
    "        directed_citation_graph.add_edge(paper['id'], ref_id)\n",
    "        \n",
    "undirected_citation_graph = directed_citation_graph.to_undirected()"
   ]
  },
  {
   "cell_type": "code",
   "execution_count": 4,
   "metadata": {},
   "outputs": [],
   "source": [
    "paper_ids = [paper['id'] for paper in full_set]"
   ]
  },
  {
   "cell_type": "code",
   "execution_count": 38,
   "metadata": {},
   "outputs": [],
   "source": [
    "# inspire by https://github.com/phanein/deepwalk/\n",
    "\n",
    "def deepwalk(G, number_walks=10, representation_size=64, seed=0, walk_length=40, window_size=5, workers=1):\n",
    "    \n",
    "    # build deepwalk corpus\n",
    "    walks = []\n",
    "    nodes = list(G.nodes())\n",
    "    random.seed(seed)\n",
    "  \n",
    "    for _ in range(number_walks):\n",
    "        random.shuffle(nodes)\n",
    "        for node in nodes:\n",
    "            # random walk\n",
    "            path = [node]\n",
    "\n",
    "            while len(path) < walk_length:\n",
    "                current = path[-1]\n",
    "                current_neighbors = list(G[current])\n",
    "                if current_neighbors:\n",
    "                    path.append(random.choice(current_neighbors))\n",
    "                else:\n",
    "                    break\n",
    "                    \n",
    "            #return [str(node) for node in path] \n",
    "            walks.append(path)\n",
    "\n",
    "    # build model\n",
    "    model = Word2Vec(walks, size=representation_size, window=window_size, min_count=0, sg=1, hs=1, workers=workers)    \n",
    "    \n",
    "    return model.wv"
   ]
  },
  {
   "cell_type": "code",
   "execution_count": 40,
   "metadata": {},
   "outputs": [],
   "source": [
    "model_undirected = deepwalk(undirected_citation_graph)\n",
    "model_directed = deepwalk(directed_citation_graph)"
   ]
  },
  {
   "cell_type": "code",
   "execution_count": 41,
   "metadata": {},
   "outputs": [],
   "source": [
    "directed_paper_deepwalk_vectors = [model_directed.get_vector(paper['id']) for paper in full_set]\n",
    "directed_paper_deepwalk_array = np.vstack(directed_paper_deepwalk_vectors)"
   ]
  },
  {
   "cell_type": "code",
   "execution_count": 42,
   "metadata": {},
   "outputs": [],
   "source": [
    "undirected_paper_deepwalk_vectors = [model_undirected.get_vector(paper['id']) for paper in full_set]\n",
    "undirected_paper_deepwalk_array = np.vstack(undirected_paper_deepwalk_vectors)"
   ]
  },
  {
   "cell_type": "markdown",
   "metadata": {},
   "source": [
    "# aan_test_single.json"
   ]
  },
  {
   "cell_type": "code",
   "execution_count": 43,
   "metadata": {},
   "outputs": [],
   "source": [
    "with open('./data/aan_test_single.json') as f:\n",
    "    test_set = json.load(f)"
   ]
  },
  {
   "cell_type": "code",
   "execution_count": 44,
   "metadata": {},
   "outputs": [],
   "source": [
    "input_deepwalk_vectors = [model_directed.get_vector(paper['id']) for paper in test_set]\n",
    "input_ids = [paper['id'] for paper in test_set]\n",
    "\n",
    "paper_deepwalk_array = directed_paper_deepwalk_array\n",
    "input_deepwalk_array = np.vstack(input_deepwalk_vectors)\n",
    "\n",
    "score_array = cosine_similarity(input_deepwalk_array, paper_deepwalk_array)"
   ]
  },
  {
   "cell_type": "code",
   "execution_count": 45,
   "metadata": {},
   "outputs": [
    {
     "data": {
      "application/vnd.jupyter.widget-view+json": {
       "model_id": "86855aee7b134eb086797c3548bf6572",
       "version_major": 2,
       "version_minor": 0
      },
      "text/plain": [
       "HBox(children=(FloatProgress(value=1.0, bar_style='info', max=1.0), HTML(value='')))"
      ]
     },
     "metadata": {},
     "output_type": "display_data"
    },
    {
     "name": "stdout",
     "output_type": "stream",
     "text": [
      "\n"
     ]
    }
   ],
   "source": [
    "results = []\n",
    "\n",
    "for input_paper_id, scores in tqdm(zip(input_ids, score_array.tolist())):\n",
    "    result = {}\n",
    "    result['input'] = [input_paper_id]\n",
    "    \n",
    "    candidate_scores = list(zip(paper_ids, scores))     \n",
    "    candidate_scores.sort(key=lambda x: x[1], reverse=True)\n",
    "    filtered_candidate_scores = [cs for cs in candidate_scores if cs[0] != input_paper_id]\n",
    "    \n",
    "    result['output'] = [cs[0] for cs in filtered_candidate_scores[:100]]\n",
    "    results.append(result)"
   ]
  },
  {
   "cell_type": "code",
   "execution_count": 46,
   "metadata": {},
   "outputs": [],
   "source": [
    "with open('./results/single_base_deepwalkcosine_directed.json', 'w') as f:\n",
    "    json.dump(results, f)"
   ]
  },
  {
   "cell_type": "code",
   "execution_count": 47,
   "metadata": {},
   "outputs": [],
   "source": [
    "input_deepwalk_vectors = [model_undirected.get_vector(paper['id']) for paper in test_set]\n",
    "input_ids = [paper['id'] for paper in test_set]\n",
    "\n",
    "paper_deepwalk_array = undirected_paper_deepwalk_array\n",
    "input_deepwalk_array = np.vstack(input_deepwalk_vectors)\n",
    "\n",
    "score_array = cosine_similarity(input_deepwalk_array, paper_deepwalk_array)"
   ]
  },
  {
   "cell_type": "code",
   "execution_count": 48,
   "metadata": {},
   "outputs": [
    {
     "data": {
      "application/vnd.jupyter.widget-view+json": {
       "model_id": "89fb404ebe984f1683df7b525799e5f5",
       "version_major": 2,
       "version_minor": 0
      },
      "text/plain": [
       "HBox(children=(FloatProgress(value=1.0, bar_style='info', max=1.0), HTML(value='')))"
      ]
     },
     "metadata": {},
     "output_type": "display_data"
    },
    {
     "name": "stdout",
     "output_type": "stream",
     "text": [
      "\n"
     ]
    }
   ],
   "source": [
    "results = []\n",
    "\n",
    "for input_paper_id, scores in tqdm(zip(input_ids, score_array.tolist())):\n",
    "    result = {}\n",
    "    result['input'] = [input_paper_id]\n",
    "    \n",
    "    candidate_scores = list(zip(paper_ids, scores))     \n",
    "    candidate_scores.sort(key=lambda x: x[1], reverse=True)\n",
    "    filtered_candidate_scores = [cs for cs in candidate_scores if cs[0] != input_paper_id]\n",
    "    \n",
    "    result['output'] = [cs[0] for cs in filtered_candidate_scores[:100]]\n",
    "    results.append(result)"
   ]
  },
  {
   "cell_type": "code",
   "execution_count": 49,
   "metadata": {},
   "outputs": [],
   "source": [
    "with open('./results/single_base_deepwalkcosine_undirected.json', 'w') as f:\n",
    "    json.dump(results, f)"
   ]
  },
  {
   "cell_type": "markdown",
   "metadata": {},
   "source": [
    "# aan_test_triplet.json"
   ]
  },
  {
   "cell_type": "code",
   "execution_count": 50,
   "metadata": {},
   "outputs": [],
   "source": [
    "with open('./data/aan_test_triplet.json') as f:\n",
    "    test_set = json.load(f)"
   ]
  },
  {
   "cell_type": "code",
   "execution_count": 51,
   "metadata": {},
   "outputs": [
    {
     "data": {
      "application/vnd.jupyter.widget-view+json": {
       "model_id": "718969a099ac4bb2af31686783e08a64",
       "version_major": 2,
       "version_minor": 0
      },
      "text/plain": [
       "HBox(children=(FloatProgress(value=0.0, max=3.0), HTML(value='')))"
      ]
     },
     "metadata": {},
     "output_type": "display_data"
    },
    {
     "name": "stdout",
     "output_type": "stream",
     "text": [
      "\n"
     ]
    }
   ],
   "source": [
    "paper_deepwalk_array = directed_paper_deepwalk_array\n",
    "\n",
    "partial_score_arrays = []\n",
    "for i in tqdm(range(3)):\n",
    "    partial_input_ids = [input_papers[i]['id'] for input_papers in test_set]\n",
    "    input_deepwalk_vectors = [model_directed.get_vector(paper_id) for paper_id in partial_input_ids]\n",
    "    \n",
    "    input_deepwalk_array = np.vstack(input_deepwalk_vectors)\n",
    "\n",
    "    partial_score_arrays.append(cosine_similarity(input_deepwalk_array, paper_deepwalk_array))\n",
    "\n",
    "score_array = sum(partial_score_arrays)"
   ]
  },
  {
   "cell_type": "code",
   "execution_count": 52,
   "metadata": {},
   "outputs": [
    {
     "data": {
      "application/vnd.jupyter.widget-view+json": {
       "model_id": "3d234814b8e141988939b857154b997c",
       "version_major": 2,
       "version_minor": 0
      },
      "text/plain": [
       "HBox(children=(FloatProgress(value=1.0, bar_style='info', max=1.0), HTML(value='')))"
      ]
     },
     "metadata": {},
     "output_type": "display_data"
    },
    {
     "name": "stdout",
     "output_type": "stream",
     "text": [
      "\n"
     ]
    }
   ],
   "source": [
    "results = []\n",
    "\n",
    "for input_papers, scores  in tqdm(zip(test_set, score_array.tolist())):\n",
    "    result = {}\n",
    "    result['input'] = [input_paper['id'] for input_paper in input_papers]\n",
    "    input_paper_ids_set = set(result['input'])\n",
    "    \n",
    "    candidate_scores = list(zip(paper_ids, scores))     \n",
    "    candidate_scores.sort(key=lambda x: x[1], reverse=True)\n",
    "    filtered_candidate_scores = [cs for cs in candidate_scores if cs[0] not in input_paper_ids_set]\n",
    "    \n",
    "    result['output'] = [cs[0] for cs in filtered_candidate_scores[:100]]\n",
    "    results.append(result)"
   ]
  },
  {
   "cell_type": "code",
   "execution_count": 53,
   "metadata": {},
   "outputs": [],
   "source": [
    "with open('./results/triplet_base_deepwalkcosine_directed.json', 'w') as f:\n",
    "    json.dump(results, f)"
   ]
  },
  {
   "cell_type": "code",
   "execution_count": 54,
   "metadata": {},
   "outputs": [
    {
     "data": {
      "application/vnd.jupyter.widget-view+json": {
       "model_id": "8fc902384f844604848dfb112dc38cf7",
       "version_major": 2,
       "version_minor": 0
      },
      "text/plain": [
       "HBox(children=(FloatProgress(value=0.0, max=3.0), HTML(value='')))"
      ]
     },
     "metadata": {},
     "output_type": "display_data"
    },
    {
     "name": "stdout",
     "output_type": "stream",
     "text": [
      "\n"
     ]
    }
   ],
   "source": [
    "paper_deepwalk_array = undirected_paper_deepwalk_array\n",
    "\n",
    "partial_score_arrays = []\n",
    "for i in tqdm(range(3)):\n",
    "    partial_input_ids = [input_papers[i]['id'] for input_papers in test_set]\n",
    "    input_deepwalk_vectors = [model_undirected.get_vector(paper_id) for paper_id in partial_input_ids]\n",
    "    \n",
    "    input_deepwalk_array = np.vstack(input_deepwalk_vectors)\n",
    "\n",
    "    partial_score_arrays.append(cosine_similarity(input_deepwalk_array, paper_deepwalk_array))\n",
    "\n",
    "score_array = sum(partial_score_arrays)"
   ]
  },
  {
   "cell_type": "code",
   "execution_count": 55,
   "metadata": {},
   "outputs": [
    {
     "data": {
      "application/vnd.jupyter.widget-view+json": {
       "model_id": "71f34ef5641a4bfab9396ee52a56d5db",
       "version_major": 2,
       "version_minor": 0
      },
      "text/plain": [
       "HBox(children=(FloatProgress(value=1.0, bar_style='info', max=1.0), HTML(value='')))"
      ]
     },
     "metadata": {},
     "output_type": "display_data"
    },
    {
     "name": "stdout",
     "output_type": "stream",
     "text": [
      "\n"
     ]
    }
   ],
   "source": [
    "results = []\n",
    "\n",
    "for input_papers, scores  in tqdm(zip(test_set, score_array.tolist())):\n",
    "    result = {}\n",
    "    result['input'] = [input_paper['id'] for input_paper in input_papers]\n",
    "    input_paper_ids_set = set(result['input'])\n",
    "    \n",
    "    candidate_scores = list(zip(paper_ids, scores))     \n",
    "    candidate_scores.sort(key=lambda x: x[1], reverse=True)\n",
    "    filtered_candidate_scores = [cs for cs in candidate_scores if cs[0] not in input_paper_ids_set]\n",
    "    \n",
    "    result['output'] = [cs[0] for cs in filtered_candidate_scores[:100]]\n",
    "    results.append(result)"
   ]
  },
  {
   "cell_type": "code",
   "execution_count": 56,
   "metadata": {},
   "outputs": [],
   "source": [
    "with open('./results/triplet_base_deepwalkcosine_undirected.json', 'w') as f:\n",
    "    json.dump(results, f)"
   ]
  },
  {
   "cell_type": "markdown",
   "metadata": {},
   "source": [
    "# aan_test_tripletfromref.json"
   ]
  },
  {
   "cell_type": "code",
   "execution_count": 57,
   "metadata": {},
   "outputs": [],
   "source": [
    "with open('./data/aan_test_tripletfromref.json') as f:\n",
    "    test_set = json.load(f)"
   ]
  },
  {
   "cell_type": "code",
   "execution_count": 58,
   "metadata": {},
   "outputs": [
    {
     "data": {
      "application/vnd.jupyter.widget-view+json": {
       "model_id": "f2fc1036db1a4f0ba5a30283dedc1acf",
       "version_major": 2,
       "version_minor": 0
      },
      "text/plain": [
       "HBox(children=(FloatProgress(value=0.0, max=3.0), HTML(value='')))"
      ]
     },
     "metadata": {},
     "output_type": "display_data"
    },
    {
     "name": "stdout",
     "output_type": "stream",
     "text": [
      "\n"
     ]
    }
   ],
   "source": [
    "paper_deepwalk_array = directed_paper_deepwalk_array\n",
    "\n",
    "partial_score_arrays = []\n",
    "for i in tqdm(range(3)):\n",
    "    partial_input_ids = [input_papers[i]['id'] for input_papers in test_set]\n",
    "    input_deepwalk_vectors = [model_directed.get_vector(paper_id) for paper_id in partial_input_ids]\n",
    "    \n",
    "    input_deepwalk_array = np.vstack(input_deepwalk_vectors)\n",
    "\n",
    "    partial_score_arrays.append(cosine_similarity(input_deepwalk_array, paper_deepwalk_array))\n",
    "\n",
    "score_array = sum(partial_score_arrays)"
   ]
  },
  {
   "cell_type": "code",
   "execution_count": 59,
   "metadata": {},
   "outputs": [
    {
     "data": {
      "application/vnd.jupyter.widget-view+json": {
       "model_id": "dd05766d80074e18b327b967b48a1ef2",
       "version_major": 2,
       "version_minor": 0
      },
      "text/plain": [
       "HBox(children=(FloatProgress(value=1.0, bar_style='info', max=1.0), HTML(value='')))"
      ]
     },
     "metadata": {},
     "output_type": "display_data"
    },
    {
     "name": "stdout",
     "output_type": "stream",
     "text": [
      "\n"
     ]
    }
   ],
   "source": [
    "results = []\n",
    "\n",
    "for input_papers, scores  in tqdm(zip(test_set, score_array.tolist())):\n",
    "    result = {}\n",
    "    result['input'] = [input_paper['id'] for input_paper in input_papers]\n",
    "    input_paper_ids_set = set(result['input'])\n",
    "    \n",
    "    candidate_scores = list(zip(paper_ids, scores))     \n",
    "    candidate_scores.sort(key=lambda x: x[1], reverse=True)\n",
    "    filtered_candidate_scores = [cs for cs in candidate_scores if cs[0] not in input_paper_ids_set]\n",
    "    \n",
    "    result['output'] = [cs[0] for cs in filtered_candidate_scores[:100]]\n",
    "    results.append(result)"
   ]
  },
  {
   "cell_type": "code",
   "execution_count": 60,
   "metadata": {},
   "outputs": [],
   "source": [
    "with open('./results/tripletfromref_base_deepwalkcosine_directed.json', 'w') as f:\n",
    "    json.dump(results, f)"
   ]
  },
  {
   "cell_type": "code",
   "execution_count": 61,
   "metadata": {},
   "outputs": [
    {
     "data": {
      "application/vnd.jupyter.widget-view+json": {
       "model_id": "348c1ca1cfdb4d298a63c084d4e98e5e",
       "version_major": 2,
       "version_minor": 0
      },
      "text/plain": [
       "HBox(children=(FloatProgress(value=0.0, max=3.0), HTML(value='')))"
      ]
     },
     "metadata": {},
     "output_type": "display_data"
    },
    {
     "name": "stdout",
     "output_type": "stream",
     "text": [
      "\n"
     ]
    }
   ],
   "source": [
    "paper_deepwalk_array = undirected_paper_deepwalk_array\n",
    "\n",
    "partial_score_arrays = []\n",
    "for i in tqdm(range(3)):\n",
    "    partial_input_ids = [input_papers[i]['id'] for input_papers in test_set]\n",
    "    input_deepwalk_vectors = [model_undirected.get_vector(paper_id) for paper_id in partial_input_ids]\n",
    "    \n",
    "    input_deepwalk_array = np.vstack(input_deepwalk_vectors)\n",
    "\n",
    "    partial_score_arrays.append(cosine_similarity(input_deepwalk_array, paper_deepwalk_array))\n",
    "\n",
    "score_array = sum(partial_score_arrays)"
   ]
  },
  {
   "cell_type": "code",
   "execution_count": 62,
   "metadata": {},
   "outputs": [
    {
     "data": {
      "application/vnd.jupyter.widget-view+json": {
       "model_id": "5d3e99a6c64148ffb8b58866093aa792",
       "version_major": 2,
       "version_minor": 0
      },
      "text/plain": [
       "HBox(children=(FloatProgress(value=1.0, bar_style='info', max=1.0), HTML(value='')))"
      ]
     },
     "metadata": {},
     "output_type": "display_data"
    },
    {
     "name": "stdout",
     "output_type": "stream",
     "text": [
      "\n"
     ]
    }
   ],
   "source": [
    "results = []\n",
    "\n",
    "for input_papers, scores  in tqdm(zip(test_set, score_array.tolist())):\n",
    "    result = {}\n",
    "    result['input'] = [input_paper['id'] for input_paper in input_papers]\n",
    "    input_paper_ids_set = set(result['input'])\n",
    "    \n",
    "    candidate_scores = list(zip(paper_ids, scores))     \n",
    "    candidate_scores.sort(key=lambda x: x[1], reverse=True)\n",
    "    filtered_candidate_scores = [cs for cs in candidate_scores if cs[0] not in input_paper_ids_set]\n",
    "    \n",
    "    result['output'] = [cs[0] for cs in filtered_candidate_scores[:100]]\n",
    "    results.append(result)"
   ]
  },
  {
   "cell_type": "code",
   "execution_count": 63,
   "metadata": {},
   "outputs": [],
   "source": [
    "with open('./results/tripletfromref_base_deepwalkcosine_undirected.json', 'w') as f:\n",
    "    json.dump(results, f)"
   ]
  }
 ],
 "metadata": {
  "kernelspec": {
   "display_name": "Python 3",
   "language": "python",
   "name": "python3"
  },
  "language_info": {
   "codemirror_mode": {
    "name": "ipython",
    "version": 3
   },
   "file_extension": ".py",
   "mimetype": "text/x-python",
   "name": "python",
   "nbconvert_exporter": "python",
   "pygments_lexer": "ipython3",
   "version": "3.7.6"
  }
 },
 "nbformat": 4,
 "nbformat_minor": 4
}
