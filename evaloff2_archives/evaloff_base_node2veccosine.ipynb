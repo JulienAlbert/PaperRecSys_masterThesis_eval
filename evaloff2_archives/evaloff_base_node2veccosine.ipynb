{
 "cells": [
  {
   "cell_type": "code",
   "execution_count": 7,
   "metadata": {},
   "outputs": [],
   "source": [
    "%%capture\n",
    "import json\n",
    "import networkx as nx\n",
    "from node2vec import Node2Vec\n",
    "from sklearn.metrics.pairwise import cosine_similarity\n",
    "from tqdm.notebook import tqdm\n",
    "import time\n",
    "import numpy as np\n",
    "\n",
    "# source : https://github.com/eliorc/node2vec"
   ]
  },
  {
   "cell_type": "code",
   "execution_count": 8,
   "metadata": {},
   "outputs": [],
   "source": [
    "with open('./data/aan_full.json') as f:\n",
    "    full_set = json.load(f)\n",
    "    \n",
    "directed_citation_graph = nx.DiGraph()\n",
    "for paper in full_set:\n",
    "    for ref_id in paper['references']:\n",
    "        directed_citation_graph.add_edge(paper['id'], ref_id)\n",
    "        \n",
    "undirected_citation_graph = directed_citation_graph.to_undirected()"
   ]
  },
  {
   "cell_type": "code",
   "execution_count": 9,
   "metadata": {},
   "outputs": [],
   "source": [
    "paper_ids = [paper['id'] for paper in full_set]"
   ]
  },
  {
   "cell_type": "code",
   "execution_count": 10,
   "metadata": {},
   "outputs": [
    {
     "name": "stderr",
     "output_type": "stream",
     "text": [
      "Computing transition probabilities: 100%|██████████| 15366/15366 [00:02<00:00, 5680.65it/s]\n"
     ]
    },
    {
     "data": {
      "text/plain": [
       "20.508866786956787"
      ]
     },
     "execution_count": 10,
     "metadata": {},
     "output_type": "execute_result"
    }
   ],
   "source": [
    "start = time.time()\n",
    "node2vec_directed = Node2Vec(directed_citation_graph, dimensions=128, walk_length=80, num_walks=10, p=1, q=2, workers=4)\n",
    "time.time() - start"
   ]
  },
  {
   "cell_type": "code",
   "execution_count": 11,
   "metadata": {},
   "outputs": [
    {
     "data": {
      "text/plain": [
       "64.60270595550537"
      ]
     },
     "execution_count": 11,
     "metadata": {},
     "output_type": "execute_result"
    }
   ],
   "source": [
    "start = time.time()\n",
    "model_directed = node2vec_directed.fit(window=10, min_count=1, batch_words=4)\n",
    "time.time() - start"
   ]
  },
  {
   "cell_type": "code",
   "execution_count": 12,
   "metadata": {},
   "outputs": [],
   "source": [
    "directed_paper_node2vec_vectors = [model_directed.wv[paper['id']] for paper in full_set]\n",
    "directed_paper_node2vec_array = np.vstack(directed_paper_node2vec_vectors)"
   ]
  },
  {
   "cell_type": "code",
   "execution_count": 13,
   "metadata": {},
   "outputs": [
    {
     "name": "stderr",
     "output_type": "stream",
     "text": [
      "Computing transition probabilities: 100%|██████████| 15366/15366 [00:02<00:00, 5333.72it/s]\n"
     ]
    },
    {
     "data": {
      "text/plain": [
       "20.062878131866455"
      ]
     },
     "execution_count": 13,
     "metadata": {},
     "output_type": "execute_result"
    }
   ],
   "source": [
    "start = time.time()\n",
    "node2vec_undirected = Node2Vec(directed_citation_graph, dimensions=128, walk_length=80, num_walks=10, p=1, q=2, workers=4)\n",
    "time.time() - start"
   ]
  },
  {
   "cell_type": "code",
   "execution_count": 14,
   "metadata": {},
   "outputs": [
    {
     "data": {
      "text/plain": [
       "63.0034966468811"
      ]
     },
     "execution_count": 14,
     "metadata": {},
     "output_type": "execute_result"
    }
   ],
   "source": [
    "start = time.time()\n",
    "model_undirected = node2vec_undirected.fit(window=10, min_count=1, batch_words=4)\n",
    "time.time() - start"
   ]
  },
  {
   "cell_type": "code",
   "execution_count": 15,
   "metadata": {},
   "outputs": [],
   "source": [
    "undirected_paper_node2vec_vectors = [model_undirected.wv[paper['id']] for paper in full_set]\n",
    "undirected_paper_node2vec_array = np.vstack(undirected_paper_node2vec_vectors)"
   ]
  },
  {
   "cell_type": "markdown",
   "metadata": {},
   "source": [
    "# aan_test_single.json"
   ]
  },
  {
   "cell_type": "code",
   "execution_count": 7,
   "metadata": {},
   "outputs": [],
   "source": [
    "with open('./data/aan_test_single.json') as f:\n",
    "    test_set = json.load(f)"
   ]
  },
  {
   "cell_type": "code",
   "execution_count": 8,
   "metadata": {},
   "outputs": [],
   "source": [
    "input_node2vec_vectors = [model_directed.wv[paper['id']] for paper in test_set]\n",
    "input_ids = [paper['id'] for paper in test_set]\n",
    "\n",
    "paper_node2vec_array = directed_paper_node2vec_array\n",
    "input_node2vec_array = np.vstack(input_node2vec_vectors)\n",
    "\n",
    "score_array = cosine_similarity(input_node2vec_array, paper_node2vec_array)"
   ]
  },
  {
   "cell_type": "code",
   "execution_count": 9,
   "metadata": {},
   "outputs": [
    {
     "data": {
      "application/vnd.jupyter.widget-view+json": {
       "model_id": "1f570b25beaf45cd8b58375ad3923335",
       "version_major": 2,
       "version_minor": 0
      },
      "text/plain": [
       "HBox(children=(FloatProgress(value=1.0, bar_style='info', max=1.0), HTML(value='')))"
      ]
     },
     "metadata": {},
     "output_type": "display_data"
    },
    {
     "name": "stdout",
     "output_type": "stream",
     "text": [
      "\n"
     ]
    }
   ],
   "source": [
    "results = []\n",
    "\n",
    "for input_paper_id, scores in tqdm(zip(input_ids, score_array.tolist())):\n",
    "    result = {}\n",
    "    result['input'] = [input_paper_id]\n",
    "    \n",
    "    candidate_scores = list(zip(paper_ids, scores))     \n",
    "    candidate_scores.sort(key=lambda x: x[1], reverse=True)\n",
    "    filtered_candidate_scores = [cs for cs in candidate_scores if cs[0] != input_paper_id]\n",
    "    \n",
    "    result['output'] = [cs[0] for cs in filtered_candidate_scores[:100]]\n",
    "    results.append(result)"
   ]
  },
  {
   "cell_type": "code",
   "execution_count": 10,
   "metadata": {},
   "outputs": [],
   "source": [
    "with open('./results/single_base_node2veccosine_directed.json', 'w') as f:\n",
    "    json.dump(results, f)"
   ]
  },
  {
   "cell_type": "code",
   "execution_count": 8,
   "metadata": {},
   "outputs": [],
   "source": [
    "input_node2vec_vectors = [model_undirected.wv[paper['id']] for paper in test_set]\n",
    "input_ids = [paper['id'] for paper in test_set]\n",
    "\n",
    "paper_node2vec_array = undirected_paper_node2vec_array\n",
    "input_node2vec_array = np.vstack(input_node2vec_vectors)\n",
    "\n",
    "score_array = cosine_similarity(input_node2vec_array, paper_node2vec_array)"
   ]
  },
  {
   "cell_type": "code",
   "execution_count": 9,
   "metadata": {},
   "outputs": [
    {
     "data": {
      "application/vnd.jupyter.widget-view+json": {
       "model_id": "43c3a66edf4c4e9581e81034519a9e64",
       "version_major": 2,
       "version_minor": 0
      },
      "text/plain": [
       "HBox(children=(FloatProgress(value=1.0, bar_style='info', max=1.0), HTML(value='')))"
      ]
     },
     "metadata": {},
     "output_type": "display_data"
    },
    {
     "name": "stdout",
     "output_type": "stream",
     "text": [
      "\n"
     ]
    }
   ],
   "source": [
    "results = []\n",
    "\n",
    "for input_paper_id, scores in tqdm(zip(input_ids, score_array.tolist())):\n",
    "    result = {}\n",
    "    result['input'] = [input_paper_id]\n",
    "    \n",
    "    candidate_scores = list(zip(paper_ids, scores))     \n",
    "    candidate_scores.sort(key=lambda x: x[1], reverse=True)\n",
    "    filtered_candidate_scores = [cs for cs in candidate_scores if cs[0] != input_paper_id]\n",
    "    \n",
    "    result['output'] = [cs[0] for cs in filtered_candidate_scores[:100]]\n",
    "    results.append(result)"
   ]
  },
  {
   "cell_type": "code",
   "execution_count": 10,
   "metadata": {},
   "outputs": [],
   "source": [
    "with open('./results/single_base_node2veccosine_undirected.json', 'w') as f:\n",
    "    json.dump(results, f)"
   ]
  },
  {
   "cell_type": "markdown",
   "metadata": {},
   "source": [
    "# aan_test_triplet.json"
   ]
  },
  {
   "cell_type": "code",
   "execution_count": 11,
   "metadata": {},
   "outputs": [],
   "source": [
    "with open('./data/aan_test_triplet.json') as f:\n",
    "    test_set = json.load(f)"
   ]
  },
  {
   "cell_type": "code",
   "execution_count": 12,
   "metadata": {},
   "outputs": [
    {
     "data": {
      "application/vnd.jupyter.widget-view+json": {
       "model_id": "cef11a84fa0749fd96d737774451e561",
       "version_major": 2,
       "version_minor": 0
      },
      "text/plain": [
       "HBox(children=(FloatProgress(value=0.0, max=3.0), HTML(value='')))"
      ]
     },
     "metadata": {},
     "output_type": "display_data"
    },
    {
     "name": "stdout",
     "output_type": "stream",
     "text": [
      "\n"
     ]
    }
   ],
   "source": [
    "paper_node2vec_array = directed_paper_node2vec_array\n",
    "\n",
    "partial_score_arrays = []\n",
    "for i in tqdm(range(3)):\n",
    "    partial_input_ids = [input_papers[i]['id'] for input_papers in test_set]\n",
    "    input_node2vec_vectors = [model_directed.wv[paper_id] for paper_id in partial_input_ids]\n",
    "    \n",
    "    input_node2vec_array = np.vstack(input_node2vec_vectors)\n",
    "\n",
    "    partial_score_arrays.append(cosine_similarity(input_node2vec_array, paper_node2vec_array))\n",
    "\n",
    "score_array = sum(partial_score_arrays)"
   ]
  },
  {
   "cell_type": "code",
   "execution_count": 13,
   "metadata": {},
   "outputs": [
    {
     "data": {
      "application/vnd.jupyter.widget-view+json": {
       "model_id": "ead74d95d3cb4b29a506c746cc05c282",
       "version_major": 2,
       "version_minor": 0
      },
      "text/plain": [
       "HBox(children=(FloatProgress(value=1.0, bar_style='info', max=1.0), HTML(value='')))"
      ]
     },
     "metadata": {},
     "output_type": "display_data"
    },
    {
     "name": "stdout",
     "output_type": "stream",
     "text": [
      "\n"
     ]
    }
   ],
   "source": [
    "results = []\n",
    "\n",
    "for input_papers, scores  in tqdm(zip(test_set, score_array.tolist())):\n",
    "    result = {}\n",
    "    result['input'] = [input_paper['id'] for input_paper in input_papers]\n",
    "    input_paper_ids_set = set(result['input'])\n",
    "    \n",
    "    candidate_scores = list(zip(paper_ids, scores))     \n",
    "    candidate_scores.sort(key=lambda x: x[1], reverse=True)\n",
    "    filtered_candidate_scores = [cs for cs in candidate_scores if cs[0] not in input_paper_ids_set]\n",
    "    \n",
    "    result['output'] = [cs[0] for cs in filtered_candidate_scores[:100]]\n",
    "    results.append(result)"
   ]
  },
  {
   "cell_type": "code",
   "execution_count": 14,
   "metadata": {},
   "outputs": [],
   "source": [
    "with open('./results/triplet_base_node2veccosine_directed.json', 'w') as f:\n",
    "    json.dump(results, f)"
   ]
  },
  {
   "cell_type": "code",
   "execution_count": 12,
   "metadata": {},
   "outputs": [
    {
     "data": {
      "application/vnd.jupyter.widget-view+json": {
       "model_id": "b3e2358984e14a9b8f50f953a60e2c87",
       "version_major": 2,
       "version_minor": 0
      },
      "text/plain": [
       "HBox(children=(FloatProgress(value=0.0, max=3.0), HTML(value='')))"
      ]
     },
     "metadata": {},
     "output_type": "display_data"
    },
    {
     "name": "stdout",
     "output_type": "stream",
     "text": [
      "\n"
     ]
    }
   ],
   "source": [
    "paper_node2vec_array = undirected_paper_node2vec_array\n",
    "\n",
    "partial_score_arrays = []\n",
    "for i in tqdm(range(3)):\n",
    "    partial_input_ids = [input_papers[i]['id'] for input_papers in test_set]\n",
    "    input_node2vec_vectors = [model_undirected.wv[paper_id] for paper_id in partial_input_ids]\n",
    "    \n",
    "    input_node2vec_array = np.vstack(input_node2vec_vectors)\n",
    "\n",
    "    partial_score_arrays.append(cosine_similarity(input_node2vec_array, paper_node2vec_array))\n",
    "\n",
    "score_array = sum(partial_score_arrays)"
   ]
  },
  {
   "cell_type": "code",
   "execution_count": 13,
   "metadata": {},
   "outputs": [
    {
     "data": {
      "application/vnd.jupyter.widget-view+json": {
       "model_id": "3780b5983ed44f21aa653d7d5139cb91",
       "version_major": 2,
       "version_minor": 0
      },
      "text/plain": [
       "HBox(children=(FloatProgress(value=1.0, bar_style='info', max=1.0), HTML(value='')))"
      ]
     },
     "metadata": {},
     "output_type": "display_data"
    },
    {
     "name": "stdout",
     "output_type": "stream",
     "text": [
      "\n"
     ]
    }
   ],
   "source": [
    "results = []\n",
    "\n",
    "for input_papers, scores  in tqdm(zip(test_set, score_array.tolist())):\n",
    "    result = {}\n",
    "    result['input'] = [input_paper['id'] for input_paper in input_papers]\n",
    "    input_paper_ids_set = set(result['input'])\n",
    "    \n",
    "    candidate_scores = list(zip(paper_ids, scores))     \n",
    "    candidate_scores.sort(key=lambda x: x[1], reverse=True)\n",
    "    filtered_candidate_scores = [cs for cs in candidate_scores if cs[0] not in input_paper_ids_set]\n",
    "    \n",
    "    result['output'] = [cs[0] for cs in filtered_candidate_scores[:100]]\n",
    "    results.append(result)"
   ]
  },
  {
   "cell_type": "code",
   "execution_count": 14,
   "metadata": {},
   "outputs": [],
   "source": [
    "with open('./results/triplet_base_node2veccosine_undirected.json', 'w') as f:\n",
    "    json.dump(results, f)"
   ]
  },
  {
   "cell_type": "markdown",
   "metadata": {},
   "source": [
    "# aan_test_tripletfromref.json"
   ]
  },
  {
   "cell_type": "code",
   "execution_count": 16,
   "metadata": {},
   "outputs": [],
   "source": [
    "with open('./data/aan_test_tripletfromref.json') as f:\n",
    "    test_set = json.load(f)"
   ]
  },
  {
   "cell_type": "code",
   "execution_count": 17,
   "metadata": {},
   "outputs": [
    {
     "data": {
      "application/vnd.jupyter.widget-view+json": {
       "model_id": "5dc6b08ea15e4ff68a1e1c9390e667c3",
       "version_major": 2,
       "version_minor": 0
      },
      "text/plain": [
       "HBox(children=(FloatProgress(value=0.0, max=3.0), HTML(value='')))"
      ]
     },
     "metadata": {},
     "output_type": "display_data"
    },
    {
     "name": "stdout",
     "output_type": "stream",
     "text": [
      "\n"
     ]
    }
   ],
   "source": [
    "paper_node2vec_array = directed_paper_node2vec_array\n",
    "\n",
    "partial_score_arrays = []\n",
    "for i in tqdm(range(3)):\n",
    "    partial_input_ids = [input_papers[i]['id'] for input_papers in test_set]\n",
    "    input_node2vec_vectors = [model_directed.wv[paper_id] for paper_id in partial_input_ids]\n",
    "    \n",
    "    input_node2vec_array = np.vstack(input_node2vec_vectors)\n",
    "\n",
    "    partial_score_arrays.append(cosine_similarity(input_node2vec_array, paper_node2vec_array))\n",
    "\n",
    "score_array = sum(partial_score_arrays)"
   ]
  },
  {
   "cell_type": "code",
   "execution_count": 18,
   "metadata": {},
   "outputs": [
    {
     "data": {
      "application/vnd.jupyter.widget-view+json": {
       "model_id": "e6bde013578d47f78a0be2c900d06312",
       "version_major": 2,
       "version_minor": 0
      },
      "text/plain": [
       "HBox(children=(FloatProgress(value=1.0, bar_style='info', max=1.0), HTML(value='')))"
      ]
     },
     "metadata": {},
     "output_type": "display_data"
    },
    {
     "name": "stdout",
     "output_type": "stream",
     "text": [
      "\n"
     ]
    }
   ],
   "source": [
    "results = []\n",
    "\n",
    "for input_papers, scores  in tqdm(zip(test_set, score_array.tolist())):\n",
    "    result = {}\n",
    "    result['input'] = [input_paper['id'] for input_paper in input_papers]\n",
    "    input_paper_ids_set = set(result['input'])\n",
    "    \n",
    "    candidate_scores = list(zip(paper_ids, scores))     \n",
    "    candidate_scores.sort(key=lambda x: x[1], reverse=True)\n",
    "    filtered_candidate_scores = [cs for cs in candidate_scores if cs[0] not in input_paper_ids_set]\n",
    "    \n",
    "    result['output'] = [cs[0] for cs in filtered_candidate_scores[:100]]\n",
    "    results.append(result)"
   ]
  },
  {
   "cell_type": "code",
   "execution_count": 19,
   "metadata": {},
   "outputs": [],
   "source": [
    "with open('./results/tripletfromref_base_node2veccosine_directed.json', 'w') as f:\n",
    "    json.dump(results, f)"
   ]
  },
  {
   "cell_type": "code",
   "execution_count": 20,
   "metadata": {},
   "outputs": [
    {
     "data": {
      "application/vnd.jupyter.widget-view+json": {
       "model_id": "da1eace176a44cfd9d5b1d3977ec178c",
       "version_major": 2,
       "version_minor": 0
      },
      "text/plain": [
       "HBox(children=(FloatProgress(value=0.0, max=3.0), HTML(value='')))"
      ]
     },
     "metadata": {},
     "output_type": "display_data"
    },
    {
     "name": "stdout",
     "output_type": "stream",
     "text": [
      "\n"
     ]
    }
   ],
   "source": [
    "paper_node2vec_array = undirected_paper_node2vec_array\n",
    "\n",
    "partial_score_arrays = []\n",
    "for i in tqdm(range(3)):\n",
    "    partial_input_ids = [input_papers[i]['id'] for input_papers in test_set]\n",
    "    input_node2vec_vectors = [model_undirected.wv[paper_id] for paper_id in partial_input_ids]\n",
    "    \n",
    "    input_node2vec_array = np.vstack(input_node2vec_vectors)\n",
    "\n",
    "    partial_score_arrays.append(cosine_similarity(input_node2vec_array, paper_node2vec_array))\n",
    "\n",
    "score_array = sum(partial_score_arrays)"
   ]
  },
  {
   "cell_type": "code",
   "execution_count": 21,
   "metadata": {},
   "outputs": [
    {
     "data": {
      "application/vnd.jupyter.widget-view+json": {
       "model_id": "eea78b79d9e34be0b7de3d81653e7b98",
       "version_major": 2,
       "version_minor": 0
      },
      "text/plain": [
       "HBox(children=(FloatProgress(value=1.0, bar_style='info', max=1.0), HTML(value='')))"
      ]
     },
     "metadata": {},
     "output_type": "display_data"
    },
    {
     "name": "stdout",
     "output_type": "stream",
     "text": [
      "\n"
     ]
    }
   ],
   "source": [
    "results = []\n",
    "\n",
    "for input_papers, scores  in tqdm(zip(test_set, score_array.tolist())):\n",
    "    result = {}\n",
    "    result['input'] = [input_paper['id'] for input_paper in input_papers]\n",
    "    input_paper_ids_set = set(result['input'])\n",
    "    \n",
    "    candidate_scores = list(zip(paper_ids, scores))     \n",
    "    candidate_scores.sort(key=lambda x: x[1], reverse=True)\n",
    "    filtered_candidate_scores = [cs for cs in candidate_scores if cs[0] not in input_paper_ids_set]\n",
    "    \n",
    "    result['output'] = [cs[0] for cs in filtered_candidate_scores[:100]]\n",
    "    results.append(result)"
   ]
  },
  {
   "cell_type": "code",
   "execution_count": 22,
   "metadata": {},
   "outputs": [],
   "source": [
    "with open('./results/tripletfromref_base_node2veccosine_undirected.json', 'w') as f:\n",
    "    json.dump(results, f)"
   ]
  }
 ],
 "metadata": {
  "kernelspec": {
   "display_name": "Python 3",
   "language": "python",
   "name": "python3"
  },
  "language_info": {
   "codemirror_mode": {
    "name": "ipython",
    "version": 3
   },
   "file_extension": ".py",
   "mimetype": "text/x-python",
   "name": "python",
   "nbconvert_exporter": "python",
   "pygments_lexer": "ipython3",
   "version": "3.7.6"
  }
 },
 "nbformat": 4,
 "nbformat_minor": 4
}
