{
  "nbformat": 4,
  "nbformat_minor": 0,
  "metadata": {
    "colab": {
      "name": "evaloff_stateofart_method11.ipynb",
      "provenance": [],
      "collapsed_sections": []
    },
    "kernelspec": {
      "name": "python3",
      "display_name": "Python 3"
    },
    "widgets": {
      "application/vnd.jupyter.widget-state+json": {
        "b6e9a57543224f63b47b81589628c540": {
          "model_module": "@jupyter-widgets/controls",
          "model_name": "HBoxModel",
          "state": {
            "_view_name": "HBoxView",
            "_dom_classes": [],
            "_model_name": "HBoxModel",
            "_view_module": "@jupyter-widgets/controls",
            "_model_module_version": "1.5.0",
            "_view_count": null,
            "_view_module_version": "1.5.0",
            "box_style": "",
            "layout": "IPY_MODEL_7c825fb6b22142759a96079fb3e583b2",
            "_model_module": "@jupyter-widgets/controls",
            "children": [
              "IPY_MODEL_6c54aa77345e4636a65b792320645daf",
              "IPY_MODEL_e9e95bc5a86147248d9bc9e5b90e59a0"
            ]
          }
        },
        "7c825fb6b22142759a96079fb3e583b2": {
          "model_module": "@jupyter-widgets/base",
          "model_name": "LayoutModel",
          "state": {
            "_view_name": "LayoutView",
            "grid_template_rows": null,
            "right": null,
            "justify_content": null,
            "_view_module": "@jupyter-widgets/base",
            "overflow": null,
            "_model_module_version": "1.2.0",
            "_view_count": null,
            "flex_flow": null,
            "width": null,
            "min_width": null,
            "border": null,
            "align_items": null,
            "bottom": null,
            "_model_module": "@jupyter-widgets/base",
            "top": null,
            "grid_column": null,
            "overflow_y": null,
            "overflow_x": null,
            "grid_auto_flow": null,
            "grid_area": null,
            "grid_template_columns": null,
            "flex": null,
            "_model_name": "LayoutModel",
            "justify_items": null,
            "grid_row": null,
            "max_height": null,
            "align_content": null,
            "visibility": null,
            "align_self": null,
            "height": null,
            "min_height": null,
            "padding": null,
            "grid_auto_rows": null,
            "grid_gap": null,
            "max_width": null,
            "order": null,
            "_view_module_version": "1.2.0",
            "grid_template_areas": null,
            "object_position": null,
            "object_fit": null,
            "grid_auto_columns": null,
            "margin": null,
            "display": null,
            "left": null
          }
        },
        "6c54aa77345e4636a65b792320645daf": {
          "model_module": "@jupyter-widgets/controls",
          "model_name": "IntProgressModel",
          "state": {
            "_view_name": "ProgressView",
            "style": "IPY_MODEL_2545f016525746ed8a3987830805dc3f",
            "_dom_classes": [],
            "description": "100%",
            "_model_name": "IntProgressModel",
            "bar_style": "success",
            "max": 3000,
            "_view_module": "@jupyter-widgets/controls",
            "_model_module_version": "1.5.0",
            "value": 3000,
            "_view_count": null,
            "_view_module_version": "1.5.0",
            "orientation": "horizontal",
            "min": 0,
            "description_tooltip": null,
            "_model_module": "@jupyter-widgets/controls",
            "layout": "IPY_MODEL_d8dd967d978949e7bd81df6b3cbf4c54"
          }
        },
        "e9e95bc5a86147248d9bc9e5b90e59a0": {
          "model_module": "@jupyter-widgets/controls",
          "model_name": "HTMLModel",
          "state": {
            "_view_name": "HTMLView",
            "style": "IPY_MODEL_865cd1eba0fa457083c52f0a6feeb48e",
            "_dom_classes": [],
            "description": "",
            "_model_name": "HTMLModel",
            "placeholder": "​",
            "_view_module": "@jupyter-widgets/controls",
            "_model_module_version": "1.5.0",
            "value": " 3000/3000 [00:45&lt;00:00, 65.24it/s]",
            "_view_count": null,
            "_view_module_version": "1.5.0",
            "description_tooltip": null,
            "_model_module": "@jupyter-widgets/controls",
            "layout": "IPY_MODEL_de7674db01dd49a4af3df13c0858d0a5"
          }
        },
        "2545f016525746ed8a3987830805dc3f": {
          "model_module": "@jupyter-widgets/controls",
          "model_name": "ProgressStyleModel",
          "state": {
            "_view_name": "StyleView",
            "_model_name": "ProgressStyleModel",
            "description_width": "initial",
            "_view_module": "@jupyter-widgets/base",
            "_model_module_version": "1.5.0",
            "_view_count": null,
            "_view_module_version": "1.2.0",
            "bar_color": null,
            "_model_module": "@jupyter-widgets/controls"
          }
        },
        "d8dd967d978949e7bd81df6b3cbf4c54": {
          "model_module": "@jupyter-widgets/base",
          "model_name": "LayoutModel",
          "state": {
            "_view_name": "LayoutView",
            "grid_template_rows": null,
            "right": null,
            "justify_content": null,
            "_view_module": "@jupyter-widgets/base",
            "overflow": null,
            "_model_module_version": "1.2.0",
            "_view_count": null,
            "flex_flow": null,
            "width": null,
            "min_width": null,
            "border": null,
            "align_items": null,
            "bottom": null,
            "_model_module": "@jupyter-widgets/base",
            "top": null,
            "grid_column": null,
            "overflow_y": null,
            "overflow_x": null,
            "grid_auto_flow": null,
            "grid_area": null,
            "grid_template_columns": null,
            "flex": null,
            "_model_name": "LayoutModel",
            "justify_items": null,
            "grid_row": null,
            "max_height": null,
            "align_content": null,
            "visibility": null,
            "align_self": null,
            "height": null,
            "min_height": null,
            "padding": null,
            "grid_auto_rows": null,
            "grid_gap": null,
            "max_width": null,
            "order": null,
            "_view_module_version": "1.2.0",
            "grid_template_areas": null,
            "object_position": null,
            "object_fit": null,
            "grid_auto_columns": null,
            "margin": null,
            "display": null,
            "left": null
          }
        },
        "865cd1eba0fa457083c52f0a6feeb48e": {
          "model_module": "@jupyter-widgets/controls",
          "model_name": "DescriptionStyleModel",
          "state": {
            "_view_name": "StyleView",
            "_model_name": "DescriptionStyleModel",
            "description_width": "",
            "_view_module": "@jupyter-widgets/base",
            "_model_module_version": "1.5.0",
            "_view_count": null,
            "_view_module_version": "1.2.0",
            "_model_module": "@jupyter-widgets/controls"
          }
        },
        "de7674db01dd49a4af3df13c0858d0a5": {
          "model_module": "@jupyter-widgets/base",
          "model_name": "LayoutModel",
          "state": {
            "_view_name": "LayoutView",
            "grid_template_rows": null,
            "right": null,
            "justify_content": null,
            "_view_module": "@jupyter-widgets/base",
            "overflow": null,
            "_model_module_version": "1.2.0",
            "_view_count": null,
            "flex_flow": null,
            "width": null,
            "min_width": null,
            "border": null,
            "align_items": null,
            "bottom": null,
            "_model_module": "@jupyter-widgets/base",
            "top": null,
            "grid_column": null,
            "overflow_y": null,
            "overflow_x": null,
            "grid_auto_flow": null,
            "grid_area": null,
            "grid_template_columns": null,
            "flex": null,
            "_model_name": "LayoutModel",
            "justify_items": null,
            "grid_row": null,
            "max_height": null,
            "align_content": null,
            "visibility": null,
            "align_self": null,
            "height": null,
            "min_height": null,
            "padding": null,
            "grid_auto_rows": null,
            "grid_gap": null,
            "max_width": null,
            "order": null,
            "_view_module_version": "1.2.0",
            "grid_template_areas": null,
            "object_position": null,
            "object_fit": null,
            "grid_auto_columns": null,
            "margin": null,
            "display": null,
            "left": null
          }
        },
        "77d52a8a585b47728a0dd0c35a238217": {
          "model_module": "@jupyter-widgets/controls",
          "model_name": "HBoxModel",
          "state": {
            "_view_name": "HBoxView",
            "_dom_classes": [],
            "_model_name": "HBoxModel",
            "_view_module": "@jupyter-widgets/controls",
            "_model_module_version": "1.5.0",
            "_view_count": null,
            "_view_module_version": "1.5.0",
            "box_style": "",
            "layout": "IPY_MODEL_54975b9968d54d79ba47e53c32211c86",
            "_model_module": "@jupyter-widgets/controls",
            "children": [
              "IPY_MODEL_1346e24e4a2643a8a34c2e9d00107f64",
              "IPY_MODEL_12625a0110db49028eae90af2fe32035"
            ]
          }
        },
        "54975b9968d54d79ba47e53c32211c86": {
          "model_module": "@jupyter-widgets/base",
          "model_name": "LayoutModel",
          "state": {
            "_view_name": "LayoutView",
            "grid_template_rows": null,
            "right": null,
            "justify_content": null,
            "_view_module": "@jupyter-widgets/base",
            "overflow": null,
            "_model_module_version": "1.2.0",
            "_view_count": null,
            "flex_flow": null,
            "width": null,
            "min_width": null,
            "border": null,
            "align_items": null,
            "bottom": null,
            "_model_module": "@jupyter-widgets/base",
            "top": null,
            "grid_column": null,
            "overflow_y": null,
            "overflow_x": null,
            "grid_auto_flow": null,
            "grid_area": null,
            "grid_template_columns": null,
            "flex": null,
            "_model_name": "LayoutModel",
            "justify_items": null,
            "grid_row": null,
            "max_height": null,
            "align_content": null,
            "visibility": null,
            "align_self": null,
            "height": null,
            "min_height": null,
            "padding": null,
            "grid_auto_rows": null,
            "grid_gap": null,
            "max_width": null,
            "order": null,
            "_view_module_version": "1.2.0",
            "grid_template_areas": null,
            "object_position": null,
            "object_fit": null,
            "grid_auto_columns": null,
            "margin": null,
            "display": null,
            "left": null
          }
        },
        "1346e24e4a2643a8a34c2e9d00107f64": {
          "model_module": "@jupyter-widgets/controls",
          "model_name": "IntProgressModel",
          "state": {
            "_view_name": "ProgressView",
            "style": "IPY_MODEL_5b13313031dc439c911e316e8718c198",
            "_dom_classes": [],
            "description": "100%",
            "_model_name": "IntProgressModel",
            "bar_style": "success",
            "max": 3000,
            "_view_module": "@jupyter-widgets/controls",
            "_model_module_version": "1.5.0",
            "value": 3000,
            "_view_count": null,
            "_view_module_version": "1.5.0",
            "orientation": "horizontal",
            "min": 0,
            "description_tooltip": null,
            "_model_module": "@jupyter-widgets/controls",
            "layout": "IPY_MODEL_e9a9daca40c94c55b8949c7c69c80770"
          }
        },
        "12625a0110db49028eae90af2fe32035": {
          "model_module": "@jupyter-widgets/controls",
          "model_name": "HTMLModel",
          "state": {
            "_view_name": "HTMLView",
            "style": "IPY_MODEL_718fd1504eb44cc9aebc10281bd50ca0",
            "_dom_classes": [],
            "description": "",
            "_model_name": "HTMLModel",
            "placeholder": "​",
            "_view_module": "@jupyter-widgets/controls",
            "_model_module_version": "1.5.0",
            "value": " 3000/3000 [00:01&lt;00:00, 2522.08it/s]",
            "_view_count": null,
            "_view_module_version": "1.5.0",
            "description_tooltip": null,
            "_model_module": "@jupyter-widgets/controls",
            "layout": "IPY_MODEL_bb40d32d97844c1b98e0816718b707f8"
          }
        },
        "5b13313031dc439c911e316e8718c198": {
          "model_module": "@jupyter-widgets/controls",
          "model_name": "ProgressStyleModel",
          "state": {
            "_view_name": "StyleView",
            "_model_name": "ProgressStyleModel",
            "description_width": "initial",
            "_view_module": "@jupyter-widgets/base",
            "_model_module_version": "1.5.0",
            "_view_count": null,
            "_view_module_version": "1.2.0",
            "bar_color": null,
            "_model_module": "@jupyter-widgets/controls"
          }
        },
        "e9a9daca40c94c55b8949c7c69c80770": {
          "model_module": "@jupyter-widgets/base",
          "model_name": "LayoutModel",
          "state": {
            "_view_name": "LayoutView",
            "grid_template_rows": null,
            "right": null,
            "justify_content": null,
            "_view_module": "@jupyter-widgets/base",
            "overflow": null,
            "_model_module_version": "1.2.0",
            "_view_count": null,
            "flex_flow": null,
            "width": null,
            "min_width": null,
            "border": null,
            "align_items": null,
            "bottom": null,
            "_model_module": "@jupyter-widgets/base",
            "top": null,
            "grid_column": null,
            "overflow_y": null,
            "overflow_x": null,
            "grid_auto_flow": null,
            "grid_area": null,
            "grid_template_columns": null,
            "flex": null,
            "_model_name": "LayoutModel",
            "justify_items": null,
            "grid_row": null,
            "max_height": null,
            "align_content": null,
            "visibility": null,
            "align_self": null,
            "height": null,
            "min_height": null,
            "padding": null,
            "grid_auto_rows": null,
            "grid_gap": null,
            "max_width": null,
            "order": null,
            "_view_module_version": "1.2.0",
            "grid_template_areas": null,
            "object_position": null,
            "object_fit": null,
            "grid_auto_columns": null,
            "margin": null,
            "display": null,
            "left": null
          }
        },
        "718fd1504eb44cc9aebc10281bd50ca0": {
          "model_module": "@jupyter-widgets/controls",
          "model_name": "DescriptionStyleModel",
          "state": {
            "_view_name": "StyleView",
            "_model_name": "DescriptionStyleModel",
            "description_width": "",
            "_view_module": "@jupyter-widgets/base",
            "_model_module_version": "1.5.0",
            "_view_count": null,
            "_view_module_version": "1.2.0",
            "_model_module": "@jupyter-widgets/controls"
          }
        },
        "bb40d32d97844c1b98e0816718b707f8": {
          "model_module": "@jupyter-widgets/base",
          "model_name": "LayoutModel",
          "state": {
            "_view_name": "LayoutView",
            "grid_template_rows": null,
            "right": null,
            "justify_content": null,
            "_view_module": "@jupyter-widgets/base",
            "overflow": null,
            "_model_module_version": "1.2.0",
            "_view_count": null,
            "flex_flow": null,
            "width": null,
            "min_width": null,
            "border": null,
            "align_items": null,
            "bottom": null,
            "_model_module": "@jupyter-widgets/base",
            "top": null,
            "grid_column": null,
            "overflow_y": null,
            "overflow_x": null,
            "grid_auto_flow": null,
            "grid_area": null,
            "grid_template_columns": null,
            "flex": null,
            "_model_name": "LayoutModel",
            "justify_items": null,
            "grid_row": null,
            "max_height": null,
            "align_content": null,
            "visibility": null,
            "align_self": null,
            "height": null,
            "min_height": null,
            "padding": null,
            "grid_auto_rows": null,
            "grid_gap": null,
            "max_width": null,
            "order": null,
            "_view_module_version": "1.2.0",
            "grid_template_areas": null,
            "object_position": null,
            "object_fit": null,
            "grid_auto_columns": null,
            "margin": null,
            "display": null,
            "left": null
          }
        },
        "461072f524354bb29bec1b9a9e871e56": {
          "model_module": "@jupyter-widgets/controls",
          "model_name": "HBoxModel",
          "state": {
            "_view_name": "HBoxView",
            "_dom_classes": [],
            "_model_name": "HBoxModel",
            "_view_module": "@jupyter-widgets/controls",
            "_model_module_version": "1.5.0",
            "_view_count": null,
            "_view_module_version": "1.5.0",
            "box_style": "",
            "layout": "IPY_MODEL_c938b945f34f4dfdaae112bb26beb157",
            "_model_module": "@jupyter-widgets/controls",
            "children": [
              "IPY_MODEL_b8fe0073cea8465dab889ea4785ec663",
              "IPY_MODEL_40616bd27fd643828f85a2f8d44a3f6b"
            ]
          }
        },
        "c938b945f34f4dfdaae112bb26beb157": {
          "model_module": "@jupyter-widgets/base",
          "model_name": "LayoutModel",
          "state": {
            "_view_name": "LayoutView",
            "grid_template_rows": null,
            "right": null,
            "justify_content": null,
            "_view_module": "@jupyter-widgets/base",
            "overflow": null,
            "_model_module_version": "1.2.0",
            "_view_count": null,
            "flex_flow": null,
            "width": null,
            "min_width": null,
            "border": null,
            "align_items": null,
            "bottom": null,
            "_model_module": "@jupyter-widgets/base",
            "top": null,
            "grid_column": null,
            "overflow_y": null,
            "overflow_x": null,
            "grid_auto_flow": null,
            "grid_area": null,
            "grid_template_columns": null,
            "flex": null,
            "_model_name": "LayoutModel",
            "justify_items": null,
            "grid_row": null,
            "max_height": null,
            "align_content": null,
            "visibility": null,
            "align_self": null,
            "height": null,
            "min_height": null,
            "padding": null,
            "grid_auto_rows": null,
            "grid_gap": null,
            "max_width": null,
            "order": null,
            "_view_module_version": "1.2.0",
            "grid_template_areas": null,
            "object_position": null,
            "object_fit": null,
            "grid_auto_columns": null,
            "margin": null,
            "display": null,
            "left": null
          }
        },
        "b8fe0073cea8465dab889ea4785ec663": {
          "model_module": "@jupyter-widgets/controls",
          "model_name": "IntProgressModel",
          "state": {
            "_view_name": "ProgressView",
            "style": "IPY_MODEL_1f4e91a843704e7c806443cc2c29c639",
            "_dom_classes": [],
            "description": "100%",
            "_model_name": "IntProgressModel",
            "bar_style": "success",
            "max": 3000,
            "_view_module": "@jupyter-widgets/controls",
            "_model_module_version": "1.5.0",
            "value": 3000,
            "_view_count": null,
            "_view_module_version": "1.5.0",
            "orientation": "horizontal",
            "min": 0,
            "description_tooltip": null,
            "_model_module": "@jupyter-widgets/controls",
            "layout": "IPY_MODEL_b84f5ea764d1462893b72b3b3d6aa885"
          }
        },
        "40616bd27fd643828f85a2f8d44a3f6b": {
          "model_module": "@jupyter-widgets/controls",
          "model_name": "HTMLModel",
          "state": {
            "_view_name": "HTMLView",
            "style": "IPY_MODEL_a5322a50dea44ca09739815b04499cab",
            "_dom_classes": [],
            "description": "",
            "_model_name": "HTMLModel",
            "placeholder": "​",
            "_view_module": "@jupyter-widgets/controls",
            "_model_module_version": "1.5.0",
            "value": " 3000/3000 [00:00&lt;00:00, 6679.27it/s]",
            "_view_count": null,
            "_view_module_version": "1.5.0",
            "description_tooltip": null,
            "_model_module": "@jupyter-widgets/controls",
            "layout": "IPY_MODEL_40b8f81494b44c0b9b307364fd47f120"
          }
        },
        "1f4e91a843704e7c806443cc2c29c639": {
          "model_module": "@jupyter-widgets/controls",
          "model_name": "ProgressStyleModel",
          "state": {
            "_view_name": "StyleView",
            "_model_name": "ProgressStyleModel",
            "description_width": "initial",
            "_view_module": "@jupyter-widgets/base",
            "_model_module_version": "1.5.0",
            "_view_count": null,
            "_view_module_version": "1.2.0",
            "bar_color": null,
            "_model_module": "@jupyter-widgets/controls"
          }
        },
        "b84f5ea764d1462893b72b3b3d6aa885": {
          "model_module": "@jupyter-widgets/base",
          "model_name": "LayoutModel",
          "state": {
            "_view_name": "LayoutView",
            "grid_template_rows": null,
            "right": null,
            "justify_content": null,
            "_view_module": "@jupyter-widgets/base",
            "overflow": null,
            "_model_module_version": "1.2.0",
            "_view_count": null,
            "flex_flow": null,
            "width": null,
            "min_width": null,
            "border": null,
            "align_items": null,
            "bottom": null,
            "_model_module": "@jupyter-widgets/base",
            "top": null,
            "grid_column": null,
            "overflow_y": null,
            "overflow_x": null,
            "grid_auto_flow": null,
            "grid_area": null,
            "grid_template_columns": null,
            "flex": null,
            "_model_name": "LayoutModel",
            "justify_items": null,
            "grid_row": null,
            "max_height": null,
            "align_content": null,
            "visibility": null,
            "align_self": null,
            "height": null,
            "min_height": null,
            "padding": null,
            "grid_auto_rows": null,
            "grid_gap": null,
            "max_width": null,
            "order": null,
            "_view_module_version": "1.2.0",
            "grid_template_areas": null,
            "object_position": null,
            "object_fit": null,
            "grid_auto_columns": null,
            "margin": null,
            "display": null,
            "left": null
          }
        },
        "a5322a50dea44ca09739815b04499cab": {
          "model_module": "@jupyter-widgets/controls",
          "model_name": "DescriptionStyleModel",
          "state": {
            "_view_name": "StyleView",
            "_model_name": "DescriptionStyleModel",
            "description_width": "",
            "_view_module": "@jupyter-widgets/base",
            "_model_module_version": "1.5.0",
            "_view_count": null,
            "_view_module_version": "1.2.0",
            "_model_module": "@jupyter-widgets/controls"
          }
        },
        "40b8f81494b44c0b9b307364fd47f120": {
          "model_module": "@jupyter-widgets/base",
          "model_name": "LayoutModel",
          "state": {
            "_view_name": "LayoutView",
            "grid_template_rows": null,
            "right": null,
            "justify_content": null,
            "_view_module": "@jupyter-widgets/base",
            "overflow": null,
            "_model_module_version": "1.2.0",
            "_view_count": null,
            "flex_flow": null,
            "width": null,
            "min_width": null,
            "border": null,
            "align_items": null,
            "bottom": null,
            "_model_module": "@jupyter-widgets/base",
            "top": null,
            "grid_column": null,
            "overflow_y": null,
            "overflow_x": null,
            "grid_auto_flow": null,
            "grid_area": null,
            "grid_template_columns": null,
            "flex": null,
            "_model_name": "LayoutModel",
            "justify_items": null,
            "grid_row": null,
            "max_height": null,
            "align_content": null,
            "visibility": null,
            "align_self": null,
            "height": null,
            "min_height": null,
            "padding": null,
            "grid_auto_rows": null,
            "grid_gap": null,
            "max_width": null,
            "order": null,
            "_view_module_version": "1.2.0",
            "grid_template_areas": null,
            "object_position": null,
            "object_fit": null,
            "grid_auto_columns": null,
            "margin": null,
            "display": null,
            "left": null
          }
        }
      }
    }
  },
  "cells": [
    {
      "cell_type": "code",
      "metadata": {
        "id": "Deqyp60bV6DE",
        "colab_type": "code",
        "outputId": "2cdbb542-5b35-4baf-e22c-a7e286b635c2",
        "colab": {
          "base_uri": "https://localhost:8080/",
          "height": 35
        }
      },
      "source": [
        "# Done with Google Colab\n",
        "!pip install infomap"
      ],
      "execution_count": 40,
      "outputs": [
        {
          "output_type": "stream",
          "text": [
            "Requirement already satisfied: infomap in /usr/local/lib/python3.6/dist-packages (1.1.2)\n"
          ],
          "name": "stdout"
        }
      ]
    },
    {
      "cell_type": "code",
      "metadata": {
        "id": "kknAgvQXV-V1",
        "colab_type": "code",
        "colab": {}
      },
      "source": [
        "%%capture\n",
        "import json\n",
        "import numpy as np\n",
        "import networkx as nx\n",
        "from sklearn.preprocessing import normalize\n",
        "import infomap\n",
        "from tqdm.notebook import tqdm\n",
        "import random"
      ],
      "execution_count": 0,
      "outputs": []
    },
    {
      "cell_type": "code",
      "metadata": {
        "id": "rfJJrgZMWE70",
        "colab_type": "code",
        "outputId": "f916bb01-9d00-4687-ef8f-c62c6a8676cb",
        "colab": {
          "base_uri": "https://localhost:8080/",
          "height": 35
        }
      },
      "source": [
        "with open('aan_full.json') as f:\n",
        "  full_set = json.load(f)\n",
        "\n",
        "len(full_set)"
      ],
      "execution_count": 42,
      "outputs": [
        {
          "output_type": "execute_result",
          "data": {
            "text/plain": [
              "15366"
            ]
          },
          "metadata": {
            "tags": []
          },
          "execution_count": 42
        }
      ]
    },
    {
      "cell_type": "code",
      "metadata": {
        "id": "kDFEJZ8kWFC_",
        "colab_type": "code",
        "colab": {}
      },
      "source": [
        "# create citation network\n",
        "citation_graph = nx.DiGraph()\n",
        "nodes_set = set()\n",
        "for paper in full_set:\n",
        "    nodes_set.update(paper['references'])\n",
        "    nodes_set.update(paper['citations'])\n",
        "    for ref_id in paper['references']:\n",
        "        citation_graph.add_edge(paper['id'], ref_id)\n",
        "    for cit_id in paper['citations']:\n",
        "        citation_graph.add_edge(cit_id, paper['id'])\n",
        "        \n",
        "nodelist = citation_graph.nodes()"
      ],
      "execution_count": 0,
      "outputs": []
    },
    {
      "cell_type": "code",
      "metadata": {
        "id": "pKmo_jUrZdwm",
        "colab_type": "code",
        "colab": {}
      },
      "source": [
        "# compute ALEF scores and rank nodes\n",
        "Z = nx.adjacency_matrix(citation_graph)\n",
        "w = (Z + Z.transpose()).sum(axis=1)\n",
        "H = normalize(Z, norm='l1', axis=1)\n",
        "ALEF = len(citation_graph) * H.transpose() * w / (H.transpose() * w).sum()\n",
        "\n",
        "ALEF_score_tuples = [(node, score) for node, score in zip(nodelist, ALEF.tolist())]\n",
        "ALEF_score_tuples.sort(key=lambda e:e[1])\n",
        "ranked_nodes = [e[0] for e in ALEF_score_tuples]\n",
        "rank_dict = dict([(node, i) for i, node in enumerate(ranked_nodes, start=1)])\n",
        "reversed_rank_dict = dict(enumerate(ranked_nodes, start=1))"
      ],
      "execution_count": 0,
      "outputs": []
    },
    {
      "cell_type": "code",
      "metadata": {
        "id": "rblcV0PbZhwv",
        "colab_type": "code",
        "outputId": "8b5e64f7-a132-4132-c263-04d5c685f8c3",
        "colab": {
          "base_uri": "https://localhost:8080/",
          "height": 72
        }
      },
      "source": [
        "# hierarchically cluster nodes (see https://www.mapequation.org/ and infomap package)\n",
        "# source : https://github.com/mapequation/infomap/blob/master/examples/python/infomap-networkx.py\n",
        "\n",
        "im = infomap.Infomap(\"--two-level\")\n",
        "\n",
        "print(\"Building Infomap network from a NetworkX graph...\")\n",
        "for source, target in citation_graph.edges:\n",
        "    im.add_link(rank_dict[source], rank_dict[target])\n",
        "\n",
        "print(\"Find communities with Infomap...\")\n",
        "im.run()\n",
        "\n",
        "print(f\"Found {im.num_top_modules} modules with codelength: {im.codelength}\")\n",
        "\n",
        "com_lvl1 = im.get_modules(depth_level=1)\n",
        "com_lvl2 = im.get_modules(depth_level=2)\n",
        "com_lvl1_dict = dict([(reversed_rank_dict[rank], community) for rank, community in com_lvl1.items()])\n",
        "com_lvl2_dict = dict([(reversed_rank_dict[rank], community) for rank, community in com_lvl2.items()])"
      ],
      "execution_count": 62,
      "outputs": [
        {
          "output_type": "stream",
          "text": [
            "Building Infomap network from a NetworkX graph...\n",
            "Find communities with Infomap...\n",
            "Found 495 modules with codelength: 10.337280777367477\n"
          ],
          "name": "stdout"
        }
      ]
    },
    {
      "cell_type": "code",
      "metadata": {
        "id": "6VSZ4pOjke3q",
        "colab_type": "code",
        "colab": {
          "base_uri": "https://localhost:8080/",
          "height": 54
        },
        "outputId": "59d1a1b8-2e00-46b4-95cf-fdd845473a80"
      },
      "source": [
        "reversed_com_lvl1_dic = {}\n",
        "for node, community in com_lvl1_dict.items():\n",
        "    if community in reversed_com_lvl1_dic:\n",
        "        reversed_com_lvl1_dic[community].append(node)\n",
        "    else:\n",
        "        reversed_com_lvl1_dic[community] = [node]\n",
        "\n",
        "reversed_com_lvl2_dic = {}\n",
        "for node, community in com_lvl2_dict.items():\n",
        "    if community in reversed_com_lvl2_dic:\n",
        "        reversed_com_lvl2_dic[community].append(node)\n",
        "    else:\n",
        "        reversed_com_lvl2_dic[community] = [node]\n",
        "\n",
        "print('nb communities of lvl 1:', str(len(reversed_com_lvl1_dic)))\n",
        "print('nb communities of lvl 2:', str(len(reversed_com_lvl2_dic)))"
      ],
      "execution_count": 80,
      "outputs": [
        {
          "output_type": "stream",
          "text": [
            "nb communities of lvl 1: 495\n",
            "nb communities of lvl 2: 1\n"
          ],
          "name": "stdout"
        }
      ]
    },
    {
      "cell_type": "code",
      "metadata": {
        "id": "ZuwFtmTMgAGw",
        "colab_type": "code",
        "colab": {}
      },
      "source": [
        "# compute recommandations\n",
        "def compute_recs(input_papers, com_dict, reversed_com_dict, rank_dict, limit, serendipity_mode):\n",
        "    input_paper_ids = set([paper['id'] for paper in input_papers])\n",
        "    candidate_communities = set()\n",
        "    for input_paper_id in input_paper_ids:\n",
        "        candidate_communities.add(com_dict[input_paper_id])\n",
        "\n",
        "    candidate_papers = set()\n",
        "    for community in candidate_communities:\n",
        "        candidate_papers.update(reversed_com_dict[community])\n",
        "\n",
        "    limit = min(limit, len(candidate_papers))\n",
        "\n",
        "    if serendipity_mode:\n",
        "        return random.sample(candidate_papers, limit)\n",
        "    else:  \n",
        "        candidate_scores = [(paper_id, rank_dict[paper_id]) for paper_id in candidate_papers if paper_id not in input_paper_ids]\n",
        "        candidate_scores.sort(key=lambda e: e[1], reverse=True)\n",
        "\n",
        "        return [e[0] for e in candidate_scores[:limit]]"
      ],
      "execution_count": 0,
      "outputs": []
    },
    {
      "cell_type": "code",
      "metadata": {
        "id": "__m6boqplMvy",
        "colab_type": "code",
        "colab": {}
      },
      "source": [
        "with open('./aan_test_tripletfromref.json') as f:\n",
        "    test_set = json.load(f)"
      ],
      "execution_count": 0,
      "outputs": []
    },
    {
      "cell_type": "code",
      "metadata": {
        "id": "5DJEzumckAdD",
        "colab_type": "code",
        "colab": {
          "base_uri": "https://localhost:8080/",
          "height": 67,
          "referenced_widgets": [
            "b6e9a57543224f63b47b81589628c540",
            "7c825fb6b22142759a96079fb3e583b2",
            "6c54aa77345e4636a65b792320645daf",
            "e9e95bc5a86147248d9bc9e5b90e59a0",
            "2545f016525746ed8a3987830805dc3f",
            "d8dd967d978949e7bd81df6b3cbf4c54",
            "865cd1eba0fa457083c52f0a6feeb48e",
            "de7674db01dd49a4af3df13c0858d0a5"
          ]
        },
        "outputId": "22b8064c-1596-4c89-a66a-103958126768"
      },
      "source": [
        "# classic mode\n",
        "results = []\n",
        "\n",
        "for input_papers in tqdm(test_set):\n",
        "    result = {}\n",
        "    result['input'] = [input_paper['id'] for input_paper in input_papers]    \n",
        "    result['output'] = compute_recs(input_papers, com_lvl2_dict, reversed_com_lvl2_dic, rank_dict, 100, False)\n",
        "    results.append(result)\n",
        "\n",
        "with open('./tripletfromref_stateofart_method11_classic.json', 'w') as f:\n",
        "    json.dump(results, f)"
      ],
      "execution_count": 76,
      "outputs": [
        {
          "output_type": "display_data",
          "data": {
            "application/vnd.jupyter.widget-view+json": {
              "model_id": "b6e9a57543224f63b47b81589628c540",
              "version_minor": 0,
              "version_major": 2
            },
            "text/plain": [
              "HBox(children=(IntProgress(value=0, max=3000), HTML(value='')))"
            ]
          },
          "metadata": {
            "tags": []
          }
        },
        {
          "output_type": "stream",
          "text": [
            "\n"
          ],
          "name": "stdout"
        }
      ]
    },
    {
      "cell_type": "code",
      "metadata": {
        "id": "ISlZwuFbkAlc",
        "colab_type": "code",
        "colab": {
          "base_uri": "https://localhost:8080/",
          "height": 67,
          "referenced_widgets": [
            "77d52a8a585b47728a0dd0c35a238217",
            "54975b9968d54d79ba47e53c32211c86",
            "1346e24e4a2643a8a34c2e9d00107f64",
            "12625a0110db49028eae90af2fe32035",
            "5b13313031dc439c911e316e8718c198",
            "e9a9daca40c94c55b8949c7c69c80770",
            "718fd1504eb44cc9aebc10281bd50ca0",
            "bb40d32d97844c1b98e0816718b707f8"
          ]
        },
        "outputId": "9e5879b8-be11-4e53-8d1b-ff9e0baebb1a"
      },
      "source": [
        "# expert mode\n",
        "results = []\n",
        "\n",
        "for input_papers in tqdm(test_set):\n",
        "    result = {}\n",
        "    result['input'] = [input_paper['id'] for input_paper in input_papers]    \n",
        "    result['output'] = compute_recs(input_papers, com_lvl1_dict, reversed_com_lvl1_dic, rank_dict, 100, False)\n",
        "    results.append(result)\n",
        "\n",
        "with open('./tripletfromref_stateofart_method11_expert.json', 'w') as f:\n",
        "    json.dump(results, f)"
      ],
      "execution_count": 77,
      "outputs": [
        {
          "output_type": "display_data",
          "data": {
            "application/vnd.jupyter.widget-view+json": {
              "model_id": "77d52a8a585b47728a0dd0c35a238217",
              "version_minor": 0,
              "version_major": 2
            },
            "text/plain": [
              "HBox(children=(IntProgress(value=0, max=3000), HTML(value='')))"
            ]
          },
          "metadata": {
            "tags": []
          }
        },
        {
          "output_type": "stream",
          "text": [
            "\n"
          ],
          "name": "stdout"
        }
      ]
    },
    {
      "cell_type": "code",
      "metadata": {
        "id": "WOJ8ZTCgoF_Z",
        "colab_type": "code",
        "colab": {
          "base_uri": "https://localhost:8080/",
          "height": 67,
          "referenced_widgets": [
            "461072f524354bb29bec1b9a9e871e56",
            "c938b945f34f4dfdaae112bb26beb157",
            "b8fe0073cea8465dab889ea4785ec663",
            "40616bd27fd643828f85a2f8d44a3f6b",
            "1f4e91a843704e7c806443cc2c29c639",
            "b84f5ea764d1462893b72b3b3d6aa885",
            "a5322a50dea44ca09739815b04499cab",
            "40b8f81494b44c0b9b307364fd47f120"
          ]
        },
        "outputId": "d8fc5de9-dfe7-4627-ff56-71a503a3cbc2"
      },
      "source": [
        "# serendipity mode\n",
        "results = []\n",
        "random.seed(42)\n",
        "\n",
        "for input_papers in tqdm(test_set):\n",
        "    result = {}\n",
        "    result['input'] = [input_paper['id'] for input_paper in input_papers]    \n",
        "    result['output'] = compute_recs(input_papers, com_lvl1_dict, reversed_com_lvl1_dic, rank_dict, 100, True)\n",
        "    results.append(result)\n",
        "\n",
        "with open('./tripletfromref_stateofart_method11_serendipity.json', 'w') as f:\n",
        "    json.dump(results, f)"
      ],
      "execution_count": 78,
      "outputs": [
        {
          "output_type": "display_data",
          "data": {
            "application/vnd.jupyter.widget-view+json": {
              "model_id": "461072f524354bb29bec1b9a9e871e56",
              "version_minor": 0,
              "version_major": 2
            },
            "text/plain": [
              "HBox(children=(IntProgress(value=0, max=3000), HTML(value='')))"
            ]
          },
          "metadata": {
            "tags": []
          }
        },
        {
          "output_type": "stream",
          "text": [
            "\n"
          ],
          "name": "stdout"
        }
      ]
    }
  ]
}