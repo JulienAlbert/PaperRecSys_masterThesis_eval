{
 "cells": [
  {
   "cell_type": "code",
   "execution_count": 1,
   "metadata": {},
   "outputs": [],
   "source": [
    "import json\n",
    "import csv\n",
    "import os\n",
    "from neo4j import GraphDatabase\n",
    "import psycopg2\n",
    "from elasticsearch import Elasticsearch, helpers\n",
    "from tqdm.notebook import tqdm\n",
    "import time"
   ]
  },
  {
   "cell_type": "code",
   "execution_count": 4,
   "metadata": {},
   "outputs": [],
   "source": [
    "dblp_dataset_dir_path = \"./datasets/dblp-aminer_v12/\"\n",
    "author_path = dblp_dataset_dir_path + \"author.json\"\n",
    "fos_path = dblp_dataset_dir_path + \"fos.json\"\n",
    "venue_path = dblp_dataset_dir_path + \"venue.json\"\n",
    "paper_author_path = dblp_dataset_dir_path + \"paper_author.json\"\n",
    "paper_fos_path = dblp_dataset_dir_path + \"paper_fos.json\"\n",
    "paper_paths = [dblp_dataset_dir_path + f for f in os.listdir(dblp_dataset_dir_path) if 'chunk' in f]\n",
    "dataset_path = dblp_dataset_dir_path + \"dblp.v12.json\"\n",
    "paper_paper_path = dblp_dataset_dir_path + \"paper_paper.json\"\n",
    "N_RECORDS = 4894081"
   ]
  },
  {
   "cell_type": "markdown",
   "metadata": {},
   "source": [
    "# Loading data into Neo4J"
   ]
  },
  {
   "cell_type": "code",
   "execution_count": 3,
   "metadata": {},
   "outputs": [
    {
     "data": {
      "application/vnd.jupyter.widget-view+json": {
       "model_id": "0c57006425e743d38ffe8205cf18d1b3",
       "version_major": 2,
       "version_minor": 0
      },
      "text/plain": [
       "HBox(children=(FloatProgress(value=0.0, max=45564149.0), HTML(value='')))"
      ]
     },
     "metadata": {},
     "output_type": "display_data"
    },
    {
     "name": "stdout",
     "output_type": "stream",
     "text": [
      "\n"
     ]
    },
    {
     "data": {
      "application/vnd.jupyter.widget-view+json": {
       "model_id": "ff47e16982a0463bb4630fe59a0b5db9",
       "version_major": 2,
       "version_minor": 0
      },
      "text/plain": [
       "HBox(children=(FloatProgress(value=0.0, max=4146772.0), HTML(value='')))"
      ]
     },
     "metadata": {},
     "output_type": "display_data"
    },
    {
     "name": "stdout",
     "output_type": "stream",
     "text": [
      "\n"
     ]
    }
   ],
   "source": [
    "with open(paper_paper_path) as file:\n",
    "    paper_ref_paper = json.load(file)\n",
    "\n",
    "paper_ids = set()\n",
    "    \n",
    "with open(dblp_dataset_dir_path + 'edges.csv', 'w') as csv_file:\n",
    "    writer = csv.writer(csv_file)\n",
    "    for paper_id, ref_paper_id in tqdm(paper_ref_paper):\n",
    "        paper_ids.add(paper_id)\n",
    "        paper_ids.add(ref_paper_id)\n",
    "        writer.writerow([paper_id, ref_paper_id])\n",
    "        \n",
    "with open(dblp_dataset_dir_path + 'nodes.csv','w') as csv_file:\n",
    "    writer = csv.writer(csv_file)\n",
    "    for paper_id in tqdm(paper_ids):\n",
    "        writer.writerow([paper_id])"
   ]
  },
  {
   "cell_type": "code",
   "execution_count": 4,
   "metadata": {},
   "outputs": [
    {
     "name": "stdout",
     "output_type": "stream",
     "text": [
      "Nb nodes : 4146772\n",
      "Nb edges : 45564149\n"
     ]
    }
   ],
   "source": [
    "print(\"Nb nodes :\", len(paper_ids))\n",
    "print(\"Nb edges :\", len(paper_ref_paper))"
   ]
  },
  {
   "cell_type": "code",
   "execution_count": 6,
   "metadata": {},
   "outputs": [],
   "source": [
    "driver = GraphDatabase.driver(\"bolt://localhost:7687\",\n",
    "                              auth=(\"neo4j\", \"dblp_v12\"),\n",
    "                              encrypted=False)"
   ]
  },
  {
   "cell_type": "code",
   "execution_count": 7,
   "metadata": {},
   "outputs": [],
   "source": [
    "with driver.session() as session:\n",
    "    session.run(\"CREATE CONSTRAINT ON (n:Paper) ASSERT n.paper_id IS UNIQUE\")\n",
    "    session.run(\"CREATE CONSTRAINT ON (n:Paper) ASSERT EXISTS (n.paper_id)\")"
   ]
  },
  {
   "cell_type": "code",
   "execution_count": 8,
   "metadata": {},
   "outputs": [],
   "source": [
    "# loading nodes\n",
    "with driver.session() as session:\n",
    "    session.run(\"\"\"USING PERIODIC COMMIT 1000 \n",
    "                LOAD CSV FROM 'file:///nodes.csv' AS row \n",
    "                MERGE (n:Paper {paper_id: toInteger(row[0])})\"\"\")"
   ]
  },
  {
   "cell_type": "code",
   "execution_count": 9,
   "metadata": {},
   "outputs": [],
   "source": [
    "# loading edges\n",
    "with driver.session() as session:\n",
    "    session.run(\"\"\"USING PERIODIC COMMIT 1000 \n",
    "                LOAD CSV FROM 'file:///edges.csv' AS row \n",
    "                MATCH (paper:Paper {paper_id: toInteger(row[0])}), (ref_paper:Paper {paper_id: toInteger(row[1])}) \n",
    "                USING INDEX paper:Paper(paper_id) \n",
    "                USING INDEX ref_paper:Paper(paper_id) \n",
    "                MERGE (paper)-[:CITES]->(ref_paper)\"\"\")"
   ]
  },
  {
   "cell_type": "code",
   "execution_count": 10,
   "metadata": {},
   "outputs": [
    {
     "name": "stdout",
     "output_type": "stream",
     "text": [
      "Nb nodes : [<Record COUNT(n)=4146772>]\n",
      "Nb edges : [<Record COUNT(e)=45564149>]\n"
     ]
    }
   ],
   "source": [
    "with driver.session() as session:\n",
    "    print(\"Nb nodes :\",list(session.run(\"MATCH (n) RETURN COUNT(n)\").records()))\n",
    "    print(\"Nb edges :\",list(session.run(\"MATCH ()-[e]->() RETURN COUNT(e)\").records()))"
   ]
  },
  {
   "cell_type": "markdown",
   "metadata": {},
   "source": [
    "# Loading data into PostgreSQL"
   ]
  },
  {
   "cell_type": "code",
   "execution_count": 22,
   "metadata": {},
   "outputs": [],
   "source": [
    "connection = psycopg2.connect(host=\"localhost\",port=5432, database=\"dblp_v12\", \n",
    "                              user=\"dblp_v12\", password=\"dblp_v12\")\n",
    "\n",
    "cursor = connection.cursor()"
   ]
  },
  {
   "cell_type": "code",
   "execution_count": 10,
   "metadata": {},
   "outputs": [
    {
     "data": {
      "application/vnd.jupyter.widget-view+json": {
       "model_id": "d2b756a6865642a1b2dcd56d499b3ce6",
       "version_major": 2,
       "version_minor": 0
      },
      "text/plain": [
       "HBox(children=(FloatProgress(value=0.0, max=4398138.0), HTML(value='')))"
      ]
     },
     "metadata": {},
     "output_type": "display_data"
    },
    {
     "name": "stdout",
     "output_type": "stream",
     "text": [
      "{'name': 'Zhe-Yu Wang', 'org': 'D:Sourav2019\\x004_APRIL\\x001.04.2019IEEE\\x00001547_Rakhi_O_Rakhi_r_Sourav, National Central University, Taiwan', 'id': 2939411041}\n",
      "\n"
     ]
    }
   ],
   "source": [
    "# Author\n",
    "cursor.execute(\"\"\"DROP TABLE IF EXISTS author\"\"\")\n",
    "\n",
    "cursor.execute(\"\"\"CREATE TABLE author(\n",
    "                id BIGINT PRIMARY KEY,\n",
    "                name TEXT NOT NULL,\n",
    "                org TEXT);\"\"\")\n",
    "\n",
    "connection.commit()\n",
    "\n",
    "with open(author_path) as file:\n",
    "    for author in tqdm(json.load(file).values()):\n",
    "        if 'org' not in author or not author['org']:\n",
    "            author['org'] = None\n",
    "        try:\n",
    "            cursor.execute(\"\"\"INSERT INTO author (id, name, org)\n",
    "                          VALUES (%(id)s, %(name)s, %(org)s)\"\"\",\n",
    "                       {'id': author['id'],\n",
    "                        'name': author['name'],\n",
    "                        'org': author['org']})\n",
    "        except:\n",
    "            print(author)\n",
    "\n",
    "connection.commit()"
   ]
  },
  {
   "cell_type": "code",
   "execution_count": 11,
   "metadata": {},
   "outputs": [],
   "source": [
    "cursor.execute(\"\"\"INSERT INTO author (id, name, org)\n",
    "                  VALUES (2939411041, 'Zhe-Yu Wang', 'National Central University, Taiwan')\"\"\")\n",
    "\n",
    "connection.commit()"
   ]
  },
  {
   "cell_type": "code",
   "execution_count": 8,
   "metadata": {},
   "outputs": [
    {
     "data": {
      "application/vnd.jupyter.widget-view+json": {
       "model_id": "d5cfcf0e0eba47b1a0e894bfc4fcb7c8",
       "version_major": 2,
       "version_minor": 0
      },
      "text/plain": [
       "HBox(children=(FloatProgress(value=0.0, max=132337.0), HTML(value='')))"
      ]
     },
     "metadata": {},
     "output_type": "display_data"
    },
    {
     "name": "stdout",
     "output_type": "stream",
     "text": [
      "\n"
     ]
    }
   ],
   "source": [
    "# Fos\n",
    "cursor.execute(\"\"\"DROP TABLE IF EXISTS fos\"\"\")\n",
    "\n",
    "cursor.execute(\"\"\"CREATE TABLE fos(\n",
    "                id BIGINT PRIMARY KEY,\n",
    "                name TEXT NOT NULL);\"\"\")\n",
    "\n",
    "connection.commit()\n",
    "\n",
    "with open(fos_path) as file:\n",
    "    for fos_id, fos_name in tqdm(json.load(file).items()):\n",
    "        cursor.execute(\"\"\"INSERT INTO fos (id, name)\n",
    "                          VALUES (%(id)s, %(name)s)\"\"\",\n",
    "                       {'id': fos_id,\n",
    "                        'name': fos_name})\n",
    "\n",
    "connection.commit()"
   ]
  },
  {
   "cell_type": "code",
   "execution_count": 9,
   "metadata": {},
   "outputs": [
    {
     "data": {
      "application/vnd.jupyter.widget-view+json": {
       "model_id": "651280e2f6ab46daa0ac2f8bcc92a94e",
       "version_major": 2,
       "version_minor": 0
      },
      "text/plain": [
       "HBox(children=(FloatProgress(value=0.0, max=48740.0), HTML(value='')))"
      ]
     },
     "metadata": {},
     "output_type": "display_data"
    },
    {
     "name": "stdout",
     "output_type": "stream",
     "text": [
      "\n"
     ]
    }
   ],
   "source": [
    "# Venue\n",
    "cursor.execute(\"\"\"DROP TABLE IF EXISTS venue\"\"\")\n",
    "\n",
    "cursor.execute(\"\"\"CREATE TABLE venue(\n",
    "                id BIGINT PRIMARY KEY,\n",
    "                name TEXT NOT NULL,\n",
    "                type TEXT);\"\"\")\n",
    "\n",
    "connection.commit()\n",
    "\n",
    "with open(venue_path) as file:\n",
    "    for venue in tqdm(json.load(file).values()):\n",
    "        if 'type' not in venue or not venue['type']:\n",
    "            venue['type'] = None\n",
    "        cursor.execute(\"\"\"INSERT INTO venue (id, name, type)\n",
    "                          VALUES (%(id)s, %(name)s, %(type)s)\"\"\",\n",
    "                       {'id': venue['id'],\n",
    "                        'name': venue['raw'],\n",
    "                        'type': venue['type']})\n",
    "\n",
    "connection.commit()"
   ]
  },
  {
   "cell_type": "code",
   "execution_count": 9,
   "metadata": {},
   "outputs": [
    {
     "data": {
      "application/vnd.jupyter.widget-view+json": {
       "model_id": "78aafd08cca0470e807220352e8d4f77",
       "version_major": 2,
       "version_minor": 0
      },
      "text/plain": [
       "HBox(children=(FloatProgress(value=0.0, max=5.0), HTML(value='')))"
      ]
     },
     "metadata": {},
     "output_type": "display_data"
    },
    {
     "name": "stdout",
     "output_type": "stream",
     "text": [
      "\n"
     ]
    }
   ],
   "source": [
    "# Paper\n",
    "cursor.execute(\"\"\"DROP TABLE IF EXISTS paper\"\"\")\n",
    "\n",
    "cursor.execute(\"\"\"CREATE TABLE paper(\n",
    "                id BIGINT PRIMARY KEY,\n",
    "                title TEXT NOT NULL,\n",
    "                venue_id BIGINT REFERENCES venue(venue_id),\n",
    "                year INTEGER,\n",
    "                n_citation INTEGER,\n",
    "                page_start TEXT,\n",
    "                page_end TEXT,\n",
    "                doc_type TEXT,\n",
    "                publisher TEXT,\n",
    "                volume TEXT,\n",
    "                issue TEXT,\n",
    "                doi TEXT,\n",
    "                abstract TEXT);\"\"\")\n",
    "\n",
    "connection.commit()\n",
    "\n",
    "for path in tqdm(paper_paths):\n",
    "    with open(path) as file:\n",
    "        for paper in tqdm(json.load(file)):\n",
    "            if 'venue_id' not in paper:\n",
    "                paper['venue_id'] = None\n",
    "            if 'year' not in paper:\n",
    "                paper['year'] = None\n",
    "            if 'n_citation' not in paper:\n",
    "                paper['n_citation'] = None\n",
    "            if 'page_start' not in paper:\n",
    "                paper['page_start'] = None\n",
    "            if 'page_end' not in paper:\n",
    "                paper['page_end'] = None\n",
    "            if 'doc_type' not in paper:\n",
    "                paper['doc_type'] = None\n",
    "            if 'publisher' not in paper:\n",
    "                paper['publisher'] = None\n",
    "            if 'volume' not in paper:\n",
    "                paper['volume'] = None\n",
    "            if 'issue' not in paper:\n",
    "                paper['issue'] = None\n",
    "            if 'doi' not in paper:\n",
    "                paper['doi'] = None\n",
    "            if 'abstract' not in paper:\n",
    "                paper['abstract'] = None        \n",
    "            \n",
    "\n",
    "            cursor.execute(\"\"\"INSERT INTO paper (id, title, venue_id, year, n_citation, page_start, \n",
    "                              page_end, doc_type, publisher, volume, issue, doi, abstract) VALUES \n",
    "                              (%(id)s, %(title)s, %(venue_id)s, %(year)s, %(n_citation)s, %(page_start)s,\n",
    "                               %(page_end)s, %(doc_type)s, %(publisher)s, %(volume)s, %(issue)s, %(doi)s, %(abstract)s)\"\"\",\n",
    "                           {'id': paper['id'],\n",
    "                            'title': paper['title'],\n",
    "                            'venue_id': paper['venue_id'],\n",
    "                            'year': paper['year'],\n",
    "                            'n_citation': paper['n_citation'],\n",
    "                            'page_start': paper['page_start'],\n",
    "                            'page_end': paper['page_end'],\n",
    "                            'doc_type': paper['doc_type'],\n",
    "                            'publisher': paper['publisher'],\n",
    "                            'volume': paper['volume'],\n",
    "                            'issue': paper['issue'],\n",
    "                            'doi': paper['doi'],\n",
    "                            'abstract': paper['abstract']})\n",
    "\n",
    "        \n",
    "        connection.commit()"
   ]
  },
  {
   "cell_type": "code",
   "execution_count": 13,
   "metadata": {},
   "outputs": [
    {
     "data": {
      "application/vnd.jupyter.widget-view+json": {
       "model_id": "b6c8bb7b1ab842fa9fc2de10aaf204cd",
       "version_major": 2,
       "version_minor": 0
      },
      "text/plain": [
       "HBox(children=(FloatProgress(value=0.0, max=14934850.0), HTML(value='')))"
      ]
     },
     "metadata": {},
     "output_type": "display_data"
    },
    {
     "name": "stdout",
     "output_type": "stream",
     "text": [
      "\n"
     ]
    }
   ],
   "source": [
    "# PaperAuthor\n",
    "cursor.execute(\"\"\"DROP TABLE IF EXISTS paper_author\"\"\")\n",
    "\n",
    "cursor.execute(\"\"\"CREATE TABLE paper_author(\n",
    "                paper_id BIGINT NOT NULL,\n",
    "                author_id BIGINT NOT NULL,\n",
    "                PRIMARY KEY (paper_id, author_id));\"\"\")\n",
    "\n",
    "connection.commit()\n",
    "\n",
    "with open(paper_author_path) as file:\n",
    "    for paper_id, author_id in tqdm(json.load(file)):\n",
    "        cursor.execute(\"\"\"INSERT INTO paper_author (paper_id, author_id)\n",
    "                          VALUES (%(paper_id)s, %(author_id)s)\"\"\",\n",
    "                       {'paper_id': paper_id,\n",
    "                        'author_id': author_id})\n",
    "\n",
    "connection.commit()"
   ]
  },
  {
   "cell_type": "code",
   "execution_count": 15,
   "metadata": {},
   "outputs": [],
   "source": [
    "cursor.execute(\"\"\"ALTER TABLE paper_author\n",
    "                  ADD FOREIGN KEY (paper_id) REFERENCES paper(paper_id)\"\"\")\n",
    "\n",
    "cursor.execute(\"\"\"ALTER TABLE paper_author\n",
    "                  ADD FOREIGN KEY (author_id) REFERENCES author(author_id)\"\"\")\n",
    "\n",
    "connection.commit()"
   ]
  },
  {
   "cell_type": "code",
   "execution_count": 17,
   "metadata": {},
   "outputs": [
    {
     "data": {
      "application/vnd.jupyter.widget-view+json": {
       "model_id": "4e5278fb3a294d32abe5786875271d5f",
       "version_major": 2,
       "version_minor": 0
      },
      "text/plain": [
       "HBox(children=(FloatProgress(value=0.0, max=44987427.0), HTML(value='')))"
      ]
     },
     "metadata": {},
     "output_type": "display_data"
    },
    {
     "name": "stdout",
     "output_type": "stream",
     "text": [
      "\n"
     ]
    }
   ],
   "source": [
    "# PaperFos\n",
    "cursor.execute(\"\"\"DROP TABLE IF EXISTS paper_fos\"\"\")\n",
    "\n",
    "cursor.execute(\"\"\"CREATE TABLE paper_fos(\n",
    "                paper_id BIGINT NOT NULL,\n",
    "                fos_id BIGINT NOT NULL,\n",
    "                PRIMARY KEY (paper_id, fos_id));\"\"\")\n",
    "\n",
    "connection.commit()\n",
    "\n",
    "with open(paper_fos_path) as file:\n",
    "    for paper_id, fos_id in tqdm(json.load(file)):\n",
    "        cursor.execute(\"\"\"INSERT INTO paper_fos (paper_id, fos_id)\n",
    "                          VALUES (%(paper_id)s, %(fos_id)s)\"\"\",\n",
    "                       {'paper_id': paper_id,\n",
    "                        'fos_id': fos_id})\n",
    "\n",
    "connection.commit()"
   ]
  },
  {
   "cell_type": "code",
   "execution_count": 18,
   "metadata": {},
   "outputs": [],
   "source": [
    "cursor.execute(\"\"\"ALTER TABLE paper_fos\n",
    "                  ADD FOREIGN KEY (paper_id) REFERENCES paper(paper_id)\"\"\")\n",
    "\n",
    "cursor.execute(\"\"\"ALTER TABLE paper_fos\n",
    "                  ADD FOREIGN KEY (fos_id) REFERENCES fos(fos_id)\"\"\")\n",
    "\n",
    "connection.commit()"
   ]
  },
  {
   "cell_type": "code",
   "execution_count": 20,
   "metadata": {},
   "outputs": [
    {
     "data": {
      "application/vnd.jupyter.widget-view+json": {
       "model_id": "f53cde35d9ae428e8f745c85275112b5",
       "version_major": 2,
       "version_minor": 0
      },
      "text/plain": [
       "HBox(children=(FloatProgress(value=0.0, max=45564149.0), HTML(value='')))"
      ]
     },
     "metadata": {},
     "output_type": "display_data"
    },
    {
     "name": "stdout",
     "output_type": "stream",
     "text": [
      "\n"
     ]
    }
   ],
   "source": [
    "# PaperPaper\n",
    "cursor.execute(\"\"\"DROP TABLE IF EXISTS paper_ref_paper\"\"\")\n",
    "\n",
    "cursor.execute(\"\"\"CREATE TABLE paper_ref_paper(\n",
    "                paper_id BIGINT NOT NULL,\n",
    "                ref_paper_id BIGINT NOT NULL,\n",
    "                PRIMARY KEY (paper_id, ref_paper_id));\"\"\")\n",
    "\n",
    "connection.commit()\n",
    "\n",
    "with open(paper_paper_path) as file:\n",
    "    for paper_id, ref_paper_id in tqdm(json.load(file)):\n",
    "        cursor.execute(\"\"\"INSERT INTO paper_ref_paper (paper_id, ref_paper_id)\n",
    "                          VALUES (%(paper_id)s, %(ref_paper_id)s)\"\"\",\n",
    "                       {'paper_id': paper_id,\n",
    "                        'ref_paper_id': ref_paper_id})\n",
    "\n",
    "connection.commit()"
   ]
  },
  {
   "cell_type": "code",
   "execution_count": 21,
   "metadata": {},
   "outputs": [],
   "source": [
    "cursor.execute(\"\"\"ALTER TABLE paper_ref_paper\n",
    "                  ADD FOREIGN KEY (paper_id) REFERENCES paper(paper_id)\"\"\")\n",
    "\n",
    "cursor.execute(\"\"\"ALTER TABLE paper_ref_paper\n",
    "                  ADD FOREIGN KEY (ref_paper_id) REFERENCES paper(paper_id)\"\"\")\n",
    "\n",
    "connection.commit()"
   ]
  },
  {
   "cell_type": "code",
   "execution_count": 23,
   "metadata": {},
   "outputs": [
    {
     "data": {
      "application/vnd.jupyter.widget-view+json": {
       "model_id": "e1fc20665df045dfa365b785e03c570f",
       "version_major": 2,
       "version_minor": 0
      },
      "text/plain": [
       "HBox(children=(FloatProgress(value=0.0, max=4894081.0), HTML(value='')))"
      ]
     },
     "metadata": {},
     "output_type": "display_data"
    },
    {
     "name": "stdout",
     "output_type": "stream",
     "text": [
      "\n"
     ]
    },
    {
     "data": {
      "application/vnd.jupyter.widget-view+json": {
       "model_id": "e0a3b3fdf2b94e9caa9284afc0f8a558",
       "version_major": 2,
       "version_minor": 0
      },
      "text/plain": [
       "HBox(children=(FloatProgress(value=0.0, max=3087508.0), HTML(value='')))"
      ]
     },
     "metadata": {},
     "output_type": "display_data"
    },
    {
     "name": "stdout",
     "output_type": "stream",
     "text": [
      "\n"
     ]
    }
   ],
   "source": [
    "# add references and citations list to paper table\n",
    "# cursor.execute(\"ALTER TABLE paper ADD COLUMN reference_ids TEXT, ADD COLUMN citation_ids TEXT\")\n",
    "\n",
    "# connection.commit()\n",
    "\n",
    "citation_dict = {}\n",
    "\n",
    "with open(dataset_path) as file:\n",
    "    file.readline() # skip first line\n",
    "    for _ in tqdm(range(N_RECORDS)):\n",
    "        line = file.readline()\n",
    "        try:\n",
    "            record = json.loads(line[1:])\n",
    "        except:\n",
    "            record = json.loads(line)\n",
    "            \n",
    "        if 'references' in record:\n",
    "            cursor.execute(\"UPDATE paper SET reference_ids = %s WHERE id = %s \",\n",
    "                          (json.dumps(record['references']), record['id']))\n",
    "            \n",
    "            for ref_id in record['references']:\n",
    "                if ref_id in citation_dict:\n",
    "                    citation_dict[ref_id].append(record['id'])\n",
    "                else:\n",
    "                    citation_dict[ref_id] = [record['id']]\n",
    "        \n",
    "    connection.commit()\n",
    "        \n",
    "for paper_id, citing_paper_ids in tqdm(citation_dict.items()):\n",
    "    cursor.execute(\"UPDATE paper SET citation_ids = %s WHERE id = %s \",\n",
    "                   (json.dumps(citing_paper_ids), paper_id))\n",
    "    \n",
    "connection.commit()"
   ]
  },
  {
   "cell_type": "code",
   "execution_count": 22,
   "metadata": {},
   "outputs": [],
   "source": [
    "cursor.close()\n",
    "connection.close()"
   ]
  },
  {
   "cell_type": "markdown",
   "metadata": {},
   "source": [
    "# Loading data into ElasticSearch"
   ]
  },
  {
   "cell_type": "code",
   "execution_count": 3,
   "metadata": {},
   "outputs": [],
   "source": [
    "es=Elasticsearch([{'host':'localhost', 'port':9200}])"
   ]
  },
  {
   "cell_type": "code",
   "execution_count": 4,
   "metadata": {},
   "outputs": [
    {
     "data": {
      "text/plain": [
       "{'acknowledged': True}"
      ]
     },
     "execution_count": 4,
     "metadata": {},
     "output_type": "execute_result"
    }
   ],
   "source": [
    "es.indices.delete(index='dblp_v12', ignore=[400, 404])"
   ]
  },
  {
   "cell_type": "code",
   "execution_count": 5,
   "metadata": {},
   "outputs": [
    {
     "data": {
      "text/plain": [
       "{'acknowledged': True, 'shards_acknowledged': True, 'index': 'dblp_v12'}"
      ]
     },
     "execution_count": 5,
     "metadata": {},
     "output_type": "execute_result"
    }
   ],
   "source": [
    "settings = {\n",
    "        \"settings\": {\n",
    "            \"number_of_shards\": 1,\n",
    "            \"number_of_replicas\": 0\n",
    "        },\n",
    "}\n",
    "\n",
    "es.indices.create(index='dblp_v12', ignore=[400, 404], body=settings)"
   ]
  },
  {
   "cell_type": "code",
   "execution_count": 6,
   "metadata": {},
   "outputs": [],
   "source": [
    "def reconstruct_abstract(inverted_index):    \n",
    "    index = {}\n",
    "    for word, list_of_pos in inverted_index.items():\n",
    "        for pos in list_of_pos:\n",
    "            index[pos] = word\n",
    "    \n",
    "    abstract_list = []\n",
    "    for _, word in sorted(index.items(), key=lambda t: t[0]):\n",
    "        abstract_list.append(word)\n",
    "    \n",
    "    return \" \".join(abstract_list)"
   ]
  },
  {
   "cell_type": "code",
   "execution_count": 7,
   "metadata": {},
   "outputs": [
    {
     "data": {
      "application/vnd.jupyter.widget-view+json": {
       "model_id": "9d583576dac04a7eb414a8326cde1b87",
       "version_major": 2,
       "version_minor": 0
      },
      "text/plain": [
       "HBox(children=(FloatProgress(value=0.0, max=4894081.0), HTML(value='')))"
      ]
     },
     "metadata": {},
     "output_type": "display_data"
    },
    {
     "name": "stdout",
     "output_type": "stream",
     "text": [
      "\n"
     ]
    }
   ],
   "source": [
    "with open(dataset_path) as file:\n",
    "    bulk = []\n",
    "    file.readline() # skip first line\n",
    "    \n",
    "    for _ in tqdm(range(4894081)): # n_papers\n",
    "        line = file.readline()\n",
    "        try:\n",
    "            paper = json.loads(line[1:])\n",
    "        except:\n",
    "            paper = json.loads(line)\n",
    "            \n",
    "        formatted_paper = {} \n",
    "        formatted_paper['paper_id'] = paper['id']\n",
    "        formatted_paper['title'] = paper['title']\n",
    "\n",
    "        if 'indexed_abstract' in paper:\n",
    "            indexed_abstract = paper.pop('indexed_abstract')\n",
    "            formatted_paper['abstract'] = reconstruct_abstract(indexed_abstract['InvertedIndex'])\n",
    "        else:\n",
    "            formatted_paper['abstract'] = ''\n",
    "            \n",
    "        if 'fos' in paper:\n",
    "            formatted_paper['fos'] = \", \".join([fos['name'] for fos in paper['fos']])\n",
    "        else:\n",
    "            formatted_paper['fos'] = ''\n",
    "            \n",
    "        formatted_paper['doi'] = paper.pop('doi', '')\n",
    "            \n",
    "        bulk.append(formatted_paper)\n",
    "\n",
    "        if len(bulk) > 5000:\n",
    "            helpers.bulk(es, bulk, index='dblp_v12', doc_type='paper')\n",
    "            bulk = []\n",
    "                \n",
    "    if bulk:\n",
    "        helpers.bulk(es, bulk, index='dblp_v12', doc_type='paper')"
   ]
  },
  {
   "cell_type": "code",
   "execution_count": 8,
   "metadata": {},
   "outputs": [
    {
     "data": {
      "text/plain": [
       "[{'epoch': '1587563044', 'timestamp': '13:44:04', 'count': '4894081'}]"
      ]
     },
     "execution_count": 8,
     "metadata": {},
     "output_type": "execute_result"
    }
   ],
   "source": [
    "es.indices.refresh('dblp_v12')\n",
    "es.cat.count('dblp_v12', params={\"format\": \"json\"})"
   ]
  }
 ],
 "metadata": {
  "kernelspec": {
   "display_name": "Python 3",
   "language": "python",
   "name": "python3"
  },
  "language_info": {
   "codemirror_mode": {
    "name": "ipython",
    "version": 3
   },
   "file_extension": ".py",
   "mimetype": "text/x-python",
   "name": "python",
   "nbconvert_exporter": "python",
   "pygments_lexer": "ipython3",
   "version": "3.7.6"
  }
 },
 "nbformat": 4,
 "nbformat_minor": 4
}
