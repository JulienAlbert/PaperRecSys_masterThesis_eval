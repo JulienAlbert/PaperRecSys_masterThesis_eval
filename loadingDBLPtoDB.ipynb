{
 "cells": [
  {
   "cell_type": "markdown",
   "metadata": {},
   "source": [
    "# Loading data into Neo4J"
   ]
  },
  {
   "cell_type": "code",
   "execution_count": 32,
   "metadata": {},
   "outputs": [],
   "source": [
    "import json\n",
    "import csv\n",
    "import os\n",
    "from neo4j import GraphDatabase\n",
    "import psycopg2\n",
    "from elasticsearch import Elasticsearch, helpers\n",
    "from tqdm.notebook import tqdm"
   ]
  },
  {
   "cell_type": "code",
   "execution_count": 5,
   "metadata": {},
   "outputs": [],
   "source": [
    "dblp_dataset_dir_path = \"./datasets/dblp-aminer/\"\n",
    "chunkfiles = [f for f in os.listdir(dblp_dataset_dir_path) if 'chunk' in f]"
   ]
  },
  {
   "cell_type": "code",
   "execution_count": 15,
   "metadata": {},
   "outputs": [],
   "source": [
    "# nb records : 2 945 030\n",
    "# nb edges :  29 882 572"
   ]
  },
  {
   "cell_type": "markdown",
   "metadata": {},
   "source": [
    "# Loading data into Neo4J"
   ]
  },
  {
   "cell_type": "code",
   "execution_count": 52,
   "metadata": {},
   "outputs": [
    {
     "data": {
      "application/vnd.jupyter.widget-view+json": {
       "model_id": "b252ab44e61947eb897d1cf8e72bcc7f",
       "version_major": 2,
       "version_minor": 0
      },
      "text/plain": [
       "HBox(children=(FloatProgress(value=0.0, max=30.0), HTML(value='')))"
      ]
     },
     "metadata": {},
     "output_type": "display_data"
    },
    {
     "name": "stdout",
     "output_type": "stream",
     "text": [
      "\n"
     ]
    }
   ],
   "source": [
    "with open('./datasets/dblp-aminer/nodes.csv','w') as csv_file:\n",
    "    writer = csv.writer(csv_file)\n",
    "    for filename in tqdm(chunkfiles):\n",
    "        with open(dblp_dataset_dir_path + filename) as file:\n",
    "            for paper in json.load(file):\n",
    "                writer.writerow([paper['id']])"
   ]
  },
  {
   "cell_type": "code",
   "execution_count": 53,
   "metadata": {},
   "outputs": [
    {
     "data": {
      "application/vnd.jupyter.widget-view+json": {
       "model_id": "de4f44f8a2e848eda87346673d51dbde",
       "version_major": 2,
       "version_minor": 0
      },
      "text/plain": [
       "HBox(children=(FloatProgress(value=0.0, max=30.0), HTML(value='')))"
      ]
     },
     "metadata": {},
     "output_type": "display_data"
    },
    {
     "name": "stdout",
     "output_type": "stream",
     "text": [
      "\n"
     ]
    }
   ],
   "source": [
    "with open('./datasets/dblp-aminer/edges.csv', 'w') as csv_file:\n",
    "    writer = csv.writer(csv_file)\n",
    "    for filename in tqdm(chunkfiles):\n",
    "        with open(dblp_dataset_dir_path + filename) as file:\n",
    "            for paper in json.load(file):\n",
    "                if 'references' in paper:\n",
    "                    for ref_id in paper['references']:\n",
    "                        writer.writerow([paper['id'],ref_id])"
   ]
  },
  {
   "cell_type": "code",
   "execution_count": 47,
   "metadata": {},
   "outputs": [],
   "source": [
    "driver = GraphDatabase.driver(\"bolt://localhost:7687\",\n",
    "                              auth=(\"neo4j\", \"DBLP\"),\n",
    "                              encrypted=False)"
   ]
  },
  {
   "cell_type": "code",
   "execution_count": null,
   "metadata": {},
   "outputs": [],
   "source": [
    "# fields : 'abstract', 'authors', 'id', 'references', 'citations',\n",
    "#          'title', 'venue', 'year'"
   ]
  },
  {
   "cell_type": "code",
   "execution_count": 32,
   "metadata": {},
   "outputs": [],
   "source": [
    "with driver.session() as session:\n",
    "    session.run(\"CREATE CONSTRAINT ON (n:Reference) ASSERT n.ref_id IS UNIQUE\")"
   ]
  },
  {
   "cell_type": "code",
   "execution_count": 35,
   "metadata": {},
   "outputs": [],
   "source": [
    "# loading nodes\n",
    "with driver.session() as session:\n",
    "    session.run(\"USING PERIODIC COMMIT 1000 \"\n",
    "                \"LOAD CSV FROM 'file:///nodes.csv' AS row \"\n",
    "                \"MERGE (r:Reference {ref_id: row[0]})\")"
   ]
  },
  {
   "cell_type": "code",
   "execution_count": 54,
   "metadata": {},
   "outputs": [],
   "source": [
    "# loading edges\n",
    "with driver.session() as session:\n",
    "    session.run(\"USING PERIODIC COMMIT 1000 \"\n",
    "                \"LOAD CSV FROM 'file:///edges.csv' AS row \"\n",
    "                \"MATCH (paper:Reference {ref_id: row[0]}) \"\n",
    "                \"MATCH (ref:Reference {ref_id: row[1]})\"\n",
    "                \"MERGE (paper)-[:CITES]->(ref)\")"
   ]
  },
  {
   "cell_type": "code",
   "execution_count": 55,
   "metadata": {},
   "outputs": [
    {
     "name": "stdout",
     "output_type": "stream",
     "text": [
      "Nb nodes : [<Record COUNT(n)=2945030>]\n",
      "Nb nodes : [<Record COUNT(e)=29882572>]\n"
     ]
    }
   ],
   "source": [
    "with driver.session() as session:\n",
    "    print(\"Nb nodes :\",list(session.run(\"MATCH (n) RETURN COUNT(n)\").records()))\n",
    "    print(\"Nb nodes :\",list(session.run(\"MATCH ()-[e]->() RETURN COUNT(e)\").records()))"
   ]
  },
  {
   "cell_type": "code",
   "execution_count": 58,
   "metadata": {},
   "outputs": [],
   "source": [
    "with driver.session() as session:    \n",
    "    session.run(\"CALL gds.graph.create('citations','Reference','CITES')\")\n",
    "    session.run(\"CALL gds.graph.create('undirected_citations','Reference', \"\n",
    "                \"{ CITES: { orientation: 'UNDIRECTED' }})\")"
   ]
  },
  {
   "cell_type": "code",
   "execution_count": 59,
   "metadata": {},
   "outputs": [
    {
     "name": "stdout",
     "output_type": "stream",
     "text": [
      "<Record ref_id='40093513' score=0.15000000000000002>\n",
      "<Record ref_id='2165612380' score=0.042570962326877536>\n",
      "<Record ref_id='2122789628' score=0.04250041559268914>\n",
      "<Record ref_id='2030458294' score=0.04250000063329935>\n",
      "<Record ref_id='1513168562' score=0.011022120268567314>\n",
      "<Record ref_id='1823507963' score=0.009368800681400516>\n",
      "<Record ref_id='2010595692' score=0.009031250094994945>\n",
      "<Record ref_id='2061310592' score=0.009031250094994916>\n",
      "<Record ref_id='2141608913' score=0.009031250094994902>\n",
      "<Record ref_id='2002649781' score=0.008633138489629275>\n",
      "<Record ref_id='2119275489' score=0.007676562620326876>\n",
      "<Record ref_id='2062261404' score=0.007597741042285985>\n",
      "<Record ref_id='2049947953' score=0.0069055840850304325>\n",
      "<Record ref_id='2047499522' score=0.006646211070258297>\n",
      "<Record ref_id='1543852490' score=0.006525078346021473>\n",
      "<Record ref_id='2067936680' score=0.005548500839884685>\n",
      "<Record ref_id='2111869173' score=0.005347006299399047>\n",
      "<Record ref_id='2029406036' score=0.004858876659870506>\n",
      "<Record ref_id='2163887589' score=0.0043418728572014835>\n",
      "<Record ref_id='2074023317' score=0.003911624777081481>\n",
      "<Record ref_id='1998512182' score=0.003643518029936744>\n",
      "<Record ref_id='1524668325' score=0.0036187208887583882>\n",
      "<Record ref_id='2110810394' score=0.0032740786565972372>\n",
      "<Record ref_id='2039601877' score=0.0031464471228516908>\n",
      "<Record ref_id='2149708428' score=0.0029845695963359527>\n",
      "<Record ref_id='1994070582' score=0.002953679736711867>\n",
      "<Record ref_id='2097835057' score=0.002952356555691932>\n",
      "<Record ref_id='1807563377' score=0.0027186334903740784>\n",
      "<Record ref_id='2048841336' score=0.002709523450349257>\n",
      "<Record ref_id='2035032881' score=0.0026970836198548973>\n",
      "<Record ref_id='2032614093' score=0.0026561869101037745>\n",
      "<Record ref_id='2162881047' score=0.0026237688445849444>\n",
      "<Record ref_id='2116436709' score=0.0024546380061583966>\n",
      "<Record ref_id='1566656512' score=0.0023778688176222915>\n",
      "<Record ref_id='2001746380' score=0.0023442839629098837>\n",
      "<Record ref_id='2079399699' score=0.0021837952046463633>\n",
      "<Record ref_id='2162068127' score=0.002177580790603706>\n",
      "<Record ref_id='2023065712' score=0.0020814756623110373>\n",
      "<Record ref_id='2125223317' score=0.0020665122508613373>\n",
      "<Record ref_id='2133384222' score=0.002028162667215805>\n",
      "<Record ref_id='2011308078' score=0.0020279436359677172>\n",
      "<Record ref_id='2103219113' score=0.0020233066905570476>\n",
      "<Record ref_id='2003017562' score=0.002010388469206385>\n",
      "<Record ref_id='1968915456' score=0.0020072494658693388>\n",
      "<Record ref_id='2032386524' score=0.002006983406476946>\n",
      "<Record ref_id='2139238107' score=0.0020069749970172755>\n",
      "<Record ref_id='1801613017' score=0.0020069640375278658>\n",
      "<Record ref_id='2010888474' score=0.0019908701735724126>\n",
      "<Record ref_id='2012056301' score=0.00177734031792043>\n",
      "<Record ref_id='2083605078' score=0.0017032761669642325>\n",
      "<Record ref_id='1998425621' score=0.0016533903884496674>\n",
      "<Record ref_id='1986949946' score=0.001562213843052449>\n",
      "<Record ref_id='1984565341' score=0.0015457694197813713>\n",
      "<Record ref_id='2095396650' score=0.001535915674812034>\n",
      "<Record ref_id='2043351574' score=0.0015357489604482769>\n",
      "<Record ref_id='2066193647' score=0.0015353125636465967>\n",
      "<Record ref_id='2054801208' score=0.0014685684737858473>\n",
      "<Record ref_id='1967435718' score=0.0014532142503950293>\n",
      "<Record ref_id='2158419171' score=0.0014477846935901457>\n",
      "<Record ref_id='2023663289' score=0.001425908141386703>\n",
      "<Record ref_id='2024200923' score=0.0013968243049218162>\n",
      "<Record ref_id='2022843269' score=0.0013313429921621058>\n",
      "<Record ref_id='1977420943' score=0.0013268522395937772>\n",
      "<Record ref_id='1978405212' score=0.0013160306851607501>\n",
      "<Record ref_id='151770326' score=0.0013053885553590552>\n",
      "<Record ref_id='2104880663' score=0.0012821695996280457>\n",
      "<Record ref_id='2118910370' score=0.0012509360325279164>\n",
      "<Record ref_id='2010933775' score=0.0012378585129429584>\n",
      "<Record ref_id='2091173319' score=0.001167038647540884>\n",
      "<Record ref_id='2062235741' score=0.0011652295296157532>\n",
      "<Record ref_id='2077207253' score=0.0011033133924965024>\n",
      "<Record ref_id='2165467455' score=0.0009589732619235567>\n",
      "<Record ref_id='2054179835' score=0.0009347937780231026>\n",
      "<Record ref_id='1971234755' score=0.0009339626550473657>\n",
      "<Record ref_id='1500643282' score=0.0009311188726534084>\n",
      "<Record ref_id='1973644634' score=0.0009266892979002101>\n",
      "<Record ref_id='2013012235' score=0.0009258730008926017>\n",
      "<Record ref_id='2156076209' score=0.0008547705013515137>\n",
      "<Record ref_id='2066792529' score=0.0008437163194793557>\n",
      "<Record ref_id='2053725099' score=0.0008260099790001816>\n",
      "<Record ref_id='72151562' score=0.0008177918401795726>\n",
      "<Record ref_id='1966699200' score=0.0008123175724503594>\n",
      "<Record ref_id='2043571746' score=0.0007998422878659025>\n",
      "<Record ref_id='2041280856' score=0.000791338821665643>\n",
      "<Record ref_id='2033261979' score=0.0007911314811530428>\n",
      "<Record ref_id='1980577298' score=0.0007702786940911033>\n",
      "<Record ref_id='2071546952' score=0.0007375646635047757>\n",
      "<Record ref_id='1994559819' score=0.0007333095729925943>\n",
      "<Record ref_id='2008819433' score=0.0007258326223332148>\n",
      "<Record ref_id='2113849656' score=0.0006975034711942304>\n",
      "<Record ref_id='2112962394' score=0.0006872553138065236>\n",
      "<Record ref_id='1578914801' score=0.0006805208252470827>\n",
      "<Record ref_id='1659143126' score=0.0006739907656254444>\n",
      "<Record ref_id='1540894358' score=0.0006641866659334126>\n",
      "<Record ref_id='2038765730' score=0.000641290588983642>\n",
      "<Record ref_id='1647770672' score=0.0006388807936238942>\n",
      "<Record ref_id='2128677044' score=0.0006071922646490751>\n",
      "<Record ref_id='2085832100' score=0.0005971938325814743>\n",
      "<Record ref_id='2085089824' score=0.0005920067339979031>\n",
      "<Record ref_id='2161160885' score=0.0005877233793283959>\n"
     ]
    }
   ],
   "source": [
    "###### run Personalized PageRank\n",
    "with driver.session() as session:  \n",
    "   results = session.run(\"MATCH (ref:Reference {ref_id: '40093513'}) \"\n",
    "                           \"CALL gds.pageRank.stream('citations', { \"\n",
    "                           \"maxIterations: 20, \"\n",
    "                           \"dampingFactor: 0.85, \"\n",
    "                           \"sourceNodes: [ref]}) \"\n",
    "                           \"YIELD nodeId, score \"\n",
    "                           \"RETURN gds.util.asNode(nodeId).ref_id AS ref_id, score \"\n",
    "                           \"ORDER BY score DESC, ref ASC LIMIT 100\").records()\n",
    "\n",
    "for result in results:\n",
    "    print(result)"
   ]
  },
  {
   "cell_type": "code",
   "execution_count": 60,
   "metadata": {},
   "outputs": [
    {
     "name": "stdout",
     "output_type": "stream",
     "text": [
      "<Record ref_id='40093513' score=0.15501319170677078>\n",
      "<Record ref_id='2159697746' score=0.018129472379546978>\n",
      "<Record ref_id='1091014733' score=0.017047913580848496>\n",
      "<Record ref_id='2048728292' score=0.016415602537139584>\n",
      "<Record ref_id='2138890364' score=0.01589933196177937>\n",
      "<Record ref_id='2165612380' score=0.015529415605356435>\n",
      "<Record ref_id='2122789628' score=0.01550537695934846>\n",
      "<Record ref_id='1969798161' score=0.015221216932119044>\n",
      "<Record ref_id='2030458294' score=0.015140069366480163>\n",
      "<Record ref_id='1978580536' score=0.015103423830388082>\n",
      "<Record ref_id='1975175514' score=0.0035378488122580942>\n",
      "<Record ref_id='2088481969' score=0.0028428178649792827>\n",
      "<Record ref_id='2127108020' score=0.002647092170605436>\n",
      "<Record ref_id='2546689421' score=0.0025030112348074338>\n",
      "<Record ref_id='2058316166' score=0.0024190935633589088>\n",
      "<Record ref_id='2009004709' score=0.0016565631232025467>\n",
      "<Record ref_id='1978519374' score=0.0016470429849386567>\n",
      "<Record ref_id='2147880316' score=0.0015580078213623945>\n",
      "<Record ref_id='2042588442' score=0.0014559751269338768>\n",
      "<Record ref_id='2083173470' score=0.0013176010299095235>\n",
      "<Record ref_id='1969684495' score=0.0011804147042696832>\n",
      "<Record ref_id='2154454189' score=0.0011789839707010868>\n",
      "<Record ref_id='2005653608' score=0.0011396134956852763>\n",
      "<Record ref_id='1570088620' score=0.0011387366526593443>\n",
      "<Record ref_id='2124627092' score=0.001129301986811293>\n",
      "<Record ref_id='2175261600' score=0.0011259645607490044>\n",
      "<Record ref_id='2021372633' score=0.001120291899729908>\n",
      "<Record ref_id='2100810662' score=0.0011135765913196716>\n",
      "<Record ref_id='1723398785' score=0.0010941100094431664>\n",
      "<Record ref_id='2420733993' score=0.0010915017593767114>\n",
      "<Record ref_id='2036495029' score=0.0010887120878764255>\n",
      "<Record ref_id='1552555116' score=0.0010819020462318049>\n",
      "<Record ref_id='1517165089' score=0.001065672309331633>\n",
      "<Record ref_id='2006330051' score=0.0010479534390695879>\n",
      "<Record ref_id='2026465238' score=0.001047663864030046>\n",
      "<Record ref_id='2014905278' score=0.0010450346340794782>\n",
      "<Record ref_id='1993030748' score=0.001044249102294681>\n",
      "<Record ref_id='2164620969' score=0.0010376115230559479>\n",
      "<Record ref_id='1556895513' score=0.0010282540466472411>\n",
      "<Record ref_id='1874918438' score=0.0010274723952100565>\n",
      "<Record ref_id='1983454208' score=0.0010272584865150842>\n",
      "<Record ref_id='1599116879' score=0.0010221397136749466>\n",
      "<Record ref_id='1566014926' score=0.0010173433956035035>\n",
      "<Record ref_id='2139245543' score=0.00101177418152201>\n",
      "<Record ref_id='2052665085' score=0.0010020285205597208>\n",
      "<Record ref_id='2156515921' score=0.0007653681718250207>\n",
      "<Record ref_id='1934019294' score=0.0007469039151904331>\n",
      "<Record ref_id='2010595692' score=0.0007338863713294507>\n",
      "<Record ref_id='2021579368' score=0.0007146983055425883>\n",
      "<Record ref_id='2072063041' score=0.0007114749626050411>\n",
      "<Record ref_id='2436001372' score=0.0007026800204826599>\n",
      "<Record ref_id='1513168562' score=0.0006763296429223685>\n",
      "<Record ref_id='2147072563' score=0.0006688081126536626>\n",
      "<Record ref_id='47988291' score=0.000667878476740559>\n",
      "<Record ref_id='2159323433' score=0.0006677288188182696>\n",
      "<Record ref_id='2141829400' score=0.0006668293498516443>\n",
      "<Record ref_id='2017102965' score=0.0006625997898116686>\n",
      "<Record ref_id='2244639558' score=0.0006556506813723953>\n",
      "<Record ref_id='2141608913' score=0.0006530331338341132>\n",
      "<Record ref_id='2025800743' score=0.0006508024963247358>\n",
      "<Record ref_id='2167831055' score=0.0006496507408333518>\n",
      "<Record ref_id='2061310592' score=0.0006453013665006002>\n",
      "<Record ref_id='1490569481' score=0.000639634564983771>\n",
      "<Record ref_id='2087721273' score=0.0006390254654234261>\n",
      "<Record ref_id='1535215946' score=0.000636384272262791>\n",
      "<Record ref_id='1979767224' score=0.0006331881530932424>\n",
      "<Record ref_id='2469451260' score=0.0006298469330572984>\n",
      "<Record ref_id='2135276230' score=0.0006287822208542778>\n",
      "<Record ref_id='2096314387' score=0.0006270544397241186>\n",
      "<Record ref_id='2141728207' score=0.0006270055244469665>\n",
      "<Record ref_id='2124344619' score=0.0006267926160873571>\n",
      "<Record ref_id='2119821739' score=0.0006267362460455672>\n",
      "<Record ref_id='1975823050' score=0.0006252266209547413>\n",
      "<Record ref_id='2106710936' score=0.0006145552187124427>\n",
      "<Record ref_id='2158188757' score=0.000609828315020433>\n",
      "<Record ref_id='1983685710' score=0.0006086012665797004>\n",
      "<Record ref_id='2163844356' score=0.0005938951385355607>\n",
      "<Record ref_id='2009130514' score=0.0005871026088475008>\n",
      "<Record ref_id='2091019377' score=0.000581348059307818>\n",
      "<Record ref_id='2059603992' score=0.0005811365083111334>\n",
      "<Record ref_id='2008652694' score=0.0005784484725111837>\n",
      "<Record ref_id='2051434435' score=0.0005666762366368872>\n",
      "<Record ref_id='2773515559' score=0.0005575965817351646>\n",
      "<Record ref_id='1990408974' score=0.0005553380558768529>\n",
      "<Record ref_id='2623462650' score=0.0005550534578559197>\n",
      "<Record ref_id='2123235204' score=0.0005510028247182219>\n",
      "<Record ref_id='2146871511' score=0.0005488076233860383>\n",
      "<Record ref_id='166952271' score=0.0005463525156123194>\n",
      "<Record ref_id='2019241270' score=0.0005429662192131923>\n",
      "<Record ref_id='2116990230' score=0.0005393445582827618>\n",
      "<Record ref_id='2543851055' score=0.0005373513433282184>\n",
      "<Record ref_id='1184952800' score=0.0005364591213590404>\n",
      "<Record ref_id='2053481708' score=0.0005342298553056126>\n",
      "<Record ref_id='2770581394' score=0.0005327725328815314>\n",
      "<Record ref_id='1611185808' score=0.0005317997110654505>\n",
      "<Record ref_id='2807947848' score=0.0005313379118390472>\n",
      "<Record ref_id='1606199206' score=0.0005300217810493667>\n",
      "<Record ref_id='2088600132' score=0.0005239891854980748>\n",
      "<Record ref_id='2606511893' score=0.0005237331617813089>\n",
      "<Record ref_id='1528056001' score=0.0005224637338823613>\n"
     ]
    }
   ],
   "source": [
    "###### run Personalized PageRank\n",
    "with driver.session() as session:  \n",
    "   results = session.run(\"MATCH (ref:Reference {ref_id: '40093513'}) \"\n",
    "                           \"CALL gds.pageRank.stream('undirected_citations', { \"\n",
    "                           \"maxIterations: 20, \"\n",
    "                           \"dampingFactor: 0.85, \"\n",
    "                           \"sourceNodes: [ref]}) \"\n",
    "                           \"YIELD nodeId, score \"\n",
    "                           \"RETURN gds.util.asNode(nodeId).ref_id AS ref_id, score \"\n",
    "                           \"ORDER BY score DESC, ref ASC LIMIT 100\").records()\n",
    "\n",
    "for result in results:\n",
    "    print(result)"
   ]
  },
  {
   "cell_type": "markdown",
   "metadata": {},
   "source": [
    "# Loading data into PostgreSQL"
   ]
  },
  {
   "cell_type": "code",
   "execution_count": 3,
   "metadata": {},
   "outputs": [],
   "source": [
    "connection = psycopg2.connect(host=\"localhost\",port=5432, database=\"dblp\", \n",
    "                              user=\"dblp\", password=\"dblp\")\n",
    "\n",
    "cursor = connection.cursor()"
   ]
  },
  {
   "cell_type": "code",
   "execution_count": 4,
   "metadata": {},
   "outputs": [],
   "source": [
    "cursor.execute(\"\"\"DROP TABLE IF EXISTS reference\"\"\")\n",
    "\n",
    "cursor.execute(\"\"\"CREATE TABLE reference(\n",
    "                ref_id VARCHAR (10) PRIMARY KEY,\n",
    "                title VARCHAR (511) NOT NULL,\n",
    "                json_record JSON NOT NULL);\"\"\")"
   ]
  },
  {
   "cell_type": "code",
   "execution_count": 5,
   "metadata": {},
   "outputs": [
    {
     "data": {
      "application/vnd.jupyter.widget-view+json": {
       "model_id": "1c3d110f76514c4289fc206d23cb9f3a",
       "version_major": 2,
       "version_minor": 0
      },
      "text/plain": [
       "HBox(children=(FloatProgress(value=0.0, max=30.0), HTML(value='')))"
      ]
     },
     "metadata": {},
     "output_type": "display_data"
    },
    {
     "name": "stdout",
     "output_type": "stream",
     "text": [
      "\n"
     ]
    }
   ],
   "source": [
    "# fields : 'abstract', 'authors', 'id', 'references', 'citations',\n",
    "#          'title', 'venue', 'year'\n",
    "\n",
    "chunkfiles = [f for f in os.listdir(dblp_dataset_dir_path) if 'chunk' in f]\n",
    "\n",
    "for filename in tqdm(chunkfiles):\n",
    "    with open(dblp_dataset_dir_path + filename) as file:\n",
    "        for ref in json.load(file):\n",
    "            cursor.execute(\"\"\"INSERT INTO reference (ref_id, title, json_record) VALUES  \n",
    "                              (%(ref_id)s, %(title)s, %(json_rec)s)\"\"\",\n",
    "                           {'ref_id': ref['id'], 'title': ref['title'].lower(), \n",
    "                            'json_rec': json.dumps(ref)})"
   ]
  },
  {
   "cell_type": "code",
   "execution_count": 6,
   "metadata": {},
   "outputs": [],
   "source": [
    "connection.commit()"
   ]
  },
  {
   "cell_type": "code",
   "execution_count": 7,
   "metadata": {},
   "outputs": [],
   "source": [
    "cursor.close()\n",
    "connection.close()"
   ]
  },
  {
   "cell_type": "markdown",
   "metadata": {},
   "source": [
    "# Loading data into ElasticSearch"
   ]
  },
  {
   "cell_type": "code",
   "execution_count": 25,
   "metadata": {},
   "outputs": [],
   "source": [
    "es=Elasticsearch([{'host':'localhost', 'port':9200}])"
   ]
  },
  {
   "cell_type": "code",
   "execution_count": 30,
   "metadata": {},
   "outputs": [
    {
     "data": {
      "text/plain": [
       "{'acknowledged': True}"
      ]
     },
     "execution_count": 30,
     "metadata": {},
     "output_type": "execute_result"
    }
   ],
   "source": [
    "es.indices.delete(index='dblp_v1', ignore=[400, 404])"
   ]
  },
  {
   "cell_type": "code",
   "execution_count": 31,
   "metadata": {},
   "outputs": [
    {
     "data": {
      "text/plain": [
       "{'acknowledged': True, 'shards_acknowledged': True, 'index': 'dblp_v1'}"
      ]
     },
     "execution_count": 31,
     "metadata": {},
     "output_type": "execute_result"
    }
   ],
   "source": [
    "settings = {\n",
    "        \"settings\": {\n",
    "            \"number_of_shards\": 1,\n",
    "            \"number_of_replicas\": 0\n",
    "        },\n",
    "}\n",
    "#        \"mappings\": {\n",
    "#            \"paper\": {\n",
    "#                \"dynamic\": \"strict\",\n",
    "#                \"properties\": {\n",
    "#                    \"id\": {\n",
    "#                        \"type\": \"keyword\"\n",
    "#                    },\n",
    "#                    \"title\": {\n",
    "#                        \"type\": \"text\"\n",
    "#                    },\n",
    "#                    \"authors\": {\n",
    "#                        \"type\": \"text\"\n",
    "#                    },\n",
    "#                    \"year\": {\n",
    "#                        \"type\": \"integer\"\n",
    "#                    },\n",
    "#                    \"venue\": {\n",
    "#                        \"type\": \"text\"\n",
    "#                    },\n",
    "#                    \"abstract\": {\n",
    "#                        \"type\": \"text\"\n",
    "#                    },\n",
    "#                }\n",
    "#            }\n",
    "#        }\n",
    "#    }\n",
    "\n",
    "es.indices.create(index='dblp_v1', ignore=[400, 404], body=settings)"
   ]
  },
  {
   "cell_type": "code",
   "execution_count": 33,
   "metadata": {},
   "outputs": [
    {
     "data": {
      "application/vnd.jupyter.widget-view+json": {
       "model_id": "c66e013bcc6e47f3b7dc74be9283f482",
       "version_major": 2,
       "version_minor": 0
      },
      "text/plain": [
       "HBox(children=(FloatProgress(value=0.0, max=30.0), HTML(value='')))"
      ]
     },
     "metadata": {},
     "output_type": "display_data"
    },
    {
     "name": "stdout",
     "output_type": "stream",
     "text": [
      "\n"
     ]
    }
   ],
   "source": [
    "# fields : 'abstract', 'authors', 'id', 'references', 'citations',\n",
    "#          'title', 'venue', 'year'\n",
    "\n",
    "chunkfiles = [f for f in os.listdir(dblp_dataset_dir_path) if 'chunk' in f]\n",
    "\n",
    "for filename in tqdm(chunkfiles):\n",
    "    with open(dblp_dataset_dir_path + filename) as file:\n",
    "        bulk = []        \n",
    "        \n",
    "        for ref in json.load(file):\n",
    "            ref['authors'] = ' ; '.join([a['name'] for a in ref['authors']])\n",
    "            ref['venue'] = ref['venue'].pop('raw', '')\n",
    "            ref['year'] = ref.pop('year', 0)\n",
    "            ref.pop('references', '')\n",
    "            ref.pop('citations', '')\n",
    "            \n",
    "            bulk.append(ref)\n",
    "            \n",
    "            if len(bulk) > 5000:\n",
    "                helpers.bulk(es, bulk, index='dblp_v1', doc_type='paper')\n",
    "                bulk = []\n",
    "                \n",
    "        if bulk:\n",
    "            helpers.bulk(es, bulk, index='dblp_v1', doc_type='paper')"
   ]
  },
  {
   "cell_type": "code",
   "execution_count": 35,
   "metadata": {},
   "outputs": [
    {
     "data": {
      "text/plain": [
       "[{'epoch': '1586268360', 'timestamp': '14:06:00', 'count': '2945030'}]"
      ]
     },
     "execution_count": 35,
     "metadata": {},
     "output_type": "execute_result"
    }
   ],
   "source": [
    "es.indices.refresh('dblp_v1')\n",
    "es.cat.count('dblp_v1', params={\"format\": \"json\"})"
   ]
  }
 ],
 "metadata": {
  "kernelspec": {
   "display_name": "Python 3",
   "language": "python",
   "name": "python3"
  },
  "language_info": {
   "codemirror_mode": {
    "name": "ipython",
    "version": 3
   },
   "file_extension": ".py",
   "mimetype": "text/x-python",
   "name": "python",
   "nbconvert_exporter": "python",
   "pygments_lexer": "ipython3",
   "version": "3.7.6"
  }
 },
 "nbformat": 4,
 "nbformat_minor": 4
}
