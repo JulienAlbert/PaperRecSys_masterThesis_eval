{
 "cells": [
  {
   "cell_type": "markdown",
   "metadata": {},
   "source": [
    "# Preparing"
   ]
  },
  {
   "cell_type": "code",
   "execution_count": 1,
   "metadata": {},
   "outputs": [],
   "source": [
    "import json\n",
    "from neo4j import GraphDatabase\n",
    "from tqdm.notebook import tqdm\n",
    "import psycopg2"
   ]
  },
  {
   "cell_type": "code",
   "execution_count": 2,
   "metadata": {},
   "outputs": [
    {
     "data": {
      "text/plain": [
       "15602"
      ]
     },
     "execution_count": 2,
     "metadata": {},
     "output_type": "execute_result"
    }
   ],
   "source": [
    "with open(\"./datasets/preprocessed2_aan.json\") as f:\n",
    "    aan_dataset = json.load(f)\n",
    "    \n",
    "len(aan_dataset)"
   ]
  },
  {
   "cell_type": "markdown",
   "metadata": {},
   "source": [
    "# Loading data into Neo4J"
   ]
  },
  {
   "cell_type": "code",
   "execution_count": 36,
   "metadata": {},
   "outputs": [],
   "source": [
    "driver = GraphDatabase.driver(\"bolt://localhost:7687\",\n",
    "                              auth=(\"neo4j\", \"AAN\"),\n",
    "                              encrypted=False)"
   ]
  },
  {
   "cell_type": "code",
   "execution_count": 37,
   "metadata": {},
   "outputs": [
    {
     "data": {
      "application/vnd.jupyter.widget-view+json": {
       "model_id": "df21419c873240d99109107f37dc1737",
       "version_major": 2,
       "version_minor": 0
      },
      "text/plain": [
       "HBox(children=(FloatProgress(value=0.0, max=15602.0), HTML(value='')))"
      ]
     },
     "metadata": {},
     "output_type": "display_data"
    },
    {
     "name": "stdout",
     "output_type": "stream",
     "text": [
      "\n"
     ]
    }
   ],
   "source": [
    "# loading nodes\n",
    "for ref in tqdm(aan_dataset):\n",
    "    with driver.session() as session:\n",
    "        session.run(\"MERGE (a:Reference {id: $ref_id, title: $title}) \",\n",
    "                    ref_id=ref['id'], title=ref['title'])"
   ]
  },
  {
   "cell_type": "code",
   "execution_count": 40,
   "metadata": {},
   "outputs": [],
   "source": [
    "with driver.session() as session:\n",
    "    session.run(\"CREATE INDEX ON :Reference(id)\")"
   ]
  },
  {
   "cell_type": "code",
   "execution_count": 41,
   "metadata": {},
   "outputs": [
    {
     "data": {
      "application/vnd.jupyter.widget-view+json": {
       "model_id": "33ccc44e6bbb425fac4f2b6afa54d7f8",
       "version_major": 2,
       "version_minor": 0
      },
      "text/plain": [
       "HBox(children=(FloatProgress(value=0.0, max=15602.0), HTML(value='')))"
      ]
     },
     "metadata": {},
     "output_type": "display_data"
    },
    {
     "name": "stdout",
     "output_type": "stream",
     "text": [
      "\n"
     ]
    }
   ],
   "source": [
    "# loading edges\n",
    "for paper in tqdm(aan_dataset):\n",
    "    for ref_id in paper['references']:\n",
    "        with driver.session() as session:\n",
    "            session.run(\"MATCH (paper {id: $paper_id}) \"\n",
    "                        \"MATCH (ref {id: $ref_id})\"\n",
    "                        \"MERGE (paper)-[:CITES]->(ref)\",\n",
    "                        paper_id=paper['id'], ref_id=ref_id)"
   ]
  },
  {
   "cell_type": "code",
   "execution_count": 50,
   "metadata": {},
   "outputs": [
    {
     "name": "stdout",
     "output_type": "stream",
     "text": [
      "Nb nodes : [<Record COUNT(n)=15602>]\n",
      "Nb nodes : [<Record COUNT(e)=85240>]\n"
     ]
    }
   ],
   "source": [
    "with driver.session() as session:\n",
    "    print(\"Nb nodes :\",list(session.run(\"MATCH (n) RETURN COUNT(n)\").records()))\n",
    "    print(\"Nb nodes :\",list(session.run(\"MATCH ()-[e]->() RETURN COUNT(e)\").records()))"
   ]
  },
  {
   "cell_type": "code",
   "execution_count": null,
   "metadata": {},
   "outputs": [],
   "source": [
    "with driver.session() as session:    \n",
    "    session.run(\"CALL gds.graph.create('citations','Reference','CITES')\")\n",
    "    session.run(\"CALL gds.graph.create('undirected_citations','Reference',\n",
    "                \"{ CITES: { orientation: 'UNDIRECTED' }})\")"
   ]
  },
  {
   "cell_type": "code",
   "execution_count": 54,
   "metadata": {},
   "outputs": [
    {
     "name": "stdout",
     "output_type": "stream",
     "text": [
      "<Record ref_id='E03-1062' score=0.15000000000000002>\n",
      "<Record ref_id='P97-1026' score=0.1275000050663948>\n",
      "<Record ref_id='J86-3001' score=0.026544135308358818>\n",
      "<Record ref_id='P86-1029' score=0.02430696557275951>\n",
      "<Record ref_id='W94-0316' score=0.02430696557275951>\n",
      "<Record ref_id='P85-1008' score=0.02430696557275951>\n",
      "<Record ref_id='J87-3006' score=0.02376828426204156>\n",
      "<Record ref_id='P86-1021' score=0.02256251559592783>\n",
      "<Record ref_id='W96-0410' score=0.021675001177936793>\n",
      "<Record ref_id='W94-0317' score=0.0026319643948227167>\n",
      "<Record ref_id='W94-0311' score=0.0026319643948227167>\n",
      "<Record ref_id='C88-2110' score=0.0011185848677996546>\n",
      "<Record ref_id='E89-1018' score=0.0011185848677996546>\n",
      "<Record ref_id='A88-1004' score=0.00047539857623632995>\n",
      "<Record ref_id='P87-1028' score=0.00045162864989833906>\n",
      "<Record ref_id='P82-1028' score=0.0003609270561355515>\n",
      "<Record ref_id='C88-2149' score=0.0003169323841575533>\n",
      "<Record ref_id='P87-1025' score=0.0003169323841575533>\n",
      "<Record ref_id='P82-1029' score=0.00029992432996550633>\n",
      "<Record ref_id='P84-1065' score=0.0002735176062742539>\n",
      "<Record ref_id='P83-1022' score=0.0002643877295213315>\n",
      "<Record ref_id='E85-1027' score=0.0001919421792990761>\n",
      "<Record ref_id='P84-1107' score=0.00013469626574078575>\n",
      "<Record ref_id='P80-1030' score=0.00011236478239879943>\n",
      "<Record ref_id='C86-1149' score=0.00010102219930558931>\n",
      "<Record ref_id='C86-1132' score=0.00010102219930558931>\n",
      "<Record ref_id='C86-1154' score=0.00010102219930558931>\n",
      "<Record ref_id='C80-1068' score=8.586886724515352e-05>\n",
      "<Record ref_id='P84-1002' score=8.157542697517783e-05>\n",
      "<Record ref_id='P83-1011' score=7.749665678602469e-05>\n",
      "<Record ref_id='P83-1012' score=7.749665678602469e-05>\n",
      "<Record ref_id='J82-2003' score=6.587215884792385e-05>\n",
      "<Record ref_id='P82-1005' score=6.587215884792385e-05>\n",
      "<Record ref_id='P81-1032' score=5.796148461740813e-05>\n",
      "<Record ref_id='C86-1138' score=2.146721681128838e-05>\n",
      "<Record ref_id='P85-1017' score=2.146721681128838e-05>\n",
      "<Record ref_id='P83-1025' score=2.146721681128838e-05>\n",
      "<Record ref_id='P84-1075' score=1.8247133903059874e-05>\n",
      "<Record ref_id='E06-1011' score=0.0>\n",
      "<Record ref_id='E06-1010' score=0.0>\n",
      "<Record ref_id='P05-1044' score=0.0>\n",
      "<Record ref_id='E06-1009' score=0.0>\n",
      "<Record ref_id='E06-1008' score=0.0>\n",
      "<Record ref_id='P05-1042' score=0.0>\n",
      "<Record ref_id='P05-1035' score=0.0>\n",
      "<Record ref_id='E06-1007' score=0.0>\n",
      "<Record ref_id='E06-1006' score=0.0>\n",
      "<Record ref_id='P05-1041' score=0.0>\n",
      "<Record ref_id='E06-1033' score=0.0>\n",
      "<Record ref_id='E06-1032' score=0.0>\n",
      "<Record ref_id='E06-1034' score=0.0>\n",
      "<Record ref_id='E06-1035' score=0.0>\n",
      "<Record ref_id='E06-1036' score=0.0>\n",
      "<Record ref_id='E06-1037' score=0.0>\n",
      "<Record ref_id='E06-1038' score=0.0>\n",
      "<Record ref_id='E06-1039' score=0.0>\n",
      "<Record ref_id='E06-1040' score=0.0>\n",
      "<Record ref_id='E06-1041' score=0.0>\n",
      "<Record ref_id='E06-1042' score=0.0>\n",
      "<Record ref_id='E06-1043' score=0.0>\n",
      "<Record ref_id='E06-1044' score=0.0>\n",
      "<Record ref_id='E06-1045' score=0.0>\n",
      "<Record ref_id='E06-1005' score=0.0>\n",
      "<Record ref_id='E06-1031' score=0.0>\n",
      "<Record ref_id='E06-1030' score=0.0>\n",
      "<Record ref_id='E06-1004' score=0.0>\n",
      "<Record ref_id='P05-1040' score=0.0>\n",
      "<Record ref_id='P05-1034' score=0.0>\n",
      "<Record ref_id='P05-1031' score=0.0>\n",
      "<Record ref_id='E06-1029' score=0.0>\n",
      "<Record ref_id='E06-1028' score=0.0>\n",
      "<Record ref_id='E06-1003' score=0.0>\n",
      "<Record ref_id='E06-1027' score=0.0>\n",
      "<Record ref_id='E06-1026' score=0.0>\n",
      "<Record ref_id='E06-1002' score=0.0>\n",
      "<Record ref_id='P05-1039' score=0.0>\n",
      "<Record ref_id='E06-1025' score=0.0>\n",
      "<Record ref_id='E06-1024' score=0.0>\n",
      "<Record ref_id='E06-1001' score=0.0>\n",
      "<Record ref_id='E06-2018' score=0.0>\n",
      "<Record ref_id='E06-2017' score=0.0>\n",
      "<Record ref_id='E06-1023' score=0.0>\n",
      "<Record ref_id='E06-2020' score=0.0>\n",
      "<Record ref_id='E06-2022' score=0.0>\n",
      "<Record ref_id='E06-2023' score=0.0>\n",
      "<Record ref_id='E06-2024' score=0.0>\n",
      "<Record ref_id='E06-2025' score=0.0>\n",
      "<Record ref_id='E06-2026' score=0.0>\n",
      "<Record ref_id='E06-2027' score=0.0>\n",
      "<Record ref_id='E06-2028' score=0.0>\n",
      "<Record ref_id='E06-2029' score=0.0>\n",
      "<Record ref_id='E06-2030' score=0.0>\n",
      "<Record ref_id='E06-2031' score=0.0>\n",
      "<Record ref_id='E06-3001' score=0.0>\n",
      "<Record ref_id='E06-3002' score=0.0>\n",
      "<Record ref_id='E06-3003' score=0.0>\n",
      "<Record ref_id='E06-3004' score=0.0>\n",
      "<Record ref_id='E06-3005' score=0.0>\n",
      "<Record ref_id='E06-2016' score=0.0>\n",
      "<Record ref_id='E06-2015' score=0.0>\n"
     ]
    }
   ],
   "source": [
    "###### run Personalized PageRank\n",
    "with driver.session() as session:  \n",
    "   results = session.run(\"MATCH (ref:Reference {id: 'E03-1062'}) \"\n",
    "                           \"CALL gds.pageRank.stream('citations', { \"\n",
    "                           \"maxIterations: 20, \"\n",
    "                           \"dampingFactor: 0.85, \"\n",
    "                           \"sourceNodes: [ref]}) \"\n",
    "                           \"YIELD nodeId, score \"\n",
    "                           \"RETURN gds.util.asNode(nodeId).id AS ref_id, score \"\n",
    "                           \"ORDER BY score DESC, ref ASC LIMIT 100\").records()\n",
    "\n",
    "for result in results:\n",
    "    print(result)"
   ]
  },
  {
   "cell_type": "code",
   "execution_count": 55,
   "metadata": {},
   "outputs": [
    {
     "name": "stdout",
     "output_type": "stream",
     "text": [
      "<Record ref_id='E03-1062' score=0.15606312372897407>\n",
      "<Record ref_id='P97-1026' score=0.14980056943570616>\n",
      "<Record ref_id='J86-3001' score=0.013235124580296544>\n",
      "<Record ref_id='W98-1419' score=0.011163989055626187>\n",
      "<Record ref_id='P85-1008' score=0.010713084194526346>\n",
      "<Record ref_id='W00-1416' score=0.010650625136315737>\n",
      "<Record ref_id='W96-0410' score=0.01015261692036802>\n",
      "<Record ref_id='P86-1029' score=0.009858328984580566>\n",
      "<Record ref_id='W98-1403' score=0.009364908596370467>\n",
      "<Record ref_id='P99-1006' score=0.008793623127573369>\n",
      "<Record ref_id='P02-1003' score=0.008569904028968268>\n",
      "<Record ref_id='W00-1423' score=0.008238842488623273>\n",
      "<Record ref_id='W02-0111' score=0.007662615659364747>\n",
      "<Record ref_id='P01-1009' score=0.007642532856522165>\n",
      "<Record ref_id='W05-1609' score=0.00764171068372832>\n",
      "<Record ref_id='C00-2148' score=0.0074911494743417975>\n",
      "<Record ref_id='W94-0316' score=0.007366186394159513>\n",
      "<Record ref_id='P01-1028' score=0.007053268029932269>\n",
      "<Record ref_id='N01-1003' score=0.0069942307561632324>\n",
      "<Record ref_id='W98-1422' score=0.006885611555449599>\n",
      "<Record ref_id='W03-1601' score=0.006528896744231362>\n",
      "<Record ref_id='W01-0806' score=0.006319546764804329>\n",
      "<Record ref_id='W98-0210' score=0.00465486373419708>\n",
      "<Record ref_id='P97-1027' score=0.004169103428353081>\n",
      "<Record ref_id='W98-1415' score=0.0036219148568335416>\n",
      "<Record ref_id='P02-1013' score=0.00342181027681363>\n",
      "<Record ref_id='P95-1021' score=0.0032549282049004085>\n",
      "<Record ref_id='J03-4002' score=0.0031107212178028473>\n",
      "<Record ref_id='J87-3006' score=0.002879215198043993>\n",
      "<Record ref_id='P96-1027' score=0.0027626791508566836>\n",
      "<Record ref_id='W05-1606' score=0.0025500627491055632>\n",
      "<Record ref_id='W08-1107' score=0.002292468157793337>\n",
      "<Record ref_id='W96-0406' score=0.002214273813581258>\n",
      "<Record ref_id='W96-0401' score=0.002212710718427502>\n",
      "<Record ref_id='P95-1013' score=0.002173132799146061>\n",
      "<Record ref_id='C92-2117' score=0.0019869031164375887>\n",
      "<Record ref_id='C96-1054' score=0.0019255855345264197>\n",
      "<Record ref_id='E91-1028' score=0.0018872268253289808>\n",
      "<Record ref_id='W03-0903' score=0.001817664599809632>\n",
      "<Record ref_id='P07-1043' score=0.0018006702716775178>\n",
      "<Record ref_id='W13-2107' score=0.0017837048559954383>\n",
      "<Record ref_id='P89-1009' score=0.0016795871813428673>\n",
      "<Record ref_id='W04-2804' score=0.0016772115226615367>\n",
      "<Record ref_id='W01-0804' score=0.0016520760191838233>\n",
      "<Record ref_id='W06-1410' score=0.0016499013691714025>\n",
      "<Record ref_id='W01-0805' score=0.0016301520373417588>\n",
      "<Record ref_id='P13-1152' score=0.0016071341309356058>\n",
      "<Record ref_id='C96-1034' score=0.001602617400607187>\n",
      "<Record ref_id='P01-1016' score=0.0015917008795668154>\n",
      "<Record ref_id='C08-1055' score=0.0015093761637729134>\n",
      "<Record ref_id='J93-2004' score=0.001488988944902303>\n",
      "<Record ref_id='P90-1013' score=0.0014696662708729494>\n",
      "<Record ref_id='W08-1111' score=0.0014554513313527193>\n",
      "<Record ref_id='W97-1408' score=0.0013872802614841365>\n",
      "<Record ref_id='P98-2204' score=0.0013234147192292768>\n",
      "<Record ref_id='P04-1011' score=0.001314353907241639>\n",
      "<Record ref_id='W06-1408' score=0.0013001453058848257>\n",
      "<Record ref_id='P02-1040' score=0.0012917377727717397>\n",
      "<Record ref_id='C00-2087' score=0.0012749142271218262>\n",
      "<Record ref_id='W09-0615' score=0.0012579570769162272>\n",
      "<Record ref_id='W05-1607' score=0.001256983001277945>\n",
      "<Record ref_id='P98-1102' score=0.0012380497970241324>\n",
      "<Record ref_id='W03-1023' score=0.0011802856439778967>\n",
      "<Record ref_id='W94-0311' score=0.001170692564171816>\n",
      "<Record ref_id='P94-1001' score=0.0011578705252190957>\n",
      "<Record ref_id='P97-1036' score=0.0011445519852429696>\n",
      "<Record ref_id='P89-1008' score=0.0011365353871880756>\n",
      "<Record ref_id='W12-1641' score=0.001126292589958666>\n",
      "<Record ref_id='D13-1197' score=0.0011232867577405158>\n",
      "<Record ref_id='W02-1024' score=0.0011098424788023918>\n",
      "<Record ref_id='W04-2605' score=0.001104744563146199>\n",
      "<Record ref_id='C88-1077' score=0.0010983753366701873>\n",
      "<Record ref_id='P02-1041' score=0.0010878338622774208>\n",
      "<Record ref_id='W09-0612' score=0.0010628964710875266>\n",
      "<Record ref_id='W05-0102' score=0.0010481318499131471>\n",
      "<Record ref_id='C02-1048' score=0.001034851931524372>\n",
      "<Record ref_id='W04-2411' score=0.0010194225271114021>\n",
      "<Record ref_id='D13-1038' score=0.001019016302856812>\n",
      "<Record ref_id='W04-0601' score=0.0010156585790227267>\n",
      "<Record ref_id='N03-1012' score=0.0010117249459341338>\n",
      "<Record ref_id='W94-0317' score=0.0010103497350314682>\n",
      "<Record ref_id='E06-3001' score=0.0009762417039269166>\n",
      "<Record ref_id='W00-1424' score=0.000963565173196912>\n",
      "<Record ref_id='P06-1131' score=0.0009574977408078666>\n",
      "<Record ref_id='C90-3045' score=0.0009550090237553376>\n",
      "<Record ref_id='P87-1022' score=0.0009545818489641533>\n",
      "<Record ref_id='J00-3005' score=0.0009248098848502196>\n",
      "<Record ref_id='P98-1116' score=0.0009208691550952608>\n",
      "<Record ref_id='W97-0204' score=0.0009175884652840693>\n",
      "<Record ref_id='W04-2614' score=0.0009065146795151692>\n",
      "<Record ref_id='P01-1024' score=0.0009063125800679471>\n",
      "<Record ref_id='W06-1411' score=0.000903316029865664>\n",
      "<Record ref_id='W04-2604' score=0.0008918057573936266>\n",
      "<Record ref_id='W05-1605' score=0.000868559570034222>\n",
      "<Record ref_id='W03-0910' score=0.0008580020288539102>\n",
      "<Record ref_id='C10-1149' score=0.0008532387844297773>\n",
      "<Record ref_id='E06-1041' score=0.0008399054861513377>\n",
      "<Record ref_id='I05-5010' score=0.000834818459132691>\n",
      "<Record ref_id='P09-1094' score=0.000827805916534885>\n",
      "<Record ref_id='W04-2703' score=0.0008215124626843816>\n"
     ]
    }
   ],
   "source": [
    "###### run Personalized PageRank\n",
    "with driver.session() as session:  \n",
    "   results = session.run(\"MATCH (ref:Reference {id: 'E03-1062'}) \"\n",
    "                           \"CALL gds.pageRank.stream('undirected_citations', { \"\n",
    "                           \"maxIterations: 20, \"\n",
    "                           \"dampingFactor: 0.85, \"\n",
    "                           \"sourceNodes: [ref]}) \"\n",
    "                           \"YIELD nodeId, score \"\n",
    "                           \"RETURN gds.util.asNode(nodeId).id AS ref_id, score \"\n",
    "                           \"ORDER BY score DESC, ref ASC LIMIT 100\").records()\n",
    "\n",
    "for result in results:\n",
    "    print(result)"
   ]
  },
  {
   "cell_type": "code",
   "execution_count": 33,
   "metadata": {},
   "outputs": [
    {
     "data": {
      "text/plain": [
       "{'id': 'E03-1062',\n",
       " 'author': ['Piwek,Paul'],\n",
       " 'title': 'A Flexible Pragmatics-Driven Language Generator For Animated Agents',\n",
       " 'venue': 'EACL',\n",
       " 'year': 2003,\n",
       " 'citations': [],\n",
       " 'references': ['P97-1026'],\n",
       " 'abstract': 'This paper describes the NECA MNLG;a fully implemented Multimodal Natu-ral Language Generation module. TheMNLG is deployed as part of the NECAsystem which generates dialogues between animated agents. The generation module supports the seamless integration of full grammar rules, templatesand canned text. The generator takes input which allows for the specification ofsyntactic, semantic and pragmatic con-straints on the output.'}"
      ]
     },
     "execution_count": 33,
     "metadata": {},
     "output_type": "execute_result"
    }
   ],
   "source": [
    "aan_dataset[0]"
   ]
  },
  {
   "cell_type": "markdown",
   "metadata": {},
   "source": [
    "# Loading data into PostgreSQL"
   ]
  },
  {
   "cell_type": "code",
   "execution_count": 17,
   "metadata": {},
   "outputs": [],
   "source": [
    "connection = psycopg2.connect(host=\"localhost\", port=5432, database=\"aan\", \n",
    "                              user=\"aan\", password=\"aan\")\n",
    "\n",
    "cursor = connection.cursor()"
   ]
  },
  {
   "cell_type": "code",
   "execution_count": 18,
   "metadata": {},
   "outputs": [],
   "source": [
    "cursor.execute(\"DROP TABLE IF EXISTS reference\")"
   ]
  },
  {
   "cell_type": "code",
   "execution_count": 19,
   "metadata": {},
   "outputs": [],
   "source": [
    "cursor.execute(\"\"\"\n",
    "    CREATE TABLE reference (\n",
    "    ref_id VARCHAR(10) PRIMARY KEY, \n",
    "    title VARCHAR(255) NOT NULL,\n",
    "    json_record JSON NOT NULL)\n",
    "    \"\"\")"
   ]
  },
  {
   "cell_type": "code",
   "execution_count": 20,
   "metadata": {},
   "outputs": [
    {
     "data": {
      "application/vnd.jupyter.widget-view+json": {
       "model_id": "29fdfa83ae684395bd20dfed89f55a80",
       "version_major": 2,
       "version_minor": 0
      },
      "text/plain": [
       "HBox(children=(FloatProgress(value=0.0, max=15602.0), HTML(value='')))"
      ]
     },
     "metadata": {},
     "output_type": "display_data"
    },
    {
     "name": "stdout",
     "output_type": "stream",
     "text": [
      "\n"
     ]
    }
   ],
   "source": [
    "for ref in tqdm(aan_dataset):\n",
    "    cursor.execute(\"\"\"\n",
    "        INSERT INTO reference (ref_id, title, json_record) \n",
    "        VALUES (%(ref_id)s, %(title)s, %(json_rec)s)\n",
    "        \"\"\",\n",
    "        {'ref_id': ref['id'], \n",
    "         'title': ref['title'].lower(), \n",
    "         'json_rec': json.dumps(ref)})"
   ]
  },
  {
   "cell_type": "code",
   "execution_count": 22,
   "metadata": {},
   "outputs": [],
   "source": [
    "connection.commit()"
   ]
  },
  {
   "cell_type": "code",
   "execution_count": 26,
   "metadata": {},
   "outputs": [],
   "source": [
    "cursor.close()\n",
    "connection.close()"
   ]
  }
 ],
 "metadata": {
  "kernelspec": {
   "display_name": "Python 3",
   "language": "python",
   "name": "python3"
  },
  "language_info": {
   "codemirror_mode": {
    "name": "ipython",
    "version": 3
   },
   "file_extension": ".py",
   "mimetype": "text/x-python",
   "name": "python",
   "nbconvert_exporter": "python",
   "pygments_lexer": "ipython3",
   "version": "3.7.6"
  }
 },
 "nbformat": 4,
 "nbformat_minor": 4
}
