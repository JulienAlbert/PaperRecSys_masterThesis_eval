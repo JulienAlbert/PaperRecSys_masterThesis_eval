{
 "cells": [
  {
   "cell_type": "code",
   "execution_count": 6,
   "metadata": {},
   "outputs": [],
   "source": [
    "import json\n",
    "import requests\n",
    "from tqdm.notebook import tqdm\n",
    "import time"
   ]
  },
  {
   "cell_type": "code",
   "execution_count": 2,
   "metadata": {},
   "outputs": [],
   "source": [
    "api_token = 'c760c2344bad4f24b4344c2d113b8894'\n",
    "api_url = 'https://api.labs.cognitive.microsoft.com/academic/v1.0/evaluate'\n",
    "headers = {'Ocp-Apim-Subscription-Key': api_token}"
   ]
  },
  {
   "cell_type": "code",
   "execution_count": 3,
   "metadata": {},
   "outputs": [],
   "source": [
    "def reformat_result(result):\n",
    "    fos_list = []\n",
    "    if 'entities' in result:\n",
    "        for entity in result['entities']:\n",
    "            fos = {}\n",
    "            fos['id'] = entity['Id']\n",
    "            fos['name'] = entity['FN']\n",
    "            fos['displayed_name'] = entity['DFN']\n",
    "            fos['level'] = entity['FL']\n",
    "            \n",
    "            if 'FP' in entity:\n",
    "                fos['parent_ids'] = [parent['FId'] for parent in entity['FP']]\n",
    "            else:\n",
    "                fos['parent_ids'] = []\n",
    "            \n",
    "            fos_list.append(fos)\n",
    "    \n",
    "    return fos_list"
   ]
  },
  {
   "cell_type": "code",
   "execution_count": 28,
   "metadata": {},
   "outputs": [],
   "source": [
    "query = {'expr': 'And(Ty=\\'6\\',FN=\\'machine learning\\')',\n",
    "         'model': 'latest',\n",
    "         'attributes': 'Id,FN,DFN,FL,FP.FId',\n",
    "         'count': '10',\n",
    "         'offset': '0',\n",
    "        }\n",
    "\n",
    "r = requests.get(api_url, params=query, headers=headers)\n",
    "\n",
    "fos = reformat_result(r.json())[0]\n",
    "complete_fos_dict = {fos['id']: fos}\n",
    "current_fos_dict = {fos['id']: fos}"
   ]
  },
  {
   "cell_type": "code",
   "execution_count": 29,
   "metadata": {},
   "outputs": [
    {
     "data": {
      "text/plain": [
       "{'id': 119857082,\n",
       " 'name': 'machine learning',\n",
       " 'displayed_name': 'Machine learning',\n",
       " 'level': 1,\n",
       " 'parent_ids': [41008148]}"
      ]
     },
     "execution_count": 29,
     "metadata": {},
     "output_type": "execute_result"
    }
   ],
   "source": [
    "fos"
   ]
  },
  {
   "cell_type": "code",
   "execution_count": 30,
   "metadata": {},
   "outputs": [
    {
     "data": {
      "text/plain": [
       "798"
      ]
     },
     "execution_count": 30,
     "metadata": {},
     "output_type": "execute_result"
    }
   ],
   "source": [
    "query = {'expr': 'And(Ty=\\'6\\',Composite(FP.FId=119857082))',\n",
    "         'model': 'latest',\n",
    "         'attributes': 'Id,FN,DFN,FL,FP.FId',\n",
    "         'count': '1000',\n",
    "         'offset': '0',\n",
    "        }\n",
    "r = requests.get(api_url, params=query, headers=headers)\n",
    "len(reformat_result(r.json()))"
   ]
  },
  {
   "cell_type": "code",
   "execution_count": 31,
   "metadata": {},
   "outputs": [
    {
     "data": {
      "application/vnd.jupyter.widget-view+json": {
       "model_id": "2c085e844277495b8c908fce59a50eb6",
       "version_major": 2,
       "version_minor": 0
      },
      "text/plain": [
       "HBox(children=(FloatProgress(value=0.0, max=1.0), HTML(value='')))"
      ]
     },
     "metadata": {},
     "output_type": "display_data"
    },
    {
     "name": "stdout",
     "output_type": "stream",
     "text": [
      "\n",
      "798 fos added\n"
     ]
    },
    {
     "data": {
      "application/vnd.jupyter.widget-view+json": {
       "model_id": "67288454ef7b4c348eb8c62f9f8b0cea",
       "version_major": 2,
       "version_minor": 0
      },
      "text/plain": [
       "HBox(children=(FloatProgress(value=0.0, max=798.0), HTML(value='')))"
      ]
     },
     "metadata": {},
     "output_type": "display_data"
    },
    {
     "name": "stdout",
     "output_type": "stream",
     "text": [
      "\n",
      "1662 fos added\n"
     ]
    },
    {
     "data": {
      "application/vnd.jupyter.widget-view+json": {
       "model_id": "648b6092de6c4591bbc0d04d8081a6ad",
       "version_major": 2,
       "version_minor": 0
      },
      "text/plain": [
       "HBox(children=(FloatProgress(value=0.0, max=1662.0), HTML(value='')))"
      ]
     },
     "metadata": {},
     "output_type": "display_data"
    },
    {
     "name": "stdout",
     "output_type": "stream",
     "text": [
      "\n",
      "716 fos added\n"
     ]
    },
    {
     "data": {
      "application/vnd.jupyter.widget-view+json": {
       "model_id": "09ed0987ab034e89bdd20e4fe0b37f1e",
       "version_major": 2,
       "version_minor": 0
      },
      "text/plain": [
       "HBox(children=(FloatProgress(value=0.0, max=716.0), HTML(value='')))"
      ]
     },
     "metadata": {},
     "output_type": "display_data"
    },
    {
     "name": "stdout",
     "output_type": "stream",
     "text": [
      "\n",
      "605 fos added\n"
     ]
    },
    {
     "data": {
      "application/vnd.jupyter.widget-view+json": {
       "model_id": "0cfd9cee493947d2a09d8a3b2adfec8c",
       "version_major": 2,
       "version_minor": 0
      },
      "text/plain": [
       "HBox(children=(FloatProgress(value=0.0, max=605.0), HTML(value='')))"
      ]
     },
     "metadata": {},
     "output_type": "display_data"
    },
    {
     "name": "stdout",
     "output_type": "stream",
     "text": [
      "\n",
      "0 fos added\n"
     ]
    }
   ],
   "source": [
    "while current_fos_dict:\n",
    "    last_fos_list = current_fos_dict.values()\n",
    "    current_fos_dict = {}\n",
    "    \n",
    "    for fos in tqdm(last_fos_list):\n",
    "        time.sleep(1)\n",
    "        query = {'expr': 'And(Ty=\\'6\\',Composite(FP.FId={:d}))'.format(fos['id']),\n",
    "                 'model': 'latest',\n",
    "                 'attributes': 'Id,FN,DFN,FL,FP.FId',\n",
    "                 'count': '1000',\n",
    "                 'offset': '0',\n",
    "                }\n",
    "        r = requests.get(api_url, params=query, headers=headers)\n",
    "        \n",
    "        new_fos_list = reformat_result(r.json())\n",
    "        if len(new_fos_list) == 1000:\n",
    "            print('need to deal with offset')\n",
    "                \n",
    "        for new_fos in new_fos_list:\n",
    "            if new_fos['id'] not in complete_fos_dict and new_fos['id'] not in current_fos_dict:\n",
    "                current_fos_dict[new_fos['id']] = new_fos\n",
    "                complete_fos_dict[new_fos['id']] = new_fos\n",
    "                \n",
    "    print('{:d} fos added'.format(len(current_fos_dict)))"
   ]
  },
  {
   "cell_type": "code",
   "execution_count": 32,
   "metadata": {},
   "outputs": [
    {
     "data": {
      "text/plain": [
       "3782"
      ]
     },
     "execution_count": 32,
     "metadata": {},
     "output_type": "execute_result"
    }
   ],
   "source": [
    "len(complete_fos_dict)"
   ]
  },
  {
   "cell_type": "code",
   "execution_count": 33,
   "metadata": {},
   "outputs": [],
   "source": [
    "with open('./datasets/fos_hierarchy.json', 'w') as f:\n",
    "    json.dump(complete_fos_dict, f)"
   ]
  }
 ],
 "metadata": {
  "kernelspec": {
   "display_name": "Python 3",
   "language": "python",
   "name": "python3"
  },
  "language_info": {
   "codemirror_mode": {
    "name": "ipython",
    "version": 3
   },
   "file_extension": ".py",
   "mimetype": "text/x-python",
   "name": "python",
   "nbconvert_exporter": "python",
   "pygments_lexer": "ipython3",
   "version": "3.7.6"
  }
 },
 "nbformat": 4,
 "nbformat_minor": 4
}
