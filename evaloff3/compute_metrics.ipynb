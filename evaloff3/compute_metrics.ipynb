{
 "cells": [
  {
   "cell_type": "code",
   "execution_count": 25,
   "metadata": {},
   "outputs": [],
   "source": [
    "%%capture\n",
    "import json\n",
    "import os\n",
    "from sklearn.feature_extraction.text import TfidfVectorizer\n",
    "from sklearn.metrics.pairwise import cosine_similarity, cosine_distances\n",
    "import numpy as np\n",
    "import scipy as sp\n",
    "from tqdm.notebook import tqdm"
   ]
  },
  {
   "cell_type": "code",
   "execution_count": 26,
   "metadata": {},
   "outputs": [],
   "source": [
    "RESULTS_DIR_PATH = './results/'\n",
    "TEST_SET_SIZE = 2000"
   ]
  },
  {
   "cell_type": "code",
   "execution_count": 3,
   "metadata": {},
   "outputs": [],
   "source": [
    "DATASET_NAME = 'aan'\n",
    "FULL_SET_PATH = './data/aan_full.json'\n",
    "RAW_OUTPUT_PATH = './results/raw_results_aan.json'\n",
    "FILTERED_OUTPUT_PATH = './results/filtered_results_aan.json'"
   ]
  },
  {
   "cell_type": "code",
   "execution_count": 27,
   "metadata": {},
   "outputs": [],
   "source": [
    "DATASET_NAME = 'dblp'\n",
    "FULL_SET_PATH = './data/dblp_full.json'\n",
    "RAW_OUTPUT_PATH = './results/raw_results_dblp.json'\n",
    "FILTERED_OUTPUT_PATH = './results/filtered_results_dblp.json'"
   ]
  },
  {
   "cell_type": "code",
   "execution_count": 28,
   "metadata": {},
   "outputs": [],
   "source": [
    "with open(FULL_SET_PATH) as f:\n",
    "    full_set = json.load(f)\n",
    "    \n",
    "full_set_dict = dict([(ref['id'], ref) for ref in full_set])"
   ]
  },
  {
   "cell_type": "code",
   "execution_count": 29,
   "metadata": {},
   "outputs": [],
   "source": [
    "results = {}\n",
    "result_files = [f for f in os.listdir(RESULTS_DIR_PATH) if '.json' in f and 'results' not in f and DATASET_NAME in f]\n",
    "\n",
    "for filename in result_files:\n",
    "    method_name = filename.split('_' + DATASET_NAME)[0]\n",
    "    if method_name in results:\n",
    "        with open(RESULTS_DIR_PATH + filename) as file:\n",
    "            results[method_name]['recs'] = json.load(file)\n",
    "    else:\n",
    "        result = {}\n",
    "        result['method_name'] = method_name\n",
    "    \n",
    "        with open(RESULTS_DIR_PATH + filename) as file:\n",
    "            result['recs'] = json.load(file)\n",
    "        \n",
    "        results[method_name] = result"
   ]
  },
  {
   "cell_type": "code",
   "execution_count": 30,
   "metadata": {},
   "outputs": [],
   "source": [
    "corpus = [ref['title'] + ' ' + ref['abstract'] for ref in full_set]\n",
    "vectorizer = TfidfVectorizer(stop_words='english').fit(corpus)"
   ]
  },
  {
   "cell_type": "code",
   "execution_count": 31,
   "metadata": {},
   "outputs": [
    {
     "data": {
      "application/vnd.jupyter.widget-view+json": {
       "model_id": "ce9e30d400bf46628044e51078c313ac",
       "version_major": 2,
       "version_minor": 0
      },
      "text/plain": [
       "HBox(children=(FloatProgress(value=0.0, max=22726.0), HTML(value='')))"
      ]
     },
     "metadata": {},
     "output_type": "display_data"
    },
    {
     "name": "stdout",
     "output_type": "stream",
     "text": [
      "\n"
     ]
    }
   ],
   "source": [
    "for ref in tqdm(full_set):\n",
    "    document = [ref['title'] + ' ' + ref['abstract']]\n",
    "    ref['tfidf_vector'] = vectorizer.transform(document)"
   ]
  },
  {
   "cell_type": "markdown",
   "metadata": {},
   "source": [
    "# Accuracy"
   ]
  },
  {
   "cell_type": "markdown",
   "metadata": {},
   "source": [
    "### Content similarity with user profil"
   ]
  },
  {
   "cell_type": "code",
   "execution_count": 32,
   "metadata": {},
   "outputs": [
    {
     "data": {
      "application/vnd.jupyter.widget-view+json": {
       "model_id": "8692b429e1404b26b58535826159260d",
       "version_major": 2,
       "version_minor": 0
      },
      "text/plain": [
       "HBox(children=(FloatProgress(value=0.0, max=23.0), HTML(value='')))"
      ]
     },
     "metadata": {},
     "output_type": "display_data"
    },
    {
     "name": "stdout",
     "output_type": "stream",
     "text": [
      "\n"
     ]
    }
   ],
   "source": [
    "for result in tqdm(results.values()):\n",
    "    scores = []\n",
    "    \n",
    "    for rec in result['recs']:\n",
    "        if rec['output']:\n",
    "            input_document = []\n",
    "            for paper_id in rec['input']:\n",
    "                input_document.append(full_set_dict[paper_id]['title'] + ' ' + full_set_dict[paper_id]['abstract'])\n",
    "            input_document = ' '.join(input_document)\n",
    "            input_tfidf_array = vectorizer.transform([input_document])\n",
    "\n",
    "            output_tfidf_vectors = [full_set_dict[paper_id]['tfidf_vector'] for paper_id in rec['output']]\n",
    "            output_tfidf_array = sp.sparse.vstack(output_tfidf_vectors)\n",
    "\n",
    "            score = np.mean(cosine_similarity(input_tfidf_array,output_tfidf_array))        \n",
    "\n",
    "            scores.append(score)\n",
    "        else:\n",
    "            scores.append(0)\n",
    "        \n",
    "    result['accuracy_content_tfidf'] = scores"
   ]
  },
  {
   "cell_type": "markdown",
   "metadata": {},
   "source": [
    "### Graph similarity with user profil"
   ]
  },
  {
   "cell_type": "code",
   "execution_count": 33,
   "metadata": {},
   "outputs": [
    {
     "data": {
      "application/vnd.jupyter.widget-view+json": {
       "model_id": "5542f80e069f44f0acad762f5a5e9552",
       "version_major": 2,
       "version_minor": 0
      },
      "text/plain": [
       "HBox(children=(FloatProgress(value=0.0, max=23.0), HTML(value='')))"
      ]
     },
     "metadata": {},
     "output_type": "display_data"
    },
    {
     "name": "stdout",
     "output_type": "stream",
     "text": [
      "\n"
     ]
    }
   ],
   "source": [
    "for result in tqdm(results.values()):\n",
    "    scores = []\n",
    "    \n",
    "    for rec in result['recs']:\n",
    "        if rec['output']:\n",
    "            input_ref_set = set()\n",
    "            for paper_id in rec['input']:\n",
    "                input_ref_set.update(full_set_dict[paper_id]['references'])\n",
    "                input_ref_set.update(full_set_dict[paper_id]['citations'])\n",
    "\n",
    "            partial_scores = []\n",
    "            for paper_id in rec['output']:\n",
    "                ref_set = set()\n",
    "                ref_set.update(full_set_dict[paper_id]['references'])\n",
    "                ref_set.update(full_set_dict[paper_id]['citations'])\n",
    "\n",
    "                intersection = input_ref_set.intersection(ref_set)\n",
    "                union = input_ref_set.union(ref_set)\n",
    "\n",
    "                partial_scores.append(len(intersection)/len(union))\n",
    "\n",
    "            score = np.mean(partial_scores)\n",
    "            scores.append(score)\n",
    "        else:\n",
    "            scores.append(0)\n",
    "        \n",
    "    result['accuracy_graph_jaccard'] = scores"
   ]
  },
  {
   "cell_type": "markdown",
   "metadata": {},
   "source": [
    "# Coverage"
   ]
  },
  {
   "cell_type": "markdown",
   "metadata": {},
   "source": [
    "### Global items coverage"
   ]
  },
  {
   "cell_type": "code",
   "execution_count": 34,
   "metadata": {},
   "outputs": [
    {
     "data": {
      "application/vnd.jupyter.widget-view+json": {
       "model_id": "7653d09dfb98414aa6d1db86007caab4",
       "version_major": 2,
       "version_minor": 0
      },
      "text/plain": [
       "HBox(children=(FloatProgress(value=0.0, max=23.0), HTML(value='')))"
      ]
     },
     "metadata": {},
     "output_type": "display_data"
    },
    {
     "name": "stdout",
     "output_type": "stream",
     "text": [
      "\n"
     ]
    }
   ],
   "source": [
    "for result in tqdm(results.values()):\n",
    "    rec_ids_set = set()\n",
    "    for rec in result['recs']:\n",
    "        rec_ids_set.update(rec['output'])\n",
    "        \n",
    "    result['coverage_item_global'] = len(rec_ids_set) / len(full_set)"
   ]
  },
  {
   "cell_type": "markdown",
   "metadata": {},
   "source": [
    "### Global users coverage"
   ]
  },
  {
   "cell_type": "code",
   "execution_count": 35,
   "metadata": {},
   "outputs": [
    {
     "data": {
      "application/vnd.jupyter.widget-view+json": {
       "model_id": "6feb9745946148b99b633ae95bb8da6d",
       "version_major": 2,
       "version_minor": 0
      },
      "text/plain": [
       "HBox(children=(FloatProgress(value=0.0, max=23.0), HTML(value='')))"
      ]
     },
     "metadata": {},
     "output_type": "display_data"
    },
    {
     "name": "stdout",
     "output_type": "stream",
     "text": [
      "\n"
     ]
    }
   ],
   "source": [
    "for result in tqdm(results.values()):\n",
    "    scores = {}\n",
    "    scores['n_complete'] = len([_ for rec in result['recs'] if len(rec['output']) == 100])\n",
    "    scores['n_empty'] = len([_ for rec in result['recs'] if not rec['output']])\n",
    "    scores['n_incomplete'] = len(result['recs']) - scores['n_complete'] - scores['n_empty']\n",
    "        \n",
    "    result['coverage_user_global'] = scores"
   ]
  },
  {
   "cell_type": "markdown",
   "metadata": {},
   "source": [
    "# Diversity"
   ]
  },
  {
   "cell_type": "markdown",
   "metadata": {},
   "source": [
    "### Infra list content dissimilarity"
   ]
  },
  {
   "cell_type": "code",
   "execution_count": 36,
   "metadata": {},
   "outputs": [
    {
     "data": {
      "application/vnd.jupyter.widget-view+json": {
       "model_id": "b6a893bb98e1439c89d45c964d3971fe",
       "version_major": 2,
       "version_minor": 0
      },
      "text/plain": [
       "HBox(children=(FloatProgress(value=0.0, max=23.0), HTML(value='')))"
      ]
     },
     "metadata": {},
     "output_type": "display_data"
    },
    {
     "name": "stdout",
     "output_type": "stream",
     "text": [
      "\n"
     ]
    }
   ],
   "source": [
    "for result in tqdm(results.values()):\n",
    "    scores = []\n",
    "    \n",
    "    for rec in result['recs']:\n",
    "        if rec['output'] and len(rec['output']) > 1:\n",
    "            partial_scores = []\n",
    "\n",
    "            for current_paper_id in rec['output']:            \n",
    "                current_tfidf_array = full_set_dict[current_paper_id]['tfidf_vector']\n",
    "                other_tfidf_vectors = [full_set_dict[paper_id]['tfidf_vector'] for paper_id in rec['output'] if paper_id != current_paper_id]\n",
    "                other_tfidf_array = sp.sparse.vstack(other_tfidf_vectors)\n",
    "                partial_scores.append(np.mean(cosine_distances(current_tfidf_array,other_tfidf_array)))\n",
    "\n",
    "            score = np.mean(partial_scores)\n",
    "            scores.append(score)\n",
    "        else:\n",
    "            scores.append(0)\n",
    "        \n",
    "    result['diversity_content_tfidf'] = scores"
   ]
  },
  {
   "cell_type": "markdown",
   "metadata": {},
   "source": [
    "### Infra list graph dissimilarity"
   ]
  },
  {
   "cell_type": "code",
   "execution_count": 37,
   "metadata": {},
   "outputs": [
    {
     "data": {
      "application/vnd.jupyter.widget-view+json": {
       "model_id": "d0b7d2a154974a5e9aaeeb550729acd4",
       "version_major": 2,
       "version_minor": 0
      },
      "text/plain": [
       "HBox(children=(FloatProgress(value=0.0, max=23.0), HTML(value='')))"
      ]
     },
     "metadata": {},
     "output_type": "display_data"
    },
    {
     "name": "stdout",
     "output_type": "stream",
     "text": [
      "\n"
     ]
    }
   ],
   "source": [
    "for result in tqdm(results.values()):\n",
    "    scores = []\n",
    "    \n",
    "    for rec in result['recs']:\n",
    "        if rec['output'] and len(rec['output']) > 1:\n",
    "            partial_scores = []\n",
    "\n",
    "            for current_paper_id in rec['output']:\n",
    "                current_ref_set = set()\n",
    "                current_ref_set.update(full_set_dict[current_paper_id]['references'])\n",
    "                current_ref_set.update(full_set_dict[current_paper_id]['citations'])\n",
    "\n",
    "                for other_paper_id in filter(lambda e: e != current_paper_id, rec['output']):\n",
    "                    other_ref_set = set()\n",
    "                    other_ref_set.update(full_set_dict[other_paper_id]['references'])\n",
    "                    other_ref_set.update(full_set_dict[other_paper_id]['citations'])\n",
    "\n",
    "                    intersection = input_ref_set.intersection(other_ref_set)\n",
    "                    union = input_ref_set.union(other_ref_set)\n",
    "\n",
    "                    partial_scores.append(1 - len(intersection)/len(union))\n",
    "\n",
    "            score = np.mean(partial_scores)\n",
    "            scores.append(score)\n",
    "        else:\n",
    "            scores.append(0)\n",
    "        \n",
    "    result['diversity_graph_jaccard'] = scores"
   ]
  },
  {
   "cell_type": "markdown",
   "metadata": {},
   "source": [
    "### Global diversity"
   ]
  },
  {
   "cell_type": "code",
   "execution_count": 38,
   "metadata": {},
   "outputs": [
    {
     "data": {
      "application/vnd.jupyter.widget-view+json": {
       "model_id": "a2deb06dffd6492bbc2dd516a4ea5659",
       "version_major": 2,
       "version_minor": 0
      },
      "text/plain": [
       "HBox(children=(FloatProgress(value=0.0, max=23.0), HTML(value='')))"
      ]
     },
     "metadata": {},
     "output_type": "display_data"
    },
    {
     "name": "stdout",
     "output_type": "stream",
     "text": [
      "\n"
     ]
    }
   ],
   "source": [
    "for result in tqdm(results.values()):\n",
    "    freq_recs = dict([(paper['id'], 0) for paper in full_set])\n",
    "    \n",
    "    for rec in result['recs']:\n",
    "        for paper_id in rec['output']:\n",
    "            freq_recs[paper_id] += 1\n",
    "            \n",
    "    total_recs = sum(freq_recs.values())\n",
    "    \n",
    "    p_recs = [freq / total_recs for freq in freq_recs.values() if freq > 0]\n",
    "        \n",
    "    result['diversity_global'] = -1 * sum([p_rec * np.log2(p_rec) for p_rec in p_recs])"
   ]
  },
  {
   "cell_type": "markdown",
   "metadata": {},
   "source": [
    "# Novelty"
   ]
  },
  {
   "cell_type": "markdown",
   "metadata": {},
   "source": [
    "### Average publication year"
   ]
  },
  {
   "cell_type": "code",
   "execution_count": 39,
   "metadata": {},
   "outputs": [
    {
     "data": {
      "application/vnd.jupyter.widget-view+json": {
       "model_id": "f7c5343194e54260bd80ad57c3b151be",
       "version_major": 2,
       "version_minor": 0
      },
      "text/plain": [
       "HBox(children=(FloatProgress(value=0.0, max=23.0), HTML(value='')))"
      ]
     },
     "metadata": {},
     "output_type": "display_data"
    },
    {
     "name": "stdout",
     "output_type": "stream",
     "text": [
      "\n"
     ]
    }
   ],
   "source": [
    "for result in tqdm(results.values()):\n",
    "    scores = []\n",
    "    \n",
    "    for rec in result['recs']:\n",
    "        if rec['output']:\n",
    "            partial_scores = []\n",
    "            for paper_id in rec['output']:\n",
    "                partial_scores.append(full_set_dict[paper_id]['year'])\n",
    "\n",
    "            score = np.mean(partial_scores)\n",
    "            scores.append(score)\n",
    "        else:\n",
    "            scores.append(0)\n",
    "        \n",
    "    result['novelty_average_pub_year'] = scores"
   ]
  },
  {
   "cell_type": "markdown",
   "metadata": {},
   "source": [
    "### Inverse popularity (approx. by citations)"
   ]
  },
  {
   "cell_type": "code",
   "execution_count": 40,
   "metadata": {},
   "outputs": [
    {
     "data": {
      "application/vnd.jupyter.widget-view+json": {
       "model_id": "250a7eba547544899bfd51fc7f66a10e",
       "version_major": 2,
       "version_minor": 0
      },
      "text/plain": [
       "HBox(children=(FloatProgress(value=0.0, max=23.0), HTML(value='')))"
      ]
     },
     "metadata": {},
     "output_type": "display_data"
    },
    {
     "name": "stdout",
     "output_type": "stream",
     "text": [
      "\n"
     ]
    }
   ],
   "source": [
    "for result in tqdm(results.values()):\n",
    "    scores = []\n",
    "    \n",
    "    for rec in result['recs']:\n",
    "        if rec['output']:\n",
    "            score = []\n",
    "            for paper_id in rec['output']:\n",
    "                n_citations = len(full_set_dict[paper_id]['citations'])\n",
    "                score.append(np.log2((n_citations+1) / len(full_set)))\n",
    "            scores.append(np.mean(score) * -1)\n",
    "        else:\n",
    "            scores.append(0)\n",
    "        \n",
    "    result['novelty_inverse_popularity'] = scores"
   ]
  },
  {
   "cell_type": "markdown",
   "metadata": {},
   "source": [
    "# generate results file"
   ]
  },
  {
   "cell_type": "markdown",
   "metadata": {},
   "source": [
    "### raw results"
   ]
  },
  {
   "cell_type": "code",
   "execution_count": 41,
   "metadata": {},
   "outputs": [],
   "source": [
    "for result in results.values():\n",
    "    result.pop('recs')"
   ]
  },
  {
   "cell_type": "code",
   "execution_count": 42,
   "metadata": {},
   "outputs": [],
   "source": [
    "with open(RAW_OUTPUT_PATH, 'w') as f:\n",
    "    json.dump(results, f)"
   ]
  },
  {
   "cell_type": "markdown",
   "metadata": {},
   "source": [
    "### filtered results"
   ]
  },
  {
   "cell_type": "code",
   "execution_count": 43,
   "metadata": {},
   "outputs": [],
   "source": [
    "invalid_recs_pos = set()\n",
    "\n",
    "for filename in result_files:\n",
    "    with open(RESULTS_DIR_PATH + filename) as file:\n",
    "        for i, rec in enumerate(json.load(file)):\n",
    "            if not rec['output'] or len(rec['output']) < 50:\n",
    "                invalid_recs_pos.add(i)\n",
    "            \n",
    "valid_recs_pos = [i for i in range(TEST_SET_SIZE) if i not in invalid_recs_pos]"
   ]
  },
  {
   "cell_type": "code",
   "execution_count": 44,
   "metadata": {},
   "outputs": [],
   "source": [
    "filtered_results = {}\n",
    "\n",
    "for method_name, result in results.items():\n",
    "    filtered_result = {}\n",
    "    filtered_result['method_name'] = method_name\n",
    "    filtered_result['coverage_item_global'] = result['coverage_item_global']\n",
    "    filtered_result['coverage_user_global'] = result['coverage_user_global']\n",
    "    filtered_result['diversity_global'] = result['diversity_global']\n",
    "    \n",
    "    filtered_result['accuracy_content_tfidf'] = [result['accuracy_content_tfidf'][i] for i in valid_recs_pos]\n",
    "    filtered_result['accuracy_graph_jaccard'] = [result['accuracy_graph_jaccard'][i] for i in valid_recs_pos]\n",
    "    filtered_result['novelty_average_pub_year'] = [result['novelty_average_pub_year'][i] for i in valid_recs_pos]\n",
    "    filtered_result['novelty_inverse_popularity'] = [result['novelty_inverse_popularity'][i] for i in valid_recs_pos]\n",
    "    filtered_result['diversity_graph_jaccard'] = [result['diversity_graph_jaccard'][i] for i in valid_recs_pos]\n",
    "    filtered_result['diversity_content_tfidf'] = [result['diversity_content_tfidf'][i] for i in valid_recs_pos]\n",
    "    \n",
    "    filtered_results[method_name] = filtered_result"
   ]
  },
  {
   "cell_type": "code",
   "execution_count": 45,
   "metadata": {},
   "outputs": [],
   "source": [
    "with open(FILTERED_OUTPUT_PATH, 'w') as f:\n",
    "    json.dump(filtered_results, f)"
   ]
  }
 ],
 "metadata": {
  "kernelspec": {
   "display_name": "Python 3",
   "language": "python",
   "name": "python3"
  },
  "language_info": {
   "codemirror_mode": {
    "name": "ipython",
    "version": 3
   },
   "file_extension": ".py",
   "mimetype": "text/x-python",
   "name": "python",
   "nbconvert_exporter": "python",
   "pygments_lexer": "ipython3",
   "version": "3.7.6"
  }
 },
 "nbformat": 4,
 "nbformat_minor": 4
}
