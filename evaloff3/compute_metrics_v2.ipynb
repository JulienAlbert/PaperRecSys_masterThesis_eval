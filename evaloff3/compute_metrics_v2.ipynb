{
 "cells": [
  {
   "cell_type": "code",
   "execution_count": 1,
   "metadata": {},
   "outputs": [],
   "source": [
    "%%capture\n",
    "import json\n",
    "import os\n",
    "import numpy as np\n",
    "from tqdm.notebook import tqdm"
   ]
  },
  {
   "cell_type": "code",
   "execution_count": 2,
   "metadata": {},
   "outputs": [],
   "source": [
    "RESULTS_DIR_PATH = './results/'\n",
    "TEST_SET_SIZE = 2000"
   ]
  },
  {
   "cell_type": "code",
   "execution_count": 3,
   "metadata": {},
   "outputs": [],
   "source": [
    "DATASET_NAME = 'aan'\n",
    "FULL_SET_PATH = './data/aan_full_with_fos_w.json'\n",
    "RAW_OUTPUT_PATH = './results/raw_results_aan_v2.json'\n",
    "FILTERED_OUTPUT_PATH = './results/filtered_results_aan_v2.json'"
   ]
  },
  {
   "cell_type": "code",
   "execution_count": 24,
   "metadata": {},
   "outputs": [],
   "source": [
    "DATASET_NAME = 'dblp'\n",
    "FULL_SET_PATH = './data/dblp_full_with_fos_w.json'\n",
    "RAW_OUTPUT_PATH = './results/raw_results_dblp_v2.json'\n",
    "FILTERED_OUTPUT_PATH = './results/filtered_results_dblp_v2.json'"
   ]
  },
  {
   "cell_type": "code",
   "execution_count": 25,
   "metadata": {},
   "outputs": [],
   "source": [
    "with open(FULL_SET_PATH) as f:\n",
    "    full_set = json.load(f)\n",
    "    \n",
    "for paper in full_set:\n",
    "    paper['fos_w_dict'] = {t['name']:t['w'] for t in paper['fos_w']}\n",
    "    paper['ref_cit_set'] = set(paper['references'] + paper['citations'])\n",
    "    \n",
    "full_set_dict = dict([(ref['id'], ref) for ref in full_set])"
   ]
  },
  {
   "cell_type": "code",
   "execution_count": 26,
   "metadata": {},
   "outputs": [],
   "source": [
    "results = {}\n",
    "result_files = [f for f in os.listdir(RESULTS_DIR_PATH) if '.json' in f and 'results' not in f and DATASET_NAME in f]\n",
    "\n",
    "for filename in result_files:\n",
    "    method_name = filename.split('_' + DATASET_NAME)[0]\n",
    "    if method_name in results:\n",
    "        with open(RESULTS_DIR_PATH + filename) as file:\n",
    "            results[method_name]['recs'] = json.load(file)\n",
    "    else:\n",
    "        result = {}\n",
    "        result['method_name'] = method_name\n",
    "    \n",
    "        with open(RESULTS_DIR_PATH + filename) as file:\n",
    "            result['recs'] = json.load(file)\n",
    "        \n",
    "        results[method_name] = result"
   ]
  },
  {
   "cell_type": "code",
   "execution_count": 27,
   "metadata": {},
   "outputs": [],
   "source": [
    "def merge_fos_lists(papers):\n",
    "    fos_dict = {}\n",
    "    for paper in papers:\n",
    "        for t in paper['fos_w']:\n",
    "            if t['name'] in fos_dict:\n",
    "                fos_dict[t['name']].append(t['w'])\n",
    "            else:\n",
    "                fos_dict[t['name']] = [t['w']]\n",
    "    \n",
    "    for name, weights in fos_dict.items():\n",
    "        fos_dict[name] = np.mean(weights)\n",
    "        \n",
    "    return fos_dict "
   ]
  },
  {
   "cell_type": "code",
   "execution_count": 28,
   "metadata": {},
   "outputs": [],
   "source": [
    "def content_similarity(fos_dict1, fos_dict2):\n",
    "    dot_product = sum([weight1*fos_dict2[name1] for name1, weight1 in fos_dict1.items() if name1 in fos_dict2])\n",
    "\n",
    "    norm1 = sum([weight*weight for weight in fos_dict1.values()]) ** 0.5\n",
    "    norm2 = sum([weight*weight for weight in fos_dict2.values()]) ** 0.5\n",
    "    \n",
    "    return dot_product / (norm1 * norm2)"
   ]
  },
  {
   "cell_type": "code",
   "execution_count": 29,
   "metadata": {},
   "outputs": [],
   "source": [
    "def graph_similarity(paper_set1, paper_set2):\n",
    "    intersection = paper_set1.intersection(paper_set2)\n",
    "    union = paper_set1.union(paper_set2)\n",
    "    \n",
    "    return len(intersection) / len(union)"
   ]
  },
  {
   "cell_type": "markdown",
   "metadata": {},
   "source": [
    "# Accuracy"
   ]
  },
  {
   "cell_type": "markdown",
   "metadata": {},
   "source": [
    "### Content similarity with user profil"
   ]
  },
  {
   "cell_type": "code",
   "execution_count": 30,
   "metadata": {},
   "outputs": [
    {
     "data": {
      "application/vnd.jupyter.widget-view+json": {
       "model_id": "e9502cfee5ae4241a0955ee0445f97c9",
       "version_major": 2,
       "version_minor": 0
      },
      "text/plain": [
       "HBox(children=(FloatProgress(value=0.0, max=26.0), HTML(value='')))"
      ]
     },
     "metadata": {},
     "output_type": "display_data"
    },
    {
     "name": "stdout",
     "output_type": "stream",
     "text": [
      "\n"
     ]
    }
   ],
   "source": [
    "for result in tqdm(results.values()):\n",
    "    scores = []\n",
    "    \n",
    "    for rec in result['recs']:   \n",
    "        if rec['output']:\n",
    "            partial_scores = []\n",
    "            input_fos_dict = merge_fos_lists([full_set_dict[paper_id] for paper_id in rec['input']])\n",
    "            \n",
    "            for output_paper_id in rec['output']:\n",
    "                partial_scores.append(content_similarity(input_fos_dict, full_set_dict[output_paper_id]['fos_w_dict']))\n",
    " \n",
    "            score = np.mean(partial_scores)        \n",
    "\n",
    "            scores.append(score)\n",
    "        else:\n",
    "            scores.append(0)\n",
    "        \n",
    "    result['accuracy_content_foscosine'] = scores"
   ]
  },
  {
   "cell_type": "markdown",
   "metadata": {},
   "source": [
    "### Graph similarity with user profil"
   ]
  },
  {
   "cell_type": "code",
   "execution_count": 31,
   "metadata": {},
   "outputs": [
    {
     "data": {
      "application/vnd.jupyter.widget-view+json": {
       "model_id": "de8d17f7b1e043799f9687436ce0767d",
       "version_major": 2,
       "version_minor": 0
      },
      "text/plain": [
       "HBox(children=(FloatProgress(value=0.0, max=26.0), HTML(value='')))"
      ]
     },
     "metadata": {},
     "output_type": "display_data"
    },
    {
     "name": "stdout",
     "output_type": "stream",
     "text": [
      "\n"
     ]
    }
   ],
   "source": [
    "for result in tqdm(results.values()):\n",
    "    scores = []\n",
    "    \n",
    "    for rec in result['recs']:\n",
    "        if rec['output']:\n",
    "            input_ref_set = set()\n",
    "            for paper_id in rec['input']:\n",
    "                input_ref_set.update(full_set_dict[paper_id]['references'])\n",
    "                input_ref_set.update(full_set_dict[paper_id]['citations'])\n",
    "\n",
    "            partial_scores = []\n",
    "            for paper_id in rec['output']:\n",
    "                partial_scores.append(graph_similarity(input_ref_set, full_set_dict[paper_id]['ref_cit_set']))\n",
    "\n",
    "            score = np.mean(partial_scores)\n",
    "            scores.append(score)\n",
    "        else:\n",
    "            scores.append(0)\n",
    "        \n",
    "    result['accuracy_graph_cosine'] = scores"
   ]
  },
  {
   "cell_type": "markdown",
   "metadata": {},
   "source": [
    "# Coverage"
   ]
  },
  {
   "cell_type": "markdown",
   "metadata": {},
   "source": [
    "### Global items coverage"
   ]
  },
  {
   "cell_type": "code",
   "execution_count": 32,
   "metadata": {},
   "outputs": [
    {
     "data": {
      "application/vnd.jupyter.widget-view+json": {
       "model_id": "e50a25cc0faa449089d07e20842ef319",
       "version_major": 2,
       "version_minor": 0
      },
      "text/plain": [
       "HBox(children=(FloatProgress(value=0.0, max=26.0), HTML(value='')))"
      ]
     },
     "metadata": {},
     "output_type": "display_data"
    },
    {
     "name": "stdout",
     "output_type": "stream",
     "text": [
      "\n"
     ]
    }
   ],
   "source": [
    "for result in tqdm(results.values()):\n",
    "    rec_ids_set = set()\n",
    "    for rec in result['recs']:\n",
    "        rec_ids_set.update(rec['output'])\n",
    "        \n",
    "    result['coverage_item_global'] = len(rec_ids_set) / len(full_set)"
   ]
  },
  {
   "cell_type": "markdown",
   "metadata": {},
   "source": [
    "### Global users coverage"
   ]
  },
  {
   "cell_type": "code",
   "execution_count": 33,
   "metadata": {},
   "outputs": [
    {
     "data": {
      "application/vnd.jupyter.widget-view+json": {
       "model_id": "40113fb3292841e8b78d043bf650f52f",
       "version_major": 2,
       "version_minor": 0
      },
      "text/plain": [
       "HBox(children=(FloatProgress(value=0.0, max=26.0), HTML(value='')))"
      ]
     },
     "metadata": {},
     "output_type": "display_data"
    },
    {
     "name": "stdout",
     "output_type": "stream",
     "text": [
      "\n"
     ]
    }
   ],
   "source": [
    "for result in tqdm(results.values()):\n",
    "    scores = {}\n",
    "    scores['n_complete'] = len([_ for rec in result['recs'] if len(rec['output']) == 100])\n",
    "    scores['n_empty'] = len([_ for rec in result['recs'] if not rec['output']])\n",
    "    scores['n_incomplete'] = len(result['recs']) - scores['n_complete'] - scores['n_empty']\n",
    "        \n",
    "    result['coverage_user_global'] = scores"
   ]
  },
  {
   "cell_type": "markdown",
   "metadata": {},
   "source": [
    "# Diversity"
   ]
  },
  {
   "cell_type": "markdown",
   "metadata": {},
   "source": [
    "### Infra list content dissimilarity"
   ]
  },
  {
   "cell_type": "code",
   "execution_count": 34,
   "metadata": {},
   "outputs": [
    {
     "data": {
      "application/vnd.jupyter.widget-view+json": {
       "model_id": "52618f911db34432baa52b4549337c93",
       "version_major": 2,
       "version_minor": 0
      },
      "text/plain": [
       "HBox(children=(FloatProgress(value=0.0, max=26.0), HTML(value='')))"
      ]
     },
     "metadata": {},
     "output_type": "display_data"
    },
    {
     "name": "stdout",
     "output_type": "stream",
     "text": [
      "\n"
     ]
    }
   ],
   "source": [
    "for result in tqdm(results.values()):\n",
    "    scores = []\n",
    "    \n",
    "    for rec in result['recs']:\n",
    "        if rec['output'] and len(rec['output']) > 1:\n",
    "            partial_scores = []\n",
    "\n",
    "            ids_stack = rec['output'].copy()\n",
    "            current_id = ids_stack.pop()\n",
    "            while ids_stack:\n",
    "                for other_id in ids_stack:\n",
    "                    partial_scores.append(1-content_similarity(full_set_dict[current_id]['fos_w_dict'],\n",
    "                                                               full_set_dict[other_id]['fos_w_dict']))\n",
    "                \n",
    "                current_id = ids_stack.pop()\n",
    "            \n",
    "            score = np.mean(partial_scores)\n",
    "            scores.append(score)\n",
    "        else:\n",
    "            scores.append(0)\n",
    "        \n",
    "    result['diversity_content_foscosine'] = scores"
   ]
  },
  {
   "cell_type": "markdown",
   "metadata": {},
   "source": [
    "### Infra list graph dissimilarity"
   ]
  },
  {
   "cell_type": "code",
   "execution_count": 35,
   "metadata": {},
   "outputs": [
    {
     "data": {
      "application/vnd.jupyter.widget-view+json": {
       "model_id": "f8937856389344d29cb5c90b1aa7a5e6",
       "version_major": 2,
       "version_minor": 0
      },
      "text/plain": [
       "HBox(children=(FloatProgress(value=0.0, max=26.0), HTML(value='')))"
      ]
     },
     "metadata": {},
     "output_type": "display_data"
    },
    {
     "name": "stdout",
     "output_type": "stream",
     "text": [
      "\n"
     ]
    }
   ],
   "source": [
    "for result in tqdm(results.values()):\n",
    "    scores = []\n",
    "    \n",
    "    for rec in result['recs']:\n",
    "        if rec['output'] and len(rec['output']) > 1:\n",
    "            partial_scores = []\n",
    "            \n",
    "            ids_stack = rec['output'].copy()\n",
    "            current_id = ids_stack.pop()\n",
    "            while ids_stack:\n",
    "                for other_id in ids_stack:\n",
    "                    partial_scores.append(1-graph_similarity(full_set_dict[current_id]['ref_cit_set'],\n",
    "                                                             full_set_dict[other_id]['ref_cit_set']))\n",
    "                                         \n",
    "                    current_id = ids_stack.pop()\n",
    "\n",
    "            score = np.mean(partial_scores)\n",
    "            scores.append(score)\n",
    "        else:\n",
    "            scores.append(0)\n",
    "        \n",
    "    result['diversity_graph_cosine'] = scores"
   ]
  },
  {
   "cell_type": "markdown",
   "metadata": {},
   "source": [
    "### Global diversity"
   ]
  },
  {
   "cell_type": "code",
   "execution_count": 36,
   "metadata": {},
   "outputs": [
    {
     "data": {
      "application/vnd.jupyter.widget-view+json": {
       "model_id": "05a2c45e087544469fa06cee0baab377",
       "version_major": 2,
       "version_minor": 0
      },
      "text/plain": [
       "HBox(children=(FloatProgress(value=0.0, max=26.0), HTML(value='')))"
      ]
     },
     "metadata": {},
     "output_type": "display_data"
    },
    {
     "name": "stdout",
     "output_type": "stream",
     "text": [
      "\n"
     ]
    }
   ],
   "source": [
    "for result in tqdm(results.values()):\n",
    "    freq_recs = dict([(paper['id'], 0) for paper in full_set])\n",
    "    \n",
    "    for rec in result['recs']:\n",
    "        for paper_id in rec['output']:\n",
    "            freq_recs[paper_id] += 1\n",
    "            \n",
    "    total_recs = sum(freq_recs.values())\n",
    "    \n",
    "    p_recs = [freq / total_recs for freq in freq_recs.values() if freq > 0]\n",
    "        \n",
    "    result['diversity_global'] = -1 * sum([p_rec * np.log2(p_rec) for p_rec in p_recs])"
   ]
  },
  {
   "cell_type": "markdown",
   "metadata": {},
   "source": [
    "# Novelty"
   ]
  },
  {
   "cell_type": "markdown",
   "metadata": {},
   "source": [
    "### Average publication year"
   ]
  },
  {
   "cell_type": "code",
   "execution_count": 37,
   "metadata": {},
   "outputs": [
    {
     "data": {
      "application/vnd.jupyter.widget-view+json": {
       "model_id": "0b1cf4baf8f540cd9822ad3dd5d4aa28",
       "version_major": 2,
       "version_minor": 0
      },
      "text/plain": [
       "HBox(children=(FloatProgress(value=0.0, max=26.0), HTML(value='')))"
      ]
     },
     "metadata": {},
     "output_type": "display_data"
    },
    {
     "name": "stdout",
     "output_type": "stream",
     "text": [
      "\n"
     ]
    }
   ],
   "source": [
    "for result in tqdm(results.values()):\n",
    "    scores = []\n",
    "    \n",
    "    for rec in result['recs']:\n",
    "        if rec['output']:\n",
    "            partial_scores = []\n",
    "            for paper_id in rec['output']:\n",
    "                partial_scores.append(full_set_dict[paper_id]['year'])\n",
    "\n",
    "            score = np.mean(partial_scores)\n",
    "            scores.append(score)\n",
    "        else:\n",
    "            scores.append(0)\n",
    "        \n",
    "    result['novelty_average_pub_year'] = scores"
   ]
  },
  {
   "cell_type": "markdown",
   "metadata": {},
   "source": [
    "### Inverse popularity (approx. by citations)"
   ]
  },
  {
   "cell_type": "code",
   "execution_count": 38,
   "metadata": {},
   "outputs": [
    {
     "data": {
      "application/vnd.jupyter.widget-view+json": {
       "model_id": "bfb108ae810a4ca8b0c13b93ddfc8428",
       "version_major": 2,
       "version_minor": 0
      },
      "text/plain": [
       "HBox(children=(FloatProgress(value=0.0, max=26.0), HTML(value='')))"
      ]
     },
     "metadata": {},
     "output_type": "display_data"
    },
    {
     "name": "stdout",
     "output_type": "stream",
     "text": [
      "\n"
     ]
    }
   ],
   "source": [
    "for result in tqdm(results.values()):\n",
    "    scores = []\n",
    "    \n",
    "    for rec in result['recs']:\n",
    "        if rec['output']:\n",
    "            score = []\n",
    "            for paper_id in rec['output']:\n",
    "                n_citations = len(full_set_dict[paper_id]['citations'])\n",
    "                score.append(np.log2((n_citations+1) / len(full_set)))\n",
    "            scores.append(np.mean(score) * -1)\n",
    "        else:\n",
    "            scores.append(0)\n",
    "        \n",
    "    result['novelty_inverse_popularity'] = scores"
   ]
  },
  {
   "cell_type": "markdown",
   "metadata": {},
   "source": [
    "# generate results file"
   ]
  },
  {
   "cell_type": "markdown",
   "metadata": {},
   "source": [
    "### raw results"
   ]
  },
  {
   "cell_type": "code",
   "execution_count": 39,
   "metadata": {},
   "outputs": [],
   "source": [
    "for result in results.values():\n",
    "    result.pop('recs')"
   ]
  },
  {
   "cell_type": "code",
   "execution_count": 40,
   "metadata": {},
   "outputs": [],
   "source": [
    "with open(RAW_OUTPUT_PATH, 'w') as f:\n",
    "    json.dump(results, f)"
   ]
  },
  {
   "cell_type": "markdown",
   "metadata": {},
   "source": [
    "### filtered results"
   ]
  },
  {
   "cell_type": "code",
   "execution_count": 41,
   "metadata": {},
   "outputs": [],
   "source": [
    "invalid_recs_pos = set()\n",
    "\n",
    "for filename in result_files:\n",
    "    with open(RESULTS_DIR_PATH + filename) as file:\n",
    "        for i, rec in enumerate(json.load(file)):\n",
    "            if not rec['output'] or len(rec['output']) < 50:\n",
    "                invalid_recs_pos.add(i)\n",
    "            \n",
    "valid_recs_pos = [i for i in range(TEST_SET_SIZE) if i not in invalid_recs_pos]"
   ]
  },
  {
   "cell_type": "code",
   "execution_count": 42,
   "metadata": {},
   "outputs": [],
   "source": [
    "filtered_results = {}\n",
    "\n",
    "for method_name, result in results.items():\n",
    "    filtered_result = {}\n",
    "    filtered_result['method_name'] = method_name\n",
    "    filtered_result['coverage_item_global'] = result['coverage_item_global']\n",
    "    filtered_result['coverage_user_global'] = result['coverage_user_global']\n",
    "    filtered_result['diversity_global'] = result['diversity_global']\n",
    "    \n",
    "    filtered_result['accuracy_content_foscosine'] = [result['accuracy_content_foscosine'][i] for i in valid_recs_pos]\n",
    "    filtered_result['accuracy_graph_cosine'] = [result['accuracy_graph_cosine'][i] for i in valid_recs_pos]\n",
    "    filtered_result['novelty_average_pub_year'] = [result['novelty_average_pub_year'][i] for i in valid_recs_pos]\n",
    "    filtered_result['novelty_inverse_popularity'] = [result['novelty_inverse_popularity'][i] for i in valid_recs_pos]\n",
    "    filtered_result['diversity_graph_cosine'] = [result['diversity_graph_cosine'][i] for i in valid_recs_pos]\n",
    "    filtered_result['diversity_content_foscosine'] = [result['diversity_content_foscosine'][i] for i in valid_recs_pos]\n",
    "    \n",
    "    filtered_results[method_name] = filtered_result"
   ]
  },
  {
   "cell_type": "code",
   "execution_count": 43,
   "metadata": {},
   "outputs": [],
   "source": [
    "with open(FILTERED_OUTPUT_PATH, 'w') as f:\n",
    "    json.dump(filtered_results, f)"
   ]
  }
 ],
 "metadata": {
  "kernelspec": {
   "display_name": "Python 3",
   "language": "python",
   "name": "python3"
  },
  "language_info": {
   "codemirror_mode": {
    "name": "ipython",
    "version": 3
   },
   "file_extension": ".py",
   "mimetype": "text/x-python",
   "name": "python",
   "nbconvert_exporter": "python",
   "pygments_lexer": "ipython3",
   "version": "3.7.6"
  }
 },
 "nbformat": 4,
 "nbformat_minor": 4
}
