{
 "cells": [
  {
   "cell_type": "code",
   "execution_count": 1,
   "metadata": {},
   "outputs": [],
   "source": [
    "%%capture\n",
    "import json\n",
    "from sklearn.metrics.pairwise import cosine_similarity\n",
    "from tqdm.notebook import tqdm\n",
    "import numpy as np\n",
    "import networkx as nx\n",
    "import random\n",
    "from gensim.models import Word2Vec"
   ]
  },
  {
   "cell_type": "code",
   "execution_count": null,
   "metadata": {},
   "outputs": [],
   "source": [
    "FULL_SET_PATH = './data/aan_full.json'\n",
    "TEST_SET_PATH = './data/aan_test.json'\n",
    "DIRECTED_OUTPUT_PATH = './results/base_deepwalkcosine_directed_aan.json'\n",
    "UNDIRECTED_OUTPUT_PATH = './results/base_deepwalkcosine_undirected_aan.json'"
   ]
  },
  {
   "cell_type": "code",
   "execution_count": 2,
   "metadata": {},
   "outputs": [],
   "source": [
    "FULL_SET_PATH = './data/dblp_full.json'\n",
    "TEST_SET_PATH = './data/dblp_test.json'\n",
    "DIRECTED_OUTPUT_PATH = './results/base_deepwalkcosine_directed_dblp.json'\n",
    "UNDIRECTED_OUTPUT_PATH = './results/base_deepwalkcosine_undirected_dblp.json'"
   ]
  },
  {
   "cell_type": "code",
   "execution_count": 3,
   "metadata": {},
   "outputs": [],
   "source": [
    "with open(FULL_SET_PATH) as f:\n",
    "    full_set = json.load(f)\n",
    "\n",
    "directed_citation_graph = nx.DiGraph()\n",
    "for paper in full_set:\n",
    "    for ref_id in paper['references']:\n",
    "        directed_citation_graph.add_edge(paper['id'], ref_id)\n",
    "        \n",
    "undirected_citation_graph = directed_citation_graph.to_undirected()"
   ]
  },
  {
   "cell_type": "code",
   "execution_count": 4,
   "metadata": {},
   "outputs": [],
   "source": [
    "paper_ids = [paper['id'] for paper in full_set]"
   ]
  },
  {
   "cell_type": "code",
   "execution_count": 5,
   "metadata": {},
   "outputs": [],
   "source": [
    "# inspire by https://github.com/phanein/deepwalk/\n",
    "\n",
    "def deepwalk(G, number_walks=10, representation_size=64, seed=0, walk_length=40, window_size=5, workers=1):\n",
    "    \n",
    "    # build deepwalk corpus\n",
    "    walks = []\n",
    "    nodes = list(G.nodes())\n",
    "    random.seed(seed)\n",
    "  \n",
    "    for _ in range(number_walks):\n",
    "        random.shuffle(nodes)\n",
    "        for node in nodes:\n",
    "            # random walk\n",
    "            path = [node]\n",
    "\n",
    "            while len(path) < walk_length:\n",
    "                current = path[-1]\n",
    "                current_neighbors = list(G[current])\n",
    "                if current_neighbors:\n",
    "                    path.append(random.choice(current_neighbors))\n",
    "                else:\n",
    "                    break\n",
    "                    \n",
    "            #return [str(node) for node in path] \n",
    "            walks.append(path)\n",
    "\n",
    "    # build model\n",
    "    model = Word2Vec(walks, size=representation_size, window=window_size, min_count=0, sg=1, hs=1, workers=workers)    \n",
    "    \n",
    "    return model.wv"
   ]
  },
  {
   "cell_type": "code",
   "execution_count": 6,
   "metadata": {},
   "outputs": [],
   "source": [
    "model_undirected = deepwalk(undirected_citation_graph)\n",
    "model_directed = deepwalk(directed_citation_graph)"
   ]
  },
  {
   "cell_type": "code",
   "execution_count": 7,
   "metadata": {},
   "outputs": [],
   "source": [
    "directed_paper_deepwalk_vectors = [model_directed.get_vector(paper['id']) for paper in full_set]\n",
    "directed_paper_deepwalk_array = np.vstack(directed_paper_deepwalk_vectors)"
   ]
  },
  {
   "cell_type": "code",
   "execution_count": 8,
   "metadata": {},
   "outputs": [],
   "source": [
    "undirected_paper_deepwalk_vectors = [model_undirected.get_vector(paper['id']) for paper in full_set]\n",
    "undirected_paper_deepwalk_array = np.vstack(undirected_paper_deepwalk_vectors)"
   ]
  },
  {
   "cell_type": "code",
   "execution_count": 9,
   "metadata": {},
   "outputs": [],
   "source": [
    "with open(TEST_SET_PATH) as f:\n",
    "    test_set = json.load(f)"
   ]
  },
  {
   "cell_type": "markdown",
   "metadata": {},
   "source": [
    "# directed variant"
   ]
  },
  {
   "cell_type": "code",
   "execution_count": 10,
   "metadata": {},
   "outputs": [
    {
     "data": {
      "application/vnd.jupyter.widget-view+json": {
       "model_id": "728590eaba154c2bba80930abce9960b",
       "version_major": 2,
       "version_minor": 0
      },
      "text/plain": [
       "HBox(children=(FloatProgress(value=0.0, max=3.0), HTML(value='')))"
      ]
     },
     "metadata": {},
     "output_type": "display_data"
    },
    {
     "name": "stdout",
     "output_type": "stream",
     "text": [
      "\n"
     ]
    }
   ],
   "source": [
    "paper_deepwalk_array = directed_paper_deepwalk_array\n",
    "\n",
    "partial_score_arrays = []\n",
    "for i in tqdm(range(3)):\n",
    "    partial_input_ids = [input_papers[i]['id'] for input_papers in test_set]\n",
    "    input_deepwalk_vectors = [model_directed.get_vector(paper_id) for paper_id in partial_input_ids]\n",
    "    \n",
    "    input_deepwalk_array = np.vstack(input_deepwalk_vectors)\n",
    "\n",
    "    partial_score_arrays.append(cosine_similarity(input_deepwalk_array, paper_deepwalk_array))\n",
    "\n",
    "score_array = sum(partial_score_arrays)"
   ]
  },
  {
   "cell_type": "code",
   "execution_count": 11,
   "metadata": {},
   "outputs": [
    {
     "data": {
      "application/vnd.jupyter.widget-view+json": {
       "model_id": "e400ac5e48c44b95ac23d3a42135480a",
       "version_major": 2,
       "version_minor": 0
      },
      "text/plain": [
       "HBox(children=(FloatProgress(value=1.0, bar_style='info', max=1.0), HTML(value='')))"
      ]
     },
     "metadata": {},
     "output_type": "display_data"
    },
    {
     "name": "stdout",
     "output_type": "stream",
     "text": [
      "\n"
     ]
    }
   ],
   "source": [
    "results = []\n",
    "\n",
    "for input_papers, scores  in tqdm(zip(test_set, score_array.tolist())):\n",
    "    result = {}\n",
    "    result['input'] = [input_paper['id'] for input_paper in input_papers]\n",
    "    input_paper_ids_set = set(result['input'])\n",
    "    \n",
    "    candidate_scores = list(zip(paper_ids, scores))     \n",
    "    candidate_scores.sort(key=lambda x: x[1], reverse=True)\n",
    "    filtered_candidate_scores = [cs for cs in candidate_scores if cs[0] not in input_paper_ids_set]\n",
    "    \n",
    "    result['output'] = [cs[0] for cs in filtered_candidate_scores[:100]]\n",
    "    results.append(result)"
   ]
  },
  {
   "cell_type": "code",
   "execution_count": 12,
   "metadata": {},
   "outputs": [],
   "source": [
    "with open(DIRECTED_OUTPUT_PATH, 'w') as f:\n",
    "    json.dump(results, f)"
   ]
  },
  {
   "cell_type": "markdown",
   "metadata": {},
   "source": [
    "# undirected variant"
   ]
  },
  {
   "cell_type": "code",
   "execution_count": 13,
   "metadata": {},
   "outputs": [
    {
     "data": {
      "application/vnd.jupyter.widget-view+json": {
       "model_id": "7b7354ce31d6406d858190638a588ec9",
       "version_major": 2,
       "version_minor": 0
      },
      "text/plain": [
       "HBox(children=(FloatProgress(value=0.0, max=3.0), HTML(value='')))"
      ]
     },
     "metadata": {},
     "output_type": "display_data"
    },
    {
     "name": "stdout",
     "output_type": "stream",
     "text": [
      "\n"
     ]
    }
   ],
   "source": [
    "paper_deepwalk_array = undirected_paper_deepwalk_array\n",
    "\n",
    "partial_score_arrays = []\n",
    "for i in tqdm(range(3)):\n",
    "    partial_input_ids = [input_papers[i]['id'] for input_papers in test_set]\n",
    "    input_deepwalk_vectors = [model_undirected.get_vector(paper_id) for paper_id in partial_input_ids]\n",
    "    \n",
    "    input_deepwalk_array = np.vstack(input_deepwalk_vectors)\n",
    "\n",
    "    partial_score_arrays.append(cosine_similarity(input_deepwalk_array, paper_deepwalk_array))\n",
    "\n",
    "score_array = sum(partial_score_arrays)"
   ]
  },
  {
   "cell_type": "code",
   "execution_count": 14,
   "metadata": {},
   "outputs": [
    {
     "data": {
      "application/vnd.jupyter.widget-view+json": {
       "model_id": "711c3853b4c04a86950945dadd1bd115",
       "version_major": 2,
       "version_minor": 0
      },
      "text/plain": [
       "HBox(children=(FloatProgress(value=1.0, bar_style='info', max=1.0), HTML(value='')))"
      ]
     },
     "metadata": {},
     "output_type": "display_data"
    },
    {
     "name": "stdout",
     "output_type": "stream",
     "text": [
      "\n"
     ]
    }
   ],
   "source": [
    "results = []\n",
    "\n",
    "for input_papers, scores  in tqdm(zip(test_set, score_array.tolist())):\n",
    "    result = {}\n",
    "    result['input'] = [input_paper['id'] for input_paper in input_papers]\n",
    "    input_paper_ids_set = set(result['input'])\n",
    "    \n",
    "    candidate_scores = list(zip(paper_ids, scores))     \n",
    "    candidate_scores.sort(key=lambda x: x[1], reverse=True)\n",
    "    filtered_candidate_scores = [cs for cs in candidate_scores if cs[0] not in input_paper_ids_set]\n",
    "    \n",
    "    result['output'] = [cs[0] for cs in filtered_candidate_scores[:100]]\n",
    "    results.append(result)"
   ]
  },
  {
   "cell_type": "code",
   "execution_count": 15,
   "metadata": {},
   "outputs": [],
   "source": [
    "with open(UNDIRECTED_OUTPUT_PATH, 'w') as f:\n",
    "    json.dump(results, f)"
   ]
  }
 ],
 "metadata": {
  "kernelspec": {
   "display_name": "Python 3",
   "language": "python",
   "name": "python3"
  },
  "language_info": {
   "codemirror_mode": {
    "name": "ipython",
    "version": 3
   },
   "file_extension": ".py",
   "mimetype": "text/x-python",
   "name": "python",
   "nbconvert_exporter": "python",
   "pygments_lexer": "ipython3",
   "version": "3.7.6"
  }
 },
 "nbformat": 4,
 "nbformat_minor": 4
}
