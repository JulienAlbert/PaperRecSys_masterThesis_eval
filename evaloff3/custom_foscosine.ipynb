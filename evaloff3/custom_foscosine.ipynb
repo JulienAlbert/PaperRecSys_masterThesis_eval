{
 "cells": [
  {
   "cell_type": "code",
   "execution_count": 1,
   "metadata": {},
   "outputs": [],
   "source": [
    "%%capture\n",
    "import json\n",
    "from tqdm.notebook import tqdm\n",
    "import numpy as np"
   ]
  },
  {
   "cell_type": "code",
   "execution_count": 2,
   "metadata": {},
   "outputs": [],
   "source": [
    "FULL_SET_PATH = './data/aan_full_with_fos_w.json'\n",
    "TEST_SET_PATH = './data/aan_test.json'\n",
    "OUTPUT_PATH = './results/custom_foscosine_aan.json'"
   ]
  },
  {
   "cell_type": "code",
   "execution_count": 15,
   "metadata": {},
   "outputs": [],
   "source": [
    "FULL_SET_PATH = './data/dblp_full_with_fos_w.json'\n",
    "TEST_SET_PATH = './data/dblp_test.json'\n",
    "OUTPUT_PATH = './results/custom_foscosine_dblp.json'"
   ]
  },
  {
   "cell_type": "code",
   "execution_count": 16,
   "metadata": {},
   "outputs": [],
   "source": [
    "with open(FULL_SET_PATH) as f:\n",
    "    full_set = json.load(f)\n",
    "    \n",
    "full_set_dict = dict([(paper['id'], paper) for paper in full_set])\n",
    "paper_ids = [paper['id'] for paper in full_set]"
   ]
  },
  {
   "cell_type": "code",
   "execution_count": 17,
   "metadata": {},
   "outputs": [],
   "source": [
    "with open(TEST_SET_PATH) as f:\n",
    "    test_set = json.load(f)"
   ]
  },
  {
   "cell_type": "code",
   "execution_count": 18,
   "metadata": {},
   "outputs": [],
   "source": [
    "def merge_fos_lists(papers):\n",
    "    fos_dict = {}\n",
    "    for paper in papers:\n",
    "        for t in paper['fos_w']:\n",
    "            if t['name'] in fos_dict:\n",
    "                fos_dict[t['name']].append(t['w'])\n",
    "            else:\n",
    "                fos_dict[t['name']] = [t['w']]\n",
    "    \n",
    "    for name, weights in fos_dict.items():\n",
    "        fos_dict[name] = np.mean(weights)\n",
    "        \n",
    "    return fos_dict"
   ]
  },
  {
   "cell_type": "code",
   "execution_count": 19,
   "metadata": {},
   "outputs": [
    {
     "data": {
      "text/plain": [
       "{'name1': 0.0, 'name2': 0.5, 'name3': 0.5, 'name4': 1.0}"
      ]
     },
     "execution_count": 19,
     "metadata": {},
     "output_type": "execute_result"
    }
   ],
   "source": [
    "# testing merge_fos_lists\n",
    "list1 = [{'name':'name1','w':0}, {'name':'name2','w':0}, {'name':'name3','w':0}]\n",
    "list2 = [{'name':'name2','w':1}, {'name':'name3','w':1}, {'name':'name4','w':1}]\n",
    "\n",
    "merge_fos_lists([{'fos_w':list1}, {'fos_w':list2}])"
   ]
  },
  {
   "cell_type": "code",
   "execution_count": 20,
   "metadata": {},
   "outputs": [],
   "source": [
    "def compute_cosine_similarity(fos_dict1, fos_dict2):\n",
    "    dot_product = sum([weight1*fos_dict2[name1] for name1, weight1 in fos_dict1.items() if name1 in fos_dict2])\n",
    "\n",
    "    norm1 = sum([weight*weight for weight in fos_dict1.values()]) ** 0.5\n",
    "    norm2 = sum([weight*weight for weight in fos_dict2.values()]) ** 0.5\n",
    "    \n",
    "    return dot_product / (norm1 * norm2)"
   ]
  },
  {
   "cell_type": "code",
   "execution_count": 21,
   "metadata": {},
   "outputs": [
    {
     "data": {
      "text/plain": [
       "1.0000000000000002"
      ]
     },
     "execution_count": 21,
     "metadata": {},
     "output_type": "execute_result"
    }
   ],
   "source": [
    "# testing compute_cosine_similarity\n",
    "fos_dict1 = {'name1': 0.0, 'name2': 0.5, 'name3': 0.5, 'name4': 1.0}\n",
    "fos_dict2 = {'name1': 0.0, 'name2': 0.5, 'name3': 0.5, 'name4': 1.0}\n",
    "\n",
    "compute_cosine_similarity(fos_dict1, fos_dict2)"
   ]
  },
  {
   "cell_type": "code",
   "execution_count": 22,
   "metadata": {},
   "outputs": [
    {
     "data": {
      "application/vnd.jupyter.widget-view+json": {
       "model_id": "c270d68fb12c4573993ae8cfff4ab40a",
       "version_major": 2,
       "version_minor": 0
      },
      "text/plain": [
       "HBox(children=(FloatProgress(value=0.0, max=2000.0), HTML(value='')))"
      ]
     },
     "metadata": {},
     "output_type": "display_data"
    },
    {
     "name": "stdout",
     "output_type": "stream",
     "text": [
      "\n"
     ]
    }
   ],
   "source": [
    "candidate_score_tuples_list = []\n",
    "for input_papers in tqdm(test_set):\n",
    "    candidate_score_tuples = []\n",
    "    input_fos_dict = merge_fos_lists([full_set_dict[paper['id']] for paper in input_papers])\n",
    "    \n",
    "    for paper in full_set:\n",
    "        candidate_fos_dict = {t['name']:t['w'] for t in paper['fos_w']}\n",
    "        cosine_similarity = compute_cosine_similarity(input_fos_dict, candidate_fos_dict)\n",
    "        candidate_score_tuples.append((paper['id'], cosine_similarity))\n",
    "        \n",
    "    candidate_score_tuples_list.append(candidate_score_tuples)"
   ]
  },
  {
   "cell_type": "code",
   "execution_count": 23,
   "metadata": {},
   "outputs": [
    {
     "data": {
      "text/plain": [
       "2000"
      ]
     },
     "execution_count": 23,
     "metadata": {},
     "output_type": "execute_result"
    }
   ],
   "source": [
    "len(candidate_score_tuples_list)"
   ]
  },
  {
   "cell_type": "code",
   "execution_count": 24,
   "metadata": {},
   "outputs": [
    {
     "data": {
      "text/plain": [
       "22726"
      ]
     },
     "execution_count": 24,
     "metadata": {},
     "output_type": "execute_result"
    }
   ],
   "source": [
    "len(candidate_score_tuples_list[0])"
   ]
  },
  {
   "cell_type": "code",
   "execution_count": 25,
   "metadata": {},
   "outputs": [
    {
     "data": {
      "text/plain": [
       "[('6468916', 0.2462609911408718),\n",
       " ('12824513', 0.21308908819188255),\n",
       " ('16066432', 0.25215196973939374),\n",
       " ('19790595', 0.19793567174173568),\n",
       " ('20948110', 0.1463034732055883),\n",
       " ('22861983', 0.32956461818199273),\n",
       " ('24640360', 0.2760641358530575),\n",
       " ('24836904', 0.17452447280132255),\n",
       " ('28988658', 0.23537007533879512),\n",
       " ('34559920', 0.16594477086745157)]"
      ]
     },
     "execution_count": 25,
     "metadata": {},
     "output_type": "execute_result"
    }
   ],
   "source": [
    "candidate_score_tuples_list[0][:10]"
   ]
  },
  {
   "cell_type": "code",
   "execution_count": 26,
   "metadata": {},
   "outputs": [
    {
     "data": {
      "application/vnd.jupyter.widget-view+json": {
       "model_id": "55d01caa02a54c24b0b2061f1527dbf3",
       "version_major": 2,
       "version_minor": 0
      },
      "text/plain": [
       "HBox(children=(FloatProgress(value=1.0, bar_style='info', max=1.0), HTML(value='')))"
      ]
     },
     "metadata": {},
     "output_type": "display_data"
    },
    {
     "name": "stdout",
     "output_type": "stream",
     "text": [
      "\n"
     ]
    }
   ],
   "source": [
    "results = []\n",
    "\n",
    "for input_papers, candidate_scores in tqdm(zip(test_set, candidate_score_tuples_list)):\n",
    "    result = {}\n",
    "    result['input'] = [input_paper['id'] for input_paper in input_papers]\n",
    "    input_paper_ids_set = set(result['input'])\n",
    "        \n",
    "    candidate_scores.sort(key=lambda x: x[1], reverse=True)    \n",
    "    filtered_candidate_scores = [cs for cs in candidate_scores if cs[0] not in input_paper_ids_set]\n",
    "    \n",
    "    result['output'] = [cs[0] for cs in filtered_candidate_scores[:100]]\n",
    "    results.append(result)"
   ]
  },
  {
   "cell_type": "code",
   "execution_count": 27,
   "metadata": {},
   "outputs": [
    {
     "data": {
      "text/plain": [
       "[('2963830382', 0.7133015006016702),\n",
       " ('2793173694', 0.6871250749253732),\n",
       " ('2951755740', 0.6333915450842204),\n",
       " ('2606987267', 0.6101222266557221),\n",
       " ('2981138795', 0.5322518639531668),\n",
       " ('2962928871', 0.5214278641685693),\n",
       " ('2775682873', 0.49987175534665007),\n",
       " ('2109992539', 0.49649211810497135),\n",
       " ('2624503621', 0.47803381646663706),\n",
       " ('2752506724', 0.4710190742249424)]"
      ]
     },
     "execution_count": 27,
     "metadata": {},
     "output_type": "execute_result"
    }
   ],
   "source": [
    "candidate_score_tuples_list[0][:10]"
   ]
  },
  {
   "cell_type": "code",
   "execution_count": 28,
   "metadata": {},
   "outputs": [],
   "source": [
    "with open(OUTPUT_PATH, 'w') as f:\n",
    "    json.dump(results, f)"
   ]
  }
 ],
 "metadata": {
  "kernelspec": {
   "display_name": "Python 3",
   "language": "python",
   "name": "python3"
  },
  "language_info": {
   "codemirror_mode": {
    "name": "ipython",
    "version": 3
   },
   "file_extension": ".py",
   "mimetype": "text/x-python",
   "name": "python",
   "nbconvert_exporter": "python",
   "pygments_lexer": "ipython3",
   "version": "3.7.6"
  }
 },
 "nbformat": 4,
 "nbformat_minor": 4
}
