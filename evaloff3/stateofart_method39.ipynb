{
 "cells": [
  {
   "cell_type": "markdown",
   "metadata": {},
   "source": [
    "# Method 39 : Paper2vec: Combining graph and text information for scientific paper representation (2017)\n",
    "\n",
    "Source : S. Ganguly and V. Pudi, “Paper2vec: Combining graph and text information for scientific paper representation,” Lect. Notes Comput. Sci. (including Subser. Lect. Notes Artif. Intell. Lect. Notes Bioinformatics), vol. 10193 LNCS, pp. 383–395, 2017.\n",
    "\n",
    "Original code : https://github.com/asxzy/paper2vec-gensim/"
   ]
  },
  {
   "cell_type": "code",
   "execution_count": 14,
   "metadata": {},
   "outputs": [],
   "source": [
    "%%capture\n",
    "import json\n",
    "import networkx as nx\n",
    "from tqdm.notebook import tqdm\n",
    "from sklearn.metrics.pairwise import cosine_similarity\n",
    "from gensim.models.doc2vec import Doc2Vec, TaggedDocument\n",
    "from gensim.models import Word2Vec\n",
    "from gensim.utils import simple_preprocess\n",
    "import numpy as np\n",
    "import random"
   ]
  },
  {
   "cell_type": "code",
   "execution_count": 2,
   "metadata": {},
   "outputs": [],
   "source": [
    "FULL_SET_PATH = './data/aan_full.json'\n",
    "TEST_SET_PATH = './data/aan_test.json'\n",
    "OUTPUT_PATH = './results/stateofart_method39_aan.json'"
   ]
  },
  {
   "cell_type": "code",
   "execution_count": 15,
   "metadata": {},
   "outputs": [],
   "source": [
    "FULL_SET_PATH = './data/dblp_full.json'\n",
    "TEST_SET_PATH = './data/dblp_test.json'\n",
    "OUTPUT_PATH = './results/stateofart_method39_dblp.json'"
   ]
  },
  {
   "cell_type": "markdown",
   "metadata": {},
   "source": [
    "### Step 1 : Load data"
   ]
  },
  {
   "cell_type": "code",
   "execution_count": 16,
   "metadata": {},
   "outputs": [],
   "source": [
    "with open(FULL_SET_PATH) as f:\n",
    "    full_set = json.load(f)\n",
    "    \n",
    "with open(TEST_SET_PATH) as f:\n",
    "    test_set = json.load(f)"
   ]
  },
  {
   "cell_type": "markdown",
   "metadata": {},
   "source": [
    "### Step 2 : Train doc2vec"
   ]
  },
  {
   "cell_type": "code",
   "execution_count": 17,
   "metadata": {},
   "outputs": [
    {
     "name": "stderr",
     "output_type": "stream",
     "text": [
      "/home/julien/anaconda3/lib/python3.7/site-packages/gensim/models/doc2vec.py:574: UserWarning: The parameter `size` is deprecated, will be removed in 4.0.0, use `vector_size` instead.\n",
      "  warnings.warn(\"The parameter `size` is deprecated, will be removed in 4.0.0, use `vector_size` instead.\")\n"
     ]
    },
    {
     "data": {
      "application/vnd.jupyter.widget-view+json": {
       "model_id": "8a08859ecac34452a757ab0a358304ec",
       "version_major": 2,
       "version_minor": 0
      },
      "text/plain": [
       "HBox(children=(FloatProgress(value=0.0, max=10.0), HTML(value='')))"
      ]
     },
     "metadata": {},
     "output_type": "display_data"
    },
    {
     "name": "stdout",
     "output_type": "stream",
     "text": [
      "\n"
     ]
    }
   ],
   "source": [
    "documents = [TaggedDocument(simple_preprocess(ref['title'] + ' ' + ref['abstract']), [ref['id']])\n",
    "             for ref in full_set]\n",
    "doc2vec_model = Doc2Vec(alpha=0.025, window=10, min_count=10, min_alpha=0.025, size=100)\n",
    "random.seed(42)\n",
    "doc2vec_model.build_vocab(documents)\n",
    "\n",
    "# decrease alpha\n",
    "for i in tqdm(range(10)):\n",
    "    random.shuffle(documents)\n",
    "    doc2vec_model.alpha = 0.025-0.002*i\n",
    "    doc2vec_model.min_alpha = doc2vec_model.alpha\n",
    "    doc2vec_model.train(documents, total_examples=doc2vec_model.corpus_count, epochs=doc2vec_model.epochs)"
   ]
  },
  {
   "cell_type": "markdown",
   "metadata": {},
   "source": [
    "### Step 3 : Build graph"
   ]
  },
  {
   "cell_type": "code",
   "execution_count": 18,
   "metadata": {},
   "outputs": [],
   "source": [
    "# citation graph as an undirected graph\n",
    "citation_graph = nx.Graph()\n",
    "\n",
    "# add citations links\n",
    "for paper in full_set:\n",
    "    for ref_id in paper['references']:\n",
    "        citation_graph.add_edge(paper['id'], ref_id)\n",
    "        \n",
    "# add similar doc links\n",
    "for document in documents:\n",
    "    for n in doc2vec_model.docvecs.most_similar(document.tags,topn=2):\n",
    "        citation_graph.add_edge(document.tags[0], n[0])"
   ]
  },
  {
   "cell_type": "markdown",
   "metadata": {},
   "source": [
    "### Step 4 : Random walks"
   ]
  },
  {
   "cell_type": "code",
   "execution_count": 19,
   "metadata": {},
   "outputs": [],
   "source": [
    "# inspire by https://github.com/phanein/deepwalk/\n",
    "# build deepwalk corpus\n",
    "\n",
    "walks = []\n",
    "nodes = list(citation_graph.nodes())\n",
    "number_walks = 10\n",
    "walk_length = 40\n",
    "\n",
    "for _ in range(number_walks):\n",
    "    random.shuffle(nodes)\n",
    "    for node in nodes:\n",
    "        # random walk\n",
    "        path = [node]\n",
    "\n",
    "        while len(path) < walk_length:\n",
    "            current = path[-1]\n",
    "            current_neighbors = list(citation_graph[current])\n",
    "            if current_neighbors:\n",
    "                path.append(random.choice(current_neighbors))\n",
    "            else:\n",
    "                break\n",
    "\n",
    "        #return [str(node) for node in path] \n",
    "        walks.append(path)"
   ]
  },
  {
   "cell_type": "markdown",
   "metadata": {},
   "source": [
    "### Step 5 : Train final model (paper2vec)"
   ]
  },
  {
   "cell_type": "code",
   "execution_count": 20,
   "metadata": {},
   "outputs": [],
   "source": [
    "# Prepare doc2vec embeddings\n",
    "with open('./temp/doc2vec.embd','w') as f:\n",
    "    f.write(\"%s %s\\n\"%(len(documents),100))\n",
    "    for document in documents:\n",
    "        f.write(document.tags[0]+\" \"+\" \".join([str(x) for x in doc2vec_model.docvecs[document.tags[0]]])+\"\\n\")"
   ]
  },
  {
   "cell_type": "code",
   "execution_count": 21,
   "metadata": {},
   "outputs": [
    {
     "data": {
      "text/plain": [
       "(44550881, 45452000)"
      ]
     },
     "execution_count": 21,
     "metadata": {},
     "output_type": "execute_result"
    }
   ],
   "source": [
    "paper2vec_model = Word2Vec(size=100, window=5, min_count=0)\n",
    "paper2vec_model.build_vocab(walks)\n",
    "\n",
    "# Load doc2vec embeddings into paper2vec model\n",
    "paper2vec_model.intersect_word2vec_format('./temp/doc2vec.embd')\n",
    "\n",
    "paper2vec_model.train(walks, total_examples=paper2vec_model.corpus_count, epochs=paper2vec_model.epochs)"
   ]
  },
  {
   "cell_type": "markdown",
   "metadata": {},
   "source": [
    "### Step 6 : Recommendations (test_set)"
   ]
  },
  {
   "cell_type": "code",
   "execution_count": 22,
   "metadata": {},
   "outputs": [],
   "source": [
    "# Prepare data\n",
    "paper2vec_vectors = [paper2vec_model.wv.get_vector(paper['id']) for paper in full_set]\n",
    "paper2vec_array = np.vstack(paper2vec_vectors)\n",
    "paper_ids = [paper['id'] for paper in full_set]"
   ]
  },
  {
   "cell_type": "code",
   "execution_count": 23,
   "metadata": {},
   "outputs": [
    {
     "data": {
      "application/vnd.jupyter.widget-view+json": {
       "model_id": "3560209de20b4152855a51859f9590cd",
       "version_major": 2,
       "version_minor": 0
      },
      "text/plain": [
       "HBox(children=(FloatProgress(value=0.0, max=3.0), HTML(value='')))"
      ]
     },
     "metadata": {},
     "output_type": "display_data"
    },
    {
     "name": "stdout",
     "output_type": "stream",
     "text": [
      "\n"
     ]
    }
   ],
   "source": [
    "# Compute scores\n",
    "\n",
    "partial_score_arrays = []\n",
    "for i in tqdm(range(3)):\n",
    "    partial_input_ids = [input_papers[i]['id'] for input_papers in test_set]\n",
    "    input_paper2vec_vectors = [paper2vec_model.wv.get_vector(paper_id)\n",
    "                               for paper_id in partial_input_ids]\n",
    "    \n",
    "    input_paper2vec_array = np.vstack(input_paper2vec_vectors)\n",
    "\n",
    "    partial_score_arrays.append(cosine_similarity(input_paper2vec_array, paper2vec_array))\n",
    "\n",
    "score_array = sum(partial_score_arrays)"
   ]
  },
  {
   "cell_type": "code",
   "execution_count": 24,
   "metadata": {},
   "outputs": [
    {
     "data": {
      "application/vnd.jupyter.widget-view+json": {
       "model_id": "025d472981e2494aa156c45103c43c18",
       "version_major": 2,
       "version_minor": 0
      },
      "text/plain": [
       "HBox(children=(FloatProgress(value=1.0, bar_style='info', max=1.0), HTML(value='')))"
      ]
     },
     "metadata": {},
     "output_type": "display_data"
    },
    {
     "name": "stdout",
     "output_type": "stream",
     "text": [
      "\n"
     ]
    }
   ],
   "source": [
    "# Get recommendations\n",
    "\n",
    "results = []\n",
    "\n",
    "for input_papers, scores  in tqdm(zip(test_set, score_array.tolist())):\n",
    "    result = {}\n",
    "    result['input'] = [input_paper['id'] for input_paper in input_papers]\n",
    "    input_paper_ids_set = set(result['input'])\n",
    "    \n",
    "    candidate_scores = list(zip(paper_ids, scores))     \n",
    "    candidate_scores.sort(key=lambda x: x[1], reverse=True)\n",
    "    filtered_candidate_scores = [cs for cs in candidate_scores if cs[0] not in input_paper_ids_set]\n",
    "    \n",
    "    result['output'] = [cs[0] for cs in filtered_candidate_scores[:100]]\n",
    "    results.append(result)"
   ]
  },
  {
   "cell_type": "code",
   "execution_count": 25,
   "metadata": {},
   "outputs": [],
   "source": [
    "with open(OUTPUT_PATH, 'w') as f:\n",
    "    json.dump(results, f)"
   ]
  }
 ],
 "metadata": {
  "kernelspec": {
   "display_name": "Python 3",
   "language": "python",
   "name": "python3"
  },
  "language_info": {
   "codemirror_mode": {
    "name": "ipython",
    "version": 3
   },
   "file_extension": ".py",
   "mimetype": "text/x-python",
   "name": "python",
   "nbconvert_exporter": "python",
   "pygments_lexer": "ipython3",
   "version": "3.7.6"
  }
 },
 "nbformat": 4,
 "nbformat_minor": 4
}
