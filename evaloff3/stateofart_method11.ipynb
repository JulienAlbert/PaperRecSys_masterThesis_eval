{
 "cells": [
  {
   "cell_type": "code",
   "execution_count": 40,
   "metadata": {
    "colab": {
     "base_uri": "https://localhost:8080/",
     "height": 35
    },
    "colab_type": "code",
    "id": "Deqyp60bV6DE",
    "outputId": "2cdbb542-5b35-4baf-e22c-a7e286b635c2"
   },
   "outputs": [
    {
     "name": "stdout",
     "output_type": "stream",
     "text": [
      "Requirement already satisfied: infomap in /usr/local/lib/python3.6/dist-packages (1.1.2)\n"
     ]
    }
   ],
   "source": [
    "# Done with Google Colab\n",
    "!pip install infomap"
   ]
  },
  {
   "cell_type": "code",
   "execution_count": null,
   "metadata": {
    "colab": {},
    "colab_type": "code",
    "id": "kknAgvQXV-V1"
   },
   "outputs": [],
   "source": [
    "%%capture\n",
    "import json\n",
    "import numpy as np\n",
    "import networkx as nx\n",
    "from sklearn.preprocessing import normalize\n",
    "import infomap\n",
    "from tqdm.notebook import tqdm\n",
    "import random"
   ]
  },
  {
   "cell_type": "code",
   "execution_count": 2,
   "metadata": {},
   "outputs": [],
   "source": [
    "FULL_SET_PATH = './aan_full.json'\n",
    "TEST_SET_PATH = './aan_test.json'\n",
    "CLASSIC_OUTPUT_PATH = './stateofart_method11_classic_aan.json'\n",
    "EXPERT_OUTPUT_PATH = './stateofart_method11_expert_aan.json'\n",
    "SERENDIPITY_OUTPUT_PATH = './stateofart_method11_serendipity_aan.json'"
   ]
  },
  {
   "cell_type": "code",
   "execution_count": 15,
   "metadata": {},
   "outputs": [],
   "source": [
    "FULL_SET_PATH = './dblp_full.json'\n",
    "TEST_SET_PATH = './dblp_test.json'\n",
    "CLASSIC_OUTPUT_PATH = './stateofart_method11_classic_dblp.json'\n",
    "EXPERT_OUTPUT_PATH = './stateofart_method11_expert_dblp.json'\n",
    "SERENDIPITY_OUTPUT_PATH = './stateofart_method11_serendipity_dblp.json'"
   ]
  },
  {
   "cell_type": "code",
   "execution_count": 42,
   "metadata": {
    "colab": {
     "base_uri": "https://localhost:8080/",
     "height": 35
    },
    "colab_type": "code",
    "id": "rfJJrgZMWE70",
    "outputId": "f916bb01-9d00-4687-ef8f-c62c6a8676cb"
   },
   "outputs": [
    {
     "data": {
      "text/plain": [
       "15366"
      ]
     },
     "execution_count": 42,
     "metadata": {
      "tags": []
     },
     "output_type": "execute_result"
    }
   ],
   "source": [
    "with open(FULL_SET_PATH) as f:\n",
    "    full_set = json.load(f)\n",
    "\n",
    "with open(TEST_SET_PATH) as f:\n",
    "    test_set = json.load(f)"
   ]
  },
  {
   "cell_type": "code",
   "execution_count": null,
   "metadata": {
    "colab": {},
    "colab_type": "code",
    "id": "kDFEJZ8kWFC_"
   },
   "outputs": [],
   "source": [
    "# create citation network\n",
    "citation_graph = nx.DiGraph()\n",
    "nodes_set = set()\n",
    "for paper in full_set:\n",
    "    nodes_set.update(paper['references'])\n",
    "    nodes_set.update(paper['citations'])\n",
    "    for ref_id in paper['references']:\n",
    "        citation_graph.add_edge(paper['id'], ref_id)\n",
    "    for cit_id in paper['citations']:\n",
    "        citation_graph.add_edge(cit_id, paper['id'])\n",
    "        \n",
    "nodelist = citation_graph.nodes()"
   ]
  },
  {
   "cell_type": "code",
   "execution_count": null,
   "metadata": {
    "colab": {},
    "colab_type": "code",
    "id": "pKmo_jUrZdwm"
   },
   "outputs": [],
   "source": [
    "# compute ALEF scores and rank nodes\n",
    "Z = nx.adjacency_matrix(citation_graph)\n",
    "w = (Z + Z.transpose()).sum(axis=1)\n",
    "H = normalize(Z, norm='l1', axis=1)\n",
    "ALEF = len(citation_graph) * H.transpose() * w / (H.transpose() * w).sum()\n",
    "\n",
    "ALEF_score_tuples = [(node, score) for node, score in zip(nodelist, ALEF.tolist())]\n",
    "ALEF_score_tuples.sort(key=lambda e:e[1])\n",
    "ranked_nodes = [e[0] for e in ALEF_score_tuples]\n",
    "rank_dict = dict([(node, i) for i, node in enumerate(ranked_nodes, start=1)])\n",
    "reversed_rank_dict = dict(enumerate(ranked_nodes, start=1))"
   ]
  },
  {
   "cell_type": "code",
   "execution_count": 62,
   "metadata": {
    "colab": {
     "base_uri": "https://localhost:8080/",
     "height": 72
    },
    "colab_type": "code",
    "id": "rblcV0PbZhwv",
    "outputId": "8b5e64f7-a132-4132-c263-04d5c685f8c3"
   },
   "outputs": [
    {
     "name": "stdout",
     "output_type": "stream",
     "text": [
      "Building Infomap network from a NetworkX graph...\n",
      "Find communities with Infomap...\n",
      "Found 495 modules with codelength: 10.337280777367477\n"
     ]
    }
   ],
   "source": [
    "# hierarchically cluster nodes (see https://www.mapequation.org/ and infomap package)\n",
    "# source : https://github.com/mapequation/infomap/blob/master/examples/python/infomap-networkx.py\n",
    "\n",
    "im = infomap.Infomap(\"--two-level\")\n",
    "\n",
    "print(\"Building Infomap network from a NetworkX graph...\")\n",
    "for source, target in citation_graph.edges:\n",
    "    im.add_link(rank_dict[source], rank_dict[target])\n",
    "\n",
    "print(\"Find communities with Infomap...\")\n",
    "im.run()\n",
    "\n",
    "print(f\"Found {im.num_top_modules} modules with codelength: {im.codelength}\")\n",
    "\n",
    "com_lvl1 = im.get_modules(depth_level=1)\n",
    "com_lvl2 = im.get_modules(depth_level=2)\n",
    "com_lvl1_dict = dict([(reversed_rank_dict[rank], community) for rank, community in com_lvl1.items()])\n",
    "com_lvl2_dict = dict([(reversed_rank_dict[rank], community) for rank, community in com_lvl2.items()])"
   ]
  },
  {
   "cell_type": "code",
   "execution_count": 80,
   "metadata": {
    "colab": {
     "base_uri": "https://localhost:8080/",
     "height": 54
    },
    "colab_type": "code",
    "id": "6VSZ4pOjke3q",
    "outputId": "59d1a1b8-2e00-46b4-95cf-fdd845473a80"
   },
   "outputs": [
    {
     "name": "stdout",
     "output_type": "stream",
     "text": [
      "nb communities of lvl 1: 495\n",
      "nb communities of lvl 2: 1\n"
     ]
    }
   ],
   "source": [
    "reversed_com_lvl1_dic = {}\n",
    "for node, community in com_lvl1_dict.items():\n",
    "    if community in reversed_com_lvl1_dic:\n",
    "        reversed_com_lvl1_dic[community].append(node)\n",
    "    else:\n",
    "        reversed_com_lvl1_dic[community] = [node]\n",
    "\n",
    "reversed_com_lvl2_dic = {}\n",
    "for node, community in com_lvl2_dict.items():\n",
    "    if community in reversed_com_lvl2_dic:\n",
    "        reversed_com_lvl2_dic[community].append(node)\n",
    "    else:\n",
    "        reversed_com_lvl2_dic[community] = [node]\n",
    "\n",
    "print('nb communities of lvl 1:', str(len(reversed_com_lvl1_dic)))\n",
    "print('nb communities of lvl 2:', str(len(reversed_com_lvl2_dic)))"
   ]
  },
  {
   "cell_type": "code",
   "execution_count": null,
   "metadata": {
    "colab": {},
    "colab_type": "code",
    "id": "ZuwFtmTMgAGw"
   },
   "outputs": [],
   "source": [
    "# compute recommandations\n",
    "def compute_recs(input_papers, com_dict, reversed_com_dict, rank_dict, limit, serendipity_mode):\n",
    "    input_paper_ids = set([paper['id'] for paper in input_papers])\n",
    "    candidate_communities = set()\n",
    "    for input_paper_id in input_paper_ids:\n",
    "        candidate_communities.add(com_dict[input_paper_id])\n",
    "\n",
    "    candidate_papers = set()\n",
    "    for community in candidate_communities:\n",
    "        candidate_papers.update(reversed_com_dict[community])\n",
    "\n",
    "    limit = min(limit, len(candidate_papers))\n",
    "\n",
    "    if serendipity_mode:\n",
    "        return random.sample(candidate_papers, limit)\n",
    "    else:  \n",
    "        candidate_scores = [(paper_id, rank_dict[paper_id]) for paper_id in candidate_papers if paper_id not in input_paper_ids]\n",
    "        candidate_scores.sort(key=lambda e: e[1], reverse=True)\n",
    "\n",
    "        return [e[0] for e in candidate_scores[:limit]]"
   ]
  },
  {
   "cell_type": "code",
   "execution_count": 76,
   "metadata": {
    "colab": {
     "base_uri": "https://localhost:8080/",
     "height": 67,
     "referenced_widgets": [
      "b6e9a57543224f63b47b81589628c540",
      "7c825fb6b22142759a96079fb3e583b2",
      "6c54aa77345e4636a65b792320645daf",
      "e9e95bc5a86147248d9bc9e5b90e59a0",
      "2545f016525746ed8a3987830805dc3f",
      "d8dd967d978949e7bd81df6b3cbf4c54",
      "865cd1eba0fa457083c52f0a6feeb48e",
      "de7674db01dd49a4af3df13c0858d0a5"
     ]
    },
    "colab_type": "code",
    "id": "5DJEzumckAdD",
    "outputId": "22b8064c-1596-4c89-a66a-103958126768"
   },
   "outputs": [
    {
     "data": {
      "application/vnd.jupyter.widget-view+json": {
       "model_id": "b6e9a57543224f63b47b81589628c540",
       "version_major": 2,
       "version_minor": 0
      },
      "text/plain": [
       "HBox(children=(IntProgress(value=0, max=3000), HTML(value='')))"
      ]
     },
     "metadata": {
      "tags": []
     },
     "output_type": "display_data"
    },
    {
     "name": "stdout",
     "output_type": "stream",
     "text": [
      "\n"
     ]
    }
   ],
   "source": [
    "# classic mode\n",
    "results = []\n",
    "\n",
    "for input_papers in tqdm(test_set):\n",
    "    result = {}\n",
    "    result['input'] = [input_paper['id'] for input_paper in input_papers]    \n",
    "    result['output'] = compute_recs(input_papers, com_lvl2_dict, reversed_com_lvl2_dic, rank_dict, 100, False)\n",
    "    results.append(result)\n",
    "\n",
    "with open(CLASSIC_OUTPUT_PATH, 'w') as f:\n",
    "    json.dump(results, f)"
   ]
  },
  {
   "cell_type": "code",
   "execution_count": 77,
   "metadata": {
    "colab": {
     "base_uri": "https://localhost:8080/",
     "height": 67,
     "referenced_widgets": [
      "77d52a8a585b47728a0dd0c35a238217",
      "54975b9968d54d79ba47e53c32211c86",
      "1346e24e4a2643a8a34c2e9d00107f64",
      "12625a0110db49028eae90af2fe32035",
      "5b13313031dc439c911e316e8718c198",
      "e9a9daca40c94c55b8949c7c69c80770",
      "718fd1504eb44cc9aebc10281bd50ca0",
      "bb40d32d97844c1b98e0816718b707f8"
     ]
    },
    "colab_type": "code",
    "id": "ISlZwuFbkAlc",
    "outputId": "9e5879b8-be11-4e53-8d1b-ff9e0baebb1a"
   },
   "outputs": [
    {
     "data": {
      "application/vnd.jupyter.widget-view+json": {
       "model_id": "77d52a8a585b47728a0dd0c35a238217",
       "version_major": 2,
       "version_minor": 0
      },
      "text/plain": [
       "HBox(children=(IntProgress(value=0, max=3000), HTML(value='')))"
      ]
     },
     "metadata": {
      "tags": []
     },
     "output_type": "display_data"
    },
    {
     "name": "stdout",
     "output_type": "stream",
     "text": [
      "\n"
     ]
    }
   ],
   "source": [
    "# expert mode\n",
    "results = []\n",
    "\n",
    "for input_papers in tqdm(test_set):\n",
    "    result = {}\n",
    "    result['input'] = [input_paper['id'] for input_paper in input_papers]    \n",
    "    result['output'] = compute_recs(input_papers, com_lvl1_dict, reversed_com_lvl1_dic, rank_dict, 100, False)\n",
    "    results.append(result)\n",
    "\n",
    "with open(EXPERT_OUTPUT_PATH, 'w') as f:\n",
    "    json.dump(results, f)"
   ]
  },
  {
   "cell_type": "code",
   "execution_count": 78,
   "metadata": {
    "colab": {
     "base_uri": "https://localhost:8080/",
     "height": 67,
     "referenced_widgets": [
      "461072f524354bb29bec1b9a9e871e56",
      "c938b945f34f4dfdaae112bb26beb157",
      "b8fe0073cea8465dab889ea4785ec663",
      "40616bd27fd643828f85a2f8d44a3f6b",
      "1f4e91a843704e7c806443cc2c29c639",
      "b84f5ea764d1462893b72b3b3d6aa885",
      "a5322a50dea44ca09739815b04499cab",
      "40b8f81494b44c0b9b307364fd47f120"
     ]
    },
    "colab_type": "code",
    "id": "WOJ8ZTCgoF_Z",
    "outputId": "d8fc5de9-dfe7-4627-ff56-71a503a3cbc2"
   },
   "outputs": [
    {
     "data": {
      "application/vnd.jupyter.widget-view+json": {
       "model_id": "461072f524354bb29bec1b9a9e871e56",
       "version_major": 2,
       "version_minor": 0
      },
      "text/plain": [
       "HBox(children=(IntProgress(value=0, max=3000), HTML(value='')))"
      ]
     },
     "metadata": {
      "tags": []
     },
     "output_type": "display_data"
    },
    {
     "name": "stdout",
     "output_type": "stream",
     "text": [
      "\n"
     ]
    }
   ],
   "source": [
    "# serendipity mode\n",
    "results = []\n",
    "random.seed(42)\n",
    "\n",
    "for input_papers in tqdm(test_set):\n",
    "    result = {}\n",
    "    result['input'] = [input_paper['id'] for input_paper in input_papers]    \n",
    "    result['output'] = compute_recs(input_papers, com_lvl1_dict, reversed_com_lvl1_dic, rank_dict, 100, True)\n",
    "    results.append(result)\n",
    "\n",
    "with open(SERENDIPITY_OUTPUT_PATH, 'w') as f:\n",
    "    json.dump(results, f)"
   ]
  }
 ],
 "metadata": {
  "colab": {
   "collapsed_sections": [],
   "name": "evaloff_stateofart_method11.ipynb",
   "provenance": []
  },
  "kernelspec": {
   "display_name": "Python 3",
   "language": "python",
   "name": "python3"
  },
  "language_info": {
   "codemirror_mode": {
    "name": "ipython",
    "version": 3
   },
   "file_extension": ".py",
   "mimetype": "text/x-python",
   "name": "python",
   "nbconvert_exporter": "python",
   "pygments_lexer": "ipython3",
   "version": "3.7.6"
  },
  "widgets": {
   "application/vnd.jupyter.widget-state+json": {
    "12625a0110db49028eae90af2fe32035": {
     "model_module": "@jupyter-widgets/controls",
     "model_name": "HTMLModel",
     "state": {
      "_dom_classes": [],
      "_model_module": "@jupyter-widgets/controls",
      "_model_module_version": "1.5.0",
      "_model_name": "HTMLModel",
      "_view_count": null,
      "_view_module": "@jupyter-widgets/controls",
      "_view_module_version": "1.5.0",
      "_view_name": "HTMLView",
      "description": "",
      "description_tooltip": null,
      "layout": "IPY_MODEL_bb40d32d97844c1b98e0816718b707f8",
      "placeholder": "​",
      "style": "IPY_MODEL_718fd1504eb44cc9aebc10281bd50ca0",
      "value": " 3000/3000 [00:01&lt;00:00, 2522.08it/s]"
     }
    },
    "1346e24e4a2643a8a34c2e9d00107f64": {
     "model_module": "@jupyter-widgets/controls",
     "model_name": "IntProgressModel",
     "state": {
      "_dom_classes": [],
      "_model_module": "@jupyter-widgets/controls",
      "_model_module_version": "1.5.0",
      "_model_name": "IntProgressModel",
      "_view_count": null,
      "_view_module": "@jupyter-widgets/controls",
      "_view_module_version": "1.5.0",
      "_view_name": "ProgressView",
      "bar_style": "success",
      "description": "100%",
      "description_tooltip": null,
      "layout": "IPY_MODEL_e9a9daca40c94c55b8949c7c69c80770",
      "max": 3000,
      "min": 0,
      "orientation": "horizontal",
      "style": "IPY_MODEL_5b13313031dc439c911e316e8718c198",
      "value": 3000
     }
    },
    "1f4e91a843704e7c806443cc2c29c639": {
     "model_module": "@jupyter-widgets/controls",
     "model_name": "ProgressStyleModel",
     "state": {
      "_model_module": "@jupyter-widgets/controls",
      "_model_module_version": "1.5.0",
      "_model_name": "ProgressStyleModel",
      "_view_count": null,
      "_view_module": "@jupyter-widgets/base",
      "_view_module_version": "1.2.0",
      "_view_name": "StyleView",
      "bar_color": null,
      "description_width": "initial"
     }
    },
    "2545f016525746ed8a3987830805dc3f": {
     "model_module": "@jupyter-widgets/controls",
     "model_name": "ProgressStyleModel",
     "state": {
      "_model_module": "@jupyter-widgets/controls",
      "_model_module_version": "1.5.0",
      "_model_name": "ProgressStyleModel",
      "_view_count": null,
      "_view_module": "@jupyter-widgets/base",
      "_view_module_version": "1.2.0",
      "_view_name": "StyleView",
      "bar_color": null,
      "description_width": "initial"
     }
    },
    "40616bd27fd643828f85a2f8d44a3f6b": {
     "model_module": "@jupyter-widgets/controls",
     "model_name": "HTMLModel",
     "state": {
      "_dom_classes": [],
      "_model_module": "@jupyter-widgets/controls",
      "_model_module_version": "1.5.0",
      "_model_name": "HTMLModel",
      "_view_count": null,
      "_view_module": "@jupyter-widgets/controls",
      "_view_module_version": "1.5.0",
      "_view_name": "HTMLView",
      "description": "",
      "description_tooltip": null,
      "layout": "IPY_MODEL_40b8f81494b44c0b9b307364fd47f120",
      "placeholder": "​",
      "style": "IPY_MODEL_a5322a50dea44ca09739815b04499cab",
      "value": " 3000/3000 [00:00&lt;00:00, 6679.27it/s]"
     }
    },
    "40b8f81494b44c0b9b307364fd47f120": {
     "model_module": "@jupyter-widgets/base",
     "model_name": "LayoutModel",
     "state": {
      "_model_module": "@jupyter-widgets/base",
      "_model_module_version": "1.2.0",
      "_model_name": "LayoutModel",
      "_view_count": null,
      "_view_module": "@jupyter-widgets/base",
      "_view_module_version": "1.2.0",
      "_view_name": "LayoutView",
      "align_content": null,
      "align_items": null,
      "align_self": null,
      "border": null,
      "bottom": null,
      "display": null,
      "flex": null,
      "flex_flow": null,
      "grid_area": null,
      "grid_auto_columns": null,
      "grid_auto_flow": null,
      "grid_auto_rows": null,
      "grid_column": null,
      "grid_gap": null,
      "grid_row": null,
      "grid_template_areas": null,
      "grid_template_columns": null,
      "grid_template_rows": null,
      "height": null,
      "justify_content": null,
      "justify_items": null,
      "left": null,
      "margin": null,
      "max_height": null,
      "max_width": null,
      "min_height": null,
      "min_width": null,
      "object_fit": null,
      "object_position": null,
      "order": null,
      "overflow": null,
      "overflow_x": null,
      "overflow_y": null,
      "padding": null,
      "right": null,
      "top": null,
      "visibility": null,
      "width": null
     }
    },
    "461072f524354bb29bec1b9a9e871e56": {
     "model_module": "@jupyter-widgets/controls",
     "model_name": "HBoxModel",
     "state": {
      "_dom_classes": [],
      "_model_module": "@jupyter-widgets/controls",
      "_model_module_version": "1.5.0",
      "_model_name": "HBoxModel",
      "_view_count": null,
      "_view_module": "@jupyter-widgets/controls",
      "_view_module_version": "1.5.0",
      "_view_name": "HBoxView",
      "box_style": "",
      "children": [
       "IPY_MODEL_b8fe0073cea8465dab889ea4785ec663",
       "IPY_MODEL_40616bd27fd643828f85a2f8d44a3f6b"
      ],
      "layout": "IPY_MODEL_c938b945f34f4dfdaae112bb26beb157"
     }
    },
    "54975b9968d54d79ba47e53c32211c86": {
     "model_module": "@jupyter-widgets/base",
     "model_name": "LayoutModel",
     "state": {
      "_model_module": "@jupyter-widgets/base",
      "_model_module_version": "1.2.0",
      "_model_name": "LayoutModel",
      "_view_count": null,
      "_view_module": "@jupyter-widgets/base",
      "_view_module_version": "1.2.0",
      "_view_name": "LayoutView",
      "align_content": null,
      "align_items": null,
      "align_self": null,
      "border": null,
      "bottom": null,
      "display": null,
      "flex": null,
      "flex_flow": null,
      "grid_area": null,
      "grid_auto_columns": null,
      "grid_auto_flow": null,
      "grid_auto_rows": null,
      "grid_column": null,
      "grid_gap": null,
      "grid_row": null,
      "grid_template_areas": null,
      "grid_template_columns": null,
      "grid_template_rows": null,
      "height": null,
      "justify_content": null,
      "justify_items": null,
      "left": null,
      "margin": null,
      "max_height": null,
      "max_width": null,
      "min_height": null,
      "min_width": null,
      "object_fit": null,
      "object_position": null,
      "order": null,
      "overflow": null,
      "overflow_x": null,
      "overflow_y": null,
      "padding": null,
      "right": null,
      "top": null,
      "visibility": null,
      "width": null
     }
    },
    "5b13313031dc439c911e316e8718c198": {
     "model_module": "@jupyter-widgets/controls",
     "model_name": "ProgressStyleModel",
     "state": {
      "_model_module": "@jupyter-widgets/controls",
      "_model_module_version": "1.5.0",
      "_model_name": "ProgressStyleModel",
      "_view_count": null,
      "_view_module": "@jupyter-widgets/base",
      "_view_module_version": "1.2.0",
      "_view_name": "StyleView",
      "bar_color": null,
      "description_width": "initial"
     }
    },
    "6c54aa77345e4636a65b792320645daf": {
     "model_module": "@jupyter-widgets/controls",
     "model_name": "IntProgressModel",
     "state": {
      "_dom_classes": [],
      "_model_module": "@jupyter-widgets/controls",
      "_model_module_version": "1.5.0",
      "_model_name": "IntProgressModel",
      "_view_count": null,
      "_view_module": "@jupyter-widgets/controls",
      "_view_module_version": "1.5.0",
      "_view_name": "ProgressView",
      "bar_style": "success",
      "description": "100%",
      "description_tooltip": null,
      "layout": "IPY_MODEL_d8dd967d978949e7bd81df6b3cbf4c54",
      "max": 3000,
      "min": 0,
      "orientation": "horizontal",
      "style": "IPY_MODEL_2545f016525746ed8a3987830805dc3f",
      "value": 3000
     }
    },
    "718fd1504eb44cc9aebc10281bd50ca0": {
     "model_module": "@jupyter-widgets/controls",
     "model_name": "DescriptionStyleModel",
     "state": {
      "_model_module": "@jupyter-widgets/controls",
      "_model_module_version": "1.5.0",
      "_model_name": "DescriptionStyleModel",
      "_view_count": null,
      "_view_module": "@jupyter-widgets/base",
      "_view_module_version": "1.2.0",
      "_view_name": "StyleView",
      "description_width": ""
     }
    },
    "77d52a8a585b47728a0dd0c35a238217": {
     "model_module": "@jupyter-widgets/controls",
     "model_name": "HBoxModel",
     "state": {
      "_dom_classes": [],
      "_model_module": "@jupyter-widgets/controls",
      "_model_module_version": "1.5.0",
      "_model_name": "HBoxModel",
      "_view_count": null,
      "_view_module": "@jupyter-widgets/controls",
      "_view_module_version": "1.5.0",
      "_view_name": "HBoxView",
      "box_style": "",
      "children": [
       "IPY_MODEL_1346e24e4a2643a8a34c2e9d00107f64",
       "IPY_MODEL_12625a0110db49028eae90af2fe32035"
      ],
      "layout": "IPY_MODEL_54975b9968d54d79ba47e53c32211c86"
     }
    },
    "7c825fb6b22142759a96079fb3e583b2": {
     "model_module": "@jupyter-widgets/base",
     "model_name": "LayoutModel",
     "state": {
      "_model_module": "@jupyter-widgets/base",
      "_model_module_version": "1.2.0",
      "_model_name": "LayoutModel",
      "_view_count": null,
      "_view_module": "@jupyter-widgets/base",
      "_view_module_version": "1.2.0",
      "_view_name": "LayoutView",
      "align_content": null,
      "align_items": null,
      "align_self": null,
      "border": null,
      "bottom": null,
      "display": null,
      "flex": null,
      "flex_flow": null,
      "grid_area": null,
      "grid_auto_columns": null,
      "grid_auto_flow": null,
      "grid_auto_rows": null,
      "grid_column": null,
      "grid_gap": null,
      "grid_row": null,
      "grid_template_areas": null,
      "grid_template_columns": null,
      "grid_template_rows": null,
      "height": null,
      "justify_content": null,
      "justify_items": null,
      "left": null,
      "margin": null,
      "max_height": null,
      "max_width": null,
      "min_height": null,
      "min_width": null,
      "object_fit": null,
      "object_position": null,
      "order": null,
      "overflow": null,
      "overflow_x": null,
      "overflow_y": null,
      "padding": null,
      "right": null,
      "top": null,
      "visibility": null,
      "width": null
     }
    },
    "865cd1eba0fa457083c52f0a6feeb48e": {
     "model_module": "@jupyter-widgets/controls",
     "model_name": "DescriptionStyleModel",
     "state": {
      "_model_module": "@jupyter-widgets/controls",
      "_model_module_version": "1.5.0",
      "_model_name": "DescriptionStyleModel",
      "_view_count": null,
      "_view_module": "@jupyter-widgets/base",
      "_view_module_version": "1.2.0",
      "_view_name": "StyleView",
      "description_width": ""
     }
    },
    "a5322a50dea44ca09739815b04499cab": {
     "model_module": "@jupyter-widgets/controls",
     "model_name": "DescriptionStyleModel",
     "state": {
      "_model_module": "@jupyter-widgets/controls",
      "_model_module_version": "1.5.0",
      "_model_name": "DescriptionStyleModel",
      "_view_count": null,
      "_view_module": "@jupyter-widgets/base",
      "_view_module_version": "1.2.0",
      "_view_name": "StyleView",
      "description_width": ""
     }
    },
    "b6e9a57543224f63b47b81589628c540": {
     "model_module": "@jupyter-widgets/controls",
     "model_name": "HBoxModel",
     "state": {
      "_dom_classes": [],
      "_model_module": "@jupyter-widgets/controls",
      "_model_module_version": "1.5.0",
      "_model_name": "HBoxModel",
      "_view_count": null,
      "_view_module": "@jupyter-widgets/controls",
      "_view_module_version": "1.5.0",
      "_view_name": "HBoxView",
      "box_style": "",
      "children": [
       "IPY_MODEL_6c54aa77345e4636a65b792320645daf",
       "IPY_MODEL_e9e95bc5a86147248d9bc9e5b90e59a0"
      ],
      "layout": "IPY_MODEL_7c825fb6b22142759a96079fb3e583b2"
     }
    },
    "b84f5ea764d1462893b72b3b3d6aa885": {
     "model_module": "@jupyter-widgets/base",
     "model_name": "LayoutModel",
     "state": {
      "_model_module": "@jupyter-widgets/base",
      "_model_module_version": "1.2.0",
      "_model_name": "LayoutModel",
      "_view_count": null,
      "_view_module": "@jupyter-widgets/base",
      "_view_module_version": "1.2.0",
      "_view_name": "LayoutView",
      "align_content": null,
      "align_items": null,
      "align_self": null,
      "border": null,
      "bottom": null,
      "display": null,
      "flex": null,
      "flex_flow": null,
      "grid_area": null,
      "grid_auto_columns": null,
      "grid_auto_flow": null,
      "grid_auto_rows": null,
      "grid_column": null,
      "grid_gap": null,
      "grid_row": null,
      "grid_template_areas": null,
      "grid_template_columns": null,
      "grid_template_rows": null,
      "height": null,
      "justify_content": null,
      "justify_items": null,
      "left": null,
      "margin": null,
      "max_height": null,
      "max_width": null,
      "min_height": null,
      "min_width": null,
      "object_fit": null,
      "object_position": null,
      "order": null,
      "overflow": null,
      "overflow_x": null,
      "overflow_y": null,
      "padding": null,
      "right": null,
      "top": null,
      "visibility": null,
      "width": null
     }
    },
    "b8fe0073cea8465dab889ea4785ec663": {
     "model_module": "@jupyter-widgets/controls",
     "model_name": "IntProgressModel",
     "state": {
      "_dom_classes": [],
      "_model_module": "@jupyter-widgets/controls",
      "_model_module_version": "1.5.0",
      "_model_name": "IntProgressModel",
      "_view_count": null,
      "_view_module": "@jupyter-widgets/controls",
      "_view_module_version": "1.5.0",
      "_view_name": "ProgressView",
      "bar_style": "success",
      "description": "100%",
      "description_tooltip": null,
      "layout": "IPY_MODEL_b84f5ea764d1462893b72b3b3d6aa885",
      "max": 3000,
      "min": 0,
      "orientation": "horizontal",
      "style": "IPY_MODEL_1f4e91a843704e7c806443cc2c29c639",
      "value": 3000
     }
    },
    "bb40d32d97844c1b98e0816718b707f8": {
     "model_module": "@jupyter-widgets/base",
     "model_name": "LayoutModel",
     "state": {
      "_model_module": "@jupyter-widgets/base",
      "_model_module_version": "1.2.0",
      "_model_name": "LayoutModel",
      "_view_count": null,
      "_view_module": "@jupyter-widgets/base",
      "_view_module_version": "1.2.0",
      "_view_name": "LayoutView",
      "align_content": null,
      "align_items": null,
      "align_self": null,
      "border": null,
      "bottom": null,
      "display": null,
      "flex": null,
      "flex_flow": null,
      "grid_area": null,
      "grid_auto_columns": null,
      "grid_auto_flow": null,
      "grid_auto_rows": null,
      "grid_column": null,
      "grid_gap": null,
      "grid_row": null,
      "grid_template_areas": null,
      "grid_template_columns": null,
      "grid_template_rows": null,
      "height": null,
      "justify_content": null,
      "justify_items": null,
      "left": null,
      "margin": null,
      "max_height": null,
      "max_width": null,
      "min_height": null,
      "min_width": null,
      "object_fit": null,
      "object_position": null,
      "order": null,
      "overflow": null,
      "overflow_x": null,
      "overflow_y": null,
      "padding": null,
      "right": null,
      "top": null,
      "visibility": null,
      "width": null
     }
    },
    "c938b945f34f4dfdaae112bb26beb157": {
     "model_module": "@jupyter-widgets/base",
     "model_name": "LayoutModel",
     "state": {
      "_model_module": "@jupyter-widgets/base",
      "_model_module_version": "1.2.0",
      "_model_name": "LayoutModel",
      "_view_count": null,
      "_view_module": "@jupyter-widgets/base",
      "_view_module_version": "1.2.0",
      "_view_name": "LayoutView",
      "align_content": null,
      "align_items": null,
      "align_self": null,
      "border": null,
      "bottom": null,
      "display": null,
      "flex": null,
      "flex_flow": null,
      "grid_area": null,
      "grid_auto_columns": null,
      "grid_auto_flow": null,
      "grid_auto_rows": null,
      "grid_column": null,
      "grid_gap": null,
      "grid_row": null,
      "grid_template_areas": null,
      "grid_template_columns": null,
      "grid_template_rows": null,
      "height": null,
      "justify_content": null,
      "justify_items": null,
      "left": null,
      "margin": null,
      "max_height": null,
      "max_width": null,
      "min_height": null,
      "min_width": null,
      "object_fit": null,
      "object_position": null,
      "order": null,
      "overflow": null,
      "overflow_x": null,
      "overflow_y": null,
      "padding": null,
      "right": null,
      "top": null,
      "visibility": null,
      "width": null
     }
    },
    "d8dd967d978949e7bd81df6b3cbf4c54": {
     "model_module": "@jupyter-widgets/base",
     "model_name": "LayoutModel",
     "state": {
      "_model_module": "@jupyter-widgets/base",
      "_model_module_version": "1.2.0",
      "_model_name": "LayoutModel",
      "_view_count": null,
      "_view_module": "@jupyter-widgets/base",
      "_view_module_version": "1.2.0",
      "_view_name": "LayoutView",
      "align_content": null,
      "align_items": null,
      "align_self": null,
      "border": null,
      "bottom": null,
      "display": null,
      "flex": null,
      "flex_flow": null,
      "grid_area": null,
      "grid_auto_columns": null,
      "grid_auto_flow": null,
      "grid_auto_rows": null,
      "grid_column": null,
      "grid_gap": null,
      "grid_row": null,
      "grid_template_areas": null,
      "grid_template_columns": null,
      "grid_template_rows": null,
      "height": null,
      "justify_content": null,
      "justify_items": null,
      "left": null,
      "margin": null,
      "max_height": null,
      "max_width": null,
      "min_height": null,
      "min_width": null,
      "object_fit": null,
      "object_position": null,
      "order": null,
      "overflow": null,
      "overflow_x": null,
      "overflow_y": null,
      "padding": null,
      "right": null,
      "top": null,
      "visibility": null,
      "width": null
     }
    },
    "de7674db01dd49a4af3df13c0858d0a5": {
     "model_module": "@jupyter-widgets/base",
     "model_name": "LayoutModel",
     "state": {
      "_model_module": "@jupyter-widgets/base",
      "_model_module_version": "1.2.0",
      "_model_name": "LayoutModel",
      "_view_count": null,
      "_view_module": "@jupyter-widgets/base",
      "_view_module_version": "1.2.0",
      "_view_name": "LayoutView",
      "align_content": null,
      "align_items": null,
      "align_self": null,
      "border": null,
      "bottom": null,
      "display": null,
      "flex": null,
      "flex_flow": null,
      "grid_area": null,
      "grid_auto_columns": null,
      "grid_auto_flow": null,
      "grid_auto_rows": null,
      "grid_column": null,
      "grid_gap": null,
      "grid_row": null,
      "grid_template_areas": null,
      "grid_template_columns": null,
      "grid_template_rows": null,
      "height": null,
      "justify_content": null,
      "justify_items": null,
      "left": null,
      "margin": null,
      "max_height": null,
      "max_width": null,
      "min_height": null,
      "min_width": null,
      "object_fit": null,
      "object_position": null,
      "order": null,
      "overflow": null,
      "overflow_x": null,
      "overflow_y": null,
      "padding": null,
      "right": null,
      "top": null,
      "visibility": null,
      "width": null
     }
    },
    "e9a9daca40c94c55b8949c7c69c80770": {
     "model_module": "@jupyter-widgets/base",
     "model_name": "LayoutModel",
     "state": {
      "_model_module": "@jupyter-widgets/base",
      "_model_module_version": "1.2.0",
      "_model_name": "LayoutModel",
      "_view_count": null,
      "_view_module": "@jupyter-widgets/base",
      "_view_module_version": "1.2.0",
      "_view_name": "LayoutView",
      "align_content": null,
      "align_items": null,
      "align_self": null,
      "border": null,
      "bottom": null,
      "display": null,
      "flex": null,
      "flex_flow": null,
      "grid_area": null,
      "grid_auto_columns": null,
      "grid_auto_flow": null,
      "grid_auto_rows": null,
      "grid_column": null,
      "grid_gap": null,
      "grid_row": null,
      "grid_template_areas": null,
      "grid_template_columns": null,
      "grid_template_rows": null,
      "height": null,
      "justify_content": null,
      "justify_items": null,
      "left": null,
      "margin": null,
      "max_height": null,
      "max_width": null,
      "min_height": null,
      "min_width": null,
      "object_fit": null,
      "object_position": null,
      "order": null,
      "overflow": null,
      "overflow_x": null,
      "overflow_y": null,
      "padding": null,
      "right": null,
      "top": null,
      "visibility": null,
      "width": null
     }
    },
    "e9e95bc5a86147248d9bc9e5b90e59a0": {
     "model_module": "@jupyter-widgets/controls",
     "model_name": "HTMLModel",
     "state": {
      "_dom_classes": [],
      "_model_module": "@jupyter-widgets/controls",
      "_model_module_version": "1.5.0",
      "_model_name": "HTMLModel",
      "_view_count": null,
      "_view_module": "@jupyter-widgets/controls",
      "_view_module_version": "1.5.0",
      "_view_name": "HTMLView",
      "description": "",
      "description_tooltip": null,
      "layout": "IPY_MODEL_de7674db01dd49a4af3df13c0858d0a5",
      "placeholder": "​",
      "style": "IPY_MODEL_865cd1eba0fa457083c52f0a6feeb48e",
      "value": " 3000/3000 [00:45&lt;00:00, 65.24it/s]"
     }
    }
   }
  }
 },
 "nbformat": 4,
 "nbformat_minor": 4
}
