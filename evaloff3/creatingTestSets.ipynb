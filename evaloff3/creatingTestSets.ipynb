{
 "cells": [
  {
   "cell_type": "code",
   "execution_count": 2,
   "metadata": {},
   "outputs": [],
   "source": [
    "import json\n",
    "import random"
   ]
  },
  {
   "cell_type": "markdown",
   "metadata": {},
   "source": [
    "# AAN"
   ]
  },
  {
   "cell_type": "code",
   "execution_count": 6,
   "metadata": {},
   "outputs": [
    {
     "data": {
      "text/plain": [
       "12274"
      ]
     },
     "execution_count": 6,
     "metadata": {},
     "output_type": "execute_result"
    }
   ],
   "source": [
    "with open('./data/aan_full.json') as f:\n",
    "    papers = json.load(f)\n",
    "    \n",
    "len(papers)"
   ]
  },
  {
   "cell_type": "code",
   "execution_count": 7,
   "metadata": {},
   "outputs": [],
   "source": [
    "random.seed(42)\n",
    "test_set = []\n",
    "papers_dict = dict([(paper['id'], paper) for paper in papers])\n",
    "\n",
    "papers_with_3_refs = [paper for paper in papers if len(paper['references']) >= 3]\n",
    "\n",
    "for paper in random.sample(papers_with_3_refs, k=2000):\n",
    "    test_set.append([papers_dict[ref_id] for ref_id in random.sample(paper['references'], k=3)])\n",
    "\n",
    "with open('./data/aan_test.json', 'w') as f:\n",
    "    json.dump(test_set, f)"
   ]
  },
  {
   "cell_type": "markdown",
   "metadata": {},
   "source": [
    "# DBLP"
   ]
  },
  {
   "cell_type": "code",
   "execution_count": 3,
   "metadata": {},
   "outputs": [
    {
     "data": {
      "text/plain": [
       "22726"
      ]
     },
     "execution_count": 3,
     "metadata": {},
     "output_type": "execute_result"
    }
   ],
   "source": [
    "with open('./data/dblp_full.json') as f:\n",
    "    papers = json.load(f)\n",
    "    \n",
    "len(papers)"
   ]
  },
  {
   "cell_type": "code",
   "execution_count": 4,
   "metadata": {},
   "outputs": [],
   "source": [
    "# convert ids to string (mandatory for some methods...)\n",
    "for paper in papers:\n",
    "    paper['id'] = str(paper['id'])\n",
    "    paper['references'] = [str(ref_id) for ref_id in paper['references']]\n",
    "    paper['citations'] = [str(cit_id) for cit_id in paper['citations']]\n",
    "    \n",
    "with open('./data/dblp_full.json', 'w') as f:\n",
    "    json.dump(papers, f)"
   ]
  },
  {
   "cell_type": "code",
   "execution_count": 5,
   "metadata": {},
   "outputs": [],
   "source": [
    "random.seed(42)\n",
    "test_set = []\n",
    "papers_dict = dict([(paper['id'], paper) for paper in papers])\n",
    "\n",
    "papers_with_3_refs = [paper for paper in papers if len(paper['references']) >= 3]\n",
    "\n",
    "for paper in random.sample(papers_with_3_refs, k=2000):\n",
    "    test_set.append([papers_dict[ref_id] for ref_id in random.sample(paper['references'], k=3)])\n",
    "\n",
    "with open('./data/dblp_test.json', 'w') as f:\n",
    "    json.dump(test_set, f)"
   ]
  }
 ],
 "metadata": {
  "kernelspec": {
   "display_name": "Python 3",
   "language": "python",
   "name": "python3"
  },
  "language_info": {
   "codemirror_mode": {
    "name": "ipython",
    "version": 3
   },
   "file_extension": ".py",
   "mimetype": "text/x-python",
   "name": "python",
   "nbconvert_exporter": "python",
   "pygments_lexer": "ipython3",
   "version": "3.7.6"
  }
 },
 "nbformat": 4,
 "nbformat_minor": 4
}
