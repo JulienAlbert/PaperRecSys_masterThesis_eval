{
 "cells": [
  {
   "cell_type": "markdown",
   "metadata": {},
   "source": [
    "# Method 21 simplified\n",
    "\n",
    "Former method : Academic paper recommender system using multilevel simultaneous citation networks (2018)\n",
    "\n",
    "Source : Son, J., & Kim, S. B. (2018). Academic paper recommender system using multilevel simultaneous citation networks. Decision Support Systems, 105, 24–33.\n",
    "\n",
    "Algorithm (using undirected citation graph) :\n",
    "1. Generating multilevel citation networks\n",
    "2. Selection of candidate papers based on Jaccard coefficient and Eigenvector centrality"
   ]
  },
  {
   "cell_type": "code",
   "execution_count": 1,
   "metadata": {},
   "outputs": [],
   "source": [
    "%%capture\n",
    "import json\n",
    "import networkx as nx\n",
    "from tqdm.notebook import tqdm\n",
    "from collections import defaultdict"
   ]
  },
  {
   "cell_type": "code",
   "execution_count": 2,
   "metadata": {},
   "outputs": [],
   "source": [
    "FULL_SET_PATH = './data/aan_full.json'\n",
    "TEST_SET_PATH = './data/aan_test.json'\n",
    "OUTPUT_PATH = './results/stateofart_method21simplified_aan.json'"
   ]
  },
  {
   "cell_type": "code",
   "execution_count": 15,
   "metadata": {},
   "outputs": [],
   "source": [
    "FULL_SET_PATH = './data/dblp_full.json'\n",
    "TEST_SET_PATH = './data/dblp_test.json'\n",
    "OUTPUT_PATH = './results/stateofart_method21simplified_dblp.json'"
   ]
  },
  {
   "cell_type": "code",
   "execution_count": 16,
   "metadata": {},
   "outputs": [],
   "source": [
    "with open(FULL_SET_PATH) as f:\n",
    "    full_set = json.load(f)\n",
    "    \n",
    "citation_graph = nx.DiGraph()\n",
    "for paper in full_set:\n",
    "    for ref_id in paper['references']:\n",
    "        citation_graph.add_edge(paper['id'], ref_id)"
   ]
  },
  {
   "cell_type": "code",
   "execution_count": 17,
   "metadata": {},
   "outputs": [],
   "source": [
    "with open(TEST_SET_PATH) as f:\n",
    "    test_set = json.load(f)"
   ]
  },
  {
   "cell_type": "code",
   "execution_count": 18,
   "metadata": {},
   "outputs": [],
   "source": [
    "# Generating multilevel citation networks\n",
    "def helper_generate_for_one_node(G, target_node, depth_level):\n",
    "    distances = defaultdict(lambda: depth_level+1)\n",
    "    candidate_nodes = {target_node}\n",
    "    last_backward_nodes = {target_node}\n",
    "    last_forward_nodes = {target_node}\n",
    "    for dist in range(1, depth_level+1):\n",
    "        current_backward_nodes = set()\n",
    "        for node in last_backward_nodes:\n",
    "            current_backward_nodes.update([pred for pred in G.predecessors(node)])\n",
    "        \n",
    "        current_forward_nodes = set()\n",
    "        for node in last_forward_nodes:\n",
    "            current_forward_nodes.update([succ for succ in G.successors(node)])\n",
    "        \n",
    "        candidate_nodes.update(current_backward_nodes)\n",
    "        candidate_nodes.update(current_forward_nodes)\n",
    "        last_backward_nodes = current_backward_nodes\n",
    "        last_forward_nodes = current_forward_nodes\n",
    "        \n",
    "        for node in current_backward_nodes.union(current_forward_nodes):\n",
    "            if node not in distances:\n",
    "                distances[node] = dist\n",
    "   \n",
    "    return candidate_nodes, distances\n",
    "\n",
    "def generate_multilevel_citation_networks(G, target_nodes, depth_level):\n",
    "    partial_distances = []\n",
    "    candidate_nodes = set()\n",
    "    for target_node in target_nodes:\n",
    "        candidates, distances = helper_generate_for_one_node(G, target_node, depth_level)\n",
    "        partial_distances.append(distances)\n",
    "        candidate_nodes.update(candidates)\n",
    "        \n",
    "    for node in candidate_nodes:\n",
    "        distances[node] = sum([d[node] for d in partial_distances]) / len(partial_distances)\n",
    "        \n",
    "    return G.subgraph(candidate_nodes), distances"
   ]
  },
  {
   "cell_type": "code",
   "execution_count": 13,
   "metadata": {},
   "outputs": [],
   "source": [
    "# test\n",
    "#len(full_set[100]['references']+full_set[100]['citations'])"
   ]
  },
  {
   "cell_type": "code",
   "execution_count": 14,
   "metadata": {},
   "outputs": [],
   "source": [
    "# test\n",
    "#len(generate_multilevel_citation_networks(citation_graph, ['E09-1020'], 1)[1])"
   ]
  },
  {
   "cell_type": "code",
   "execution_count": 19,
   "metadata": {},
   "outputs": [],
   "source": [
    "# Selection of candidate papers\n",
    "def select_candidate_papers(G, target_nodes, alpha, limit, distances):\n",
    "    # alpha = balance between Jaccard and Eigenvector\n",
    "    candidates = [node for node in G.nodes if node not in target_nodes]\n",
    "    candidates_scores = []\n",
    "    \n",
    "    jaccard_scores = {}\n",
    "    for candidate in candidates:\n",
    "        node_pairs = [(candidate, target) for target in target_nodes]\n",
    "        partial_scores = [t[2] for t in nx.jaccard_coefficient(G, node_pairs)]\n",
    "        jaccard_scores[candidate] = sum(partial_scores) / len(partial_scores)\n",
    "            \n",
    "    try:\n",
    "        eigenvector_scores = nx.eigenvector_centrality_numpy(G)\n",
    "    except:\n",
    "        eigenvector_scores = defaultdict(int)\n",
    "        \n",
    "    # final score\n",
    "    candidates_scores = []\n",
    "    for candidate in candidates:\n",
    "        score = (alpha * jaccard_scores[candidate] + (1-alpha) * eigenvector_scores[candidate]) / distances[candidate]\n",
    "        candidates_scores.append((candidate, score))\n",
    "    \n",
    "    candidates_scores.sort(key=lambda t: t[1], reverse=True)\n",
    "    limit = min(limit, len(candidates_scores))\n",
    "    \n",
    "    return [t[0] for t in candidates_scores[:limit]]"
   ]
  },
  {
   "cell_type": "code",
   "execution_count": 12,
   "metadata": {},
   "outputs": [],
   "source": [
    "# test\n",
    "#sub_graph, distances = generate_multilevel_citation_networks(citation_graph, ['E09-1020'], 5)\n",
    "#select_candidate_papers(sub_graph.to_undirected(), ['E09-1020'], 0.5, 10, distances)"
   ]
  },
  {
   "cell_type": "code",
   "execution_count": 20,
   "metadata": {},
   "outputs": [
    {
     "data": {
      "application/vnd.jupyter.widget-view+json": {
       "model_id": "f37cae53ff974a0b81bdb62cf0820d8d",
       "version_major": 2,
       "version_minor": 0
      },
      "text/plain": [
       "HBox(children=(FloatProgress(value=0.0, max=2000.0), HTML(value='')))"
      ]
     },
     "metadata": {},
     "output_type": "display_data"
    },
    {
     "name": "stdout",
     "output_type": "stream",
     "text": [
      "\n",
      "empty recs 0\n",
      "uncomplet recs 50\n"
     ]
    }
   ],
   "source": [
    "results = []\n",
    "empty_recs = 0\n",
    "uncomplete_recs = 0\n",
    "\n",
    "for input_papers in tqdm(test_set):\n",
    "    result = {}\n",
    "    result['input'] = [input_paper['id'] for input_paper in input_papers]\n",
    "    \n",
    "    sub_graph, distances = generate_multilevel_citation_networks(citation_graph, result['input'], 4)\n",
    "    result['output'] = select_candidate_papers(sub_graph.to_undirected(), result['input'], 0.5, 100, distances)\n",
    "    results.append(result)\n",
    "    \n",
    "    if not result['output']:\n",
    "        empty_recs += 1\n",
    "    elif len(result['output']) < 100:\n",
    "        uncomplete_recs += 1\n",
    "\n",
    "print('empty recs', str(empty_recs))\n",
    "print('uncomplet recs', str(uncomplete_recs))"
   ]
  },
  {
   "cell_type": "code",
   "execution_count": 21,
   "metadata": {},
   "outputs": [],
   "source": [
    "with open(OUTPUT_PATH, 'w') as f:\n",
    "    json.dump(results, f)"
   ]
  }
 ],
 "metadata": {
  "kernelspec": {
   "display_name": "Python 3",
   "language": "python",
   "name": "python3"
  },
  "language_info": {
   "codemirror_mode": {
    "name": "ipython",
    "version": 3
   },
   "file_extension": ".py",
   "mimetype": "text/x-python",
   "name": "python",
   "nbconvert_exporter": "python",
   "pygments_lexer": "ipython3",
   "version": "3.7.6"
  }
 },
 "nbformat": 4,
 "nbformat_minor": 4
}
