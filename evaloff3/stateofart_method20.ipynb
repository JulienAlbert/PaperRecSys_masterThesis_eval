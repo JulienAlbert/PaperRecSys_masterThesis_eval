{
 "cells": [
  {
   "cell_type": "markdown",
   "metadata": {},
   "source": [
    "# Method 20 : Collaborative approach for research paper recommender system (2017)\n",
    "\n",
    "Source : Haruna, K., Akmar Ismail, M., Damiasih, D., Sutopo, J., & Herawan, T. (2017). A collaborative approach for research paper recommender system. PLOS ONE, 12(10), e0184516."
   ]
  },
  {
   "cell_type": "code",
   "execution_count": 1,
   "metadata": {},
   "outputs": [],
   "source": [
    "%%capture\n",
    "import json\n",
    "import networkx as nx\n",
    "from tqdm.notebook import tqdm"
   ]
  },
  {
   "cell_type": "code",
   "execution_count": 2,
   "metadata": {},
   "outputs": [],
   "source": [
    "FULL_SET_PATH = './data/aan_full.json'\n",
    "TEST_SET_PATH = './data/aan_test.json'\n",
    "OUTPUT_PATH = './results/stateofart_method20_aan.json'"
   ]
  },
  {
   "cell_type": "code",
   "execution_count": 8,
   "metadata": {},
   "outputs": [],
   "source": [
    "FULL_SET_PATH = './data/dblp_full.json'\n",
    "TEST_SET_PATH = './data/dblp_test.json'\n",
    "OUTPUT_PATH = './results/stateofart_method20_dblp.json'"
   ]
  },
  {
   "cell_type": "code",
   "execution_count": 9,
   "metadata": {},
   "outputs": [],
   "source": [
    "with open(FULL_SET_PATH) as f:\n",
    "    full_set = json.load(f)\n",
    "    \n",
    "directed_citation_graph = nx.DiGraph()\n",
    "for paper in full_set:\n",
    "    for ref_id in paper['references']:\n",
    "        directed_citation_graph.add_edge(paper['id'], ref_id)\n",
    "        \n",
    "undirected_citation_graph = directed_citation_graph.to_undirected()\n",
    "\n",
    "full_set_dict = dict([(paper['id'], paper) for paper in full_set])"
   ]
  },
  {
   "cell_type": "code",
   "execution_count": 10,
   "metadata": {},
   "outputs": [],
   "source": [
    "with open(TEST_SET_PATH) as f:\n",
    "    test_set = json.load(f)"
   ]
  },
  {
   "cell_type": "code",
   "execution_count": 11,
   "metadata": {},
   "outputs": [],
   "source": [
    "def compute_recommendations(G_dir, G_undir, targets):\n",
    "    # 1. Retrieveall the set of references Rfj of the target paper pi from the paper-citation relation matrix C.\n",
    "    rfj = set()\n",
    "    for target in targets:\n",
    "        rfj.update(G_dir.successors(target))\n",
    "    \n",
    "    # a. For each of the references Rfj, extract all other papers pci that also cited Rfj other than the target paper pi.\n",
    "    pci = set()\n",
    "    for paper in rfj:\n",
    "        pci.update(G_dir.predecessors(paper))\n",
    "    for paper in targets:\n",
    "        pci.discard(paper)\n",
    "        \n",
    "    # 2. Retrieve all the set of citations Cfj of the target paper pi from the paper-citation relation matrix C.\n",
    "    cfj = set()\n",
    "    for target in targets:\n",
    "        cfj.update(G_dir.predecessors(target))\n",
    "        \n",
    "    # a. For each of the citations Cfj, extract all other papers pri that Cfj referenced other than the target paper pi.\n",
    "    pri = set()\n",
    "    for paper in cfj:\n",
    "        pri.update(G_dir.successors(paper))\n",
    "    for paper in targets:\n",
    "        pri.discard(paper)\n",
    "        \n",
    "    # 3. Qualify all the candidate papers pc from pci that has been referenced by at least any of the pri.\n",
    "    pri_references = set()\n",
    "    for paper in pri:\n",
    "        pri_references.update(G_dir.successors(paper))\n",
    "    qualified_candidates = set([paper for paper in pci if paper in pri_references])\n",
    "    \n",
    "    # 4. Measure the extent of jaccard similarity between the target paper pi and the qualified candidate papers pc.\n",
    "    scores = []\n",
    "    for candidate in qualified_candidates:\n",
    "        node_pairs = [(candidate, target) for target in targets]\n",
    "        partial_scores = nx.jaccard_coefficient(G_undir, node_pairs)\n",
    "        score = sum([t[2] for t in partial_scores])\n",
    "        scores.append((candidate, score))\n",
    "\n",
    "    # 5. Recommend the top-N most similar papers to the user.\n",
    "    scores.sort(key=lambda e: e[1], reverse=True)\n",
    "    limit = min(100, len(scores))\n",
    "    return [e[0] for e in scores[:limit]]"
   ]
  },
  {
   "cell_type": "code",
   "execution_count": 12,
   "metadata": {},
   "outputs": [
    {
     "data": {
      "application/vnd.jupyter.widget-view+json": {
       "model_id": "24fe28b565cf43e6ad17bc9098e7d953",
       "version_major": 2,
       "version_minor": 0
      },
      "text/plain": [
       "HBox(children=(FloatProgress(value=0.0, max=2000.0), HTML(value='')))"
      ]
     },
     "metadata": {},
     "output_type": "display_data"
    },
    {
     "name": "stdout",
     "output_type": "stream",
     "text": [
      "\n",
      "empty recs 10\n",
      "uncomplet recs 451\n"
     ]
    }
   ],
   "source": [
    "results = []\n",
    "empty_recs = 0\n",
    "uncomplete_recs = 0\n",
    "\n",
    "for input_papers in tqdm(test_set):\n",
    "    result = {}\n",
    "    result['input'] = [input_paper['id'] for input_paper in input_papers]\n",
    "    result['output'] = compute_recommendations(directed_citation_graph, undirected_citation_graph, result['input'])\n",
    "    if not result['output']:\n",
    "        empty_recs += 1\n",
    "    elif len(result['output']) < 100:\n",
    "        uncomplete_recs += 1\n",
    "    results.append(result)\n",
    "    \n",
    "print('empty recs', str(empty_recs))\n",
    "print('uncomplet recs', str(uncomplete_recs))"
   ]
  },
  {
   "cell_type": "code",
   "execution_count": 13,
   "metadata": {},
   "outputs": [],
   "source": [
    "with open(OUTPUT_PATH, 'w') as f:\n",
    "    json.dump(results, f)"
   ]
  }
 ],
 "metadata": {
  "kernelspec": {
   "display_name": "Python 3",
   "language": "python",
   "name": "python3"
  },
  "language_info": {
   "codemirror_mode": {
    "name": "ipython",
    "version": 3
   },
   "file_extension": ".py",
   "mimetype": "text/x-python",
   "name": "python",
   "nbconvert_exporter": "python",
   "pygments_lexer": "ipython3",
   "version": "3.7.6"
  }
 },
 "nbformat": 4,
 "nbformat_minor": 4
}
