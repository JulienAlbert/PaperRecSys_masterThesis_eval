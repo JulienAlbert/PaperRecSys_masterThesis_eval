{
 "cells": [
  {
   "cell_type": "code",
   "execution_count": 1,
   "metadata": {},
   "outputs": [],
   "source": [
    "%%capture\n",
    "import json\n",
    "from gensim.summarization import bm25\n",
    "from gensim.utils import tokenize\n",
    "from tqdm.notebook import tqdm\n",
    "\n",
    "# source : https://github.com/RaRe-Technologies/gensim/blob/develop/gensim/summarization/bm25.py"
   ]
  },
  {
   "cell_type": "code",
   "execution_count": 9,
   "metadata": {},
   "outputs": [],
   "source": [
    "FULL_SET_PATH = './data/aan_full.json'\n",
    "TEST_SET_PATH = './data/aan_test.json'\n",
    "CONCAT_OUTPUT_PATH = './results/base_bm25_concat_aan.json'\n",
    "SUM_OUTPUT_PATH = './results/base_bm25_sum_aan.json'"
   ]
  },
  {
   "cell_type": "code",
   "execution_count": 2,
   "metadata": {},
   "outputs": [],
   "source": [
    "FULL_SET_PATH = './data/dblp_full.json'\n",
    "TEST_SET_PATH = './data/dblp_test.json'\n",
    "CONCAT_OUTPUT_PATH = './results/base_bm25_concat_dblp.json'\n",
    "SUM_OUTPUT_PATH = './results/base_bm25_sum_dblp.json'"
   ]
  },
  {
   "cell_type": "code",
   "execution_count": 3,
   "metadata": {},
   "outputs": [],
   "source": [
    "with open(FULL_SET_PATH) as f:\n",
    "    full_set = json.load(f)"
   ]
  },
  {
   "cell_type": "code",
   "execution_count": 4,
   "metadata": {},
   "outputs": [],
   "source": [
    "corpus = [list(tokenize(ref['title'] + ' ' + ref['abstract'])) for ref in full_set]\n",
    "full_set_ids = [ref['id'] for ref in full_set]\n",
    "model = bm25.BM25(corpus)"
   ]
  },
  {
   "cell_type": "code",
   "execution_count": 5,
   "metadata": {},
   "outputs": [],
   "source": [
    "with open(TEST_SET_PATH) as f:\n",
    "    test_set = json.load(f)"
   ]
  },
  {
   "cell_type": "markdown",
   "metadata": {},
   "source": [
    "# concat variant"
   ]
  },
  {
   "cell_type": "code",
   "execution_count": 6,
   "metadata": {},
   "outputs": [
    {
     "data": {
      "application/vnd.jupyter.widget-view+json": {
       "model_id": "eb73c66a9a414d0e9359d65e6c206e87",
       "version_major": 2,
       "version_minor": 0
      },
      "text/plain": [
       "HBox(children=(FloatProgress(value=0.0, max=2000.0), HTML(value='')))"
      ]
     },
     "metadata": {},
     "output_type": "display_data"
    },
    {
     "name": "stdout",
     "output_type": "stream",
     "text": [
      "\n"
     ]
    }
   ],
   "source": [
    "results = []\n",
    "\n",
    "for input_papers in tqdm(test_set):\n",
    "    result = {}\n",
    "    result['input'] = [input_paper['id'] for input_paper in input_papers]\n",
    "    input_paper_ids_set = set(result['input'])\n",
    "    \n",
    "    input_document = ''\n",
    "    for input_paper in input_papers:\n",
    "        input_document += input_paper['title'] + ' ' + input_paper['abstract']\n",
    "    input_document = input_document.split()\n",
    "    \n",
    "    candidate_scores = [(paper_id, score) for paper_id, score in zip(full_set_ids, model.get_scores(input_document))]\n",
    "    candidate_scores.sort(key=lambda x: x[1], reverse=True)\n",
    "    filtered_candidate_scores = [cs for cs in candidate_scores if cs[0] not in input_paper_ids_set]    \n",
    "    \n",
    "    result['output'] = [cs[0] for cs in filtered_candidate_scores[:100]]\n",
    "    results.append(result)"
   ]
  },
  {
   "cell_type": "code",
   "execution_count": 7,
   "metadata": {},
   "outputs": [],
   "source": [
    "with open(CONCAT_OUTPUT_PATH, 'w') as f:\n",
    "    json.dump(results, f)"
   ]
  },
  {
   "cell_type": "markdown",
   "metadata": {},
   "source": [
    "# sum variant"
   ]
  },
  {
   "cell_type": "code",
   "execution_count": 8,
   "metadata": {},
   "outputs": [
    {
     "data": {
      "application/vnd.jupyter.widget-view+json": {
       "model_id": "091763fbbeda44fb9d26efee9c8c72b2",
       "version_major": 2,
       "version_minor": 0
      },
      "text/plain": [
       "HBox(children=(FloatProgress(value=0.0, max=2000.0), HTML(value='')))"
      ]
     },
     "metadata": {},
     "output_type": "display_data"
    },
    {
     "name": "stdout",
     "output_type": "stream",
     "text": [
      "\n"
     ]
    }
   ],
   "source": [
    "results = []\n",
    "\n",
    "for input_papers in tqdm(test_set):\n",
    "    result = {}\n",
    "    result['input'] = [input_paper['id'] for input_paper in input_papers]\n",
    "    input_paper_ids_set = set(result['input'])\n",
    "    \n",
    "    partial_scores = [[] for _ in range(3)]\n",
    "    \n",
    "    for i, input_paper in enumerate(input_papers):\n",
    "        input_document = (input_paper['title'] + ' ' + input_paper['abstract']).split()    \n",
    "        partial_scores[i].append(model.get_scores(input_document))\n",
    "        \n",
    "    complete_scores = [s1+s2+s3 for s1,s2,s3 in zip(partial_scores[0][0], partial_scores[1][0], partial_scores[2][0])]\n",
    "    candidate_scores = [(paper_id, score) for paper_id, score in zip(full_set_ids, complete_scores)]   \n",
    "    candidate_scores.sort(key=lambda x: x[1], reverse=True)\n",
    "    filtered_candidate_scores = [cs for cs in candidate_scores if cs[0] not in input_paper_ids_set]    \n",
    "    \n",
    "    result['output'] = [cs[0] for cs in filtered_candidate_scores[:100]]\n",
    "    results.append(result)"
   ]
  },
  {
   "cell_type": "code",
   "execution_count": 9,
   "metadata": {},
   "outputs": [],
   "source": [
    "with open(SUM_OUTPUT_PATH, 'w') as f:\n",
    "    json.dump(results, f)"
   ]
  }
 ],
 "metadata": {
  "kernelspec": {
   "display_name": "Python 3",
   "language": "python",
   "name": "python3"
  },
  "language_info": {
   "codemirror_mode": {
    "name": "ipython",
    "version": 3
   },
   "file_extension": ".py",
   "mimetype": "text/x-python",
   "name": "python",
   "nbconvert_exporter": "python",
   "pygments_lexer": "ipython3",
   "version": "3.7.6"
  }
 },
 "nbformat": 4,
 "nbformat_minor": 4
}
