{
 "cells": [
  {
   "cell_type": "code",
   "execution_count": 6,
   "metadata": {},
   "outputs": [],
   "source": [
    "%%capture\n",
    "import json\n",
    "import networkx as nx\n",
    "from tqdm.notebook import tqdm"
   ]
  },
  {
   "cell_type": "code",
   "execution_count": 7,
   "metadata": {},
   "outputs": [],
   "source": [
    "with open('./datasets/train_set_aan.json') as f:\n",
    "    train_set = json.load(f)\n",
    "    \n",
    "with open('./datasets/test_set_aan.json') as f:\n",
    "    test_set = json.load(f)\n",
    "    \n",
    "full_set = train_set + test_set"
   ]
  },
  {
   "cell_type": "code",
   "execution_count": 8,
   "metadata": {},
   "outputs": [
    {
     "data": {
      "text/plain": [
       "12420"
      ]
     },
     "execution_count": 8,
     "metadata": {},
     "output_type": "execute_result"
    }
   ],
   "source": [
    "citation_graph = nx.DiGraph()\n",
    "for paper in train_set:\n",
    "    for ref_id in paper['references']:\n",
    "        citation_graph.add_edge(paper['id'], ref_id)\n",
    "        \n",
    "len(citation_graph)"
   ]
  },
  {
   "cell_type": "code",
   "execution_count": 12,
   "metadata": {},
   "outputs": [
    {
     "data": {
      "text/plain": [
       "3085"
      ]
     },
     "execution_count": 12,
     "metadata": {},
     "output_type": "execute_result"
    }
   ],
   "source": [
    "len(test_set)"
   ]
  },
  {
   "cell_type": "code",
   "execution_count": 13,
   "metadata": {},
   "outputs": [
    {
     "data": {
      "text/plain": [
       "3030"
      ]
     },
     "execution_count": 13,
     "metadata": {},
     "output_type": "execute_result"
    }
   ],
   "source": [
    "# remove papers in test set with no references in train set\n",
    "train_ids_set = set([paper['id'] for paper in train_set])\n",
    "\n",
    "test_set = [paper for paper in test_set if not train_ids_set.isdisjoint(set(paper['references']))]\n",
    "\n",
    "len(test_set)"
   ]
  },
  {
   "cell_type": "code",
   "execution_count": 28,
   "metadata": {},
   "outputs": [
    {
     "data": {
      "application/vnd.jupyter.widget-view+json": {
       "model_id": "57f231204cac4bb19d12affa5bb066ca",
       "version_major": 2,
       "version_minor": 0
      },
      "text/plain": [
       "HBox(children=(FloatProgress(value=0.0, max=3030.0), HTML(value='')))"
      ]
     },
     "metadata": {},
     "output_type": "display_data"
    },
    {
     "name": "stdout",
     "output_type": "stream",
     "text": [
      "\n"
     ]
    },
    {
     "data": {
      "text/plain": [
       "0"
      ]
     },
     "execution_count": 28,
     "metadata": {},
     "output_type": "execute_result"
    }
   ],
   "source": [
    "ground_truth = dict([(ref['id'], ref['references']) for ref in test_set])\n",
    "recommendation = {}\n",
    "personalization_dict = dict([(paper_id, 0) for paper_id in train_ids_set])\n",
    "\n",
    "for input_paper in tqdm(test_set):\n",
    "    # update graph with references of input_paper\n",
    "    for ref_id in input_paper['references']:\n",
    "        if ref_id in train_ids_set:\n",
    "            citation_graph.add_edge(input_paper['id'], ref_id)    \n",
    "    \n",
    "    # compute personalized page rank and get results\n",
    "    personalization_dict[input_paper['id']] = 1\n",
    "    candidate_scores = list(nx.pagerank(citation_graph, personalization=personalization_dict).items())\n",
    "    candidate_scores.sort(key=lambda x: x[1], reverse=True)\n",
    "    recommendation[input_paper['id']] = [cs[0] for cs in candidate_scores[:101] if cs[0] != input_paper['id']]\n",
    "    \n",
    "    # clean graph and personalization dict\n",
    "    personalization_dict.pop(input_paper['id'])\n",
    "    citation_graph.remove_node(input_paper['id'])    \n",
    "\n",
    "len(ground_truth) - len(recommendation)"
   ]
  },
  {
   "cell_type": "code",
   "execution_count": 29,
   "metadata": {},
   "outputs": [],
   "source": [
    "with open('./evaloffsets/base_personalizedpagerank_gt.json', 'w') as f:\n",
    "    json.dump(ground_truth, f)\n",
    "    \n",
    "with open('./evaloffsets/base_personalizedpagerank_rec.json', 'w') as f:\n",
    "    json.dump(recommendation, f)"
   ]
  }
 ],
 "metadata": {
  "kernelspec": {
   "display_name": "Python 3",
   "language": "python",
   "name": "python3"
  },
  "language_info": {
   "codemirror_mode": {
    "name": "ipython",
    "version": 3
   },
   "file_extension": ".py",
   "mimetype": "text/x-python",
   "name": "python",
   "nbconvert_exporter": "python",
   "pygments_lexer": "ipython3",
   "version": "3.7.6"
  }
 },
 "nbformat": 4,
 "nbformat_minor": 4
}
