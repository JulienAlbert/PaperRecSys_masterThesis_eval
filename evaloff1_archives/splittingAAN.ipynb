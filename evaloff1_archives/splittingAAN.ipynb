{
 "cells": [
  {
   "cell_type": "code",
   "execution_count": 32,
   "metadata": {},
   "outputs": [],
   "source": [
    "import json"
   ]
  },
  {
   "cell_type": "code",
   "execution_count": 33,
   "metadata": {},
   "outputs": [
    {
     "data": {
      "text/plain": [
       "15602"
      ]
     },
     "execution_count": 33,
     "metadata": {},
     "output_type": "execute_result"
    }
   ],
   "source": [
    "with open('./datasets/preprocessed2_aan.json') as f:\n",
    "    refs = json.load(f)\n",
    "    \n",
    "len(refs)"
   ]
  },
  {
   "cell_type": "code",
   "execution_count": 34,
   "metadata": {},
   "outputs": [
    {
     "data": {
      "text/plain": [
       "12517"
      ]
     },
     "execution_count": 34,
     "metadata": {},
     "output_type": "execute_result"
    }
   ],
   "source": [
    "len([_ for ref in refs if ref['year'] < 2013]) # +/- 80/20 splitting rate\n"
   ]
  },
  {
   "cell_type": "code",
   "execution_count": 37,
   "metadata": {},
   "outputs": [
    {
     "name": "stdout",
     "output_type": "stream",
     "text": [
      "12517 / 3085\n"
     ]
    }
   ],
   "source": [
    "train_set = [ref for ref in refs if ref['year'] < 2013]\n",
    "test_set = [ref for ref in refs if ref['year'] >= 2013]\n",
    "\n",
    "test_ids = set([ref['id'] for ref in test_set])\n",
    "\n",
    "for ref in train_set:\n",
    "    if ref['references']:\n",
    "        ref['references'] = [ref_id for ref_id in ref['references'] if ref_id not in test_ids]\n",
    "    if ref['citations']:\n",
    "        ref['citations'] = [ref_id for ref_id in ref['citations'] if ref_id not in test_ids]\n",
    "    \n",
    "print(len(train_set), '/', len(test_set))"
   ]
  },
  {
   "cell_type": "code",
   "execution_count": 39,
   "metadata": {},
   "outputs": [],
   "source": [
    "with open('./datasets/train_set_aan.json', 'w') as f:\n",
    "    json.dump(train_set, f)\n",
    "\n",
    "with open('./datasets/test_set_aan.json', 'w') as f:\n",
    "    json.dump(test_set, f)"
   ]
  }
 ],
 "metadata": {
  "kernelspec": {
   "display_name": "Python 3",
   "language": "python",
   "name": "python3"
  },
  "language_info": {
   "codemirror_mode": {
    "name": "ipython",
    "version": 3
   },
   "file_extension": ".py",
   "mimetype": "text/x-python",
   "name": "python",
   "nbconvert_exporter": "python",
   "pygments_lexer": "ipython3",
   "version": "3.7.6"
  }
 },
 "nbformat": 4,
 "nbformat_minor": 4
}
