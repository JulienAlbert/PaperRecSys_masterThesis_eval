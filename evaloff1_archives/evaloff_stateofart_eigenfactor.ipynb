{
 "cells": [
  {
   "cell_type": "code",
   "execution_count": 2,
   "metadata": {},
   "outputs": [
    {
     "ename": "ModuleNotFoundError",
     "evalue": "No module named 'infomap'",
     "output_type": "error",
     "traceback": [
      "\u001b[0;31m---------------------------------------------------------------------------\u001b[0m",
      "\u001b[0;31mModuleNotFoundError\u001b[0m                       Traceback (most recent call last)",
      "\u001b[0;32m<ipython-input-2-72fea3b08a08>\u001b[0m in \u001b[0;36m<module>\u001b[0;34m\u001b[0m\n\u001b[1;32m      2\u001b[0m \u001b[0;32mimport\u001b[0m \u001b[0mnumpy\u001b[0m \u001b[0;32mas\u001b[0m \u001b[0mnp\u001b[0m\u001b[0;34m\u001b[0m\u001b[0;34m\u001b[0m\u001b[0m\n\u001b[1;32m      3\u001b[0m \u001b[0;32mimport\u001b[0m \u001b[0mnetworkx\u001b[0m \u001b[0;32mas\u001b[0m \u001b[0mnx\u001b[0m\u001b[0;34m\u001b[0m\u001b[0;34m\u001b[0m\u001b[0m\n\u001b[0;32m----> 4\u001b[0;31m \u001b[0;32mimport\u001b[0m \u001b[0minfomap\u001b[0m\u001b[0;34m\u001b[0m\u001b[0;34m\u001b[0m\u001b[0m\n\u001b[0m\u001b[1;32m      5\u001b[0m \u001b[0;32mfrom\u001b[0m \u001b[0mtqdm\u001b[0m\u001b[0;34m.\u001b[0m\u001b[0mnotebook\u001b[0m \u001b[0;32mimport\u001b[0m \u001b[0mtqdm\u001b[0m\u001b[0;34m\u001b[0m\u001b[0;34m\u001b[0m\u001b[0m\n",
      "\u001b[0;31mModuleNotFoundError\u001b[0m: No module named 'infomap'"
     ]
    }
   ],
   "source": [
    "%%capture\n",
    "import json\n",
    "import numpy as np\n",
    "import networkx as nx\n",
    "import infomap\n",
    "from tqdm.notebook import tqdm"
   ]
  },
  {
   "cell_type": "code",
   "execution_count": 2,
   "metadata": {},
   "outputs": [],
   "source": [
    "with open('./datasets/train_set_aan.json') as f:\n",
    "    train_set = json.load(f)\n",
    "    \n",
    "with open('./datasets/test_set_aan.json') as f:\n",
    "    test_set = json.load(f)\n",
    "    \n",
    "full_set = train_set + test_set"
   ]
  },
  {
   "cell_type": "code",
   "execution_count": 3,
   "metadata": {},
   "outputs": [
    {
     "data": {
      "text/plain": [
       "15602"
      ]
     },
     "execution_count": 3,
     "metadata": {},
     "output_type": "execute_result"
    }
   ],
   "source": [
    "# create citation network\n",
    "citation_graph = nx.DiGraph()\n",
    "for paper in full_set:\n",
    "    for ref_id in paper['references']:\n",
    "        citation_graph.add_edge(paper['id'], ref_id)\n",
    "        \n",
    "len(citation_graph)"
   ]
  },
  {
   "cell_type": "code",
   "execution_count": 38,
   "metadata": {},
   "outputs": [
    {
     "name": "stderr",
     "output_type": "stream",
     "text": [
      "/home/julien/anaconda3/lib/python3.7/site-packages/ipykernel_launcher.py:7: RuntimeWarning: invalid value encountered in true_divide\n",
      "  import sys\n"
     ]
    },
    {
     "data": {
      "text/plain": [
       "(15602, 15602)"
      ]
     },
     "execution_count": 38,
     "metadata": {},
     "output_type": "execute_result"
    }
   ],
   "source": [
    "# rank nodes\n",
    "# don't work...\n",
    "\n",
    "adjacency_matrix = nx.adjacency_matrix(citation_graph)\n",
    "\n",
    "weights = (adjacency_matrix + adjacency_matrix.transpose()).sum(axis=1)\n",
    "\n",
    "row_normalized_adjacency_matrix = adjacency_matrix / adjacency_matrix.sum(axis=1)\n",
    "\n",
    "alef_scores = len(citation_graph) * row_normalized_adjacency_matrix.transpose() * weights / (row_normalized_adjacency_matrix.transpose() * weights).sum(axis=0)\n",
    "\n",
    "row_normalized_adjacency_matrix.shape"
   ]
  },
  {
   "cell_type": "code",
   "execution_count": 11,
   "metadata": {},
   "outputs": [],
   "source": [
    "# use classic PageRank as a substitute\n",
    "pageranks = nx.pagerank(citation_graph)"
   ]
  },
  {
   "cell_type": "code",
   "execution_count": 12,
   "metadata": {},
   "outputs": [
    {
     "ename": "NameError",
     "evalue": "name 'infomap' is not defined",
     "output_type": "error",
     "traceback": [
      "\u001b[0;31m---------------------------------------------------------------------------\u001b[0m",
      "\u001b[0;31mNameError\u001b[0m                                 Traceback (most recent call last)",
      "\u001b[0;32m<ipython-input-12-e80085809143>\u001b[0m in \u001b[0;36m<module>\u001b[0;34m\u001b[0m\n\u001b[1;32m      2\u001b[0m \u001b[0;31m# source : https://github.com/mapequation/infomap/blob/master/examples/python/infomap-networkx.py\u001b[0m\u001b[0;34m\u001b[0m\u001b[0;34m\u001b[0m\u001b[0;34m\u001b[0m\u001b[0m\n\u001b[1;32m      3\u001b[0m \u001b[0;34m\u001b[0m\u001b[0m\n\u001b[0;32m----> 4\u001b[0;31m \u001b[0mim\u001b[0m \u001b[0;34m=\u001b[0m \u001b[0minfomap\u001b[0m\u001b[0;34m.\u001b[0m\u001b[0mInfomap\u001b[0m\u001b[0;34m(\u001b[0m\u001b[0;34m\"--two-level\"\u001b[0m\u001b[0;34m)\u001b[0m\u001b[0;34m\u001b[0m\u001b[0;34m\u001b[0m\u001b[0m\n\u001b[0m\u001b[1;32m      5\u001b[0m \u001b[0;34m\u001b[0m\u001b[0m\n\u001b[1;32m      6\u001b[0m \u001b[0mprint\u001b[0m\u001b[0;34m(\u001b[0m\u001b[0;34m\"Building Infomap network from a NetworkX graph...\"\u001b[0m\u001b[0;34m)\u001b[0m\u001b[0;34m\u001b[0m\u001b[0;34m\u001b[0m\u001b[0m\n",
      "\u001b[0;31mNameError\u001b[0m: name 'infomap' is not defined"
     ]
    }
   ],
   "source": [
    "# hierarchically cluster nodes (see https://www.mapequation.org/ and infomap package)\n",
    "# source : https://github.com/mapequation/infomap/blob/master/examples/python/infomap-networkx.py\n",
    "\n",
    "im = infomap.Infomap(\"--two-level\")\n",
    "\n",
    "print(\"Building Infomap network from a NetworkX graph...\")\n",
    "for source, target in citation_graph.edges:\n",
    "    im.add_link(source, target)\n",
    "\n",
    "print(\"Find communities with Infomap...\")\n",
    "im.run()\n",
    "\n",
    "print(f\"Found {im.num_top_modules} modules with codelength: {im.codelength}\")\n",
    "\n",
    "communities = im.get_modules()\n",
    "nx.set_node_attributes(G, communities, 'community')"
   ]
  },
  {
   "cell_type": "code",
   "execution_count": 28,
   "metadata": {},
   "outputs": [
    {
     "data": {
      "application/vnd.jupyter.widget-view+json": {
       "model_id": "57f231204cac4bb19d12affa5bb066ca",
       "version_major": 2,
       "version_minor": 0
      },
      "text/plain": [
       "HBox(children=(FloatProgress(value=0.0, max=3030.0), HTML(value='')))"
      ]
     },
     "metadata": {},
     "output_type": "display_data"
    },
    {
     "name": "stdout",
     "output_type": "stream",
     "text": [
      "\n"
     ]
    },
    {
     "data": {
      "text/plain": [
       "0"
      ]
     },
     "execution_count": 28,
     "metadata": {},
     "output_type": "execute_result"
    }
   ],
   "source": [
    "# recommandation selection\n",
    "# source : https://github.com/jevinw/rec_utilities/tree/master/babel_util/recommenders\n",
    "\n",
    "ground_truth = dict([(ref['id'], ref['references']) for ref in test_set])\n",
    "recommendation = {}\n",
    "\n",
    "for input_paper in tqdm(test_set):\n",
    "        \n",
    "\n",
    "len(ground_truth) - len(recommendation)"
   ]
  },
  {
   "cell_type": "code",
   "execution_count": 29,
   "metadata": {},
   "outputs": [],
   "source": [
    "with open('./evaloffsets/stateofart_eigenfactor_gt.json', 'w') as f:\n",
    "    json.dump(ground_truth, f)\n",
    "    \n",
    "with open('./evaloffsets/stateofart_eigenfactor_rec.json', 'w') as f:\n",
    "    json.dump(recommendation, f)"
   ]
  }
 ],
 "metadata": {
  "kernelspec": {
   "display_name": "Python 3",
   "language": "python",
   "name": "python3"
  },
  "language_info": {
   "codemirror_mode": {
    "name": "ipython",
    "version": 3
   },
   "file_extension": ".py",
   "mimetype": "text/x-python",
   "name": "python",
   "nbconvert_exporter": "python",
   "pygments_lexer": "ipython3",
   "version": "3.7.6"
  }
 },
 "nbformat": 4,
 "nbformat_minor": 4
}
