{
 "cells": [
  {
   "cell_type": "code",
   "execution_count": 1,
   "metadata": {},
   "outputs": [],
   "source": [
    "%%capture\n",
    "import json\n",
    "from gensim.summarization import bm25\n",
    "from sklearn.metrics.pairwise import cosine_similarity\n",
    "from tqdm.notebook import tqdm\n",
    "\n",
    "# source : https://github.com/RaRe-Technologies/gensim/blob/develop/gensim/summarization/bm25.py"
   ]
  },
  {
   "cell_type": "code",
   "execution_count": 2,
   "metadata": {},
   "outputs": [],
   "source": [
    "with open('./datasets/train_set_aan.json') as f:\n",
    "    train_set = json.load(f)\n",
    "    \n",
    "with open('./datasets/test_set_aan.json') as f:\n",
    "    test_set = json.load(f)"
   ]
  },
  {
   "cell_type": "code",
   "execution_count": 3,
   "metadata": {},
   "outputs": [],
   "source": [
    "corpus = [(ref['title'] + ' ' + ref['abstract']).split() for ref in train_set]\n",
    "ids = [ref['id'] for ref in train_set]\n",
    "model = bm25.BM25(corpus)"
   ]
  },
  {
   "cell_type": "code",
   "execution_count": 9,
   "metadata": {},
   "outputs": [
    {
     "data": {
      "application/vnd.jupyter.widget-view+json": {
       "model_id": "022f2de1215b41d88c5484a07c4abe23",
       "version_major": 2,
       "version_minor": 0
      },
      "text/plain": [
       "HBox(children=(FloatProgress(value=0.0, max=3085.0), HTML(value='')))"
      ]
     },
     "metadata": {},
     "output_type": "display_data"
    },
    {
     "name": "stdout",
     "output_type": "stream",
     "text": [
      "\n"
     ]
    },
    {
     "data": {
      "text/plain": [
       "0"
      ]
     },
     "execution_count": 9,
     "metadata": {},
     "output_type": "execute_result"
    }
   ],
   "source": [
    "ground_truth = dict([(ref['id'], ref['references']) for ref in test_set])\n",
    "recommendation = {}\n",
    "\n",
    "for input_ref in tqdm(test_set):\n",
    "    document = (input_ref['title'] + ' ' + input_ref['abstract']).split()\n",
    "    candidate_scores = [(i, score) for i, score in enumerate(model.get_scores(document))]\n",
    "        \n",
    "    candidate_scores.sort(key=lambda x: x[1], reverse=True)\n",
    "    \n",
    "    recommendation[input_ref['id']] = [ids[cs[0]] for cs in candidate_scores[:100]]\n",
    "    \n",
    "len(ground_truth) - len(recommendation)"
   ]
  },
  {
   "cell_type": "code",
   "execution_count": 10,
   "metadata": {},
   "outputs": [],
   "source": [
    "with open('./evaloffsets/base_bm25_gt.json', 'w') as f:\n",
    "    json.dump(ground_truth, f)\n",
    "    \n",
    "with open('./evaloffsets/base_bm25_rec.json', 'w') as f:\n",
    "    json.dump(recommendation, f)"
   ]
  }
 ],
 "metadata": {
  "kernelspec": {
   "display_name": "Python 3",
   "language": "python",
   "name": "python3"
  },
  "language_info": {
   "codemirror_mode": {
    "name": "ipython",
    "version": 3
   },
   "file_extension": ".py",
   "mimetype": "text/x-python",
   "name": "python",
   "nbconvert_exporter": "python",
   "pygments_lexer": "ipython3",
   "version": "3.7.6"
  }
 },
 "nbformat": 4,
 "nbformat_minor": 4
}
