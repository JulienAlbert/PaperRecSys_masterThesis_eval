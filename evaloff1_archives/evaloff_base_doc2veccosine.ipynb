{
 "cells": [
  {
   "cell_type": "code",
   "execution_count": 3,
   "metadata": {},
   "outputs": [],
   "source": [
    "%%capture\n",
    "import json\n",
    "from sklearn.metrics.pairwise import cosine_similarity\n",
    "from gensim.models.doc2vec import Doc2Vec, TaggedDocument\n",
    "from tqdm.notebook import tqdm\n",
    "\n",
    "# source : https://radimrehurek.com/gensim/auto_examples/tutorials/run_doc2vec_lee.html#sphx-glr-auto-examples-tutorials-run-doc2vec-lee-py"
   ]
  },
  {
   "cell_type": "code",
   "execution_count": 4,
   "metadata": {},
   "outputs": [],
   "source": [
    "with open('./datasets/train_set_aan.json') as f:\n",
    "    train_set = json.load(f)\n",
    "    \n",
    "with open('./datasets/test_set_aan.json') as f:\n",
    "    test_set = json.load(f)\n",
    "    \n",
    "full_set = train_set + test_set"
   ]
  },
  {
   "cell_type": "code",
   "execution_count": 5,
   "metadata": {},
   "outputs": [],
   "source": [
    "corpus = [ref['title'] + ' ' + ref['abstract'] for ref in full_set]\n",
    "documents = [TaggedDocument(doc, [i]) for i, doc in enumerate(corpus)]\n",
    "model = Doc2Vec(documents, vector_size=100, window=2, min_count=1, workers=4)"
   ]
  },
  {
   "cell_type": "code",
   "execution_count": 15,
   "metadata": {},
   "outputs": [
    {
     "data": {
      "application/vnd.jupyter.widget-view+json": {
       "model_id": "3816022b64b7433897cf44bb63551309",
       "version_major": 2,
       "version_minor": 0
      },
      "text/plain": [
       "HBox(children=(FloatProgress(value=0.0, max=15602.0), HTML(value='')))"
      ]
     },
     "metadata": {},
     "output_type": "display_data"
    },
    {
     "name": "stdout",
     "output_type": "stream",
     "text": [
      "\n"
     ]
    }
   ],
   "source": [
    "for ref in tqdm(full_set):\n",
    "    document = [ref['title'] + ' ' + ref['abstract']]\n",
    "    ref['doc2vec_vector'] = model.infer_vector(document).reshape(1, -1)"
   ]
  },
  {
   "cell_type": "code",
   "execution_count": 16,
   "metadata": {},
   "outputs": [
    {
     "data": {
      "text/plain": [
       "(1, 100)"
      ]
     },
     "execution_count": 16,
     "metadata": {},
     "output_type": "execute_result"
    }
   ],
   "source": [
    "full_set[0]['doc2vec_vector'].shape"
   ]
  },
  {
   "cell_type": "code",
   "execution_count": 17,
   "metadata": {},
   "outputs": [
    {
     "data": {
      "application/vnd.jupyter.widget-view+json": {
       "model_id": "83fafa0601434d26928d0401818a9564",
       "version_major": 2,
       "version_minor": 0
      },
      "text/plain": [
       "HBox(children=(FloatProgress(value=0.0, max=3085.0), HTML(value='')))"
      ]
     },
     "metadata": {},
     "output_type": "display_data"
    },
    {
     "name": "stdout",
     "output_type": "stream",
     "text": [
      "\n"
     ]
    },
    {
     "data": {
      "text/plain": [
       "0"
      ]
     },
     "execution_count": 17,
     "metadata": {},
     "output_type": "execute_result"
    }
   ],
   "source": [
    "ground_truth = dict([(ref['id'], ref['references']) for ref in test_set])\n",
    "recommendation = {}\n",
    "\n",
    "for input_ref in tqdm(test_set):\n",
    "    candidate_scores = []\n",
    "    \n",
    "    for ref_id, doc2vec_vector in [(ref['id'], ref['doc2vec_vector']) for ref in train_set]:\n",
    "        score = cosine_similarity(input_ref['doc2vec_vector'], doc2vec_vector)\n",
    "        candidate_scores.append((ref_id, score))\n",
    "        \n",
    "    candidate_scores.sort(key=lambda x: x[1], reverse=True)\n",
    "    \n",
    "    recommendation[input_ref['id']] = [cs[0] for cs in candidate_scores[:100]]\n",
    "    \n",
    "\n",
    "len(ground_truth) - len(recommendation)"
   ]
  },
  {
   "cell_type": "code",
   "execution_count": 18,
   "metadata": {},
   "outputs": [],
   "source": [
    "with open('./evaloffsets/base_doc2veccosine_gt.json', 'w') as f:\n",
    "    json.dump(ground_truth, f)\n",
    "    \n",
    "with open('./evaloffsets/base_doc2veccosine_rec.json', 'w') as f:\n",
    "    json.dump(recommendation, f)"
   ]
  }
 ],
 "metadata": {
  "kernelspec": {
   "display_name": "Python 3",
   "language": "python",
   "name": "python3"
  },
  "language_info": {
   "codemirror_mode": {
    "name": "ipython",
    "version": 3
   },
   "file_extension": ".py",
   "mimetype": "text/x-python",
   "name": "python",
   "nbconvert_exporter": "python",
   "pygments_lexer": "ipython3",
   "version": "3.7.6"
  }
 },
 "nbformat": 4,
 "nbformat_minor": 4
}
