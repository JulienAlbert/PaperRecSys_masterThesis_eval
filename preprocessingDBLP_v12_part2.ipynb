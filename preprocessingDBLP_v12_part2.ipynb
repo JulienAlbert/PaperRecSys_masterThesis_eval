{
 "cells": [
  {
   "cell_type": "markdown",
   "metadata": {},
   "source": [
    "# Preprocessing"
   ]
  },
  {
   "cell_type": "code",
   "execution_count": 1,
   "metadata": {},
   "outputs": [],
   "source": [
    "import json\n",
    "import os\n",
    "from tqdm.notebook import tqdm\n",
    "import gc"
   ]
  },
  {
   "cell_type": "code",
   "execution_count": 3,
   "metadata": {},
   "outputs": [],
   "source": [
    "dir_path = \"./datasets/dblp-aminer_v12/prepro_files/\"\n",
    "author_path = dir_path + \"author.json\"\n",
    "fos_path = dir_path + \"fos.json\"\n",
    "venue_path = dir_path + \"venue.json\"\n",
    "paper_paper_paths = [dir_path + f for f in os.listdir(dir_path) if 'paper_paper_c' in f]\n",
    "paper_author_path = dir_path + \"paper_author.json\"\n",
    "paper_fos_paths = [dir_path + f for f in os.listdir(dir_path) if 'paper_fos_c' in f]\n",
    "paper_paths = [dir_path + f for f in os.listdir(dir_path) if 'paper_chunk' in f]\n",
    "N_RECORDS = 4894081\n",
    "\n",
    "paper_author_dict_path = dir_path + 'paper_author_dict.json'\n",
    "author_paper_dict_path = dir_path + 'author_paper_dict.json'\n",
    "paper_fos_dict_path = dir_path + 'paper_fos_dict.json'\n",
    "fos_paper_dict_path = dir_path + 'fos_paper_dict.json'\n",
    "paper_ref_dict_path = dir_path + 'paper_ref_dict.json'\n",
    "ref_paper_dict_path = dir_path + 'ref_paper_dict.json'\n",
    "venue_paper_dict_path = dir_path + 'venue_paper_dict.json'"
   ]
  },
  {
   "cell_type": "markdown",
   "metadata": {},
   "source": [
    "### Creating dicts"
   ]
  },
  {
   "cell_type": "code",
   "execution_count": 8,
   "metadata": {},
   "outputs": [
    {
     "data": {
      "application/vnd.jupyter.widget-view+json": {
       "model_id": "e7ab10cf583c4877ab62ecf52664ab55",
       "version_major": 2,
       "version_minor": 0
      },
      "text/plain": [
       "HBox(children=(FloatProgress(value=0.0, max=14934850.0), HTML(value='')))"
      ]
     },
     "metadata": {},
     "output_type": "display_data"
    },
    {
     "name": "stdout",
     "output_type": "stream",
     "text": [
      "\n"
     ]
    }
   ],
   "source": [
    "paper_author_dict = {}\n",
    "author_paper_dict = {}\n",
    "\n",
    "with open(paper_author_path) as file:\n",
    "    for paper_id, author_id in tqdm(json.load(file)):\n",
    "        paper_author_dict.setdefault(paper_id, []).append(author_id)\n",
    "        author_paper_dict.setdefault(author_id, []).append(paper_id)\n",
    "\n",
    "with open(paper_author_dict_path, 'w') as f:\n",
    "    json.dump(paper_author_dict, f)\n",
    "    \n",
    "with open(author_paper_dict_path, 'w') as f:\n",
    "    json.dump(author_paper_dict, f)\n",
    "    \n",
    "paper_author_dict = None\n",
    "author_paper_dict = None\n",
    "gc.collect()"
   ]
  },
  {
   "cell_type": "code",
   "execution_count": 20,
   "metadata": {},
   "outputs": [
    {
     "data": {
      "application/vnd.jupyter.widget-view+json": {
       "model_id": "f969000237cc459aa7606b84d9d44801",
       "version_major": 2,
       "version_minor": 0
      },
      "text/plain": [
       "HBox(children=(FloatProgress(value=0.0, max=22493714.0), HTML(value='')))"
      ]
     },
     "metadata": {},
     "output_type": "display_data"
    },
    {
     "name": "stdout",
     "output_type": "stream",
     "text": [
      "\n"
     ]
    },
    {
     "data": {
      "application/vnd.jupyter.widget-view+json": {
       "model_id": "e24a1857eaf1459184bc664791bbb078",
       "version_major": 2,
       "version_minor": 0
      },
      "text/plain": [
       "HBox(children=(FloatProgress(value=0.0, max=22493713.0), HTML(value='')))"
      ]
     },
     "metadata": {},
     "output_type": "display_data"
    },
    {
     "name": "stdout",
     "output_type": "stream",
     "text": [
      "\n"
     ]
    }
   ],
   "source": [
    "paper_fos_dict = {}\n",
    "fos_paper_dict = {}\n",
    "\n",
    "for paper_fos_path in paper_fos_paths:\n",
    "    with open(paper_fos_path) as file:\n",
    "        for paper_id, fos_id in tqdm(json.load(file)):\n",
    "            paper_fos_dict.setdefault(paper_id, []).append(fos_id)\n",
    "            fos_paper_dict.setdefault(fos_id, []).append(paper_id)\n",
    "\n",
    "with open(paper_fos_dict_path, 'w') as f:\n",
    "    json.dump(paper_fos_dict, f)\n",
    "    \n",
    "with open(fos_paper_dict_path, 'w') as f:\n",
    "    json.dump(fos_paper_dict, f)\n",
    "    \n",
    "paper_fos_dict = None\n",
    "fos_paper_dict = None\n",
    "gc.collect()"
   ]
  },
  {
   "cell_type": "code",
   "execution_count": 25,
   "metadata": {},
   "outputs": [
    {
     "data": {
      "application/vnd.jupyter.widget-view+json": {
       "model_id": "c9de85f003844fa0afa0b309a0f89bad",
       "version_major": 2,
       "version_minor": 0
      },
      "text/plain": [
       "HBox(children=(FloatProgress(value=0.0, max=22782075.0), HTML(value='')))"
      ]
     },
     "metadata": {},
     "output_type": "display_data"
    },
    {
     "name": "stdout",
     "output_type": "stream",
     "text": [
      "\n"
     ]
    },
    {
     "data": {
      "application/vnd.jupyter.widget-view+json": {
       "model_id": "9d54866b903b4ba3b093f4d8628f0d94",
       "version_major": 2,
       "version_minor": 0
      },
      "text/plain": [
       "HBox(children=(FloatProgress(value=0.0, max=22782074.0), HTML(value='')))"
      ]
     },
     "metadata": {},
     "output_type": "display_data"
    },
    {
     "name": "stdout",
     "output_type": "stream",
     "text": [
      "\n"
     ]
    },
    {
     "data": {
      "text/plain": [
       "22782142"
      ]
     },
     "execution_count": 25,
     "metadata": {},
     "output_type": "execute_result"
    }
   ],
   "source": [
    "paper_ref_dict = {}\n",
    "ref_paper_dict = {}\n",
    "\n",
    "for paper_paper_path in paper_paper_paths:\n",
    "    with open(paper_paper_path) as file:\n",
    "        for paper_id, ref_id in tqdm(json.load(file)):\n",
    "            paper_ref_dict.setdefault(paper_id, []).append(ref_id)\n",
    "            ref_paper_dict.setdefault(ref_id, []).append(paper_id)\n",
    "\n",
    "with open(paper_ref_dict_path, 'w') as f:\n",
    "    json.dump(paper_ref_dict, f)\n",
    "    \n",
    "with open(ref_paper_dict_path, 'w') as f:\n",
    "    json.dump(ref_paper_dict, f)\n",
    "    \n",
    "paper_ref_dict = None\n",
    "ref_paper_dict = None\n",
    "gc.collect()"
   ]
  },
  {
   "cell_type": "code",
   "execution_count": 33,
   "metadata": {},
   "outputs": [
    {
     "data": {
      "application/vnd.jupyter.widget-view+json": {
       "model_id": "1175b65602e049979f2c4001b2ca6c60",
       "version_major": 2,
       "version_minor": 0
      },
      "text/plain": [
       "HBox(children=(FloatProgress(value=0.0, max=5.0), HTML(value='')))"
      ]
     },
     "metadata": {},
     "output_type": "display_data"
    },
    {
     "data": {
      "application/vnd.jupyter.widget-view+json": {
       "model_id": "fa9b36b29ba448598121dd6f2f19434b",
       "version_major": 2,
       "version_minor": 0
      },
      "text/plain": [
       "HBox(children=(FloatProgress(value=0.0, max=1000001.0), HTML(value='')))"
      ]
     },
     "metadata": {},
     "output_type": "display_data"
    },
    {
     "name": "stdout",
     "output_type": "stream",
     "text": [
      "\n"
     ]
    },
    {
     "data": {
      "application/vnd.jupyter.widget-view+json": {
       "model_id": "84d84bcef1e04e00b4001549faf4e0b8",
       "version_major": 2,
       "version_minor": 0
      },
      "text/plain": [
       "HBox(children=(FloatProgress(value=0.0, max=1000001.0), HTML(value='')))"
      ]
     },
     "metadata": {},
     "output_type": "display_data"
    },
    {
     "name": "stdout",
     "output_type": "stream",
     "text": [
      "\n"
     ]
    },
    {
     "data": {
      "application/vnd.jupyter.widget-view+json": {
       "model_id": "48f8726cec2344c3805805262f5219c0",
       "version_major": 2,
       "version_minor": 0
      },
      "text/plain": [
       "HBox(children=(FloatProgress(value=0.0, max=1000001.0), HTML(value='')))"
      ]
     },
     "metadata": {},
     "output_type": "display_data"
    },
    {
     "name": "stdout",
     "output_type": "stream",
     "text": [
      "\n"
     ]
    },
    {
     "data": {
      "application/vnd.jupyter.widget-view+json": {
       "model_id": "a281da3454aa49879e0b515bd69d6a69",
       "version_major": 2,
       "version_minor": 0
      },
      "text/plain": [
       "HBox(children=(FloatProgress(value=0.0, max=1000001.0), HTML(value='')))"
      ]
     },
     "metadata": {},
     "output_type": "display_data"
    },
    {
     "name": "stdout",
     "output_type": "stream",
     "text": [
      "\n"
     ]
    },
    {
     "data": {
      "application/vnd.jupyter.widget-view+json": {
       "model_id": "efbda440a2a04a989c1d176afdf3be4d",
       "version_major": 2,
       "version_minor": 0
      },
      "text/plain": [
       "HBox(children=(FloatProgress(value=0.0, max=894077.0), HTML(value='')))"
      ]
     },
     "metadata": {},
     "output_type": "display_data"
    },
    {
     "name": "stdout",
     "output_type": "stream",
     "text": [
      "\n",
      "\n"
     ]
    },
    {
     "data": {
      "text/plain": [
       "40"
      ]
     },
     "execution_count": 33,
     "metadata": {},
     "output_type": "execute_result"
    }
   ],
   "source": [
    "venue_paper_dict = {}\n",
    "\n",
    "for paper_path in tqdm(paper_paths):\n",
    "    with open(paper_path) as file:\n",
    "        for paper in tqdm(json.load(file)):\n",
    "            if 'venue_id' in paper:\n",
    "                venue_paper_dict.setdefault(paper['venue_id'], []).append(paper['id'])\n",
    "                \n",
    "with open(venue_paper_dict_path, 'w') as f:\n",
    "    json.dump(venue_paper_dict, f)\n",
    "\n",
    "venue_paper_dict = None\n",
    "gc.collect()"
   ]
  },
  {
   "cell_type": "markdown",
   "metadata": {},
   "source": [
    "### Creating files"
   ]
  },
  {
   "cell_type": "code",
   "execution_count": 39,
   "metadata": {},
   "outputs": [
    {
     "data": {
      "text/plain": [
       "32"
      ]
     },
     "execution_count": 39,
     "metadata": {},
     "output_type": "execute_result"
    }
   ],
   "source": [
    "with open(venue_path) as f:\n",
    "    venue_dict = json.load(f)\n",
    "    \n",
    "with open(venue_paper_dict_path) as f:\n",
    "    venue_paper_dict = json.load(f)\n",
    "    \n",
    "for venue_id, paper_ids in venue_paper_dict.items():\n",
    "    venue_dict[venue_id]['paper_ids'] = paper_ids\n",
    "    \n",
    "with open(venue_path, 'w') as f:\n",
    "    json.dump(venue_dict, f)\n",
    "\n",
    "venue_dict = None\n",
    "venue_paper_dict = None\n",
    "gc.collect()"
   ]
  },
  {
   "cell_type": "code",
   "execution_count": 41,
   "metadata": {},
   "outputs": [
    {
     "data": {
      "application/vnd.jupyter.widget-view+json": {
       "model_id": "a93a59e3b51e468b934a151cb57fb9a9",
       "version_major": 2,
       "version_minor": 0
      },
      "text/plain": [
       "HBox(children=(FloatProgress(value=0.0, max=4398138.0), HTML(value='')))"
      ]
     },
     "metadata": {},
     "output_type": "display_data"
    },
    {
     "name": "stdout",
     "output_type": "stream",
     "text": [
      "\n"
     ]
    },
    {
     "data": {
      "text/plain": [
       "4398174"
      ]
     },
     "execution_count": 41,
     "metadata": {},
     "output_type": "execute_result"
    }
   ],
   "source": [
    "with open(author_path) as f:\n",
    "    author_dict = json.load(f)\n",
    "    \n",
    "with open(author_paper_dict_path) as f:\n",
    "    author_paper_dict = json.load(f)\n",
    "    \n",
    "for author_id, paper_ids in tqdm(author_paper_dict.items()):\n",
    "    author_dict[author_id]['paper_ids'] = paper_ids\n",
    "    \n",
    "with open(author_path, 'w') as f:\n",
    "    json.dump(author_dict, f)\n",
    "\n",
    "author_dict = None\n",
    "author_paper_dict = None\n",
    "gc.collect()"
   ]
  },
  {
   "cell_type": "code",
   "execution_count": 44,
   "metadata": {},
   "outputs": [
    {
     "data": {
      "application/vnd.jupyter.widget-view+json": {
       "model_id": "02400591748e4c1d9fdc2a5e546bb5b3",
       "version_major": 2,
       "version_minor": 0
      },
      "text/plain": [
       "HBox(children=(FloatProgress(value=0.0, max=132337.0), HTML(value='')))"
      ]
     },
     "metadata": {},
     "output_type": "display_data"
    },
    {
     "name": "stdout",
     "output_type": "stream",
     "text": [
      "\n"
     ]
    },
    {
     "data": {
      "text/plain": [
       "132373"
      ]
     },
     "execution_count": 44,
     "metadata": {},
     "output_type": "execute_result"
    }
   ],
   "source": [
    "with open(fos_path) as f:\n",
    "    fos_dict = {fos_id:{'id': fos_id, 'name': fos_name}\n",
    "                for fos_id, fos_name in json.load(f).items()}\n",
    "    \n",
    "with open(fos_paper_dict_path) as f:\n",
    "    fos_paper_dict = json.load(f)\n",
    "    \n",
    "for fos_id, paper_ids in tqdm(fos_paper_dict.items()):\n",
    "    fos_dict[fos_id]['paper_ids'] = paper_ids\n",
    "    \n",
    "with open(fos_path, 'w') as f:\n",
    "    json.dump(fos_dict, f)\n",
    "\n",
    "fos_dict = None\n",
    "fos_paper_dict = None\n",
    "gc.collect()"
   ]
  },
  {
   "cell_type": "code",
   "execution_count": 4,
   "metadata": {},
   "outputs": [
    {
     "data": {
      "application/vnd.jupyter.widget-view+json": {
       "model_id": "b42fd0f473d242639b8918b09b9156ee",
       "version_major": 2,
       "version_minor": 0
      },
      "text/plain": [
       "HBox(children=(FloatProgress(value=0.0, max=15.0), HTML(value='')))"
      ]
     },
     "metadata": {},
     "output_type": "display_data"
    },
    {
     "data": {
      "application/vnd.jupyter.widget-view+json": {
       "model_id": "343a495359414f7cb51af8d75489578e",
       "version_major": 2,
       "version_minor": 0
      },
      "text/plain": [
       "HBox(children=(FloatProgress(value=0.0, max=333333.0), HTML(value='')))"
      ]
     },
     "metadata": {},
     "output_type": "display_data"
    },
    {
     "name": "stdout",
     "output_type": "stream",
     "text": [
      "\n"
     ]
    },
    {
     "data": {
      "application/vnd.jupyter.widget-view+json": {
       "model_id": "d1bbf3eb52c04e9dba70d3b1de6ceb35",
       "version_major": 2,
       "version_minor": 0
      },
      "text/plain": [
       "HBox(children=(FloatProgress(value=0.0, max=333335.0), HTML(value='')))"
      ]
     },
     "metadata": {},
     "output_type": "display_data"
    },
    {
     "name": "stdout",
     "output_type": "stream",
     "text": [
      "\n"
     ]
    },
    {
     "data": {
      "application/vnd.jupyter.widget-view+json": {
       "model_id": "a277f2e67e31465ebc9f23bac24980f3",
       "version_major": 2,
       "version_minor": 0
      },
      "text/plain": [
       "HBox(children=(FloatProgress(value=0.0, max=298027.0), HTML(value='')))"
      ]
     },
     "metadata": {},
     "output_type": "display_data"
    },
    {
     "name": "stdout",
     "output_type": "stream",
     "text": [
      "\n"
     ]
    },
    {
     "data": {
      "application/vnd.jupyter.widget-view+json": {
       "model_id": "ec46f9dfe1b44142bfedfb032f8f8836",
       "version_major": 2,
       "version_minor": 0
      },
      "text/plain": [
       "HBox(children=(FloatProgress(value=0.0, max=333333.0), HTML(value='')))"
      ]
     },
     "metadata": {},
     "output_type": "display_data"
    },
    {
     "name": "stdout",
     "output_type": "stream",
     "text": [
      "\n"
     ]
    },
    {
     "data": {
      "application/vnd.jupyter.widget-view+json": {
       "model_id": "21a25ef09afd473584a1a3abff5fa8ee",
       "version_major": 2,
       "version_minor": 0
      },
      "text/plain": [
       "HBox(children=(FloatProgress(value=0.0, max=298025.0), HTML(value='')))"
      ]
     },
     "metadata": {},
     "output_type": "display_data"
    },
    {
     "name": "stdout",
     "output_type": "stream",
     "text": [
      "\n"
     ]
    },
    {
     "data": {
      "application/vnd.jupyter.widget-view+json": {
       "model_id": "2cea5303130e43ba964d6672808147d3",
       "version_major": 2,
       "version_minor": 0
      },
      "text/plain": [
       "HBox(children=(FloatProgress(value=0.0, max=333333.0), HTML(value='')))"
      ]
     },
     "metadata": {},
     "output_type": "display_data"
    },
    {
     "name": "stdout",
     "output_type": "stream",
     "text": [
      "\n"
     ]
    },
    {
     "data": {
      "application/vnd.jupyter.widget-view+json": {
       "model_id": "8ab2e50044104242819724787f920f21",
       "version_major": 2,
       "version_minor": 0
      },
      "text/plain": [
       "HBox(children=(FloatProgress(value=0.0, max=333335.0), HTML(value='')))"
      ]
     },
     "metadata": {},
     "output_type": "display_data"
    },
    {
     "name": "stdout",
     "output_type": "stream",
     "text": [
      "\n"
     ]
    },
    {
     "data": {
      "application/vnd.jupyter.widget-view+json": {
       "model_id": "c7529bf9fefe4dcb9b4b7893af8f1319",
       "version_major": 2,
       "version_minor": 0
      },
      "text/plain": [
       "HBox(children=(FloatProgress(value=0.0, max=333333.0), HTML(value='')))"
      ]
     },
     "metadata": {},
     "output_type": "display_data"
    },
    {
     "name": "stdout",
     "output_type": "stream",
     "text": [
      "\n"
     ]
    },
    {
     "data": {
      "application/vnd.jupyter.widget-view+json": {
       "model_id": "489982a1a81b414a9c9d622135945d78",
       "version_major": 2,
       "version_minor": 0
      },
      "text/plain": [
       "HBox(children=(FloatProgress(value=0.0, max=333333.0), HTML(value='')))"
      ]
     },
     "metadata": {},
     "output_type": "display_data"
    },
    {
     "name": "stdout",
     "output_type": "stream",
     "text": [
      "\n"
     ]
    },
    {
     "data": {
      "application/vnd.jupyter.widget-view+json": {
       "model_id": "4b5a711363a041d5ad114bc2cce3db34",
       "version_major": 2,
       "version_minor": 0
      },
      "text/plain": [
       "HBox(children=(FloatProgress(value=0.0, max=333335.0), HTML(value='')))"
      ]
     },
     "metadata": {},
     "output_type": "display_data"
    },
    {
     "name": "stdout",
     "output_type": "stream",
     "text": [
      "\n"
     ]
    },
    {
     "data": {
      "application/vnd.jupyter.widget-view+json": {
       "model_id": "e7e6e78fdb954eeca178202da8fb8e4e",
       "version_major": 2,
       "version_minor": 0
      },
      "text/plain": [
       "HBox(children=(FloatProgress(value=0.0, max=298025.0), HTML(value='')))"
      ]
     },
     "metadata": {},
     "output_type": "display_data"
    },
    {
     "name": "stdout",
     "output_type": "stream",
     "text": [
      "\n"
     ]
    },
    {
     "data": {
      "application/vnd.jupyter.widget-view+json": {
       "model_id": "4b98eda36e294126973ca5705f3b12f9",
       "version_major": 2,
       "version_minor": 0
      },
      "text/plain": [
       "HBox(children=(FloatProgress(value=0.0, max=333333.0), HTML(value='')))"
      ]
     },
     "metadata": {},
     "output_type": "display_data"
    },
    {
     "name": "stdout",
     "output_type": "stream",
     "text": [
      "\n"
     ]
    },
    {
     "data": {
      "application/vnd.jupyter.widget-view+json": {
       "model_id": "6ac89adf0bef4f74b3d6c5d84f0244d1",
       "version_major": 2,
       "version_minor": 0
      },
      "text/plain": [
       "HBox(children=(FloatProgress(value=0.0, max=333333.0), HTML(value='')))"
      ]
     },
     "metadata": {},
     "output_type": "display_data"
    },
    {
     "name": "stdout",
     "output_type": "stream",
     "text": [
      "\n"
     ]
    },
    {
     "data": {
      "application/vnd.jupyter.widget-view+json": {
       "model_id": "f0582f1455e6448ab980758729a3dd07",
       "version_major": 2,
       "version_minor": 0
      },
      "text/plain": [
       "HBox(children=(FloatProgress(value=0.0, max=333333.0), HTML(value='')))"
      ]
     },
     "metadata": {},
     "output_type": "display_data"
    },
    {
     "name": "stdout",
     "output_type": "stream",
     "text": [
      "\n"
     ]
    },
    {
     "data": {
      "application/vnd.jupyter.widget-view+json": {
       "model_id": "8a9b55efe4524fa286d412aac0accebb",
       "version_major": 2,
       "version_minor": 0
      },
      "text/plain": [
       "HBox(children=(FloatProgress(value=0.0, max=333335.0), HTML(value='')))"
      ]
     },
     "metadata": {},
     "output_type": "display_data"
    },
    {
     "name": "stdout",
     "output_type": "stream",
     "text": [
      "\n",
      "\n"
     ]
    },
    {
     "data": {
      "text/plain": [
       "3"
      ]
     },
     "execution_count": 4,
     "metadata": {},
     "output_type": "execute_result"
    }
   ],
   "source": [
    "with open(paper_fos_dict_path) as f:\n",
    "    paper_fos_dict = json.load(f)\n",
    "    \n",
    "with open(paper_author_dict_path) as f:\n",
    "    paper_author_dict = json.load(f)\n",
    "    \n",
    "with open(paper_ref_dict_path) as f:\n",
    "    paper_ref_dict = json.load(f)\n",
    "    \n",
    "with open(ref_paper_dict_path) as f:\n",
    "    ref_paper_dict = json.load(f)\n",
    "    \n",
    "for paper_path in tqdm(paper_paths):\n",
    "    with open(paper_path) as file:\n",
    "        papers = json.load(file)\n",
    "        for paper in tqdm(papers):\n",
    "            paper_id = str(paper['id'])\n",
    "            if paper_id in paper_fos_dict:\n",
    "                paper['fos_ids'] = paper_fos_dict[paper_id]\n",
    "            if paper_id in paper_author_dict:\n",
    "                paper['author_ids'] = paper_author_dict[paper_id]\n",
    "            if paper_id in paper_ref_dict:\n",
    "                paper['reference_ids'] = paper_ref_dict[paper_id]\n",
    "            if paper_id in ref_paper_dict:\n",
    "                paper['citation_ids'] = ref_paper_dict[paper_id]\n",
    "                    \n",
    "    with open(paper_path, 'w') as f:\n",
    "        json.dump(papers, f)\n",
    "        \n",
    "    papers = None\n",
    "    gc.collect()\n",
    "\n",
    "paper_fos_dict = None\n",
    "paper_author_dict = None\n",
    "paper_ref_dict = None\n",
    "ref_paper_dict = None\n",
    "gc.collect()"
   ]
  }
 ],
 "metadata": {
  "kernelspec": {
   "display_name": "Python 3",
   "language": "python",
   "name": "python3"
  },
  "language_info": {
   "codemirror_mode": {
    "name": "ipython",
    "version": 3
   },
   "file_extension": ".py",
   "mimetype": "text/x-python",
   "name": "python",
   "nbconvert_exporter": "python",
   "pygments_lexer": "ipython3",
   "version": "3.7.6"
  }
 },
 "nbformat": 4,
 "nbformat_minor": 4
}
