{
 "cells": [
  {
   "cell_type": "markdown",
   "metadata": {},
   "source": [
    "# Preprocessing"
   ]
  },
  {
   "cell_type": "code",
   "execution_count": 1,
   "metadata": {},
   "outputs": [],
   "source": [
    "import json\n",
    "import os\n",
    "import csv\n",
    "from tqdm.notebook import tqdm\n",
    "from collections import defaultdict"
   ]
  },
  {
   "cell_type": "code",
   "execution_count": 2,
   "metadata": {},
   "outputs": [],
   "source": [
    "dataset_dir_path = './datasets/dblp-aminer_v12/'\n",
    "dataset_path = './datasets/dblp-aminer_v12/dblp.v12.json'\n",
    "N_RECORDS = 4894081"
   ]
  },
  {
   "cell_type": "markdown",
   "metadata": {},
   "source": [
    "### Step 0 : exploring data"
   ]
  },
  {
   "cell_type": "code",
   "execution_count": 12,
   "metadata": {},
   "outputs": [
    {
     "name": "stdout",
     "output_type": "stream",
     "text": [
      "{\"id\":1091,\"authors\":[{\"name\":\"Makoto Satoh\",\"org\":\"Shinshu University\",\"id\":2312688602},{\"name\":\"Ryo Muramatsu\",\"org\":\"Shinshu University\",\"id\":2482909946},{\"name\":\"Mizue Kayama\",\"org\":\"Shinshu University\",\"id\":2128134587},{\"name\":\"Kazunori Itoh\",\"org\":\"Shinshu University\",\"id\":2101782692},{\"name\":\"Masami Hashimoto\",\"org\":\"Shinshu University\",\"id\":2114054191},{\"name\":\"Makoto Otani\",\"org\":\"Shinshu University\",\"id\":1989208940},{\"name\":\"Michio Shimizu\",\"org\":\"Nagano Prefectural College\",\"id\":2134989941},{\"name\":\"Masahiko Sugimoto\",\"org\":\"Takushoku University, Hokkaido Junior College\",\"id\":2307479915}],\"title\":\"Preliminary Design of a Network Protocol Learning Tool Based on the Comprehension of High School Students: Design by an Empirical Study Using a Simple Mind Map\",\"year\":2013,\"n_citation\":1,\"page_start\":\"89\",\"page_end\":\"93\",\"doc_type\":\"Conference\",\"publisher\":\"Springer, Berlin, Heidelberg\",\"volume\":\"\",\"issue\":\"\",\"doi\":\"10.1007/978-3-642-39476-8_19\",\"references\":[2005687710,2018037215],\"indexed_abstract\":{\"IndexLength\":58,\"InvertedIndex\":{\"tool.\":[42],\"study\":[4],\"aim\":[37],\"purpose\":[1],\"scientific\":[17],\"for\":[11],\"aspects\":[18],\"students\":[14,46],\"focus\":[27],\"hands-on\":[47],\"learning\":[9,41],\"experience\":[48],\"our\":[40],\"we\":[26],\"network\":[33,56],\"The\":[0],\"More\":[24],\"high\":[12],\"protocols.\":[57],\"school\":[13],\"and\":[21],\"of\":[2,19,32,55],\"communication\":[22],\"protocols\":[34],\"gives\":[45],\"on\":[28],\"a\":[8],\"studying\":[15],\"specifically,\":[25],\"this\":[3],\"understand\":[51],\"is\":[5],\"develop\":[7,39],\"Our\":[43],\"tool\":[10,44],\"the\":[16,29,36,52],\"help\":[50],\"as\":[35],\"principles\":[31,54],\"information\":[20],\"networks.\":[23],\"to\":[6,38,49],\"basic\":[30,53]}},\"fos\":[{\"name\":\"Telecommunications network\",\"w\":0.45139},{\"name\":\"Computer science\",\"w\":0.45245},{\"name\":\"Mind map\",\"w\":0.5347},{\"name\":\"Human–computer interaction\",\"w\":0.47011},{\"name\":\"Multimedia\",\"w\":0.46629},{\"name\":\"Empirical research\",\"w\":0.49737},{\"name\":\"Comprehension\",\"w\":0.47042},{\"name\":\"Communications protocol\",\"w\":0.51907}],\"venue\":{\"raw\":\"International Conference on Human-Computer Interaction\",\"id\":1127419992,\"type\":\"C\"}}\n",
      "\n",
      ",{\"id\":1388,\"authors\":[{\"name\":\"Pranava K. Jha\",\"id\":2718958994}],\"title\":\"Further Results on Independence in Direct-Product Graphs.\",\"year\":2000,\"n_citation\":1,\"page_start\":\"\",\"page_end\":\"\",\"doc_type\":\"Journal\",\"publisher\":\"\",\"volume\":\"56\",\"issue\":\"\",\"doi\":\"\",\"fos\":[{\"name\":\"Graph\",\"w\":0.0},{\"name\":\"Discrete mathematics\",\"w\":0.45872},{\"name\":\"Combinatorics\",\"w\":0.4515},{\"name\":\"Direct product\",\"w\":0.59104},{\"name\":\"Mathematics\",\"w\":0.42784}],\"venue\":{\"raw\":\"Ars Combinatoria\",\"id\":73158690,\"type\":\"J\"}}\n",
      "\n"
     ]
    }
   ],
   "source": [
    "with open(dataset_path) as f:\n",
    "    f.readline() # skip first line\n",
    "    for _ in range(2):\n",
    "        #print(json.dumps(json.loads(f.readline()), indent=2))\n",
    "        print(f.readline())"
   ]
  },
  {
   "cell_type": "code",
   "execution_count": 16,
   "metadata": {},
   "outputs": [
    {
     "data": {
      "application/vnd.jupyter.widget-view+json": {
       "model_id": "dfe21a33415e4e98a95e0a4096f1daa7",
       "version_major": 2,
       "version_minor": 0
      },
      "text/plain": [
       "HBox(children=(FloatProgress(value=0.0, max=4894081.0), HTML(value='')))"
      ]
     },
     "metadata": {},
     "output_type": "display_data"
    },
    {
     "name": "stdout",
     "output_type": "stream",
     "text": [
      "\n",
      "0\n",
      "\n",
      "{\n",
      "  \"id\": 4894081,\n",
      "  \"authors\": 4894063,\n",
      "  \"title\": 4894081,\n",
      "  \"year\": 4894072,\n",
      "  \"n_citation\": 3538030,\n",
      "  \"page_start\": 4356226,\n",
      "  \"page_end\": 4112329,\n",
      "  \"doc_type\": 4394640,\n",
      "  \"publisher\": 4134190,\n",
      "  \"doi\": 3920939,\n",
      "  \"references\": 3777107,\n",
      "  \"indexed_abstract\": 4232520,\n",
      "  \"fos\": 4877401,\n",
      "  \"venue\": 4846973,\n",
      "  \"volume\": 2183176,\n",
      "  \"issue\": 1618242,\n",
      "  \"alias_ids\": 21408\n",
      "}\n",
      "\n",
      "n_authors 14934850\n",
      "{\n",
      "  \"name\": 14934850,\n",
      "  \"org\": 11361508,\n",
      "  \"id\": 14934850\n",
      "}\n",
      "\n",
      "{\n",
      "  \"raw\": 4820972,\n",
      "  \"id\": 4371968,\n",
      "  \"type\": 4371970\n",
      "}\n",
      "\n",
      "n_fos 45029892\n",
      "{\n",
      "  \"name\": 45029892,\n",
      "  \"w\": 41824168\n",
      "}\n"
     ]
    }
   ],
   "source": [
    "n_errors = 0\n",
    "n_authors = 0\n",
    "n_fos = 0\n",
    "paper_field_count = defaultdict(int)\n",
    "author_field_count = defaultdict(int)\n",
    "venue_field_count = defaultdict(int)\n",
    "fos_field_count = defaultdict(int)\n",
    "\n",
    "with open(dataset_path) as file:\n",
    "    file.readline() # skip first line\n",
    "    for _ in tqdm(range(N_RECORDS)):\n",
    "        line = file.readline()\n",
    "        try:\n",
    "            record = json.loads(line[1:])\n",
    "        except:\n",
    "            try:\n",
    "                record = json.loads(line)\n",
    "            except:\n",
    "                print(line)\n",
    "                record = {}\n",
    "                n_errors += 1\n",
    "                \n",
    "        if record:\n",
    "            for field, value in record.items():\n",
    "                if value:\n",
    "                    paper_field_count[field] += 1\n",
    "                    \n",
    "            if 'authors' in record:\n",
    "                for author in record['authors']:\n",
    "                    n_authors += 1\n",
    "                    for field, value in author.items():\n",
    "                        if value:\n",
    "                            author_field_count[field] += 1\n",
    "                        \n",
    "            if 'venue' in record:\n",
    "                for field, value in record['venue'].items():\n",
    "                    if value:\n",
    "                            venue_field_count[field] += 1\n",
    "                        \n",
    "            if 'fos' in record:\n",
    "                for fos in record['fos']:\n",
    "                    n_fos += 1\n",
    "                    for field, value in fos.items():\n",
    "                        if value:\n",
    "                            fos_field_count[field] += 1\n",
    "            \n",
    "print(n_errors)\n",
    "print()\n",
    "print(json.dumps(paper_field_count, indent=2))\n",
    "print()\n",
    "print('n_authors', n_authors)\n",
    "print(json.dumps(author_field_count, indent=2))\n",
    "print()\n",
    "print(json.dumps(venue_field_count, indent=2))\n",
    "print()\n",
    "print('n_fos', n_fos)\n",
    "print(json.dumps(fos_field_count, indent=2))"
   ]
  },
  {
   "cell_type": "code",
   "execution_count": 21,
   "metadata": {},
   "outputs": [
    {
     "data": {
      "application/vnd.jupyter.widget-view+json": {
       "model_id": "1cbe848e45ab41cda3254b5c4fc6ae68",
       "version_major": 2,
       "version_minor": 0
      },
      "text/plain": [
       "HBox(children=(FloatProgress(value=0.0, max=4894081.0), HTML(value='')))"
      ]
     },
     "metadata": {},
     "output_type": "display_data"
    },
    {
     "name": "stdout",
     "output_type": "stream",
     "text": [
      "\n",
      "unique paper ids 0\n",
      "nb unique authors 4398138\n",
      "nb unique venues 10480\n",
      "nb unique fos 132337\n"
     ]
    }
   ],
   "source": [
    "paper_ids = set()\n",
    "author_ids = set()\n",
    "venue_ids = set()\n",
    "fos = set()\n",
    "\n",
    "with open(dataset_path) as file:\n",
    "    file.readline() # skip first line\n",
    "    for _ in tqdm(range(N_RECORDS)):\n",
    "        line = file.readline()\n",
    "        try:\n",
    "            record = json.loads(line[1:])\n",
    "        except:\n",
    "            record = json.loads(line)\n",
    "            \n",
    "        paper_ids.add(record['id'])\n",
    "        \n",
    "        if 'authors' in record:\n",
    "            author_ids.update([author['id'] for author in record['authors']])\n",
    "\n",
    "        if 'venue' in record:\n",
    "            if 'id' in record['venue']:\n",
    "                venue_ids.add(record['venue']['id'])\n",
    "\n",
    "        if 'fos' in record:\n",
    "            fos.update([fos['name'] for fos in record['fos']])\n",
    "        \n",
    "print('unique paper ids', str(len(paper_ids) - N_RECORDS))\n",
    "print('nb unique authors', str(len(author_ids)))\n",
    "print('nb unique venues', str(len(venue_ids)))\n",
    "print('nb unique fos', str(len(fos)))"
   ]
  },
  {
   "cell_type": "code",
   "execution_count": 22,
   "metadata": {},
   "outputs": [
    {
     "name": "stdout",
     "output_type": "stream",
     "text": [
      "venue_ids min-max 182001 --> 2996807011\n"
     ]
    }
   ],
   "source": [
    "print('venue_ids min-max', str(min(venue_ids)), '-->', str(max(venue_ids)))"
   ]
  },
  {
   "cell_type": "code",
   "execution_count": 20,
   "metadata": {},
   "outputs": [
    {
     "data": {
      "application/vnd.jupyter.widget-view+json": {
       "model_id": "7ce0e162f32e4f5296c1326955a987ac",
       "version_major": 2,
       "version_minor": 0
      },
      "text/plain": [
       "HBox(children=(FloatProgress(value=0.0, max=4894081.0), HTML(value='')))"
      ]
     },
     "metadata": {},
     "output_type": "display_data"
    },
    {
     "name": "stdout",
     "output_type": "stream",
     "text": [
      "\n",
      "nb unique venues 38742\n",
      "nb records with empty venue data 0\n"
     ]
    }
   ],
   "source": [
    "venue = set()\n",
    "no_id_no_raw_count = 0\n",
    "\n",
    "with open(dataset_path) as file:\n",
    "    file.readline() # skip first line\n",
    "    for _ in tqdm(range(N_RECORDS)):\n",
    "        line = file.readline()\n",
    "        try:\n",
    "            record = json.loads(line[1:])\n",
    "        except:\n",
    "            record = json.loads(line)\n",
    "            \n",
    "        paper_ids.add(record['id'])\n",
    "\n",
    "        if 'venue' in record:\n",
    "            if 'id' not in record['venue']:\n",
    "                if 'raw' in record['venue']:\n",
    "                    venue.add(record['venue']['raw'])\n",
    "                else:\n",
    "                    no_id_no_raw_count += 1\n",
    "        \n",
    "print('nb unique venues', str(len(venue)))\n",
    "print('nb records with empty venue data', no_id_no_raw_count)"
   ]
  },
  {
   "cell_type": "markdown",
   "metadata": {},
   "source": [
    "### Step 1 : create sub structures"
   ]
  },
  {
   "cell_type": "markdown",
   "metadata": {},
   "source": [
    "##### Create fos and fos-paper files"
   ]
  },
  {
   "cell_type": "code",
   "execution_count": 25,
   "metadata": {},
   "outputs": [
    {
     "data": {
      "application/vnd.jupyter.widget-view+json": {
       "model_id": "99c53f77db6142f7b0fb0c070d2325de",
       "version_major": 2,
       "version_minor": 0
      },
      "text/plain": [
       "HBox(children=(FloatProgress(value=0.0, max=4894081.0), HTML(value='')))"
      ]
     },
     "metadata": {},
     "output_type": "display_data"
    },
    {
     "name": "stdout",
     "output_type": "stream",
     "text": [
      "\n"
     ]
    }
   ],
   "source": [
    "fos_paper_dict = defaultdict(set)\n",
    "\n",
    "with open(dataset_path) as file:\n",
    "    file.readline() # skip first line\n",
    "    for _ in tqdm(range(N_RECORDS)):\n",
    "        line = file.readline()\n",
    "        try:\n",
    "            record = json.loads(line[1:])\n",
    "        except:\n",
    "            record = json.loads(line)\n",
    "\n",
    "        if 'fos' in record:\n",
    "            for fos in record['fos']:\n",
    "                fos_paper_dict[fos['name']].add(record['id'])\n",
    "            \n",
    "id_fos_dict = dict(enumerate(fos_paper_dict.keys()))"
   ]
  },
  {
   "cell_type": "code",
   "execution_count": 28,
   "metadata": {},
   "outputs": [],
   "source": [
    "with open(dataset_dir_path+'fos.json', 'w') as file:\n",
    "    json.dump(id_fos_dict, file)"
   ]
  },
  {
   "cell_type": "code",
   "execution_count": 29,
   "metadata": {},
   "outputs": [
    {
     "data": {
      "application/vnd.jupyter.widget-view+json": {
       "model_id": "9fc81766ea9b438e8e68162ce213657e",
       "version_major": 2,
       "version_minor": 0
      },
      "text/plain": [
       "HBox(children=(FloatProgress(value=0.0, max=132337.0), HTML(value='')))"
      ]
     },
     "metadata": {},
     "output_type": "display_data"
    },
    {
     "name": "stdout",
     "output_type": "stream",
     "text": [
      "\n"
     ]
    }
   ],
   "source": [
    "fos_paper_pairs = []\n",
    "\n",
    "for fos_id, fos_name in tqdm(id_fos_dict.items()):\n",
    "    for paper_id in fos_paper_dict[fos_name]:\n",
    "        fos_paper_pairs.append((paper_id, fos_id))"
   ]
  },
  {
   "cell_type": "code",
   "execution_count": 31,
   "metadata": {},
   "outputs": [],
   "source": [
    "with open(dataset_dir_path+'paper_fos.json', 'w') as file:\n",
    "    json.dump(fos_paper_pairs, file)"
   ]
  },
  {
   "cell_type": "code",
   "execution_count": 32,
   "metadata": {},
   "outputs": [
    {
     "data": {
      "text/plain": [
       "44987427"
      ]
     },
     "execution_count": 32,
     "metadata": {},
     "output_type": "execute_result"
    }
   ],
   "source": [
    "len(fos_paper_pairs)"
   ]
  },
  {
   "cell_type": "code",
   "execution_count": 33,
   "metadata": {},
   "outputs": [
    {
     "data": {
      "text/plain": [
       "132337"
      ]
     },
     "execution_count": 33,
     "metadata": {},
     "output_type": "execute_result"
    }
   ],
   "source": [
    "len(id_fos_dict)"
   ]
  },
  {
   "cell_type": "markdown",
   "metadata": {},
   "source": [
    "##### Create author file"
   ]
  },
  {
   "cell_type": "code",
   "execution_count": 7,
   "metadata": {},
   "outputs": [
    {
     "data": {
      "application/vnd.jupyter.widget-view+json": {
       "model_id": "49dd7cd9256f4bc2b9fe5bc77f877df8",
       "version_major": 2,
       "version_minor": 0
      },
      "text/plain": [
       "HBox(children=(FloatProgress(value=0.0, max=4894081.0), HTML(value='')))"
      ]
     },
     "metadata": {},
     "output_type": "display_data"
    },
    {
     "name": "stdout",
     "output_type": "stream",
     "text": [
      "\n"
     ]
    },
    {
     "data": {
      "text/plain": [
       "4398138"
      ]
     },
     "execution_count": 7,
     "metadata": {},
     "output_type": "execute_result"
    }
   ],
   "source": [
    "author_dict = {}\n",
    "\n",
    "with open(dataset_path) as file:\n",
    "    file.readline() # skip first line\n",
    "    for _ in tqdm(range(N_RECORDS)):\n",
    "        line = file.readline()\n",
    "        try:\n",
    "            record = json.loads(line[1:])\n",
    "        except:\n",
    "            record = json.loads(line)\n",
    "                    \n",
    "        if 'authors' in record:\n",
    "            for author in record['authors']:\n",
    "                if author['id'] not in author_dict:\n",
    "                    author_dict[author['id']] = author\n",
    "                elif 'org' in author and 'org' not in author_dict[author['id']]:\n",
    "                    author_dict[author['id']]['org'] = author['org']\n",
    "            \n",
    "len(author_dict)"
   ]
  },
  {
   "cell_type": "code",
   "execution_count": 8,
   "metadata": {},
   "outputs": [],
   "source": [
    "with open(dataset_dir_path+'author.json', 'w') as file:\n",
    "    json.dump(author_dict, file)"
   ]
  },
  {
   "cell_type": "markdown",
   "metadata": {},
   "source": [
    "##### Create author-paper file"
   ]
  },
  {
   "cell_type": "code",
   "execution_count": 3,
   "metadata": {},
   "outputs": [
    {
     "data": {
      "application/vnd.jupyter.widget-view+json": {
       "model_id": "7a5ff0e6422244a59493571569f96a84",
       "version_major": 2,
       "version_minor": 0
      },
      "text/plain": [
       "HBox(children=(FloatProgress(value=0.0, max=4894081.0), HTML(value='')))"
      ]
     },
     "metadata": {},
     "output_type": "display_data"
    },
    {
     "name": "stdout",
     "output_type": "stream",
     "text": [
      "\n"
     ]
    },
    {
     "data": {
      "text/plain": [
       "14934850"
      ]
     },
     "execution_count": 3,
     "metadata": {},
     "output_type": "execute_result"
    }
   ],
   "source": [
    "author_paper = set()\n",
    "\n",
    "with open(dataset_path) as file:\n",
    "    file.readline() # skip first line\n",
    "    for _ in tqdm(range(N_RECORDS)):\n",
    "        line = file.readline()\n",
    "        try:\n",
    "            record = json.loads(line[1:])\n",
    "        except:\n",
    "            record = json.loads(line)\n",
    "                    \n",
    "        if 'authors' in record:\n",
    "            author_paper.update([(record['id'], author['id']) for author in record['authors']])\n",
    "            \n",
    "len(author_paper)"
   ]
  },
  {
   "cell_type": "code",
   "execution_count": 4,
   "metadata": {},
   "outputs": [],
   "source": [
    "with open(dataset_dir_path+'paper_author.json', 'w') as file:\n",
    "    json.dump(list(author_paper), file)"
   ]
  },
  {
   "cell_type": "markdown",
   "metadata": {},
   "source": [
    "##### Create venue and paper files"
   ]
  },
  {
   "cell_type": "code",
   "execution_count": 3,
   "metadata": {},
   "outputs": [
    {
     "data": {
      "application/vnd.jupyter.widget-view+json": {
       "model_id": "9792422f1873402485b505e710e16f51",
       "version_major": 2,
       "version_minor": 0
      },
      "text/plain": [
       "HBox(children=(FloatProgress(value=0.0, max=4894081.0), HTML(value='')))"
      ]
     },
     "metadata": {},
     "output_type": "display_data"
    },
    {
     "name": "stdout",
     "output_type": "stream",
     "text": [
      "\n",
      "10480 38273\n"
     ]
    }
   ],
   "source": [
    "# create venue dicts\n",
    "venue_with_no_id_dict = {}\n",
    "venue_dict = {}\n",
    "\n",
    "with open(dataset_path) as file:\n",
    "    file.readline() # skip first line\n",
    "    for _ in tqdm(range(N_RECORDS)):\n",
    "        line = file.readline()\n",
    "        try:\n",
    "            record = json.loads(line[1:])\n",
    "        except:\n",
    "            record = json.loads(line)\n",
    "\n",
    "        if 'venue' in record:\n",
    "            if 'id' in record['venue']:\n",
    "                if record['venue']['id'] not in venue_dict:\n",
    "                    venue_dict[record['venue']['id']] = record['venue']\n",
    "            elif (record['venue']['raw']).lower() not in venue_with_no_id_dict:\n",
    "                venue_with_no_id_dict[(record['venue']['raw']).lower()] = record['venue']\n",
    "                \n",
    "print(str(len(venue_dict)), str(len(venue_with_no_id_dict)))"
   ]
  },
  {
   "cell_type": "code",
   "execution_count": 4,
   "metadata": {},
   "outputs": [],
   "source": [
    "# merge venue dicts\n",
    "reverse_venue_dict = dict([(venue['raw'].lower(), venue['id']) for venue in venue_dict.values()])\n",
    "\n",
    "for i, venue in enumerate(venue_with_no_id_dict.values()):\n",
    "    if venue['raw'].lower() not in reverse_venue_dict:\n",
    "        venue['id'] = i\n",
    "        venue_dict[i] = venue\n",
    "        \n",
    "reverse_venue_dict = dict([(venue['raw'].lower(), venue['id']) for venue in venue_dict.values()])"
   ]
  },
  {
   "cell_type": "code",
   "execution_count": 5,
   "metadata": {},
   "outputs": [
    {
     "data": {
      "text/plain": [
       "48740"
      ]
     },
     "execution_count": 5,
     "metadata": {},
     "output_type": "execute_result"
    }
   ],
   "source": [
    "len(venue_dict)"
   ]
  },
  {
   "cell_type": "code",
   "execution_count": 6,
   "metadata": {},
   "outputs": [],
   "source": [
    "with open(dataset_dir_path+'venue.json', 'w') as file:\n",
    "    json.dump(venue_dict, file)"
   ]
  },
  {
   "cell_type": "code",
   "execution_count": 7,
   "metadata": {},
   "outputs": [],
   "source": [
    "# create paper file\n",
    "def reconstruct_abstract(inverted_index):    \n",
    "    index = {}\n",
    "    for word, list_of_pos in inverted_index.items():\n",
    "        for pos in list_of_pos:\n",
    "            index[pos] = word\n",
    "    \n",
    "    abstract_list = []\n",
    "    for _, word in sorted(index.items(), key=lambda t: t[0]):\n",
    "        abstract_list.append(word)\n",
    "    \n",
    "    return \" \".join(abstract_list)"
   ]
  },
  {
   "cell_type": "code",
   "execution_count": 9,
   "metadata": {},
   "outputs": [
    {
     "data": {
      "application/vnd.jupyter.widget-view+json": {
       "model_id": "a1008cf5ea1b45e48bf1aca366fce91f",
       "version_major": 2,
       "version_minor": 0
      },
      "text/plain": [
       "HBox(children=(FloatProgress(value=0.0, max=4894081.0), HTML(value='')))"
      ]
     },
     "metadata": {},
     "output_type": "display_data"
    },
    {
     "name": "stdout",
     "output_type": "stream",
     "text": [
      "\n"
     ]
    }
   ],
   "source": [
    "papers = []\n",
    "n_chunks = 0\n",
    "\n",
    "with open(dataset_path) as file:\n",
    "    file.readline() # skip first line\n",
    "    for _ in tqdm(range(N_RECORDS)):\n",
    "        line = file.readline()\n",
    "        try:\n",
    "            record = json.loads(line[1:])\n",
    "        except:\n",
    "            record = json.loads(line)\n",
    "            \n",
    "        record.pop('authors', 0)\n",
    "        record.pop('references', 0)\n",
    "        record.pop('alias_ids', 0)\n",
    "        record.pop('fos', 0)\n",
    "        \n",
    "        if 'indexed_abstract' in record:\n",
    "            indexed_abstract = record.pop('indexed_abstract')\n",
    "            record['abstract'] = reconstruct_abstract(indexed_abstract['InvertedIndex'])\n",
    "\n",
    "        if 'venue' in record:\n",
    "            venue = record.pop('venue')\n",
    "            if 'id' in venue:\n",
    "                record['venue_id'] = venue['id']\n",
    "            else:\n",
    "                record['venue_id'] = reverse_venue_dict[venue['raw'].lower()]\n",
    "            \n",
    "        papers.append(record)\n",
    "\n",
    "        if len(papers) > 1000000:\n",
    "            with open(dataset_dir_path+'/paper_chunk'+str(n_chunks)+'.json', 'w') as f:\n",
    "                json.dump(papers, f)\n",
    "            papers = []\n",
    "            n_chunks += 1 \n",
    "    \n",
    "    with open(dataset_dir_path+'/paper_chunk'+str(n_chunks)+'.json', 'w') as f:\n",
    "        json.dump(papers, f)"
   ]
  },
  {
   "cell_type": "code",
   "execution_count": 20,
   "metadata": {},
   "outputs": [],
   "source": [
    "with open(dataset_dir_path+'paper.json', 'w') as file:\n",
    "    json.dump(papers, file)"
   ]
  },
  {
   "cell_type": "markdown",
   "metadata": {},
   "source": [
    "##### Create paper-paper files"
   ]
  },
  {
   "cell_type": "code",
   "execution_count": 3,
   "metadata": {},
   "outputs": [
    {
     "data": {
      "application/vnd.jupyter.widget-view+json": {
       "model_id": "3c07ed490ae44b199cc1357da6126872",
       "version_major": 2,
       "version_minor": 0
      },
      "text/plain": [
       "HBox(children=(FloatProgress(value=0.0, max=4894081.0), HTML(value='')))"
      ]
     },
     "metadata": {},
     "output_type": "display_data"
    },
    {
     "name": "stdout",
     "output_type": "stream",
     "text": [
      "\n"
     ]
    }
   ],
   "source": [
    "paper_paper_pairs = set()\n",
    "\n",
    "with open(dataset_path) as file:\n",
    "    file.readline() # skip first line\n",
    "    for _ in tqdm(range(N_RECORDS)):\n",
    "        line = file.readline()\n",
    "        try:\n",
    "            record = json.loads(line[1:])\n",
    "        except:\n",
    "            record = json.loads(line)\n",
    "            \n",
    "        if 'references' in record:\n",
    "            paper_paper_pairs.update([(record['id'], ref_id) for ref_id in record['references']])"
   ]
  },
  {
   "cell_type": "code",
   "execution_count": 6,
   "metadata": {},
   "outputs": [],
   "source": [
    "with open(dataset_dir_path+'paper_ref.json', 'w') as file:\n",
    "    json.dump(list(paper_paper_pairs), file)"
   ]
  },
  {
   "cell_type": "markdown",
   "metadata": {},
   "source": [
    "##### Create paper_ref_list and paper_cit_list files"
   ]
  },
  {
   "cell_type": "code",
   "execution_count": 3,
   "metadata": {},
   "outputs": [
    {
     "data": {
      "application/vnd.jupyter.widget-view+json": {
       "model_id": "dc0dfe23467f49bea8661fd645db69a9",
       "version_major": 2,
       "version_minor": 0
      },
      "text/plain": [
       "HBox(children=(FloatProgress(value=0.0, max=4894081.0), HTML(value='')))"
      ]
     },
     "metadata": {},
     "output_type": "display_data"
    },
    {
     "name": "stdout",
     "output_type": "stream",
     "text": [
      "\n"
     ]
    }
   ],
   "source": [
    "citation_dict = {}\n",
    "reference_dict = {}\n",
    "\n",
    "with open(dataset_path) as file:\n",
    "    file.readline() # skip first line\n",
    "    for _ in tqdm(range(N_RECORDS)):\n",
    "        line = file.readline()\n",
    "        try:\n",
    "            record = json.loads(line[1:])\n",
    "        except:\n",
    "            record = json.loads(line)\n",
    "            \n",
    "        if 'references' in record:\n",
    "            reference_dict[record['id']] = record['references']\n",
    "            \n",
    "            for ref_id in record['references']:\n",
    "                if ref_id in citation_dict:\n",
    "                    citation_dict[ref_id].append(record['id'])\n",
    "                else:\n",
    "                    citation_dict[ref_id] = [record['id']]"
   ]
  },
  {
   "cell_type": "code",
   "execution_count": 4,
   "metadata": {},
   "outputs": [
    {
     "data": {
      "application/vnd.jupyter.widget-view+json": {
       "model_id": "5091d49a2cc14c858af7f493f3571887",
       "version_major": 2,
       "version_minor": 0
      },
      "text/plain": [
       "HBox(children=(FloatProgress(value=0.0, max=5.0), HTML(value='')))"
      ]
     },
     "metadata": {},
     "output_type": "display_data"
    },
    {
     "data": {
      "application/vnd.jupyter.widget-view+json": {
       "model_id": "9ba7626a11f64ee09b1fb6799ccb95bf",
       "version_major": 2,
       "version_minor": 0
      },
      "text/plain": [
       "HBox(children=(FloatProgress(value=0.0, max=1000001.0), HTML(value='')))"
      ]
     },
     "metadata": {},
     "output_type": "display_data"
    },
    {
     "name": "stdout",
     "output_type": "stream",
     "text": [
      "\n"
     ]
    },
    {
     "data": {
      "application/vnd.jupyter.widget-view+json": {
       "model_id": "3213d08192004f0b890a658c691a7dfd",
       "version_major": 2,
       "version_minor": 0
      },
      "text/plain": [
       "HBox(children=(FloatProgress(value=0.0, max=1000001.0), HTML(value='')))"
      ]
     },
     "metadata": {},
     "output_type": "display_data"
    },
    {
     "name": "stdout",
     "output_type": "stream",
     "text": [
      "\n"
     ]
    },
    {
     "data": {
      "application/vnd.jupyter.widget-view+json": {
       "model_id": "0397a8d9e6e04184a414384cb08506cc",
       "version_major": 2,
       "version_minor": 0
      },
      "text/plain": [
       "HBox(children=(FloatProgress(value=0.0, max=1000001.0), HTML(value='')))"
      ]
     },
     "metadata": {},
     "output_type": "display_data"
    },
    {
     "name": "stdout",
     "output_type": "stream",
     "text": [
      "\n"
     ]
    },
    {
     "data": {
      "application/vnd.jupyter.widget-view+json": {
       "model_id": "4428b5a6b4e74fa1b604f405867a90c5",
       "version_major": 2,
       "version_minor": 0
      },
      "text/plain": [
       "HBox(children=(FloatProgress(value=0.0, max=1000001.0), HTML(value='')))"
      ]
     },
     "metadata": {},
     "output_type": "display_data"
    },
    {
     "name": "stdout",
     "output_type": "stream",
     "text": [
      "\n"
     ]
    },
    {
     "data": {
      "application/vnd.jupyter.widget-view+json": {
       "model_id": "756d56c1ca0545eba11b402cf5a46618",
       "version_major": 2,
       "version_minor": 0
      },
      "text/plain": [
       "HBox(children=(FloatProgress(value=0.0, max=894077.0), HTML(value='')))"
      ]
     },
     "metadata": {},
     "output_type": "display_data"
    },
    {
     "name": "stdout",
     "output_type": "stream",
     "text": [
      "\n",
      "\n"
     ]
    }
   ],
   "source": [
    "paper_paths = [dataset_dir_path + f for f in os.listdir(dataset_dir_path) if 'chunk' in f]\n",
    "\n",
    "for path in tqdm(paper_paths): \n",
    "    with open(path) as file:\n",
    "        papers = json.load(file)\n",
    "        \n",
    "        for paper in tqdm(papers):\n",
    "            if paper['id'] in citation_dict:\n",
    "                paper['citation_ids'] = citation_dict[paper['id']]\n",
    "            if paper['id'] in reference_dict:\n",
    "                paper['reference_ids'] = reference_dict[paper['id']]\n",
    "    \n",
    "    with open(path[:-5]+'a_reformatted.json', 'w') as f:            \n",
    "        json.dump(papers[:500000], f)\n",
    "        \n",
    "    with open(path[:-5]+'b_reformatted.json', 'w') as f:            \n",
    "        json.dump(papers[500000:], f)"
   ]
  },
  {
   "cell_type": "code",
   "execution_count": 3,
   "metadata": {},
   "outputs": [],
   "source": [
    "with open(dataset_dir_path + 'paper_fos.json') as input_file:\n",
    "    data = json.load(input_file)\n",
    "    size = len(data) // 2\n",
    "    \n",
    "    with open(dataset_dir_path + 'paper_fos_c1.json', 'w') as f:\n",
    "        json.dump(data[:size], f)\n",
    "        \n",
    "    with open(dataset_dir_path + 'paper_fos_c2.json', 'w') as f:\n",
    "        json.dump(data[size:], f)"
   ]
  },
  {
   "cell_type": "code",
   "execution_count": 3,
   "metadata": {},
   "outputs": [],
   "source": [
    "with open(dataset_dir_path + 'paper_paper.json') as input_file:\n",
    "    data = json.load(input_file)\n",
    "    size = len(data) // 2\n",
    "    \n",
    "    with open(dataset_dir_path + 'paper_paper_c1.json', 'w') as f:\n",
    "        json.dump(data[:size], f)\n",
    "        \n",
    "    with open(dataset_dir_path + 'paper_paper_c2.json', 'w') as f:\n",
    "        json.dump(data[size:], f)"
   ]
  }
 ],
 "metadata": {
  "kernelspec": {
   "display_name": "Python 3",
   "language": "python",
   "name": "python3"
  },
  "language_info": {
   "codemirror_mode": {
    "name": "ipython",
    "version": 3
   },
   "file_extension": ".py",
   "mimetype": "text/x-python",
   "name": "python",
   "nbconvert_exporter": "python",
   "pygments_lexer": "ipython3",
   "version": "3.7.6"
  }
 },
 "nbformat": 4,
 "nbformat_minor": 4
}
